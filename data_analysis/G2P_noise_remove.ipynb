{
  "cells": [
    {
      "attachments": {},
      "cell_type": "markdown",
      "metadata": {
        "id": "FZBRgQWXb9TV"
      },
      "source": [
        "# 데이터 불러오기"
      ]
    },
    {
      "cell_type": "code",
      "execution_count": null,
      "metadata": {
        "id": "Yy6jeRWtaKPe"
      },
      "outputs": [],
      "source": [
        "df=pd.read_csv('../data/train_title_content_crawling.csv')"
      ]
    },
    {
      "cell_type": "code",
      "execution_count": null,
      "metadata": {
        "colab": {
          "base_uri": "https://localhost:8080/"
        },
        "id": "4MHjWUGuCrKe",
        "outputId": "44e2c14c-88c6-4acf-bb9e-eeb54d61fbff"
      },
      "outputs": [
        {
          "data": {
            "text/plain": [
              "45678"
            ]
          },
          "execution_count": 390,
          "metadata": {},
          "output_type": "execute_result"
        }
      ],
      "source": [
        "len(df)"
      ]
    },
    {
      "attachments": {},
      "cell_type": "markdown",
      "metadata": {
        "id": "So7UdpGyb_fd"
      },
      "source": [
        "# G2P 노이즈 데이터 제거"
      ]
    },
    {
      "attachments": {},
      "cell_type": "markdown",
      "metadata": {
        "id": "gRnUA2Bvahem"
      },
      "source": [
        "## `train_df의 text` == `크롤링한 제목` → 올바른 맞춤법"
      ]
    },
    {
      "cell_type": "code",
      "execution_count": null,
      "metadata": {
        "id": "6C1MvTRhz6G-"
      },
      "outputs": [],
      "source": [
        "data1=df[df['text']==df['crawling_title']].reset_index(drop=True)\n",
        "data2=df[df['text']!=df['crawling_title']].reset_index(drop=True)"
      ]
    },
    {
      "cell_type": "code",
      "execution_count": null,
      "metadata": {
        "colab": {
          "base_uri": "https://localhost:8080/"
        },
        "id": "G8DPxY5Ez_7d",
        "outputId": "114c8d3e-10a8-42bd-fa6c-4f88bb8a91d6"
      },
      "outputs": [
        {
          "name": "stdout",
          "output_type": "stream",
          "text": [
            "6250\n",
            "39428\n"
          ]
        }
      ],
      "source": [
        "print(len(data1))\n",
        "print(len(data2))"
      ]
    },
    {
      "cell_type": "code",
      "execution_count": null,
      "metadata": {
        "id": "ZhW29jNraIMg"
      },
      "outputs": [],
      "source": [
        "spell_df=data1.copy()[['ID', 'text', 'target', 'url', 'date', 'crawling_title']]\n",
        "df=data2.copy()"
      ]
    },
    {
      "attachments": {},
      "cell_type": "markdown",
      "metadata": {
        "id": "lT8dn05Van9z"
      },
      "source": [
        "## 숫자, 한글 이외 모든 문자를 제거 후 `train_df의 text` == `크롤링한 제목`"
      ]
    },
    {
      "cell_type": "code",
      "execution_count": null,
      "metadata": {
        "id": "3WwA8TddaIKB"
      },
      "outputs": [],
      "source": [
        "df['text1']=df['text'].apply(lambda x: re.sub('[^0-9가-힣]','',x))\n",
        "df['crawling_title1']=df['crawling_title'].apply(lambda x: re.sub('[^0-9가-힣]','',x))"
      ]
    },
    {
      "cell_type": "code",
      "execution_count": null,
      "metadata": {
        "id": "3M3iC66BaIHb"
      },
      "outputs": [],
      "source": [
        "data1=df[df['text1']==df['crawling_title1']].reset_index(drop=True)\n",
        "data2=df[df['text1']!=df['crawling_title1']].reset_index(drop=True)"
      ]
    },
    {
      "cell_type": "code",
      "execution_count": null,
      "metadata": {
        "colab": {
          "base_uri": "https://localhost:8080/"
        },
        "id": "k_xnC3IS3tUZ",
        "outputId": "7dba2104-7b04-4ee4-8d4c-b884f09050ef"
      },
      "outputs": [
        {
          "name": "stdout",
          "output_type": "stream",
          "text": [
            "32968\n",
            "6460\n"
          ]
        }
      ],
      "source": [
        "print(len(data1))\n",
        "print(len(data2))"
      ]
    },
    {
      "cell_type": "code",
      "execution_count": null,
      "metadata": {
        "id": "kmESFyrjaumU"
      },
      "outputs": [],
      "source": [
        "spell_df=pd.concat([spell_df,data1[['ID', 'text', 'target', 'url', 'date', 'crawling_title']]]).reset_index(drop=True)\n",
        "df=data2.copy().reset_index(drop=True)"
      ]
    },
    {
      "cell_type": "code",
      "execution_count": null,
      "metadata": {
        "id": "faI-GhImauki"
      },
      "outputs": [],
      "source": [
        "df['text1']=df['text1'].apply(lambda x: re.sub('종합[0-9]*[보]*','',x))\n",
        "df['crawling_title1']=df['crawling_title1'].apply(lambda x: re.sub('종합[0-9]*[보]*','',x))"
      ]
    },
    {
      "cell_type": "code",
      "execution_count": null,
      "metadata": {
        "id": "XFcBz4TKaujj"
      },
      "outputs": [],
      "source": [
        "data1=df[df['text1']==df['crawling_title1']].reset_index(drop=True)\n",
        "data2=df[df['text1']!=df['crawling_title1']].reset_index(drop=True)"
      ]
    },
    {
      "cell_type": "code",
      "execution_count": null,
      "metadata": {
        "colab": {
          "base_uri": "https://localhost:8080/"
        },
        "id": "EToXepXi4Qei",
        "outputId": "07ca1911-8af8-4ec6-c1ac-f8bfc8d80311"
      },
      "outputs": [
        {
          "name": "stdout",
          "output_type": "stream",
          "text": [
            "154\n",
            "6306\n"
          ]
        }
      ],
      "source": [
        "print(len(data1))\n",
        "print(len(data2))"
      ]
    },
    {
      "cell_type": "code",
      "execution_count": null,
      "metadata": {
        "id": "TKI24XBF4Wr0"
      },
      "outputs": [],
      "source": [
        "spell_df=pd.concat([spell_df,data1[['ID', 'text', 'target', 'url', 'date', 'crawling_title']]]).reset_index(drop=True)\n",
        "df=data2.copy().reset_index(drop=True)"
      ]
    },
    {
      "attachments": {},
      "cell_type": "markdown",
      "metadata": {
        "id": "nEsFY_02a_kr"
      },
      "source": [
        "## `train_data의 text`에 숫자가 포함 → 올바른 맞춤법"
      ]
    },
    {
      "cell_type": "code",
      "execution_count": null,
      "metadata": {
        "id": "bTOqxccFxrSb"
      },
      "outputs": [],
      "source": [
        "df['IsNum']=df['text1'].apply(lambda x: 'Y' if len(re.findall('[0-9]',x))>0 else 'N')"
      ]
    },
    {
      "cell_type": "code",
      "execution_count": null,
      "metadata": {
        "id": "R5fiEhPM5RKG"
      },
      "outputs": [],
      "source": [
        "data1=df[df['IsNum']=='Y'].reset_index(drop=True)\n",
        "data2=df[df['IsNum']=='N'].reset_index(drop=True)"
      ]
    },
    {
      "cell_type": "code",
      "execution_count": null,
      "metadata": {
        "colab": {
          "base_uri": "https://localhost:8080/"
        },
        "id": "pqJaly0A5RKG",
        "outputId": "340cf4aa-ae7a-4219-e2c9-a1d9ca970609"
      },
      "outputs": [
        {
          "name": "stdout",
          "output_type": "stream",
          "text": [
            "641\n",
            "5665\n"
          ]
        }
      ],
      "source": [
        "print(len(data1))\n",
        "print(len(data2))"
      ]
    },
    {
      "attachments": {},
      "cell_type": "markdown",
      "metadata": {
        "id": "33kTBpalbzfY"
      },
      "source": [
        "## `크롤링 제목`에 `train_data의 text`가 포함 → 올바른 맞춤법"
      ]
    },
    {
      "cell_type": "code",
      "execution_count": null,
      "metadata": {
        "id": "-UELr-og5mYl"
      },
      "outputs": [],
      "source": [
        "for i in range(len(df)):\n",
        "  if df.loc[i,'text1'] in df.loc[i,'crawling_title1']:\n",
        "    df.loc[i,'IsContain']='Y'\n",
        "  else:\n",
        "    df.loc[i,'IsContain']='N'"
      ]
    },
    {
      "cell_type": "code",
      "execution_count": null,
      "metadata": {
        "id": "5xKYeGBg6Tns"
      },
      "outputs": [],
      "source": [
        "data1=df[df['IsContain']=='Y'].reset_index(drop=True)\n",
        "data2=df[df['IsContain']=='N'].reset_index(drop=True)"
      ]
    },
    {
      "cell_type": "code",
      "execution_count": null,
      "metadata": {
        "id": "w0fBFuSAbpFG"
      },
      "outputs": [],
      "source": [
        "print(len(data1))\n",
        "print(len(data2))"
      ]
    },
    {
      "cell_type": "code",
      "execution_count": null,
      "metadata": {
        "id": "m47Vyk5p6Tn2"
      },
      "outputs": [],
      "source": [
        "spell_df=pd.concat([spell_df,data1[['ID', 'text', 'target', 'url', 'date', 'crawling_title']]]).reset_index(drop=True)\n",
        "df=data2.copy().reset_index(drop=True)"
      ]
    },
    {
      "attachments": {},
      "cell_type": "markdown",
      "metadata": {
        "id": "eMRf5YDKb6ej"
      },
      "source": [
        "# 올바른 맞춤법으로 필터링되지 않은 데이터는 `크롤링한 제목`으로 대체"
      ]
    },
    {
      "cell_type": "code",
      "execution_count": null,
      "metadata": {
        "id": "RMDXnUwk5RKS"
      },
      "outputs": [],
      "source": [
        "spell_df=pd.concat([spell_df,data1[['ID', 'text', 'target', 'url', 'date', 'crawling_title']]]).reset_index(drop=True)\n",
        "df=data2.copy().reset_index(drop=True)"
      ]
    },
    {
      "cell_type": "code",
      "execution_count": null,
      "metadata": {
        "id": "yLQ3C5-Qa9lq"
      },
      "outputs": [],
      "source": [
        "df['text']=df['crawling_title'].apply(lambda x: re.sub('[,\\\"\\'<>\\[\\]]','',x))"
      ]
    },
    {
      "cell_type": "code",
      "execution_count": null,
      "metadata": {
        "id": "reF6L6P1a9i5"
      },
      "outputs": [],
      "source": [
        "spell_df=pd.concat([spell_df,df[['ID', 'text', 'target', 'url', 'date', 'crawling_title']]]).sort_values('ID').reset_index(drop=True)"
      ]
    },
    {
      "cell_type": "code",
      "execution_count": null,
      "metadata": {
        "id": "m3jmakr4bUhw"
      },
      "outputs": [],
      "source": [
        "spell_df.to_csv('../data/train_spelling_v1.csv',encoding='utf-8-sig',index=False)"
      ]
    }
  ],
  "metadata": {
    "colab": {
      "provenance": []
    },
    "kernelspec": {
      "display_name": "Python 3",
      "name": "python3"
    },
    "language_info": {
      "name": "python"
    }
  },
  "nbformat": 4,
  "nbformat_minor": 0
}
