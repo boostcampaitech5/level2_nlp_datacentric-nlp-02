{
 "cells": [
  {
   "cell_type": "code",
   "execution_count": 9,
   "metadata": {
    "tags": []
   },
   "outputs": [
    {
     "name": "stderr",
     "output_type": "stream",
     "text": [
      "/tmp/ipykernel_11000/3569155428.py:7: MatplotlibDeprecationWarning: The seaborn styles shipped by Matplotlib are deprecated since 3.6, as they no longer correspond to the styles shipped by seaborn. However, they will remain available as 'seaborn-v0_8-<style>'. Alternatively, directly use the seaborn API instead.\n",
      "  plt.style.use('seaborn')\n",
      "/tmp/ipykernel_11000/3569155428.py:10: MatplotlibDeprecationWarning: The seaborn styles shipped by Matplotlib are deprecated since 3.6, as they no longer correspond to the styles shipped by seaborn. However, they will remain available as 'seaborn-v0_8-<style>'. Alternatively, directly use the seaborn API instead.\n",
      "  style.use(\"seaborn-talk\")\n"
     ]
    }
   ],
   "source": [
    "import numpy as np\n",
    "import pandas as pd\n",
    "import matplotlib.pyplot as plt\n",
    "import seaborn as sns\n",
    "import matplotlib.style as style\n",
    "\n",
    "plt.style.use('seaborn')\n",
    "from matplotlib import rc, font_manager\n",
    "style.use(\"fivethirtyeight\")\n",
    "style.use(\"seaborn-talk\")\n",
    "plt.rcParams['font.family'] = 'serif'\n",
    "\n",
    "import pickle\n",
    "\n",
    "import re\n",
    "\n",
    "from ast import literal_eval\n",
    "\n",
    "import warnings\n",
    "warnings.filterwarnings('ignore')\n",
    "\n",
    "import matplotlib\n",
    "# matplotlib.rcParams['font.family'] ='Malgun Gothic'\n",
    "matplotlib.rcParams['axes.unicode_minus'] =False"
   ]
  },
  {
   "cell_type": "code",
   "execution_count": null,
   "metadata": {
    "tags": []
   },
   "outputs": [],
   "source": [
    "import pandas as pd\n",
    "\n",
    "train_data = pd.read_csv(\"../data/train.csv\")\n",
    "num2target = ['IT과학', '경제', '사회', '생활문화', '세계', '스포츠', '정치']\n",
    "num2target_dict = {idx:item for idx, item in enumerate(num2target)}\n",
    "target2num = {item:idx for idx, item in enumerate(num2target)}"
   ]
  },
  {
   "cell_type": "code",
   "execution_count": null,
   "metadata": {
    "tags": []
   },
   "outputs": [],
   "source": [
    "train_data['target2num'] = train_data['target'].apply(lambda x:num2target[x])\n",
    "train_data.head(5)"
   ]
  },
  {
   "cell_type": "code",
   "execution_count": null,
   "metadata": {
    "tags": []
   },
   "outputs": [],
   "source": [
    "matplotlib.matplotlib_fname()\n"
   ]
  },
  {
   "cell_type": "code",
   "execution_count": null,
   "metadata": {
    "tags": []
   },
   "outputs": [],
   "source": [
    "f, axes = plt.subplots(1, 1, figsize=(3,3))\n",
    "sns.countplot(y='target', data=train_data, ax=axes)"
   ]
  },
  {
   "cell_type": "code",
   "execution_count": null,
   "metadata": {},
   "outputs": [],
   "source": []
  },
  {
   "cell_type": "code",
   "execution_count": null,
   "metadata": {},
   "outputs": [],
   "source": [
    "## 빅카인즈 합치기\n",
    "\n",
    "# total_2018\n",
    "import os\n",
    "from tqdm import tqdm\n",
    "\n",
    "# print(os.listdir(\"../data/bigkinds_2018/\"))\n",
    "imp_columns = ['제목', '통합 분류1', '본문', '언론사', '키워드', '일자', 'URL']\n",
    "total_2018 = pd.DataFrame(columns=imp_columns)\n",
    "\n",
    "for data in tqdm(sorted(os.listdir(\"../data/bigkinds_2018/\")), desc=\"2018data\"):\n",
    "    print(f\"working on... : {data}\")\n",
    "    monthly_data = pd.read_excel(\"../data/bigkinds_2018/\"+data)\n",
    "\n",
    "    # 내가 가져올 것은 제목, 통합분류 1, 본문, 일자\n",
    "    imp_data = monthly_data[imp_columns]\n",
    "    \n",
    "    total_2018 = pd.concat([total_2018, imp_data])\n",
    "\n",
    "print(f\"total len: {len(total_2018)}\")\n",
    "total_2018.to_csv(\"../data/bigkinds_2018/total_2018.csv\", index=False)\n",
    "    \n",
    "    \n",
    "    \n",
    "    "
   ]
  },
  {
   "cell_type": "code",
   "execution_count": null,
   "metadata": {},
   "outputs": [],
   "source": [
    "total_2018 = pd.read_csv(\"../data/bigkinds_2018/total_2018.csv\")\n",
    "total_2018.head(5)"
   ]
  },
  {
   "cell_type": "code",
   "execution_count": null,
   "metadata": {},
   "outputs": [],
   "source": [
    "target2num"
   ]
  },
  {
   "cell_type": "code",
   "execution_count": null,
   "metadata": {},
   "outputs": [],
   "source": [
    "num2target_dict"
   ]
  },
  {
   "cell_type": "code",
   "execution_count": null,
   "metadata": {},
   "outputs": [],
   "source": [
    "total_2018['통합 분류1'] = total_2018['통합 분류1'].replace({'지역':'생활문화'}, regex=True)\n",
    "# total_2018[total_2018['통합 분류1'].str.contains(\"지역\")]\n",
    "total_2018['통합 분류1'].unique()"
   ]
  },
  {
   "cell_type": "code",
   "execution_count": null,
   "metadata": {},
   "outputs": [],
   "source": [
    "# total_2018['통합 분류1'].replace({'지역':'생활문화'}, regex=True)\n",
    "total_2018['target2num'] = total_2018['통합 분류1'].replace(num2target_dict, regex=True).replace(\">.*\", \"\", regex=True)\n",
    "# total_2018['target'].apply(lambda x: num2target_dict[x])\n",
    "total_2018['target2num'] = total_2018['target2num'].replace({'문화': '생활문화', '지역': '생활문화', 'IT_과학':'IT과학', '국제':'세계'}, regex=True)\n",
    "total_2018['target'] = total_2018['target2num'].replace(target2num, regex=True)\n",
    "\n",
    "total_2018['target'].unique()"
   ]
  },
  {
   "cell_type": "code",
   "execution_count": null,
   "metadata": {},
   "outputs": [],
   "source": [
    "total_2018['제목'] = total_2018['제목'].apply(lambda x:re.sub('\\[.*?\\]',\"\",x))\n",
    "total_2018 = total_2018.rename(columns={'제목':'text', '본문': 'body', '언론사':'stations', '키워드':'keyword', '일자':'date', '통합 분류1': 'pre_defined', 'URL':'url'})\n",
    "print(total_2018.columns)\n"
   ]
  },
  {
   "cell_type": "code",
   "execution_count": null,
   "metadata": {},
   "outputs": [],
   "source": [
    "id_list = [\"2018_동아조선한겨레_\"+str(i) for i in range(1, len(total_2018)+1)]\n",
    "total_2018['ID'] = id_list\n"
   ]
  },
  {
   "cell_type": "code",
   "execution_count": null,
   "metadata": {},
   "outputs": [],
   "source": [
    "total_2018.head(5)"
   ]
  },
  {
   "cell_type": "code",
   "execution_count": null,
   "metadata": {},
   "outputs": [],
   "source": [
    "total_2018 = total_2018[['ID', 'text', 'target', 'url', 'date', 'target2num', 'body', 'keyword', 'pre_defined']]\n"
   ]
  },
  {
   "cell_type": "code",
   "execution_count": null,
   "metadata": {},
   "outputs": [],
   "source": [
    "train_data_org = pd.read_csv(\"../data/train_spelling_v2.csv\")\n",
    "train_data_org['target2num'] = train_data_org['target'].apply(lambda x:num2target_dict[x])\n",
    "total_2018['target'] = total_2018['target'].apply(lambda x:int(x))\n",
    "train_2018_concat = pd.concat([train_data_org, total_2018], ignore_index=True)"
   ]
  },
  {
   "cell_type": "code",
   "execution_count": null,
   "metadata": {},
   "outputs": [],
   "source": [
    "train_2018_concat.to_csv(\"../data/train_2018_concat_v1.csv\", index=False)"
   ]
  },
  {
   "cell_type": "code",
   "execution_count": null,
   "metadata": {},
   "outputs": [],
   "source": [
    "train_2018_concat['text'][0]"
   ]
  },
  {
   "cell_type": "code",
   "execution_count": null,
   "metadata": {},
   "outputs": [],
   "source": [
    "train_2018_concat.head(5)"
   ]
  },
  {
   "cell_type": "code",
   "execution_count": null,
   "metadata": {},
   "outputs": [],
   "source": [
    "type(train_2018_concat['text'][0])"
   ]
  },
  {
   "cell_type": "code",
   "execution_count": null,
   "metadata": {},
   "outputs": [],
   "source": [
    "train_2018_concat['text']"
   ]
  },
  {
   "cell_type": "code",
   "execution_count": null,
   "metadata": {},
   "outputs": [],
   "source": [
    "for i in range(len(train_2018_concat)):\n",
    "    if type(train_2018_concat['text'][i]) != type(train_2018_concat['text'][0]):\n",
    "        print(i)"
   ]
  },
  {
   "cell_type": "code",
   "execution_count": null,
   "metadata": {},
   "outputs": [],
   "source": [
    "print(len(train_2018_concat), len(train_data_org))"
   ]
  },
  {
   "cell_type": "code",
   "execution_count": null,
   "metadata": {},
   "outputs": [],
   "source": []
  },
  {
   "cell_type": "code",
   "execution_count": null,
   "metadata": {},
   "outputs": [],
   "source": [
    "train_data_org = pd.read_csv(\"../data/train.csv\")\n",
    "col = train_data_org.columns\n",
    "print(col, '\\n', total_2018.columns)"
   ]
  },
  {
   "cell_type": "code",
   "execution_count": null,
   "metadata": {},
   "outputs": [],
   "source": [
    "total"
   ]
  },
  {
   "cell_type": "code",
   "execution_count": null,
   "metadata": {},
   "outputs": [],
   "source": [
    "total_2018['target'] = total_2018['통합분류']"
   ]
  },
  {
   "cell_type": "code",
   "execution_count": null,
   "metadata": {},
   "outputs": [],
   "source": [
    "import pandas as pd\n",
    "import re\n",
    "\n",
    "# Example DataFrame\n",
    "df = pd.DataFrame({\"label\": [\"사회>사건_사고\", \"문화>생활\", \"경제>금융\"]})\n",
    "\n",
    "# Define the regular expressions and replacement values\n",
    "regex_mapping = {\"사회\": \"0\", \"문화\": \"1\", \"경제\": \"2\"}  # Add more regular expressions and their corresponding replacement values\n",
    "\n",
    "# Apply the regular expressions using the replace() function\n",
    "df[\"new_label\"] = df[\"label\"].replace(regex_mapping, regex=True).replace(\">.*\", \"\", regex=True)\n",
    "\n",
    "print(df)\n"
   ]
  },
  {
   "cell_type": "code",
   "execution_count": null,
   "metadata": {},
   "outputs": [],
   "source": [
    "final20_df['text']=final20_df['text'].apply(lambda x: re.sub('[,‘’“”()/\\\"\\'<>\\[\\]]','',x))"
   ]
  },
  {
   "cell_type": "code",
   "execution_count": null,
   "metadata": {},
   "outputs": [],
   "source": []
  },
  {
   "attachments": {},
   "cell_type": "markdown",
   "metadata": {},
   "source": [
    "## 2. 명사 추출, 카운트, 빅데이터 분석 -> 라벨 후보"
   ]
  },
  {
   "cell_type": "code",
   "execution_count": 57,
   "metadata": {},
   "outputs": [],
   "source": [
    "import pandas as pd\n",
    "from konlpy.tag import Okt\n",
    "import re\n",
    "\n",
    "# test_body = \"2019년 6월 22일 파키스탄을 방문해 임란 칸 총리(오른쪽)와 환담하는 카타르 군주(에미르) 셰이크 타밈 빈하마드 알타니[신화=연합뉴스](뉴델리=연합뉴스) 김영현 특파원 = 경제난 극복을 위해 우방과 국제기구에 잇따라 손을 벌려온 파키스탄이 이번에는 카타르에서 30억 달러(약 3조4천600억원) 규모의 투자를 유치했다.    25일 익스프레스 트리뷴 등 현지 매체에 따르면 카타르 정부는 전날 파키스탄에 자금 예치와 직접 투자 등을 통해 총 30억 달러를 신규 투자하겠다고 발표했다.    카타르 외교부는 '이번 투자를 통해 카타르와 파키스탄 정부 간 경제 협력 규모는 90억 달러(약 10조3천900억원)로 늘어나게 됐다'고 밝혔다.    이 같은 카타르의 투자 계획은 지난 22∼23일 카타르 군주(에미르)인 셰이크 타밈 빈하마드 알타니의 파키스탄 방문 직후 공개됐다.    앞서 파키스탄은 국제통화기금(IMF)과 세계은행(WB)으로부터 각각 60억 달러와 9억1천800만 달러의 차관을 들여오기로 한 바 있다.    파키스탄은 중국이 주도하는 일대일로(一帶一路:육상·해상 실크로드) 사업 등과 관련해 620억 달러 규모의 인프라 사업을 진행하면서 대규모 차관을 들여왔다가 빚더미에 오른 상태다.    이에 파키스탄은 중국에서 25억 달러의 긴급 자금을 받기로 한 것은 물론 사우디아라비아와 UAE에서도 각각 60억 달러와 62억 달러 규모의 차관이나 원유를 지원받기로 했다.    익스프레스 트리뷴은 '이번 카타르 투자금까지 포함하면 파키스탄이 지난 1년간 중국 등 4개국에서 빌린 자금의 규모는 160억 달러에 이른다'고 전했다.    cool@yna.co.kr▶네이버 홈에서 [연합뉴스] 채널 구독하기▶뭐 하고 놀까? #흥  ▶쇼미더뉴스! 오늘 많이 본 뉴스영상\"\n",
    "# test_body = \"'조종석 녹음 자료 유출된 적 없다…사실 아닌 의견' 주장2019년 3월 21일 인도네시아 교통안전위원회(KNKT·영문 약자 NTSC)의 수르잔토 차효노 위원장(오른쪽)이 자카르타에서 기자회견을 하고 있다. [AP=연합뉴스](자카르타=연합뉴스) 황철환 특파원 = 189명을 태운 채 작년 10월 인도네시아 해상에 추락한 보잉 737 맥스(MAX) 8 여객기의 조종사들이 나눈 대화 내용을 전한 외신 보도에 대해 현지 항공당국이 '사실과 같지 않다'며 반박하고 나섰다.    21일 CNN 인도네시아 등 현지 언론에 따르면 인도네시아 교통안전위원회(KNKT·영문 약자 NTSC)의 수르잔토 차효노 위원장은 21일 기자회견을 하고 '언론에 보도된 내용과 실제 녹음 내용은 같지 않다'고 말했다.    그는 '보도된 사항은 개인 혹은 여럿의 견해가 조종석음성녹음장치(CVR)의 내용인 양 꾸며진 것'이라면서 올해 초 사고해역에서 인양한 CVR의 데이터는 절대로 유출된 적이 없다고 강조했다.    그는 해당 자료는 보잉이나 미국 연방항공청(FAA)에도 공유되지 않았다면서 '그들은 CVR을 읽고 해석하긴 했지만, 문자화한 자료나 음성 자체를 갖고 있진 않다'고 덧붙였다.    수르잔토 위원장은 녹음된 대화 내용을 그대로 공개하는 것은 인도네시아 법에 저촉되는 만큼 조사가 끝난 뒤 중요한 대목만 골라 선별적으로 내용을 밝히게 될 것이라고 말했다.    앞서, 로이터 통신은 복수의 소식통을 인용해 사고기의 조종사 두 명이 이륙 후 추락하기까지 13분간 나눈 대화 내용을 재구성해 전달했다.    이 매체는 사고기 조종사들이 작년 10월 29일 오전 자카르타 인근 수카르노 하타 국제공항에서 출발한 직후부터 조종상 문제를 겪었으며, 비상시 세부지침이 수록된 긴급참고교범(QRH)을 보고 대응방안을 찾으려 했지만 결국 실패했다고 보도했다.2018년 11월 3일 인도네시아 자카르타 탄중 프리옥 항에서 인근에 추락한 현지 저가항공사 라이온에어 소속 보잉 737 맥스 8 여객기의 잔해가 옮겨지고 있다. [AP=연합뉴스자료사진]이 여객기의 기내 컴퓨터는 센서 고장으로 기수가 너무 높이 들린 것으로 측정되자 실속(失速)을 막기 위해 자동으로 기수를 내려댔던 것으로 알려졌다.    이 경우 기내 컴퓨터와 연동된 항공기 자세제어 장치를 수동으로 전환해야 한다.     하지만, 소식통은 '이들(조종사들)은 자세제어 장치가 작동하고 있다는 사실을 몰랐던 것 같다. 조종석에선 비행속도와 고도에 대한 이야기만 오갔다'고 말했다.    로이터 통신은 최후의 순간이 다가오자 인도네시아인 부기장이 공포를 이기려는 듯 '알라후 아크바르'(신은 위대하다)라고 말한 뒤 기적을 갈구하는 기도를 올렸다고도 전했다.    KNKT는 실제로 부기장이 이런 발언을 했는지는 확인해 주지 않았다.    KNKT 소속 조사관인 누르차효 우토모는 '마지막 순간 조종사는 더는 비행기의 추락을 막을 수 없다고 느꼈던 것으로 보인다. 그리고 패닉이 일어났다'고만 말했다.    한편, KNKT는 추락 전날 발리에서 자카르타로 오는 마지막 비행 당시 조종석에 기장과 부기장 외에도 비번인 조종사가 함께 타고 있었다는 또 다른 외신 보도는 사실이라고 밝혔다.    KNKT는 현재 해당 조종사를 불러 당시 상황을 조사하고 있다.    다만, KNKT는 이 조종사가 기내 컴퓨터가 기수를 자동으로 내리는 문제 때문에 당황한 기장과 부기장에게 항공기 자세제어 장치를 수동으로 전환하도록 조언해 비행기를 추락 위기에서 구해냈다는 보도내용에 관해선 확인을 거부했다.    인도네시아 당국은 실속 방지 기능의 오작동이 추락의 결정적 원인이었는지와, 조종사들이 비상상황에 적절한 대응을 했는지에 조사의 초점을 맞추고 있는 것으로 알려졌다.     수르잔토 위원장은 '최종 보고서는 올해 8∼9월께 나올 것'이라고 말했다.    hwangch@yna.co.kr▶네이버 홈에서 [연합뉴스] 채널 구독하기▶뭐 하고 놀까? #흥  ▶쇼미더뉴스! 오늘 많이 본 뉴스영상\"\n",
    "test_body = '중국어선 단속 중인 해경 헬기 \"카모프\"[연합뉴스 자료사진](인천=연합뉴스) 손현규 기자 = 해양경찰청이 보유한 헬기 가운데 절반은 야간 해상구조에 투입하기 어려운 것으로 나타났다.    11일 국회 농림축산식품해양수산위원회 소속 더불어민주당 윤준호(부산 해운대을) 의원이 해경청으로부터 받은 \"보유 헬기 현황\" 자료에 따르면 해경청 헬기 18대 가운데 9대가 야간비행을 할 수 없는 기종이다.    해경청 헬기 중 야간 운항이 불가능한 기종은 러시아산 \"카모프\"(8대)와 \"벨\"(1대)이다.    나머지 팬더(5대), AW-139(2대), S-92(2대)는 야간 운항이 가능한 기종이다.    벨은 만들어진 지 30년이 넘었으며 카모프도 1990년대 중후반 러시아 차관 상환에 따른 경제협력의 일환으로 도입된 노후 헬기다.    경기 김포와 전남 무안에는 해경 헬기가 1대도 배치돼 있지 않은 상태며 전북 군산, 전남 여수, 경북 포항 일대에 배치된 헬기도 모두 카모프와 벨이어서 이 지역에서 야간에 해상사고가 발생하면 인명 구조 활동이 어려운 실정이다.    해경청에 따르면 야간시간대에 매년 5천건 이상의 해상사고가 발생하고 있다. 지난해에는 야간 해상사고가 2017년 대비 21% 늘어 5천731건에 달했다.     윤 의원은 \"매년 야간 해상사고가 5천건 이상 발생함에도 해경 헬기 절반은 야간에 운용하지 못한다\"며 \"노후 헬기는 교체하고 추가로 신형 헬기를 도입해야 한다\"고 지적했다.    son@yna.co.kr▶이 시각 연합뉴스 [클릭]▶네이버 [연합뉴스] 채널 구독   ▶뭐 하고 놀까? #흥'\n",
    "test_body = re.sub('연합뉴스', '', test_body)\n",
    "okt = Okt()\n",
    "noun = okt.nouns(test_body)"
   ]
  },
  {
   "cell_type": "code",
   "execution_count": 58,
   "metadata": {},
   "outputs": [
    {
     "data": {
      "text/plain": [
       "[('헬기', 11),\n",
       " ('야간', 8),\n",
       " ('해상', 5),\n",
       " ('카모프', 4),\n",
       " ('해경청', 4),\n",
       " ('사고', 4),\n",
       " ('해경', 3),\n",
       " ('발생', 3),\n",
       " ('자료', 2),\n",
       " ('해양', 2),\n",
       " ('보유', 2),\n",
       " ('가운데', 2),\n",
       " ('절반', 2),\n",
       " ('구조', 2),\n",
       " ('의원', 2),\n",
       " ('종이', 2),\n",
       " ('운항', 2),\n",
       " ('도입', 2),\n",
       " ('노후', 2),\n",
       " ('전남', 2),\n",
       " ('배치', 2),\n",
       " ('매년', 2),\n",
       " ('이상', 2)]"
      ]
     },
     "execution_count": 58,
     "metadata": {},
     "output_type": "execute_result"
    }
   ],
   "source": [
    "from collections import Counter\n",
    "import pandas as pd\n",
    "\n",
    "noun = [item for item in noun if len(item)>1]\n",
    "noun_counted = {item:count for item, count in Counter(noun).items() if count >=2}\n",
    "noun_counted_sorted = sorted(noun_counted.items(), key=lambda x:-x[1])\n",
    "\n",
    "noun_counted_sorted"
   ]
  },
  {
   "cell_type": "code",
   "execution_count": 59,
   "metadata": {},
   "outputs": [
    {
     "name": "stdout",
     "output_type": "stream",
     "text": [
      "a\n",
      "b\n",
      "c\n"
     ]
    }
   ],
   "source": [
    "a = ['a', 'b', 'c']\n",
    "b = [1, 2, 3]\n",
    "for i in dict(zip(a, b)).keys():\n",
    "    print(i)"
   ]
  },
  {
   "cell_type": "code",
   "execution_count": 66,
   "metadata": {},
   "outputs": [
    {
     "name": "stdout",
     "output_type": "stream",
     "text": [
      "[7, 10, 11, 9, 9, 0, 10]\n",
      "most: 사회\n"
     ]
    }
   ],
   "source": [
    "# 카운팅해보기\n",
    "num2target = ['IT과학', '경제', '사회', '생활문화', '세계', '스포츠', '정치']\n",
    "num2target_dict = {idx:item for idx, item in enumerate(num2target)}\n",
    "target2num = {item:idx for idx, item in enumerate(num2target)}\n",
    "\n",
    "def make_wordset():\n",
    "    wordset = []\n",
    "    for target in num2target:\n",
    "        df = pd.read_csv(f\"../data/bigkinds_2018/wordset_{target}_2018.csv\")\n",
    "        _wordset = df['keyword'].tolist()\n",
    "        _count = df['count'].tolist()\n",
    "        # _count = [i for i in range(len(_wordset))]\n",
    "                \n",
    "        wordset.append(dict(zip(_wordset, _count)))\n",
    "    return wordset\n",
    "\n",
    "\n",
    "def wordset_count(wordsets, noun_counted, threshold=10):\n",
    "    count = [0]*len(wordsets)\n",
    "    \n",
    "    for idx, wordset in enumerate(wordsets):\n",
    "        for item, _ in noun_counted.items():\n",
    "            if item in list(wordset.keys()) and wordset[item] >= threshold:\n",
    "                count[idx] += 1 #-1e-5*wordset[item]\n",
    "    return count\n",
    "    \n",
    "\n",
    "# train_data = pd.read_csv(\"../data/train_2018_concat_v1.csv\").iloc[45678:]\n",
    "wordset = make_wordset()\n",
    "test_nouncounted = noun_counted\n",
    "count = wordset_count(wordset, test_nouncounted, threshold=500)\n",
    "print(count)\n",
    "print(f\"most: {num2target[count.index(max(count))]}\")"
   ]
  },
  {
   "cell_type": "code",
   "execution_count": 21,
   "metadata": {},
   "outputs": [
    {
     "name": "stderr",
     "output_type": "stream",
     "text": [
      "/tmp/ipykernel_16119/392195408.py:23: DtypeWarning: Columns (4) have mixed types. Specify dtype option on import or set low_memory=False.\n",
      "  train_data = pd.read_csv(\"../data/train_2018_concat_v1.csv\").iloc[45678:]\n"
     ]
    },
    {
     "name": "stdout",
     "output_type": "stream",
     "text": [
      "사회 is now processing...\n"
     ]
    },
    {
     "name": "stderr",
     "output_type": "stream",
     "text": [
      "사회에 대한 카운트중입니다: 32155it [00:02, 10825.34it/s]\n"
     ]
    },
    {
     "name": "stdout",
     "output_type": "stream",
     "text": [
      "사회 is done\n",
      "\n",
      "생활문화 is now processing...\n"
     ]
    },
    {
     "name": "stderr",
     "output_type": "stream",
     "text": [
      "생활문화에 대한 카운트중입니다: 32069it [00:02, 11432.62it/s]\n"
     ]
    },
    {
     "name": "stdout",
     "output_type": "stream",
     "text": [
      "생활문화 is done\n",
      "\n",
      "IT과학 is now processing...\n"
     ]
    },
    {
     "name": "stderr",
     "output_type": "stream",
     "text": [
      "IT과학에 대한 카운트중입니다: 14141it [00:01, 10866.98it/s]\n"
     ]
    },
    {
     "name": "stdout",
     "output_type": "stream",
     "text": [
      "IT과학 is done\n",
      "\n",
      "세계 is now processing...\n"
     ]
    },
    {
     "name": "stderr",
     "output_type": "stream",
     "text": [
      "세계에 대한 카운트중입니다: 17112it [00:01, 10701.76it/s]\n"
     ]
    },
    {
     "name": "stdout",
     "output_type": "stream",
     "text": [
      "세계 is done\n",
      "\n",
      "정치 is now processing...\n"
     ]
    },
    {
     "name": "stderr",
     "output_type": "stream",
     "text": [
      "정치에 대한 카운트중입니다: 33657it [00:03, 10684.41it/s]\n"
     ]
    },
    {
     "name": "stdout",
     "output_type": "stream",
     "text": [
      "정치 is done\n",
      "\n",
      "경제 is now processing...\n"
     ]
    },
    {
     "name": "stderr",
     "output_type": "stream",
     "text": [
      "경제에 대한 카운트중입니다: 42933it [00:04, 10407.13it/s]\n"
     ]
    },
    {
     "name": "stdout",
     "output_type": "stream",
     "text": [
      "경제 is done\n",
      "\n",
      "스포츠 is now processing...\n"
     ]
    },
    {
     "name": "stderr",
     "output_type": "stream",
     "text": [
      "스포츠에 대한 카운트중입니다: 11305it [00:01, 11129.67it/s]\n"
     ]
    },
    {
     "name": "stdout",
     "output_type": "stream",
     "text": [
      "스포츠 is done\n",
      "\n"
     ]
    }
   ],
   "source": [
    "# wordset -> csv 함수\n",
    "from itertools import chain\n",
    "from tqdm import tqdm\n",
    "\n",
    "\n",
    "def make_wordset(df, target):\n",
    "    print(f\"{target} is now processing...\")\n",
    "    df_target = df[df['target2num']==target]\n",
    "    keywords = []\n",
    "    for _, item in tqdm(df_target.iterrows(), desc=f\"{target}에 대한 카운트중입니다\"):\n",
    "        keywords.extend(item['keyword'].split(','))\n",
    "\n",
    "    keywords_dict = {item:count for item, count in Counter(keywords).items()}\n",
    "    keyword_counted = sorted(Counter(keywords_dict).items(), key=lambda x:-x[1])\n",
    "        \n",
    "    keyword = [item[0] for item in keyword_counted]\n",
    "    count = [item[1] for item in keyword_counted]\n",
    "    index = [i for i in range(len(count))]\n",
    "    \n",
    "    world_dataframe = pd.DataFrame({'id':index, 'keyword':keyword, 'count':count})\n",
    "    world_dataframe.to_csv(\"../data/bigkinds_2018/wordset_\"+target+\"_2018.csv\", index=False)\n",
    "    print(f\"{target} is done\\n\")\n",
    "    \n",
    "train_data = pd.read_csv(\"../data/train_2018_concat_v1.csv\").iloc[45678:]\n",
    "for target in train_data['target2num'].unique().tolist():\n",
    "    make_wordset(train_data, target)\n"
   ]
  },
  {
   "cell_type": "code",
   "execution_count": null,
   "metadata": {},
   "outputs": [],
   "source": []
  },
  {
   "cell_type": "code",
   "execution_count": null,
   "metadata": {},
   "outputs": [],
   "source": []
  },
  {
   "cell_type": "code",
   "execution_count": 27,
   "metadata": {},
   "outputs": [
    {
     "name": "stdout",
     "output_type": "stream",
     "text": [
      "3, 생활문화 is now processing...\n"
     ]
    },
    {
     "name": "stderr",
     "output_type": "stream",
     "text": [
      "3에 대한 카운트중입니다: 5760it [00:07, 781.00it/s]\n"
     ]
    },
    {
     "name": "stdout",
     "output_type": "stream",
     "text": [
      "3 is done\n",
      "\n",
      "2, 사회 is now processing...\n"
     ]
    },
    {
     "name": "stderr",
     "output_type": "stream",
     "text": [
      "2에 대한 카운트중입니다: 5180it [00:07, 739.74it/s]\n"
     ]
    },
    {
     "name": "stdout",
     "output_type": "stream",
     "text": [
      "2 is done\n",
      "\n",
      "0, IT과학 is now processing...\n"
     ]
    },
    {
     "name": "stderr",
     "output_type": "stream",
     "text": [
      "0에 대한 카운트중입니다: 5309it [00:06, 796.44it/s]\n"
     ]
    },
    {
     "name": "stdout",
     "output_type": "stream",
     "text": [
      "0 is done\n",
      "\n",
      "5, 스포츠 is now processing...\n"
     ]
    },
    {
     "name": "stderr",
     "output_type": "stream",
     "text": [
      "5에 대한 카운트중입니다: 7688it [00:09, 791.88it/s]\n"
     ]
    },
    {
     "name": "stdout",
     "output_type": "stream",
     "text": [
      "5 is done\n",
      "\n",
      "4, 세계 is now processing...\n"
     ]
    },
    {
     "name": "stderr",
     "output_type": "stream",
     "text": [
      "4에 대한 카운트중입니다: 8250it [00:10, 779.24it/s]\n"
     ]
    },
    {
     "name": "stdout",
     "output_type": "stream",
     "text": [
      "4 is done\n",
      "\n",
      "6, 정치 is now processing...\n"
     ]
    },
    {
     "name": "stderr",
     "output_type": "stream",
     "text": [
      "6에 대한 카운트중입니다: 7372it [00:09, 768.56it/s]\n"
     ]
    },
    {
     "name": "stdout",
     "output_type": "stream",
     "text": [
      "6 is done\n",
      "\n",
      "1, 경제 is now processing...\n"
     ]
    },
    {
     "name": "stderr",
     "output_type": "stream",
     "text": [
      "1에 대한 카운트중입니다: 6119it [00:08, 763.02it/s]\n"
     ]
    },
    {
     "name": "stdout",
     "output_type": "stream",
     "text": [
      "1 is done\n",
      "\n"
     ]
    }
   ],
   "source": [
    "# klue 제목을 가지고 말뭉치 만들기\n",
    "\n",
    "import pandas as pd\n",
    "\n",
    "from konlpy.tag import Okt\n",
    "from tqdm import tqdm\n",
    "from collections import Counter\n",
    "\n",
    "okt = Okt()\n",
    "\n",
    "def make_wordset_klue(df, target):\n",
    "    print(f\"{target}, {num2target[target]} is now processing...\")\n",
    "    df_target = df[df['target']==target]\n",
    "    nouns = []\n",
    "    for _, item in tqdm(df_target.iterrows(), desc=f\"{target}에 대한 카운트중입니다\"):\n",
    "        _nouns = okt.nouns(item['text'])\n",
    "        # _nouns = [item for item in _nouns if len(item)>1]\n",
    "        nouns.extend(_nouns)\n",
    "\n",
    "    keywords_dict = {item:count for item, count in Counter(nouns).items()}\n",
    "    keyword_counted = sorted(Counter(keywords_dict).items(), key=lambda x:-x[1])\n",
    "        \n",
    "    keyword = [item[0] for item in keyword_counted]\n",
    "    count = [item[1] for item in keyword_counted]\n",
    "    index = [i for i in range(len(count))]\n",
    "    \n",
    "    world_dataframe = pd.DataFrame({'id':index, 'keyword':keyword, 'count':count})\n",
    "    world_dataframe.to_csv(\"../data/bigkinds_2018/wordset_\"+str(num2target[target])+\"_klue.csv\", index=False)\n",
    "    print(f\"{target} is done\\n\")\n",
    "\n",
    "# setting\n",
    "num2target = ['IT과학', '경제', '사회', '생활문화', '세계', '스포츠', '정치']\n",
    "num2target_dict = {idx:item for idx, item in enumerate(num2target)}\n",
    "target2num = {item:idx for idx, item in enumerate(num2target)}\n",
    "\n",
    "# data\n",
    "train_data = pd.read_csv(\"../data/train_spelling_v2.csv\")\n",
    "for target in train_data['target'].unique():\n",
    "    make_wordset_klue(train_data, target)\n"
   ]
  },
  {
   "cell_type": "code",
   "execution_count": 71,
   "metadata": {},
   "outputs": [],
   "source": [
    "# klue 기사 제목으로 일단 말뭉치 카운트 해보기 - 어느 말뭉치에 많이 있는가?\n",
    "# 테스트\n",
    "\n",
    "def make_wordset_klue():\n",
    "    wordset = []\n",
    "    for target in num2target:\n",
    "        df = pd.read_csv(f\"../data/bigkinds_2018/wordset_klue_edited/wordset_{target}_klue.csv\")\n",
    "        _wordset = df['keyword'].tolist()\n",
    "        _count = df['count'].tolist()\n",
    "        # _count = [i for i in range(len(_wordset))]\n",
    "                \n",
    "        wordset.append(dict(zip(_wordset, _count)))\n",
    "    return wordset\n",
    "\n",
    "\n",
    "def wordset_count(wordsets, noun_counted, threshold=10, verbose=False):\n",
    "    count = [0]*len(wordsets)\n",
    "    \n",
    "    for idx, wordset in enumerate(wordsets):\n",
    "        for item, _ in noun_counted.items():\n",
    "            if item in list(wordset.keys()) and wordset[item] >= threshold:\n",
    "                count[idx] += 1 #-1e-5*wordset[item]\n",
    "                if verbose:\n",
    "                    print(f\"item {item} is counted in {num2target[idx]}\")\n",
    "                \n",
    "    return count"
   ]
  },
  {
   "cell_type": "code",
   "execution_count": 69,
   "metadata": {},
   "outputs": [
    {
     "name": "stdout",
     "output_type": "stream",
     "text": [
      "item 한국 is counted in IT과학\n",
      "item 위 is counted in IT과학\n",
      "item 서비스 is counted in IT과학\n",
      "item 국내 is counted in IT과학\n",
      "item 한국 is counted in 경제\n",
      "item 기업 is counted in 경제\n",
      "item 한국 is counted in 사회\n",
      "item 서울 is counted in 생활문화\n",
      "item 여행 is counted in 생활문화\n",
      "item 한국 is counted in 생활문화\n",
      "item 비 is counted in 생활문화\n",
      "item 정부 is counted in 세계\n",
      "item 중 is counted in 세계\n",
      "item 미국 is counted in 세계\n",
      "item 것 is counted in 세계\n",
      "item 한국 is counted in 스포츠\n",
      "item 연속 is counted in 스포츠\n",
      "item 위 is counted in 스포츠\n",
      "item 정부 is counted in 정치\n",
      "item 한국 is counted in 정치\n",
      "item 논의 is counted in 정치\n",
      "item 위 is counted in 정치\n",
      "item 더 is counted in 정치\n",
      "item 것 is counted in 정치\n",
      "item 대표 is counted in 정치\n",
      "[4, 2, 1, 4, 4, 3, 7]\n",
      "most: 정치\n"
     ]
    }
   ],
   "source": [
    "# train_data = pd.read_csv(\"../data/train_2018_concat_v1.csv\").iloc[45678:]\n",
    "# test_nouncounted = Counter(okt.nouns(\"정부 편안하게 여행할 수 있는 관광복지 사회 위해 지원\"))\n",
    "test_nouncounted = Counter(okt.nouns(\"문체부, 열린 관광토론회 개최(서울=연합뉴스) 이도연 기자 = 정부가 편안하게 여행할 수 있는 관광복지 사회를 만들기 위해 다양한 지원 방안을 추진하겠다고 밝혔다.     문화체육관광부는 26일 서울 중구 한국관광공사 서울센터에서 새 정부의 주요 관광정책 기조 중 하나인 관광복지 실현 방안에 대해 논의하는 토론회를 개최했다.     토론회는 새 정부의 관광정책·관광진흥 5개년 계획 수립을 위해 연속으로 열릴 예정이다.     참석자들은 누구든지 언제나 쉽게 여행을 떠날 수 있어야 한다고 입을 모았다.    강정원 문체부 관광정책과장은 누구나 언제나 쉽게 여행을 떠날 수 있는 관광 여가 사회를 실현하기 위해 ▲ 생애주기별 맞춤형 지원 ▲ 모두가 편안한 관광환경 ▲ 여행을 위한 기본 여가 확대의 세 가지 방안을 제시했다.    구체적으로는 더 많은 사람이 여행할 수 있도록 근로자와 기업이 공동으로 여행 자금을 적립하고 정부가 추가 지원해주는 이른바 '한국형 체크바캉스' 제도가 추진되고 청소년·청년 여행을 활성화하기 위해서는 진로체험과 연계한 '교과서 여행'과 대학생이나 성인이 되는 해에 교통 패스와 여행비를 지원한다.    노년층의 여행을 늘리기 위해서는 실버 여행학교를 운영하고 시니어 관광카드를 도입한다.(서울=연합뉴스) 강민지 기자 = 26일 오후 서울 중구 한국관광공사 서울센터에서 '열린 관광토론회'가 열리고 있다. 이날 토론회는 관광업계 관계자, 여행작가, 교수, 문체부·관광 관련 공공기관 직원 등이 관광복지 실현 방안을 논의한다. 2017.7.26취약계층이 불편 없이 여행할 수 있게 열린관광지를 늘리고 지역별로 장애인 '여행도움버스'를 둔다.     외국인이나 장애인이 읽기 쉬운 안내서비스를 만들고 대중교통이 접근하기 어려운 곳은 마을버스, 택시, 시티투어를 활용해 교통 서비스를 확충한다.    기본 여가를 늘리기 위해서는 대체휴일을 확대하는 등 공휴일제도를 개선한다.    한은희 여행작가는 우리나라의 국내 관광비율은 60%로 일본(98%)이나 미국(81%)보다 낮다며 여행을 쉽게 떠나기 위해 숙박·교통을 개선해야 한다고 강조했다.    한 작가는 지방에서 수도권을 오가는 교통은 잘 연결돼 있지만, 지방에서 지방으로, 지역 내 관광지에서 다른 관광지로의 이동은 불편하고 정보도 없다며 고속버스·시외버스 예약시스템을 통합하고 렌터카를 시간 단위로 대여할 수 있게 해야 한다고 말했다.    이어 외국인 관광도시민박을 내국인 여행자도 이용할 수 있게 하고 숙박업소 운영자와 이용자 검증 시스템을 도입하는 것이 좋다고 덧붙였다.    오재철 아이온커뮤니케이션 대표는 자사의 모범 휴가 제도를 소개했다.    오 대표는 아이온커뮤니케이션은 '칼퇴근'과 3년 이상 근무하면 모든 사람에게 15일의 방학을 주는 '학습휴가' 제도를 시행하고 있다며 '연차와 월차를 내는 것도 자유롭다'고 말했다.    그는 '이런 여가 문화 제도를 실행한 후 순이익은 매년 늘고 있다'며 '여가 관련 복지는 '퍼주기'가 아니다'고 부연했다.\"))\n",
    "\n",
    "wordset = make_wordset_klue()\n",
    "count = wordset_count(wordset, test_nouncounted, threshold=150)\n",
    "print(count)\n",
    "print(f\"most: {num2target[count.index(max(count))]}\")"
   ]
  },
  {
   "cell_type": "code",
   "execution_count": 156,
   "metadata": {},
   "outputs": [
    {
     "name": "stderr",
     "output_type": "stream",
     "text": [
      "max word 카운팅 중...: 2612it [07:57,  5.47it/s]\n"
     ]
    }
   ],
   "source": [
    "# 전체 train data에 대해 적용해보자.\n",
    "# 제목 count가 같은경우 본문으로 count 해보기 - 크롤링 되면 그때...\n",
    "\n",
    "import pandas as pd\n",
    "\n",
    "from konlpy.tag import Okt\n",
    "from tqdm import tqdm\n",
    "from collections import Counter\n",
    "\n",
    "okt = Okt()\n",
    "\n",
    "def label_compare(df, wordset, threshold=100):\n",
    "    max_count_label_text, max_count_label_content = [0]*len(df), [0]*len(df)\n",
    "    \n",
    "    for idx, item in tqdm(df.iterrows(), desc=\"max word 카운팅 중...\"):\n",
    "        text, target, content = item['text'], item['target'], item['crawling_content']\n",
    "        t_counted_nouns = Counter(okt.nouns(text))\n",
    "        c_counted_nouns = Counter(okt.nouns(content))\n",
    "        \n",
    "        t_count = wordset_count(wordset, t_counted_nouns, threshold=10, verbose=False)\n",
    "        c_count = wordset_count(wordset, c_counted_nouns, threshold=threshold, verbose=False)\n",
    "        \n",
    "        t_result = list(filter(lambda x:t_count[x]==max(t_count), range(len(t_count))))\n",
    "        c_result = list(filter(lambda x:c_count[x]==max(c_count), range(len(c_count))))\n",
    "\n",
    "        # max_count_label_text.append(t_result)\n",
    "        # max_count_label_content.append(c_result)\n",
    "        max_count_label_text[idx] = (t_result)\n",
    "        max_count_label_content[idx] = (c_result)\n",
    "        \n",
    "    \n",
    "    df['target_from_text'] = max_count_label_text\n",
    "    df['target_from_content'] = max_count_label_content\n",
    "    \n",
    "    return df\n",
    "\n",
    "\n",
    "# dic, list setting\n",
    "num2target = ['IT과학', '경제', '사회', '생활문화', '세계', '스포츠', '정치']\n",
    "num2target_dict = {idx:item for idx, item in enumerate(num2target)}\n",
    "target2num = {item:idx for idx, item in enumerate(num2target)}\n",
    "\n",
    "# data loading\n",
    "train_data = pd.read_csv(\"../data/train_crawling_content.csv\")\n",
    "train_data_label_v1 = pd.read_csv(\"../data/train_spelling_v2_label_v1.csv\")\n",
    "\n",
    "train_target_not_same = train_data[train_data['target']!=train_data_label_v1['target']].reset_index().copy()\n",
    "train_target_not_same['pre_model_target'] = train_data_label_v1.loc[train_data['target']!=train_data_label_v1['target'], :]['target'].tolist()\n",
    "\n",
    "wordset = make_wordset_klue()\n",
    "# count = wordset_count(wordset, test_nouncounted, threshold=150)\n",
    "\n",
    "train_target_not_same_nouns = label_compare(train_target_not_same, wordset, threshold=150)\n",
    "train_target_not_same_nouns.to_csv(\"../data/bigkinds_2018/train_data_nouns.csv\", index=False)"
   ]
  },
  {
   "cell_type": "code",
   "execution_count": 217,
   "metadata": {},
   "outputs": [],
   "source": [
    "society = pd.read_csv(\"../data/bigkinds_2018/wordset_klue_edited/wordset_사회_klue_v2.csv\")\n",
    "society.columns = ['keyword']\n",
    "society.head(5)\n",
    "\n",
    "society.to_csv(\"../data/bigkinds_2018/wordset_klue_edited/wordset_사회_klue_v2.csv\", index=False)"
   ]
  },
  {
   "cell_type": "code",
   "execution_count": 211,
   "metadata": {},
   "outputs": [],
   "source": [
    "politics = pd.read_csv(\"../data/bigkinds_2018/wordset_klue_edited/wordset_정치_klue_v2.csv\")\n",
    "index = [i for i in range(len(politics))]\n",
    "politics['id'] = index\n",
    "politics = politics[['id', 'keyword', 'count']]\n",
    "politics.to_csv(\"../data/bigkinds_2018/wordset_klue_edited/wordset_정치_klue_v2.csv\", index=False)"
   ]
  },
  {
   "cell_type": "code",
   "execution_count": 212,
   "metadata": {},
   "outputs": [
    {
     "data": {
      "text/html": [
       "<div>\n",
       "<style scoped>\n",
       "    .dataframe tbody tr th:only-of-type {\n",
       "        vertical-align: middle;\n",
       "    }\n",
       "\n",
       "    .dataframe tbody tr th {\n",
       "        vertical-align: top;\n",
       "    }\n",
       "\n",
       "    .dataframe thead th {\n",
       "        text-align: right;\n",
       "    }\n",
       "</style>\n",
       "<table border=\"1\" class=\"dataframe\">\n",
       "  <thead>\n",
       "    <tr style=\"text-align: right;\">\n",
       "      <th></th>\n",
       "      <th>id</th>\n",
       "      <th>keyword</th>\n",
       "      <th>count</th>\n",
       "    </tr>\n",
       "  </thead>\n",
       "  <tbody>\n",
       "    <tr>\n",
       "      <th>0</th>\n",
       "      <td>0</td>\n",
       "      <td>대통령</td>\n",
       "      <td>1557</td>\n",
       "    </tr>\n",
       "    <tr>\n",
       "      <th>1</th>\n",
       "      <td>1</td>\n",
       "      <td>김정은</td>\n",
       "      <td>383</td>\n",
       "    </tr>\n",
       "    <tr>\n",
       "      <th>2</th>\n",
       "      <td>2</td>\n",
       "      <td>문</td>\n",
       "      <td>371</td>\n",
       "    </tr>\n",
       "    <tr>\n",
       "      <th>3</th>\n",
       "      <td>3</td>\n",
       "      <td>민주</td>\n",
       "      <td>326</td>\n",
       "    </tr>\n",
       "    <tr>\n",
       "      <th>4</th>\n",
       "      <td>4</td>\n",
       "      <td>한국</td>\n",
       "      <td>312</td>\n",
       "    </tr>\n",
       "    <tr>\n",
       "      <th>5</th>\n",
       "      <td>5</td>\n",
       "      <td>국회</td>\n",
       "      <td>298</td>\n",
       "    </tr>\n",
       "  </tbody>\n",
       "</table>\n",
       "</div>"
      ],
      "text/plain": [
       "   id keyword  count\n",
       "0   0     대통령   1557\n",
       "1   1     김정은    383\n",
       "2   2       문    371\n",
       "3   3      민주    326\n",
       "4   4      한국    312\n",
       "5   5      국회    298"
      ]
     },
     "execution_count": 212,
     "metadata": {},
     "output_type": "execute_result"
    }
   ],
   "source": [
    "politics.head(6)"
   ]
  },
  {
   "cell_type": "code",
   "execution_count": 218,
   "metadata": {},
   "outputs": [],
   "source": [
    "def label_compare(df, wordset, threshold=100):\n",
    "    max_count_label_text, max_count_label_content = [0]*len(df), [0]*len(df)\n",
    "    \n",
    "    for idx, item in tqdm(df.iterrows(), desc=\"max word 카운팅 중...\"):\n",
    "        text, target, content = item['text'], item['target'], item['crawling_content']\n",
    "        t_counted_nouns = Counter(okt.nouns(text))\n",
    "        c_counted_nouns = Counter(okt.nouns(content))\n",
    "        \n",
    "        t_count = wordset_count(wordset, t_counted_nouns, threshold=10, verbose=False)\n",
    "        c_count = wordset_count(wordset, c_counted_nouns, threshold=threshold, verbose=False)\n",
    "        \n",
    "        t_result = list(filter(lambda x:t_count[x]==max(t_count), range(len(t_count))))\n",
    "        c_result = list(filter(lambda x:c_count[x]==max(c_count), range(len(c_count))))\n",
    "\n",
    "        # max_count_label_text.append(t_result)\n",
    "        # max_count_label_content.append(c_result)\n",
    "        max_count_label_text[idx] = (t_result)\n",
    "        max_count_label_content[idx] = (c_result)\n",
    "        \n",
    "    \n",
    "    df['target_from_text'] = max_count_label_text\n",
    "    df['target_from_content'] = max_count_label_content\n",
    "    \n",
    "    return df"
   ]
  },
  {
   "cell_type": "code",
   "execution_count": null,
   "metadata": {},
   "outputs": [],
   "source": [
    "pd.read_csv(\"../data/bigkinds_2018/wordset_klue_edited/wordset_IT과학_klue_v2.csv\")"
   ]
  },
  {
   "cell_type": "code",
   "execution_count": 230,
   "metadata": {},
   "outputs": [
    {
     "name": "stderr",
     "output_type": "stream",
     "text": [
      "max word 카운팅 중...: 2612it [05:38,  7.71it/s]\n"
     ]
    }
   ],
   "source": [
    "# label compare 다시. v2로 재 실행.\n",
    "\n",
    "def make_wordset_klue_v2():\n",
    "    wordset = []\n",
    "    for target in num2target:\n",
    "        # /opt/ml/data/bigkinds_2018/wordset_klue_edited/wordset_IT과학_klue_v2.csv\n",
    "        df = pd.read_csv(f\"/opt/ml/data/bigkinds_2018/wordset_klue_edited/wordset_{target}_klue_v2.csv\")\n",
    "        if target != '사회':\n",
    "            _count = df['count'].tolist()\n",
    "        else:\n",
    "            _count = [100]*len(df)\n",
    "        _wordset = df['keyword'].tolist()\n",
    "        # _count = [i for i in range(len(_wordset))]\n",
    "                \n",
    "        wordset.append(dict(zip(_wordset, _count)))\n",
    "    return wordset\n",
    "\n",
    "# data loading\n",
    "train_data = pd.read_csv(\"../data/train_crawling_content.csv\")\n",
    "train_data_label_v1 = pd.read_csv(\"../data/train_spelling_v2_label_v1.csv\")\n",
    "\n",
    "train_target_not_same = train_data[train_data['target']!=train_data_label_v1['target']].reset_index().copy()\n",
    "train_target_not_same['pre_model_target'] = train_data_label_v1.loc[train_data['target']!=train_data_label_v1['target'], :]['target'].tolist()\n",
    "\n",
    "# wordset -> v2 로 다시...\n",
    "wordset = make_wordset_klue_v2()\n",
    "\n",
    "train_target_not_same_nouns = label_compare(train_target_not_same, wordset, threshold=30)\n",
    "train_target_not_same_nouns.to_csv(\"../data/bigkinds_2018/train_data_nouns_v2.csv\", index=False)"
   ]
  },
  {
   "cell_type": "code",
   "execution_count": null,
   "metadata": {},
   "outputs": [],
   "source": []
  },
  {
   "cell_type": "code",
   "execution_count": null,
   "metadata": {},
   "outputs": [],
   "source": []
  },
  {
   "cell_type": "code",
   "execution_count": 171,
   "metadata": {},
   "outputs": [
    {
     "data": {
      "text/plain": [
       "2"
      ]
     },
     "execution_count": 171,
     "metadata": {},
     "output_type": "execute_result"
    }
   ],
   "source": [
    "test = [0, 0, 0, 0]\n",
    "a = [1,2]\n",
    "for i in a:\n",
    "    test[i]+=1\n",
    "test.count(1)"
   ]
  },
  {
   "cell_type": "code",
   "execution_count": 186,
   "metadata": {},
   "outputs": [
    {
     "name": "stderr",
     "output_type": "stream",
     "text": [
      "voting 중 입니다...: 0it [00:00, ?it/s]\n"
     ]
    },
    {
     "ename": "TypeError",
     "evalue": "list indices must be integers or slices, not str",
     "output_type": "error",
     "traceback": [
      "\u001b[0;31m---------------------------------------------------------------------------\u001b[0m",
      "\u001b[0;31mTypeError\u001b[0m                                 Traceback (most recent call last)",
      "Cell \u001b[0;32mIn[186], line 33\u001b[0m\n\u001b[1;32m     30\u001b[0m     \u001b[39mreturn\u001b[39;00m after, removed\n\u001b[1;32m     32\u001b[0m train_target_not_same_nouns \u001b[39m=\u001b[39m pd\u001b[39m.\u001b[39mread_csv(\u001b[39m\"\u001b[39m\u001b[39m../data/bigkinds_2018/train_data_nouns.csv\u001b[39m\u001b[39m\"\u001b[39m)\n\u001b[0;32m---> 33\u001b[0m train_target_not_same_nouns_after, removed \u001b[39m=\u001b[39m target_voting(train_target_not_same_nouns)\n",
      "Cell \u001b[0;32mIn[186], line 17\u001b[0m, in \u001b[0;36mtarget_voting\u001b[0;34m(df)\u001b[0m\n\u001b[1;32m     15\u001b[0m             vote[i] \u001b[39m+\u001b[39m\u001b[39m=\u001b[39m \u001b[39m1\u001b[39m\n\u001b[1;32m     16\u001b[0m     \u001b[39melse\u001b[39;00m:\n\u001b[0;32m---> 17\u001b[0m         vote[_labels] \u001b[39m+\u001b[39m\u001b[39m=\u001b[39m \u001b[39m1\u001b[39m\n\u001b[1;32m     19\u001b[0m \u001b[39mif\u001b[39;00m \u001b[39mnot\u001b[39;00m vote\u001b[39m.\u001b[39mcount(\u001b[39mmax\u001b[39m(vote)) \u001b[39m>\u001b[39m \u001b[39m1\u001b[39m:\n\u001b[1;32m     20\u001b[0m     result \u001b[39m=\u001b[39m vote\u001b[39m.\u001b[39mindex(\u001b[39mmax\u001b[39m(vote))\n",
      "\u001b[0;31mTypeError\u001b[0m: list indices must be integers or slices, not str"
     ]
    }
   ],
   "source": [
    "# voting 결과 똑같거나, 모두 다르면 그냥 그 텍스트 제거\n",
    "\n",
    "def target_voting(df):\n",
    "    target_nunique = df['target'].nunique()\n",
    "    columns = ['target', 'pre_model_target', 'target_from_text', 'target_from_content']\n",
    "    voted_target = []\n",
    "    \n",
    "    for idx, item in tqdm(df.iterrows(), desc='voting 중 입니다...'):\n",
    "        vote = [0]*target_nunique\n",
    "        \n",
    "        for col in columns:\n",
    "            _labels = item[col]\n",
    "            if type(_labels) == list:\n",
    "                for i in _labels:\n",
    "                    vote[i] += 1\n",
    "            else:\n",
    "                vote[_labels] += 1\n",
    "                \n",
    "        if not vote.count(max(vote)) > 1:\n",
    "            result = vote.index(max(vote))\n",
    "        else:\n",
    "            result = \"ERROR\"\n",
    "\n",
    "        voted_target.append(result)\n",
    "    \n",
    "    df['voted_target'] = voted_target\n",
    "    removed = df[df['voted_target'] == 'ERROR'].copy()\n",
    "    after = df[df['voted_target'] != 'ERROR'].copy()\n",
    "    \n",
    "    return after, removed\n",
    "\n",
    "train_target_not_same_nouns = pd.read_csv(\"../data/bigkinds_2018/train_data_nouns.csv\")\n",
    "train_target_not_same_nouns_after, removed = target_voting(train_target_not_same_nouns)\n"
   ]
  },
  {
   "cell_type": "code",
   "execution_count": 187,
   "metadata": {},
   "outputs": [
    {
     "data": {
      "text/plain": [
       "2612"
      ]
     },
     "execution_count": 187,
     "metadata": {},
     "output_type": "execute_result"
    }
   ],
   "source": [
    "len(train_target_not_same_nouns)"
   ]
  },
  {
   "cell_type": "code",
   "execution_count": 185,
   "metadata": {},
   "outputs": [
    {
     "ename": "NameError",
     "evalue": "name 'train_target_not_same_nouns_after' is not defined",
     "output_type": "error",
     "traceback": [
      "\u001b[0;31m---------------------------------------------------------------------------\u001b[0m",
      "\u001b[0;31mNameError\u001b[0m                                 Traceback (most recent call last)",
      "Cell \u001b[0;32mIn[185], line 1\u001b[0m\n\u001b[0;32m----> 1\u001b[0m \u001b[39mprint\u001b[39m(\u001b[39mlen\u001b[39m(train_target_not_same_nouns_after), \u001b[39mlen\u001b[39m(removed), \u001b[39mlen\u001b[39m(train_target_not_same_nouns))\n",
      "\u001b[0;31mNameError\u001b[0m: name 'train_target_not_same_nouns_after' is not defined"
     ]
    }
   ],
   "source": [
    "print(len(train_target_not_same_nouns_after), len(removed), len(train_target_not_same_nouns))"
   ]
  },
  {
   "cell_type": "code",
   "execution_count": 188,
   "metadata": {},
   "outputs": [
    {
     "data": {
      "text/plain": [
       "['IT과학', '경제', '사회', '생활문화', '세계', '스포츠', '정치']"
      ]
     },
     "execution_count": 188,
     "metadata": {},
     "output_type": "execute_result"
    }
   ],
   "source": [
    "num2target"
   ]
  },
  {
   "cell_type": "code",
   "execution_count": 176,
   "metadata": {},
   "outputs": [
    {
     "data": {
      "text/html": [
       "<div>\n",
       "<style scoped>\n",
       "    .dataframe tbody tr th:only-of-type {\n",
       "        vertical-align: middle;\n",
       "    }\n",
       "\n",
       "    .dataframe tbody tr th {\n",
       "        vertical-align: top;\n",
       "    }\n",
       "\n",
       "    .dataframe thead th {\n",
       "        text-align: right;\n",
       "    }\n",
       "</style>\n",
       "<table border=\"1\" class=\"dataframe\">\n",
       "  <thead>\n",
       "    <tr style=\"text-align: right;\">\n",
       "      <th></th>\n",
       "      <th>index</th>\n",
       "      <th>ID</th>\n",
       "      <th>text</th>\n",
       "      <th>target</th>\n",
       "      <th>url</th>\n",
       "      <th>date</th>\n",
       "      <th>crawling_content</th>\n",
       "      <th>pre_model_target</th>\n",
       "      <th>target_from_text</th>\n",
       "      <th>target_from_content</th>\n",
       "      <th>voted_target</th>\n",
       "    </tr>\n",
       "  </thead>\n",
       "  <tbody>\n",
       "    <tr>\n",
       "      <th>0</th>\n",
       "      <td>16</td>\n",
       "      <td>ynat-v1_train_00016</td>\n",
       "      <td>박원순 시장 아부다비 루브르 박물관 방문</td>\n",
       "      <td>6</td>\n",
       "      <td>https://news.naver.com/main/read.nhn?mode=LS2D...</td>\n",
       "      <td>2019.05.02. 오전 9:30</td>\n",
       "      <td>(서울=연합뉴스) 아랍에미리트(UAE)를 방문 중인 박원순 서울시장이 1일(현지시간...</td>\n",
       "      <td>2</td>\n",
       "      <td>[3, 6]</td>\n",
       "      <td>[0, 3, 6]</td>\n",
       "      <td>6</td>\n",
       "    </tr>\n",
       "    <tr>\n",
       "      <th>1</th>\n",
       "      <td>42</td>\n",
       "      <td>ynat-v1_train_00042</td>\n",
       "      <td>제임스 떠난 NBA 클리블랜드 1승 10패…전체 꼴찌</td>\n",
       "      <td>4</td>\n",
       "      <td>https://sports.news.naver.com/news.nhn?oid=001...</td>\n",
       "      <td>2018.11.08 15:06</td>\n",
       "      <td>오클라호마시티 선더 알렉스 아브리네스(가운데)가  8일(한국시각) 미국 오하이오주 ...</td>\n",
       "      <td>5</td>\n",
       "      <td>[5]</td>\n",
       "      <td>[5]</td>\n",
       "      <td>5</td>\n",
       "    </tr>\n",
       "    <tr>\n",
       "      <th>3</th>\n",
       "      <td>85</td>\n",
       "      <td>ynat-v1_train_00085</td>\n",
       "      <td>메시 통산 4번째 유럽 골든슈 최종 확정…호날두와 동률</td>\n",
       "      <td>4</td>\n",
       "      <td>https://sports.news.naver.com/news.nhn?oid=001...</td>\n",
       "      <td>2017.05.29 08:09</td>\n",
       "      <td>바르셀로나의 골잡이 리오넬 메시.[EPA=연합뉴스 자료 사진](서울=연합뉴스) 이영...</td>\n",
       "      <td>5</td>\n",
       "      <td>[5]</td>\n",
       "      <td>[5]</td>\n",
       "      <td>5</td>\n",
       "    </tr>\n",
       "    <tr>\n",
       "      <th>5</th>\n",
       "      <td>98</td>\n",
       "      <td>ynat-v1_train_00098</td>\n",
       "      <td>LG전자 휴대전화 국내 생산 중단…베트남으로 거점 이동(종합)</td>\n",
       "      <td>1</td>\n",
       "      <td>https://news.naver.com/main/read.nhn?mode=LS2D...</td>\n",
       "      <td>2019.04.24. 오후 4:32</td>\n",
       "      <td>평택 공장 인력 1천400명, 창원 등 다른 사업장으로 이동할 듯(서울=연합뉴스) ...</td>\n",
       "      <td>0</td>\n",
       "      <td>[1]</td>\n",
       "      <td>[1]</td>\n",
       "      <td>1</td>\n",
       "    </tr>\n",
       "    <tr>\n",
       "      <th>6</th>\n",
       "      <td>103</td>\n",
       "      <td>ynat-v1_train_00103</td>\n",
       "      <td>6·25전쟁 美 참전용사 추모벽 건립안 상원 통과&amp;lt; RFA&amp;gt;</td>\n",
       "      <td>2</td>\n",
       "      <td>https://news.naver.com/main/read.nhn?mode=LS2D...</td>\n",
       "      <td>2016.07.15. 오전 8:43</td>\n",
       "      <td>워싱턴주 한국전쟁 참전비 헌화   \\n    lkm@yna.co.kr\\n    (서...</td>\n",
       "      <td>4</td>\n",
       "      <td>[4]</td>\n",
       "      <td>[6]</td>\n",
       "      <td>4</td>\n",
       "    </tr>\n",
       "    <tr>\n",
       "      <th>...</th>\n",
       "      <td>...</td>\n",
       "      <td>...</td>\n",
       "      <td>...</td>\n",
       "      <td>...</td>\n",
       "      <td>...</td>\n",
       "      <td>...</td>\n",
       "      <td>...</td>\n",
       "      <td>...</td>\n",
       "      <td>...</td>\n",
       "      <td>...</td>\n",
       "      <td>...</td>\n",
       "    </tr>\n",
       "    <tr>\n",
       "      <th>2605</th>\n",
       "      <td>45472</td>\n",
       "      <td>ynat-v1_train_45472</td>\n",
       "      <td>11월 전국 주택 매매가 상승폭 둔화…일부 광역시는 강세</td>\n",
       "      <td>6</td>\n",
       "      <td>https://news.naver.com/main/read.nhn?mode=LS2D...</td>\n",
       "      <td>2018.12.03. 오전 11:49</td>\n",
       "      <td>서울은 주택 매매가 상승폭 0.51%→0.02%로 축소\\n\\n\\n\\n서울시내 한 중...</td>\n",
       "      <td>1</td>\n",
       "      <td>[1]</td>\n",
       "      <td>[1]</td>\n",
       "      <td>1</td>\n",
       "    </tr>\n",
       "    <tr>\n",
       "      <th>2606</th>\n",
       "      <td>45482</td>\n",
       "      <td>ynat-v1_train_45482</td>\n",
       "      <td>해외서도 내 데이터 그대로…SKT T괌·사이판패스 출시종합</td>\n",
       "      <td>0</td>\n",
       "      <td>https://news.naver.com/main/read.nhn?mode=LS2D...</td>\n",
       "      <td>2018.09.12. 오전 11:11</td>\n",
       "      <td>서비스 위해 현지 이통사 IT&amp;amp;E에 투자·2대 주주 올라(서울=연합뉴스) 채...</td>\n",
       "      <td>1</td>\n",
       "      <td>[0]</td>\n",
       "      <td>[0]</td>\n",
       "      <td>0</td>\n",
       "    </tr>\n",
       "    <tr>\n",
       "      <th>2607</th>\n",
       "      <td>45535</td>\n",
       "      <td>ynat-v1_train_45535</td>\n",
       "      <td>수원 아시아 4강 이끈 특급 선방 신화용 분석·조언의 힘</td>\n",
       "      <td>3</td>\n",
       "      <td>https://sports.news.naver.com/news.nhn?oid=001...</td>\n",
       "      <td>2018.09.19 22:38</td>\n",
       "      <td>PK·승부차기 막아내 승리 견인 \"전북 탈락 아쉬워하시지 않도록 결승까지\"신화용 '...</td>\n",
       "      <td>5</td>\n",
       "      <td>[5]</td>\n",
       "      <td>[5]</td>\n",
       "      <td>5</td>\n",
       "    </tr>\n",
       "    <tr>\n",
       "      <th>2609</th>\n",
       "      <td>45600</td>\n",
       "      <td>ynat-v1_train_45600</td>\n",
       "      <td>伊 대통령 새 연정 승인…콘테 현 총리에 연정 구성 권한 부여</td>\n",
       "      <td>4</td>\n",
       "      <td>https://news.naver.com/main/read.nhn?mode=LS2D...</td>\n",
       "      <td>2019.08.29. 오후 6:21</td>\n",
       "      <td>오성운동-민주당 연정 '5부능선'…내각 명단·정책안 협상 지속부총리 등 핵심 포스트...</td>\n",
       "      <td>6</td>\n",
       "      <td>[4]</td>\n",
       "      <td>[4, 6]</td>\n",
       "      <td>4</td>\n",
       "    </tr>\n",
       "    <tr>\n",
       "      <th>2611</th>\n",
       "      <td>45655</td>\n",
       "      <td>ynat-v1_train_45655</td>\n",
       "      <td>필리핀 두테르테 눈엣가시 언론인 마리아 레사 체포돼</td>\n",
       "      <td>6</td>\n",
       "      <td>https://news.naver.com/main/read.nhn?mode=LS2D...</td>\n",
       "      <td>2019.02.13. 오후 8:16</td>\n",
       "      <td>사이버 명예훼손 혐의로 체포된 필리핀 언론인 마리아 레사 [EPA=연합뉴스](서울=...</td>\n",
       "      <td>4</td>\n",
       "      <td>[4]</td>\n",
       "      <td>[4, 6]</td>\n",
       "      <td>4</td>\n",
       "    </tr>\n",
       "  </tbody>\n",
       "</table>\n",
       "<p>2095 rows × 11 columns</p>\n",
       "</div>"
      ],
      "text/plain": [
       "      index                   ID                                     text   \n",
       "0        16  ynat-v1_train_00016                   박원순 시장 아부다비 루브르 박물관 방문  \\\n",
       "1        42  ynat-v1_train_00042            제임스 떠난 NBA 클리블랜드 1승 10패…전체 꼴찌   \n",
       "3        85  ynat-v1_train_00085           메시 통산 4번째 유럽 골든슈 최종 확정…호날두와 동률   \n",
       "5        98  ynat-v1_train_00098       LG전자 휴대전화 국내 생산 중단…베트남으로 거점 이동(종합)   \n",
       "6       103  ynat-v1_train_00103  6·25전쟁 美 참전용사 추모벽 건립안 상원 통과&lt; RFA&gt;   \n",
       "...     ...                  ...                                      ...   \n",
       "2605  45472  ynat-v1_train_45472          11월 전국 주택 매매가 상승폭 둔화…일부 광역시는 강세   \n",
       "2606  45482  ynat-v1_train_45482         해외서도 내 데이터 그대로…SKT T괌·사이판패스 출시종합   \n",
       "2607  45535  ynat-v1_train_45535          수원 아시아 4강 이끈 특급 선방 신화용 분석·조언의 힘   \n",
       "2609  45600  ynat-v1_train_45600       伊 대통령 새 연정 승인…콘테 현 총리에 연정 구성 권한 부여   \n",
       "2611  45655  ynat-v1_train_45655             필리핀 두테르테 눈엣가시 언론인 마리아 레사 체포돼   \n",
       "\n",
       "      target                                                url   \n",
       "0          6  https://news.naver.com/main/read.nhn?mode=LS2D...  \\\n",
       "1          4  https://sports.news.naver.com/news.nhn?oid=001...   \n",
       "3          4  https://sports.news.naver.com/news.nhn?oid=001...   \n",
       "5          1  https://news.naver.com/main/read.nhn?mode=LS2D...   \n",
       "6          2  https://news.naver.com/main/read.nhn?mode=LS2D...   \n",
       "...      ...                                                ...   \n",
       "2605       6  https://news.naver.com/main/read.nhn?mode=LS2D...   \n",
       "2606       0  https://news.naver.com/main/read.nhn?mode=LS2D...   \n",
       "2607       3  https://sports.news.naver.com/news.nhn?oid=001...   \n",
       "2609       4  https://news.naver.com/main/read.nhn?mode=LS2D...   \n",
       "2611       6  https://news.naver.com/main/read.nhn?mode=LS2D...   \n",
       "\n",
       "                      date                                   crawling_content   \n",
       "0      2019.05.02. 오전 9:30  (서울=연합뉴스) 아랍에미리트(UAE)를 방문 중인 박원순 서울시장이 1일(현지시간...  \\\n",
       "1         2018.11.08 15:06  오클라호마시티 선더 알렉스 아브리네스(가운데)가  8일(한국시각) 미국 오하이오주 ...   \n",
       "3         2017.05.29 08:09  바르셀로나의 골잡이 리오넬 메시.[EPA=연합뉴스 자료 사진](서울=연합뉴스) 이영...   \n",
       "5      2019.04.24. 오후 4:32  평택 공장 인력 1천400명, 창원 등 다른 사업장으로 이동할 듯(서울=연합뉴스) ...   \n",
       "6      2016.07.15. 오전 8:43  워싱턴주 한국전쟁 참전비 헌화   \\n    lkm@yna.co.kr\\n    (서...   \n",
       "...                    ...                                                ...   \n",
       "2605  2018.12.03. 오전 11:49  서울은 주택 매매가 상승폭 0.51%→0.02%로 축소\\n\\n\\n\\n서울시내 한 중...   \n",
       "2606  2018.09.12. 오전 11:11  서비스 위해 현지 이통사 IT&amp;E에 투자·2대 주주 올라(서울=연합뉴스) 채...   \n",
       "2607      2018.09.19 22:38  PK·승부차기 막아내 승리 견인 \"전북 탈락 아쉬워하시지 않도록 결승까지\"신화용 '...   \n",
       "2609   2019.08.29. 오후 6:21  오성운동-민주당 연정 '5부능선'…내각 명단·정책안 협상 지속부총리 등 핵심 포스트...   \n",
       "2611   2019.02.13. 오후 8:16  사이버 명예훼손 혐의로 체포된 필리핀 언론인 마리아 레사 [EPA=연합뉴스](서울=...   \n",
       "\n",
       "      pre_model_target target_from_text target_from_content voted_target  \n",
       "0                    2           [3, 6]           [0, 3, 6]            6  \n",
       "1                    5              [5]                 [5]            5  \n",
       "3                    5              [5]                 [5]            5  \n",
       "5                    0              [1]                 [1]            1  \n",
       "6                    4              [4]                 [6]            4  \n",
       "...                ...              ...                 ...          ...  \n",
       "2605                 1              [1]                 [1]            1  \n",
       "2606                 1              [0]                 [0]            0  \n",
       "2607                 5              [5]                 [5]            5  \n",
       "2609                 6              [4]              [4, 6]            4  \n",
       "2611                 4              [4]              [4, 6]            4  \n",
       "\n",
       "[2095 rows x 11 columns]"
      ]
     },
     "execution_count": 176,
     "metadata": {},
     "output_type": "execute_result"
    }
   ],
   "source": [
    "train_target_not_same_nouns"
   ]
  },
  {
   "cell_type": "code",
   "execution_count": 174,
   "metadata": {},
   "outputs": [
    {
     "data": {
      "text/plain": [
       "['IT과학', '경제', '사회', '생활문화', '세계', '스포츠', '정치']"
      ]
     },
     "execution_count": 174,
     "metadata": {},
     "output_type": "execute_result"
    }
   ],
   "source": [
    "num2target"
   ]
  },
  {
   "cell_type": "code",
   "execution_count": 172,
   "metadata": {},
   "outputs": [
    {
     "data": {
      "text/html": [
       "<div>\n",
       "<style scoped>\n",
       "    .dataframe tbody tr th:only-of-type {\n",
       "        vertical-align: middle;\n",
       "    }\n",
       "\n",
       "    .dataframe tbody tr th {\n",
       "        vertical-align: top;\n",
       "    }\n",
       "\n",
       "    .dataframe thead th {\n",
       "        text-align: right;\n",
       "    }\n",
       "</style>\n",
       "<table border=\"1\" class=\"dataframe\">\n",
       "  <thead>\n",
       "    <tr style=\"text-align: right;\">\n",
       "      <th></th>\n",
       "      <th>index</th>\n",
       "      <th>ID</th>\n",
       "      <th>text</th>\n",
       "      <th>target</th>\n",
       "      <th>url</th>\n",
       "      <th>date</th>\n",
       "      <th>crawling_content</th>\n",
       "      <th>pre_model_target</th>\n",
       "      <th>target_from_text</th>\n",
       "      <th>target_from_content</th>\n",
       "      <th>voted_target</th>\n",
       "    </tr>\n",
       "  </thead>\n",
       "  <tbody>\n",
       "    <tr>\n",
       "      <th>0</th>\n",
       "      <td>16</td>\n",
       "      <td>ynat-v1_train_00016</td>\n",
       "      <td>박원순 시장 아부다비 루브르 박물관 방문</td>\n",
       "      <td>6</td>\n",
       "      <td>https://news.naver.com/main/read.nhn?mode=LS2D...</td>\n",
       "      <td>2019.05.02. 오전 9:30</td>\n",
       "      <td>(서울=연합뉴스) 아랍에미리트(UAE)를 방문 중인 박원순 서울시장이 1일(현지시간...</td>\n",
       "      <td>2</td>\n",
       "      <td>[3, 6]</td>\n",
       "      <td>[0, 3, 6]</td>\n",
       "      <td>6</td>\n",
       "    </tr>\n",
       "    <tr>\n",
       "      <th>1</th>\n",
       "      <td>42</td>\n",
       "      <td>ynat-v1_train_00042</td>\n",
       "      <td>제임스 떠난 NBA 클리블랜드 1승 10패…전체 꼴찌</td>\n",
       "      <td>4</td>\n",
       "      <td>https://sports.news.naver.com/news.nhn?oid=001...</td>\n",
       "      <td>2018.11.08 15:06</td>\n",
       "      <td>오클라호마시티 선더 알렉스 아브리네스(가운데)가  8일(한국시각) 미국 오하이오주 ...</td>\n",
       "      <td>5</td>\n",
       "      <td>[5]</td>\n",
       "      <td>[5]</td>\n",
       "      <td>5</td>\n",
       "    </tr>\n",
       "    <tr>\n",
       "      <th>3</th>\n",
       "      <td>85</td>\n",
       "      <td>ynat-v1_train_00085</td>\n",
       "      <td>메시 통산 4번째 유럽 골든슈 최종 확정…호날두와 동률</td>\n",
       "      <td>4</td>\n",
       "      <td>https://sports.news.naver.com/news.nhn?oid=001...</td>\n",
       "      <td>2017.05.29 08:09</td>\n",
       "      <td>바르셀로나의 골잡이 리오넬 메시.[EPA=연합뉴스 자료 사진](서울=연합뉴스) 이영...</td>\n",
       "      <td>5</td>\n",
       "      <td>[5]</td>\n",
       "      <td>[5]</td>\n",
       "      <td>5</td>\n",
       "    </tr>\n",
       "    <tr>\n",
       "      <th>5</th>\n",
       "      <td>98</td>\n",
       "      <td>ynat-v1_train_00098</td>\n",
       "      <td>LG전자 휴대전화 국내 생산 중단…베트남으로 거점 이동(종합)</td>\n",
       "      <td>1</td>\n",
       "      <td>https://news.naver.com/main/read.nhn?mode=LS2D...</td>\n",
       "      <td>2019.04.24. 오후 4:32</td>\n",
       "      <td>평택 공장 인력 1천400명, 창원 등 다른 사업장으로 이동할 듯(서울=연합뉴스) ...</td>\n",
       "      <td>0</td>\n",
       "      <td>[1]</td>\n",
       "      <td>[1]</td>\n",
       "      <td>1</td>\n",
       "    </tr>\n",
       "    <tr>\n",
       "      <th>6</th>\n",
       "      <td>103</td>\n",
       "      <td>ynat-v1_train_00103</td>\n",
       "      <td>6·25전쟁 美 참전용사 추모벽 건립안 상원 통과&amp;lt; RFA&amp;gt;</td>\n",
       "      <td>2</td>\n",
       "      <td>https://news.naver.com/main/read.nhn?mode=LS2D...</td>\n",
       "      <td>2016.07.15. 오전 8:43</td>\n",
       "      <td>워싱턴주 한국전쟁 참전비 헌화   \\n    lkm@yna.co.kr\\n    (서...</td>\n",
       "      <td>4</td>\n",
       "      <td>[4]</td>\n",
       "      <td>[6]</td>\n",
       "      <td>4</td>\n",
       "    </tr>\n",
       "    <tr>\n",
       "      <th>...</th>\n",
       "      <td>...</td>\n",
       "      <td>...</td>\n",
       "      <td>...</td>\n",
       "      <td>...</td>\n",
       "      <td>...</td>\n",
       "      <td>...</td>\n",
       "      <td>...</td>\n",
       "      <td>...</td>\n",
       "      <td>...</td>\n",
       "      <td>...</td>\n",
       "      <td>...</td>\n",
       "    </tr>\n",
       "    <tr>\n",
       "      <th>2605</th>\n",
       "      <td>45472</td>\n",
       "      <td>ynat-v1_train_45472</td>\n",
       "      <td>11월 전국 주택 매매가 상승폭 둔화…일부 광역시는 강세</td>\n",
       "      <td>6</td>\n",
       "      <td>https://news.naver.com/main/read.nhn?mode=LS2D...</td>\n",
       "      <td>2018.12.03. 오전 11:49</td>\n",
       "      <td>서울은 주택 매매가 상승폭 0.51%→0.02%로 축소\\n\\n\\n\\n서울시내 한 중...</td>\n",
       "      <td>1</td>\n",
       "      <td>[1]</td>\n",
       "      <td>[1]</td>\n",
       "      <td>1</td>\n",
       "    </tr>\n",
       "    <tr>\n",
       "      <th>2606</th>\n",
       "      <td>45482</td>\n",
       "      <td>ynat-v1_train_45482</td>\n",
       "      <td>해외서도 내 데이터 그대로…SKT T괌·사이판패스 출시종합</td>\n",
       "      <td>0</td>\n",
       "      <td>https://news.naver.com/main/read.nhn?mode=LS2D...</td>\n",
       "      <td>2018.09.12. 오전 11:11</td>\n",
       "      <td>서비스 위해 현지 이통사 IT&amp;amp;E에 투자·2대 주주 올라(서울=연합뉴스) 채...</td>\n",
       "      <td>1</td>\n",
       "      <td>[0]</td>\n",
       "      <td>[0]</td>\n",
       "      <td>0</td>\n",
       "    </tr>\n",
       "    <tr>\n",
       "      <th>2607</th>\n",
       "      <td>45535</td>\n",
       "      <td>ynat-v1_train_45535</td>\n",
       "      <td>수원 아시아 4강 이끈 특급 선방 신화용 분석·조언의 힘</td>\n",
       "      <td>3</td>\n",
       "      <td>https://sports.news.naver.com/news.nhn?oid=001...</td>\n",
       "      <td>2018.09.19 22:38</td>\n",
       "      <td>PK·승부차기 막아내 승리 견인 \"전북 탈락 아쉬워하시지 않도록 결승까지\"신화용 '...</td>\n",
       "      <td>5</td>\n",
       "      <td>[5]</td>\n",
       "      <td>[5]</td>\n",
       "      <td>5</td>\n",
       "    </tr>\n",
       "    <tr>\n",
       "      <th>2609</th>\n",
       "      <td>45600</td>\n",
       "      <td>ynat-v1_train_45600</td>\n",
       "      <td>伊 대통령 새 연정 승인…콘테 현 총리에 연정 구성 권한 부여</td>\n",
       "      <td>4</td>\n",
       "      <td>https://news.naver.com/main/read.nhn?mode=LS2D...</td>\n",
       "      <td>2019.08.29. 오후 6:21</td>\n",
       "      <td>오성운동-민주당 연정 '5부능선'…내각 명단·정책안 협상 지속부총리 등 핵심 포스트...</td>\n",
       "      <td>6</td>\n",
       "      <td>[4]</td>\n",
       "      <td>[4, 6]</td>\n",
       "      <td>4</td>\n",
       "    </tr>\n",
       "    <tr>\n",
       "      <th>2611</th>\n",
       "      <td>45655</td>\n",
       "      <td>ynat-v1_train_45655</td>\n",
       "      <td>필리핀 두테르테 눈엣가시 언론인 마리아 레사 체포돼</td>\n",
       "      <td>6</td>\n",
       "      <td>https://news.naver.com/main/read.nhn?mode=LS2D...</td>\n",
       "      <td>2019.02.13. 오후 8:16</td>\n",
       "      <td>사이버 명예훼손 혐의로 체포된 필리핀 언론인 마리아 레사 [EPA=연합뉴스](서울=...</td>\n",
       "      <td>4</td>\n",
       "      <td>[4]</td>\n",
       "      <td>[4, 6]</td>\n",
       "      <td>4</td>\n",
       "    </tr>\n",
       "  </tbody>\n",
       "</table>\n",
       "<p>2095 rows × 11 columns</p>\n",
       "</div>"
      ],
      "text/plain": [
       "      index                   ID                                     text   \n",
       "0        16  ynat-v1_train_00016                   박원순 시장 아부다비 루브르 박물관 방문  \\\n",
       "1        42  ynat-v1_train_00042            제임스 떠난 NBA 클리블랜드 1승 10패…전체 꼴찌   \n",
       "3        85  ynat-v1_train_00085           메시 통산 4번째 유럽 골든슈 최종 확정…호날두와 동률   \n",
       "5        98  ynat-v1_train_00098       LG전자 휴대전화 국내 생산 중단…베트남으로 거점 이동(종합)   \n",
       "6       103  ynat-v1_train_00103  6·25전쟁 美 참전용사 추모벽 건립안 상원 통과&lt; RFA&gt;   \n",
       "...     ...                  ...                                      ...   \n",
       "2605  45472  ynat-v1_train_45472          11월 전국 주택 매매가 상승폭 둔화…일부 광역시는 강세   \n",
       "2606  45482  ynat-v1_train_45482         해외서도 내 데이터 그대로…SKT T괌·사이판패스 출시종합   \n",
       "2607  45535  ynat-v1_train_45535          수원 아시아 4강 이끈 특급 선방 신화용 분석·조언의 힘   \n",
       "2609  45600  ynat-v1_train_45600       伊 대통령 새 연정 승인…콘테 현 총리에 연정 구성 권한 부여   \n",
       "2611  45655  ynat-v1_train_45655             필리핀 두테르테 눈엣가시 언론인 마리아 레사 체포돼   \n",
       "\n",
       "      target                                                url   \n",
       "0          6  https://news.naver.com/main/read.nhn?mode=LS2D...  \\\n",
       "1          4  https://sports.news.naver.com/news.nhn?oid=001...   \n",
       "3          4  https://sports.news.naver.com/news.nhn?oid=001...   \n",
       "5          1  https://news.naver.com/main/read.nhn?mode=LS2D...   \n",
       "6          2  https://news.naver.com/main/read.nhn?mode=LS2D...   \n",
       "...      ...                                                ...   \n",
       "2605       6  https://news.naver.com/main/read.nhn?mode=LS2D...   \n",
       "2606       0  https://news.naver.com/main/read.nhn?mode=LS2D...   \n",
       "2607       3  https://sports.news.naver.com/news.nhn?oid=001...   \n",
       "2609       4  https://news.naver.com/main/read.nhn?mode=LS2D...   \n",
       "2611       6  https://news.naver.com/main/read.nhn?mode=LS2D...   \n",
       "\n",
       "                      date                                   crawling_content   \n",
       "0      2019.05.02. 오전 9:30  (서울=연합뉴스) 아랍에미리트(UAE)를 방문 중인 박원순 서울시장이 1일(현지시간...  \\\n",
       "1         2018.11.08 15:06  오클라호마시티 선더 알렉스 아브리네스(가운데)가  8일(한국시각) 미국 오하이오주 ...   \n",
       "3         2017.05.29 08:09  바르셀로나의 골잡이 리오넬 메시.[EPA=연합뉴스 자료 사진](서울=연합뉴스) 이영...   \n",
       "5      2019.04.24. 오후 4:32  평택 공장 인력 1천400명, 창원 등 다른 사업장으로 이동할 듯(서울=연합뉴스) ...   \n",
       "6      2016.07.15. 오전 8:43  워싱턴주 한국전쟁 참전비 헌화   \\n    lkm@yna.co.kr\\n    (서...   \n",
       "...                    ...                                                ...   \n",
       "2605  2018.12.03. 오전 11:49  서울은 주택 매매가 상승폭 0.51%→0.02%로 축소\\n\\n\\n\\n서울시내 한 중...   \n",
       "2606  2018.09.12. 오전 11:11  서비스 위해 현지 이통사 IT&amp;E에 투자·2대 주주 올라(서울=연합뉴스) 채...   \n",
       "2607      2018.09.19 22:38  PK·승부차기 막아내 승리 견인 \"전북 탈락 아쉬워하시지 않도록 결승까지\"신화용 '...   \n",
       "2609   2019.08.29. 오후 6:21  오성운동-민주당 연정 '5부능선'…내각 명단·정책안 협상 지속부총리 등 핵심 포스트...   \n",
       "2611   2019.02.13. 오후 8:16  사이버 명예훼손 혐의로 체포된 필리핀 언론인 마리아 레사 [EPA=연합뉴스](서울=...   \n",
       "\n",
       "      pre_model_target target_from_text target_from_content voted_target  \n",
       "0                    2           [3, 6]           [0, 3, 6]            6  \n",
       "1                    5              [5]                 [5]            5  \n",
       "3                    5              [5]                 [5]            5  \n",
       "5                    0              [1]                 [1]            1  \n",
       "6                    4              [4]                 [6]            4  \n",
       "...                ...              ...                 ...          ...  \n",
       "2605                 1              [1]                 [1]            1  \n",
       "2606                 1              [0]                 [0]            0  \n",
       "2607                 5              [5]                 [5]            5  \n",
       "2609                 6              [4]              [4, 6]            4  \n",
       "2611                 4              [4]              [4, 6]            4  \n",
       "\n",
       "[2095 rows x 11 columns]"
      ]
     },
     "execution_count": 172,
     "metadata": {},
     "output_type": "execute_result"
    }
   ],
   "source": [
    "train_target_not_same_nouns"
   ]
  },
  {
   "cell_type": "code",
   "execution_count": 157,
   "metadata": {},
   "outputs": [
    {
     "data": {
      "text/html": [
       "<div>\n",
       "<style scoped>\n",
       "    .dataframe tbody tr th:only-of-type {\n",
       "        vertical-align: middle;\n",
       "    }\n",
       "\n",
       "    .dataframe tbody tr th {\n",
       "        vertical-align: top;\n",
       "    }\n",
       "\n",
       "    .dataframe thead th {\n",
       "        text-align: right;\n",
       "    }\n",
       "</style>\n",
       "<table border=\"1\" class=\"dataframe\">\n",
       "  <thead>\n",
       "    <tr style=\"text-align: right;\">\n",
       "      <th></th>\n",
       "      <th>index</th>\n",
       "      <th>ID</th>\n",
       "      <th>text</th>\n",
       "      <th>target</th>\n",
       "      <th>url</th>\n",
       "      <th>date</th>\n",
       "      <th>crawling_content</th>\n",
       "      <th>pre_model_target</th>\n",
       "      <th>target_from_text</th>\n",
       "      <th>target_from_content</th>\n",
       "    </tr>\n",
       "  </thead>\n",
       "  <tbody>\n",
       "    <tr>\n",
       "      <th>0</th>\n",
       "      <td>16</td>\n",
       "      <td>ynat-v1_train_00016</td>\n",
       "      <td>박원순 시장 아부다비 루브르 박물관 방문</td>\n",
       "      <td>6</td>\n",
       "      <td>https://news.naver.com/main/read.nhn?mode=LS2D...</td>\n",
       "      <td>2019.05.02. 오전 9:30</td>\n",
       "      <td>(서울=연합뉴스) 아랍에미리트(UAE)를 방문 중인 박원순 서울시장이 1일(현지시간...</td>\n",
       "      <td>2</td>\n",
       "      <td>[3, 6]</td>\n",
       "      <td>[0, 3, 6]</td>\n",
       "    </tr>\n",
       "    <tr>\n",
       "      <th>1</th>\n",
       "      <td>42</td>\n",
       "      <td>ynat-v1_train_00042</td>\n",
       "      <td>제임스 떠난 NBA 클리블랜드 1승 10패…전체 꼴찌</td>\n",
       "      <td>4</td>\n",
       "      <td>https://sports.news.naver.com/news.nhn?oid=001...</td>\n",
       "      <td>2018.11.08 15:06</td>\n",
       "      <td>오클라호마시티 선더 알렉스 아브리네스(가운데)가  8일(한국시각) 미국 오하이오주 ...</td>\n",
       "      <td>5</td>\n",
       "      <td>[5]</td>\n",
       "      <td>[5]</td>\n",
       "    </tr>\n",
       "    <tr>\n",
       "      <th>2</th>\n",
       "      <td>49</td>\n",
       "      <td>ynat-v1_train_00049</td>\n",
       "      <td>반민특위 임무 아직 끝나지 않았다</td>\n",
       "      <td>5</td>\n",
       "      <td>https://news.naver.com/main/read.nhn?mode=LS2D...</td>\n",
       "      <td>2019.06.03. 오후 4:11</td>\n",
       "      <td>한길사 '반민특위의 역사적 의미를 다시 묻는다' 출간\\n\\n\\n\\n    (서울=연...</td>\n",
       "      <td>2</td>\n",
       "      <td>[0, 1, 2, 3, 4, 5, 6]</td>\n",
       "      <td>[6]</td>\n",
       "    </tr>\n",
       "    <tr>\n",
       "      <th>3</th>\n",
       "      <td>85</td>\n",
       "      <td>ynat-v1_train_00085</td>\n",
       "      <td>메시 통산 4번째 유럽 골든슈 최종 확정…호날두와 동률</td>\n",
       "      <td>4</td>\n",
       "      <td>https://sports.news.naver.com/news.nhn?oid=001...</td>\n",
       "      <td>2017.05.29 08:09</td>\n",
       "      <td>바르셀로나의 골잡이 리오넬 메시.[EPA=연합뉴스 자료 사진](서울=연합뉴스) 이영...</td>\n",
       "      <td>5</td>\n",
       "      <td>[5]</td>\n",
       "      <td>[5]</td>\n",
       "    </tr>\n",
       "    <tr>\n",
       "      <th>4</th>\n",
       "      <td>95</td>\n",
       "      <td>ynat-v1_train_00095</td>\n",
       "      <td>창원 39사단 유니시티 1순위 청약에 20만명 몰려</td>\n",
       "      <td>1</td>\n",
       "      <td>https://news.naver.com/main/read.nhn?mode=LS2D...</td>\n",
       "      <td>2016.05.01. 오후 12:55</td>\n",
       "      <td>39사단 터 전경 \\n    (창원=연합뉴스) 이정훈 기자 = 경남 창원시 의창구 ...</td>\n",
       "      <td>2</td>\n",
       "      <td>[5]</td>\n",
       "      <td>[4]</td>\n",
       "    </tr>\n",
       "    <tr>\n",
       "      <th>...</th>\n",
       "      <td>...</td>\n",
       "      <td>...</td>\n",
       "      <td>...</td>\n",
       "      <td>...</td>\n",
       "      <td>...</td>\n",
       "      <td>...</td>\n",
       "      <td>...</td>\n",
       "      <td>...</td>\n",
       "      <td>...</td>\n",
       "      <td>...</td>\n",
       "    </tr>\n",
       "    <tr>\n",
       "      <th>2607</th>\n",
       "      <td>45535</td>\n",
       "      <td>ynat-v1_train_45535</td>\n",
       "      <td>수원 아시아 4강 이끈 특급 선방 신화용 분석·조언의 힘</td>\n",
       "      <td>3</td>\n",
       "      <td>https://sports.news.naver.com/news.nhn?oid=001...</td>\n",
       "      <td>2018.09.19 22:38</td>\n",
       "      <td>PK·승부차기 막아내 승리 견인 \"전북 탈락 아쉬워하시지 않도록 결승까지\"신화용 '...</td>\n",
       "      <td>5</td>\n",
       "      <td>[5]</td>\n",
       "      <td>[5]</td>\n",
       "    </tr>\n",
       "    <tr>\n",
       "      <th>2608</th>\n",
       "      <td>45560</td>\n",
       "      <td>ynat-v1_train_45560</td>\n",
       "      <td>오늘 고강도 부동산 대책 발표…다주택자 등 투기수요 겨냥</td>\n",
       "      <td>6</td>\n",
       "      <td>https://news.naver.com/main/read.nhn?mode=LS2D...</td>\n",
       "      <td>2017.08.02. 오전 5:01</td>\n",
       "      <td>부동산대책 임박(세종=연합뉴스) 이진욱 기자 = 국토부가 투기과열지구 지정과 같은 ...</td>\n",
       "      <td>1</td>\n",
       "      <td>[1, 4, 6]</td>\n",
       "      <td>[1, 6]</td>\n",
       "    </tr>\n",
       "    <tr>\n",
       "      <th>2609</th>\n",
       "      <td>45600</td>\n",
       "      <td>ynat-v1_train_45600</td>\n",
       "      <td>伊 대통령 새 연정 승인…콘테 현 총리에 연정 구성 권한 부여</td>\n",
       "      <td>4</td>\n",
       "      <td>https://news.naver.com/main/read.nhn?mode=LS2D...</td>\n",
       "      <td>2019.08.29. 오후 6:21</td>\n",
       "      <td>오성운동-민주당 연정 '5부능선'…내각 명단·정책안 협상 지속부총리 등 핵심 포스트...</td>\n",
       "      <td>6</td>\n",
       "      <td>[4]</td>\n",
       "      <td>[4, 6]</td>\n",
       "    </tr>\n",
       "    <tr>\n",
       "      <th>2610</th>\n",
       "      <td>45627</td>\n",
       "      <td>ynat-v1_train_45627</td>\n",
       "      <td>갤노트8 가격 100만원 안 넘을듯…고동진 숫자 1 부담 커종합</td>\n",
       "      <td>0</td>\n",
       "      <td>https://news.naver.com/main/read.nhn?mode=LS2D...</td>\n",
       "      <td>2017.08.24. 오후 6:14</td>\n",
       "      <td>사전 예약 미국은 24일·한국은 다음달 7일 시작\"빅스비 2.0 버전 준비중…스마트...</td>\n",
       "      <td>1</td>\n",
       "      <td>[0, 1]</td>\n",
       "      <td>[0, 1]</td>\n",
       "    </tr>\n",
       "    <tr>\n",
       "      <th>2611</th>\n",
       "      <td>45655</td>\n",
       "      <td>ynat-v1_train_45655</td>\n",
       "      <td>필리핀 두테르테 눈엣가시 언론인 마리아 레사 체포돼</td>\n",
       "      <td>6</td>\n",
       "      <td>https://news.naver.com/main/read.nhn?mode=LS2D...</td>\n",
       "      <td>2019.02.13. 오후 8:16</td>\n",
       "      <td>사이버 명예훼손 혐의로 체포된 필리핀 언론인 마리아 레사 [EPA=연합뉴스](서울=...</td>\n",
       "      <td>4</td>\n",
       "      <td>[4]</td>\n",
       "      <td>[4, 6]</td>\n",
       "    </tr>\n",
       "  </tbody>\n",
       "</table>\n",
       "<p>2612 rows × 10 columns</p>\n",
       "</div>"
      ],
      "text/plain": [
       "      index                   ID                                 text  target   \n",
       "0        16  ynat-v1_train_00016               박원순 시장 아부다비 루브르 박물관 방문       6  \\\n",
       "1        42  ynat-v1_train_00042        제임스 떠난 NBA 클리블랜드 1승 10패…전체 꼴찌       4   \n",
       "2        49  ynat-v1_train_00049                   반민특위 임무 아직 끝나지 않았다       5   \n",
       "3        85  ynat-v1_train_00085       메시 통산 4번째 유럽 골든슈 최종 확정…호날두와 동률       4   \n",
       "4        95  ynat-v1_train_00095         창원 39사단 유니시티 1순위 청약에 20만명 몰려       1   \n",
       "...     ...                  ...                                  ...     ...   \n",
       "2607  45535  ynat-v1_train_45535      수원 아시아 4강 이끈 특급 선방 신화용 분석·조언의 힘       3   \n",
       "2608  45560  ynat-v1_train_45560      오늘 고강도 부동산 대책 발표…다주택자 등 투기수요 겨냥       6   \n",
       "2609  45600  ynat-v1_train_45600   伊 대통령 새 연정 승인…콘테 현 총리에 연정 구성 권한 부여       4   \n",
       "2610  45627  ynat-v1_train_45627  갤노트8 가격 100만원 안 넘을듯…고동진 숫자 1 부담 커종합       0   \n",
       "2611  45655  ynat-v1_train_45655         필리핀 두테르테 눈엣가시 언론인 마리아 레사 체포돼       6   \n",
       "\n",
       "                                                    url                  date   \n",
       "0     https://news.naver.com/main/read.nhn?mode=LS2D...   2019.05.02. 오전 9:30  \\\n",
       "1     https://sports.news.naver.com/news.nhn?oid=001...      2018.11.08 15:06   \n",
       "2     https://news.naver.com/main/read.nhn?mode=LS2D...   2019.06.03. 오후 4:11   \n",
       "3     https://sports.news.naver.com/news.nhn?oid=001...      2017.05.29 08:09   \n",
       "4     https://news.naver.com/main/read.nhn?mode=LS2D...  2016.05.01. 오후 12:55   \n",
       "...                                                 ...                   ...   \n",
       "2607  https://sports.news.naver.com/news.nhn?oid=001...      2018.09.19 22:38   \n",
       "2608  https://news.naver.com/main/read.nhn?mode=LS2D...   2017.08.02. 오전 5:01   \n",
       "2609  https://news.naver.com/main/read.nhn?mode=LS2D...   2019.08.29. 오후 6:21   \n",
       "2610  https://news.naver.com/main/read.nhn?mode=LS2D...   2017.08.24. 오후 6:14   \n",
       "2611  https://news.naver.com/main/read.nhn?mode=LS2D...   2019.02.13. 오후 8:16   \n",
       "\n",
       "                                       crawling_content  pre_model_target   \n",
       "0     (서울=연합뉴스) 아랍에미리트(UAE)를 방문 중인 박원순 서울시장이 1일(현지시간...                 2  \\\n",
       "1     오클라호마시티 선더 알렉스 아브리네스(가운데)가  8일(한국시각) 미국 오하이오주 ...                 5   \n",
       "2     한길사 '반민특위의 역사적 의미를 다시 묻는다' 출간\\n\\n\\n\\n    (서울=연...                 2   \n",
       "3     바르셀로나의 골잡이 리오넬 메시.[EPA=연합뉴스 자료 사진](서울=연합뉴스) 이영...                 5   \n",
       "4     39사단 터 전경 \\n    (창원=연합뉴스) 이정훈 기자 = 경남 창원시 의창구 ...                 2   \n",
       "...                                                 ...               ...   \n",
       "2607  PK·승부차기 막아내 승리 견인 \"전북 탈락 아쉬워하시지 않도록 결승까지\"신화용 '...                 5   \n",
       "2608  부동산대책 임박(세종=연합뉴스) 이진욱 기자 = 국토부가 투기과열지구 지정과 같은 ...                 1   \n",
       "2609  오성운동-민주당 연정 '5부능선'…내각 명단·정책안 협상 지속부총리 등 핵심 포스트...                 6   \n",
       "2610  사전 예약 미국은 24일·한국은 다음달 7일 시작\"빅스비 2.0 버전 준비중…스마트...                 1   \n",
       "2611  사이버 명예훼손 혐의로 체포된 필리핀 언론인 마리아 레사 [EPA=연합뉴스](서울=...                 4   \n",
       "\n",
       "           target_from_text target_from_content  \n",
       "0                    [3, 6]           [0, 3, 6]  \n",
       "1                       [5]                 [5]  \n",
       "2     [0, 1, 2, 3, 4, 5, 6]                 [6]  \n",
       "3                       [5]                 [5]  \n",
       "4                       [5]                 [4]  \n",
       "...                     ...                 ...  \n",
       "2607                    [5]                 [5]  \n",
       "2608              [1, 4, 6]              [1, 6]  \n",
       "2609                    [4]              [4, 6]  \n",
       "2610                 [0, 1]              [0, 1]  \n",
       "2611                    [4]              [4, 6]  \n",
       "\n",
       "[2612 rows x 10 columns]"
      ]
     },
     "execution_count": 157,
     "metadata": {},
     "output_type": "execute_result"
    }
   ],
   "source": [
    "train_target_not_same_nouns"
   ]
  },
  {
   "cell_type": "code",
   "execution_count": 148,
   "metadata": {},
   "outputs": [],
   "source": [
    "train_data = pd.read_csv(\"../data/train_crawling_content.csv\")\n",
    "train_data_label_v1 = pd.read_csv(\"../data/train_spelling_v2_label_v1.csv\")\n",
    "\n",
    "train_target_not_same = train_data[train_data['target']!=train_data_label_v1['target']].copy()\n",
    "train_target_not_same['pre_model_target'] = train_data_label_v1.loc[train_data['target']!=train_data_label_v1['target'], :]['target'].tolist()"
   ]
  },
  {
   "cell_type": "code",
   "execution_count": 155,
   "metadata": {},
   "outputs": [
    {
     "data": {
      "text/plain": [
       "['IT과학', '경제', '사회', '생활문화', '세계', '스포츠', '정치']"
      ]
     },
     "execution_count": 155,
     "metadata": {},
     "output_type": "execute_result"
    }
   ],
   "source": [
    "num2target"
   ]
  },
  {
   "cell_type": "code",
   "execution_count": 127,
   "metadata": {},
   "outputs": [
    {
     "name": "stdout",
     "output_type": "stream",
     "text": [
      "Counter({'유튜브': 1, '내달': 1, '크리에이터': 1, '지원': 1, '공간': 1, '운영': 1}) [5, 3, 4, 5, 3, 2, 3]\n"
     ]
    }
   ],
   "source": [
    "test = \"유튜브 내달 2일까지 크리에이터 지원 공간 운영\"\n",
    "\n",
    "test_count = Counter(okt.nouns(test))\n",
    "\n",
    "abc = wordset_count(wordset, test_count, threshold=10, verbose=False)\n",
    "print(test_count, abc)"
   ]
  },
  {
   "cell_type": "code",
   "execution_count": 132,
   "metadata": {},
   "outputs": [
    {
     "name": "stderr",
     "output_type": "stream",
     "text": [
      "/tmp/ipykernel_22333/234160849.py:5: SettingWithCopyWarning: \n",
      "A value is trying to be set on a copy of a slice from a DataFrame.\n",
      "Try using .loc[row_indexer,col_indexer] = value instead\n",
      "\n",
      "See the caveats in the documentation: https://pandas.pydata.org/pandas-docs/stable/user_guide/indexing.html#returning-a-view-versus-a-copy\n",
      "  train_target_not_same['pre_model_target'] = train_data_label_v1[train_data['target']!=train_data_label_v1['target']]['target']\n"
     ]
    }
   ],
   "source": [
    "train_data = pd.read_csv(\"../data/train_crawling_content.csv\")\n",
    "train_data_label_v1 = pd.read_csv(\"../data/train_spelling_v2_label_v1.csv\")\n",
    "\n",
    "train_target_not_same = train_data[train_data['target']!=train_data_label_v1['target']]\n",
    "train_target_not_same['pre_model_target'] = train_data_label_v1[train_data['target']!=train_data_label_v1['target']]['target']"
   ]
  },
  {
   "cell_type": "code",
   "execution_count": 134,
   "metadata": {},
   "outputs": [
    {
     "data": {
      "text/plain": [
       "2612"
      ]
     },
     "execution_count": 134,
     "metadata": {},
     "output_type": "execute_result"
    }
   ],
   "source": [
    "len(train_target_not_same)"
   ]
  },
  {
   "cell_type": "code",
   "execution_count": 135,
   "metadata": {},
   "outputs": [
    {
     "data": {
      "text/html": [
       "<div>\n",
       "<style scoped>\n",
       "    .dataframe tbody tr th:only-of-type {\n",
       "        vertical-align: middle;\n",
       "    }\n",
       "\n",
       "    .dataframe tbody tr th {\n",
       "        vertical-align: top;\n",
       "    }\n",
       "\n",
       "    .dataframe thead th {\n",
       "        text-align: right;\n",
       "    }\n",
       "</style>\n",
       "<table border=\"1\" class=\"dataframe\">\n",
       "  <thead>\n",
       "    <tr style=\"text-align: right;\">\n",
       "      <th></th>\n",
       "      <th>ID</th>\n",
       "      <th>text</th>\n",
       "      <th>target</th>\n",
       "      <th>url</th>\n",
       "      <th>date</th>\n",
       "      <th>crawling_content</th>\n",
       "      <th>pre_model_target</th>\n",
       "    </tr>\n",
       "  </thead>\n",
       "  <tbody>\n",
       "    <tr>\n",
       "      <th>16</th>\n",
       "      <td>ynat-v1_train_00016</td>\n",
       "      <td>박원순 시장 아부다비 루브르 박물관 방문</td>\n",
       "      <td>6</td>\n",
       "      <td>https://news.naver.com/main/read.nhn?mode=LS2D...</td>\n",
       "      <td>2019.05.02. 오전 9:30</td>\n",
       "      <td>(서울=연합뉴스) 아랍에미리트(UAE)를 방문 중인 박원순 서울시장이 1일(현지시간...</td>\n",
       "      <td>2</td>\n",
       "    </tr>\n",
       "    <tr>\n",
       "      <th>42</th>\n",
       "      <td>ynat-v1_train_00042</td>\n",
       "      <td>제임스 떠난 NBA 클리블랜드 1승 10패…전체 꼴찌</td>\n",
       "      <td>4</td>\n",
       "      <td>https://sports.news.naver.com/news.nhn?oid=001...</td>\n",
       "      <td>2018.11.08 15:06</td>\n",
       "      <td>오클라호마시티 선더 알렉스 아브리네스(가운데)가  8일(한국시각) 미국 오하이오주 ...</td>\n",
       "      <td>5</td>\n",
       "    </tr>\n",
       "    <tr>\n",
       "      <th>49</th>\n",
       "      <td>ynat-v1_train_00049</td>\n",
       "      <td>반민특위 임무 아직 끝나지 않았다</td>\n",
       "      <td>5</td>\n",
       "      <td>https://news.naver.com/main/read.nhn?mode=LS2D...</td>\n",
       "      <td>2019.06.03. 오후 4:11</td>\n",
       "      <td>한길사 '반민특위의 역사적 의미를 다시 묻는다' 출간\\n\\n\\n\\n    (서울=연...</td>\n",
       "      <td>2</td>\n",
       "    </tr>\n",
       "    <tr>\n",
       "      <th>85</th>\n",
       "      <td>ynat-v1_train_00085</td>\n",
       "      <td>메시 통산 4번째 유럽 골든슈 최종 확정…호날두와 동률</td>\n",
       "      <td>4</td>\n",
       "      <td>https://sports.news.naver.com/news.nhn?oid=001...</td>\n",
       "      <td>2017.05.29 08:09</td>\n",
       "      <td>바르셀로나의 골잡이 리오넬 메시.[EPA=연합뉴스 자료 사진](서울=연합뉴스) 이영...</td>\n",
       "      <td>5</td>\n",
       "    </tr>\n",
       "    <tr>\n",
       "      <th>95</th>\n",
       "      <td>ynat-v1_train_00095</td>\n",
       "      <td>창원 39사단 유니시티 1순위 청약에 20만명 몰려</td>\n",
       "      <td>1</td>\n",
       "      <td>https://news.naver.com/main/read.nhn?mode=LS2D...</td>\n",
       "      <td>2016.05.01. 오후 12:55</td>\n",
       "      <td>39사단 터 전경 \\n    (창원=연합뉴스) 이정훈 기자 = 경남 창원시 의창구 ...</td>\n",
       "      <td>2</td>\n",
       "    </tr>\n",
       "    <tr>\n",
       "      <th>98</th>\n",
       "      <td>ynat-v1_train_00098</td>\n",
       "      <td>LG전자 휴대전화 국내 생산 중단…베트남으로 거점 이동(종합)</td>\n",
       "      <td>1</td>\n",
       "      <td>https://news.naver.com/main/read.nhn?mode=LS2D...</td>\n",
       "      <td>2019.04.24. 오후 4:32</td>\n",
       "      <td>평택 공장 인력 1천400명, 창원 등 다른 사업장으로 이동할 듯(서울=연합뉴스) ...</td>\n",
       "      <td>0</td>\n",
       "    </tr>\n",
       "    <tr>\n",
       "      <th>103</th>\n",
       "      <td>ynat-v1_train_00103</td>\n",
       "      <td>6·25전쟁 美 참전용사 추모벽 건립안 상원 통과&amp;lt; RFA&amp;gt;</td>\n",
       "      <td>2</td>\n",
       "      <td>https://news.naver.com/main/read.nhn?mode=LS2D...</td>\n",
       "      <td>2016.07.15. 오전 8:43</td>\n",
       "      <td>워싱턴주 한국전쟁 참전비 헌화   \\n    lkm@yna.co.kr\\n    (서...</td>\n",
       "      <td>4</td>\n",
       "    </tr>\n",
       "    <tr>\n",
       "      <th>109</th>\n",
       "      <td>ynat-v1_train_00109</td>\n",
       "      <td>서울에 다시 오존주의보…도심·서북·동북권 발령종합</td>\n",
       "      <td>3</td>\n",
       "      <td>https://news.naver.com/main/read.nhn?mode=LS2D...</td>\n",
       "      <td>2018.07.27. 오후 3:41</td>\n",
       "      <td>서남권은 해제 \\n\\n\\n\\n폭염에 오존까지…서울 오존주의보 발령(서울=연합뉴스) ...</td>\n",
       "      <td>2</td>\n",
       "    </tr>\n",
       "    <tr>\n",
       "      <th>144</th>\n",
       "      <td>ynat-v1_train_00144</td>\n",
       "      <td>아프리카돼지열병 파동에 中 돼지고기 수입량 76% 급증</td>\n",
       "      <td>4</td>\n",
       "      <td>https://news.naver.com/main/read.nhn?mode=LS2D...</td>\n",
       "      <td>2019.09.24. 오후 4:26</td>\n",
       "      <td>\"수입량 늘려도 부족한 수요 채우기엔 턱없이 부족\"소고기·닭고기 등 '돼지고기 대체...</td>\n",
       "      <td>1</td>\n",
       "    </tr>\n",
       "    <tr>\n",
       "      <th>157</th>\n",
       "      <td>ynat-v1_train_00157</td>\n",
       "      <td>문학단체들 블랙리스트 실행한 공공기관장 사퇴하라</td>\n",
       "      <td>6</td>\n",
       "      <td>https://news.naver.com/main/read.nhn?mode=LS2D...</td>\n",
       "      <td>2017.02.21. 오후 5:05</td>\n",
       "      <td>문화예술위·출판진흥원·예술인복지재단·문학번역원\\n\\n\\n\\n'광장극장 블랙텐트' 개...</td>\n",
       "      <td>2</td>\n",
       "    </tr>\n",
       "  </tbody>\n",
       "</table>\n",
       "</div>"
      ],
      "text/plain": [
       "                      ID                                     text  target   \n",
       "16   ynat-v1_train_00016                   박원순 시장 아부다비 루브르 박물관 방문       6  \\\n",
       "42   ynat-v1_train_00042            제임스 떠난 NBA 클리블랜드 1승 10패…전체 꼴찌       4   \n",
       "49   ynat-v1_train_00049                       반민특위 임무 아직 끝나지 않았다       5   \n",
       "85   ynat-v1_train_00085           메시 통산 4번째 유럽 골든슈 최종 확정…호날두와 동률       4   \n",
       "95   ynat-v1_train_00095             창원 39사단 유니시티 1순위 청약에 20만명 몰려       1   \n",
       "98   ynat-v1_train_00098       LG전자 휴대전화 국내 생산 중단…베트남으로 거점 이동(종합)       1   \n",
       "103  ynat-v1_train_00103  6·25전쟁 美 참전용사 추모벽 건립안 상원 통과&lt; RFA&gt;       2   \n",
       "109  ynat-v1_train_00109              서울에 다시 오존주의보…도심·서북·동북권 발령종합       3   \n",
       "144  ynat-v1_train_00144           아프리카돼지열병 파동에 中 돼지고기 수입량 76% 급증       4   \n",
       "157  ynat-v1_train_00157               문학단체들 블랙리스트 실행한 공공기관장 사퇴하라       6   \n",
       "\n",
       "                                                   url                  date   \n",
       "16   https://news.naver.com/main/read.nhn?mode=LS2D...   2019.05.02. 오전 9:30  \\\n",
       "42   https://sports.news.naver.com/news.nhn?oid=001...      2018.11.08 15:06   \n",
       "49   https://news.naver.com/main/read.nhn?mode=LS2D...   2019.06.03. 오후 4:11   \n",
       "85   https://sports.news.naver.com/news.nhn?oid=001...      2017.05.29 08:09   \n",
       "95   https://news.naver.com/main/read.nhn?mode=LS2D...  2016.05.01. 오후 12:55   \n",
       "98   https://news.naver.com/main/read.nhn?mode=LS2D...   2019.04.24. 오후 4:32   \n",
       "103  https://news.naver.com/main/read.nhn?mode=LS2D...   2016.07.15. 오전 8:43   \n",
       "109  https://news.naver.com/main/read.nhn?mode=LS2D...   2018.07.27. 오후 3:41   \n",
       "144  https://news.naver.com/main/read.nhn?mode=LS2D...   2019.09.24. 오후 4:26   \n",
       "157  https://news.naver.com/main/read.nhn?mode=LS2D...   2017.02.21. 오후 5:05   \n",
       "\n",
       "                                      crawling_content  pre_model_target  \n",
       "16   (서울=연합뉴스) 아랍에미리트(UAE)를 방문 중인 박원순 서울시장이 1일(현지시간...                 2  \n",
       "42   오클라호마시티 선더 알렉스 아브리네스(가운데)가  8일(한국시각) 미국 오하이오주 ...                 5  \n",
       "49   한길사 '반민특위의 역사적 의미를 다시 묻는다' 출간\\n\\n\\n\\n    (서울=연...                 2  \n",
       "85   바르셀로나의 골잡이 리오넬 메시.[EPA=연합뉴스 자료 사진](서울=연합뉴스) 이영...                 5  \n",
       "95   39사단 터 전경 \\n    (창원=연합뉴스) 이정훈 기자 = 경남 창원시 의창구 ...                 2  \n",
       "98   평택 공장 인력 1천400명, 창원 등 다른 사업장으로 이동할 듯(서울=연합뉴스) ...                 0  \n",
       "103  워싱턴주 한국전쟁 참전비 헌화   \\n    lkm@yna.co.kr\\n    (서...                 4  \n",
       "109  서남권은 해제 \\n\\n\\n\\n폭염에 오존까지…서울 오존주의보 발령(서울=연합뉴스) ...                 2  \n",
       "144  \"수입량 늘려도 부족한 수요 채우기엔 턱없이 부족\"소고기·닭고기 등 '돼지고기 대체...                 1  \n",
       "157  문화예술위·출판진흥원·예술인복지재단·문학번역원\\n\\n\\n\\n'광장극장 블랙텐트' 개...                 2  "
      ]
     },
     "execution_count": 135,
     "metadata": {},
     "output_type": "execute_result"
    }
   ],
   "source": [
    "train_target_not_same.head(10)"
   ]
  },
  {
   "cell_type": "code",
   "execution_count": null,
   "metadata": {},
   "outputs": [],
   "source": []
  },
  {
   "cell_type": "code",
   "execution_count": null,
   "metadata": {},
   "outputs": [],
   "source": []
  },
  {
   "cell_type": "code",
   "execution_count": 48,
   "metadata": {},
   "outputs": [
    {
     "data": {
      "text/plain": [
       "['IT과학', '경제', '사회', '생활문화', '세계', '스포츠', '정치']"
      ]
     },
     "execution_count": 48,
     "metadata": {},
     "output_type": "execute_result"
    }
   ],
   "source": [
    "num2target"
   ]
  },
  {
   "cell_type": "code",
   "execution_count": null,
   "metadata": {},
   "outputs": [],
   "source": []
  },
  {
   "attachments": {},
   "cell_type": "markdown",
   "metadata": {},
   "source": [
    "## 3. ynat 원본..."
   ]
  },
  {
   "cell_type": "code",
   "execution_count": 99,
   "metadata": {},
   "outputs": [],
   "source": [
    "ynat = pd.read_json(\"../data/ynat-v1.1/ynat-v1.1_train.json\")\n",
    "ynat.to_csv(\"../data/ynat-v1.1/ynat-v1.1_train.csv\", index=False)"
   ]
  },
  {
   "cell_type": "code",
   "execution_count": 109,
   "metadata": {},
   "outputs": [],
   "source": [
    "ynat = pd.read_csv(\"../data/ynat-v1.1/ynat-v1.1_train.csv\")\n",
    "ynat['label2num'] = ynat['label'].apply(lambda x:target2num[x])\n",
    "\n",
    "for_compare = train_data[ynat['label2num'] != train_data['target']][['ID','text','target','url', 'date','crawling_content']]\n",
    "for_compare['answer_target'] = ynat[ynat['label2num'] != train_data['target']]['label2num']                            "
   ]
  },
  {
   "cell_type": "code",
   "execution_count": null,
   "metadata": {},
   "outputs": [
    {
     "data": {
      "text/plain": [
       "1371"
      ]
     },
     "execution_count": 111,
     "metadata": {},
     "output_type": "execute_result"
    }
   ],
   "source": [
    "target2num"
   ]
  },
  {
   "cell_type": "code",
   "execution_count": 110,
   "metadata": {},
   "outputs": [
    {
     "data": {
      "text/html": [
       "<div>\n",
       "<style scoped>\n",
       "    .dataframe tbody tr th:only-of-type {\n",
       "        vertical-align: middle;\n",
       "    }\n",
       "\n",
       "    .dataframe tbody tr th {\n",
       "        vertical-align: top;\n",
       "    }\n",
       "\n",
       "    .dataframe thead th {\n",
       "        text-align: right;\n",
       "    }\n",
       "</style>\n",
       "<table border=\"1\" class=\"dataframe\">\n",
       "  <thead>\n",
       "    <tr style=\"text-align: right;\">\n",
       "      <th></th>\n",
       "      <th>ID</th>\n",
       "      <th>text</th>\n",
       "      <th>target</th>\n",
       "      <th>url</th>\n",
       "      <th>date</th>\n",
       "      <th>crawling_content</th>\n",
       "      <th>answer_target</th>\n",
       "    </tr>\n",
       "  </thead>\n",
       "  <tbody>\n",
       "    <tr>\n",
       "      <th>49</th>\n",
       "      <td>ynat-v1_train_00049</td>\n",
       "      <td>반민특위 임무 아직 끝나지 않았다</td>\n",
       "      <td>5</td>\n",
       "      <td>https://news.naver.com/main/read.nhn?mode=LS2D...</td>\n",
       "      <td>2019.06.03. 오후 4:11</td>\n",
       "      <td>한길사 '반민특위의 역사적 의미를 다시 묻는다' 출간\\n\\n\\n\\n    (서울=연...</td>\n",
       "      <td>2</td>\n",
       "    </tr>\n",
       "    <tr>\n",
       "      <th>109</th>\n",
       "      <td>ynat-v1_train_00109</td>\n",
       "      <td>서울에 다시 오존주의보…도심·서북·동북권 발령종합</td>\n",
       "      <td>3</td>\n",
       "      <td>https://news.naver.com/main/read.nhn?mode=LS2D...</td>\n",
       "      <td>2018.07.27. 오후 3:41</td>\n",
       "      <td>서남권은 해제 \\n\\n\\n\\n폭염에 오존까지…서울 오존주의보 발령(서울=연합뉴스) ...</td>\n",
       "      <td>2</td>\n",
       "    </tr>\n",
       "    <tr>\n",
       "      <th>250</th>\n",
       "      <td>ynat-v1_train_00250</td>\n",
       "      <td>트럼프·엡스타인 1992년 마러라고서 여성 20여명과 파티</td>\n",
       "      <td>1</td>\n",
       "      <td>https://news.naver.com/main/read.nhn?mode=LS2D...</td>\n",
       "      <td>2019.07.11. 오전 6:18</td>\n",
       "      <td>NYT \"여성 28명 캘린더걸 경연 참여…유일한 게스트는 트럼프와 엡스타인\"\\n\\n...</td>\n",
       "      <td>4</td>\n",
       "    </tr>\n",
       "    <tr>\n",
       "      <th>316</th>\n",
       "      <td>ynat-v1_train_00316</td>\n",
       "      <td>예스24 우리가 사랑한 24인의 작가들 부산서 전시</td>\n",
       "      <td>4</td>\n",
       "      <td>https://news.naver.com/main/read.nhn?mode=LS2D...</td>\n",
       "      <td>2018.01.08. 오전 10:48</td>\n",
       "      <td>(서울=연합뉴스) 임미나 기자 = 온라인서점 예스24는 오는 17일까지 부산 복합문...</td>\n",
       "      <td>3</td>\n",
       "    </tr>\n",
       "    <tr>\n",
       "      <th>341</th>\n",
       "      <td>ynat-v1_train_00341</td>\n",
       "      <td>현대모비스 3연속 100점대 대승…삼성 만난 라건아 39점</td>\n",
       "      <td>2</td>\n",
       "      <td>https://sports.news.naver.com/news.nhn?oid=001...</td>\n",
       "      <td>2018.10.19 21:53</td>\n",
       "      <td>'막강 공격력' 과시하며 114-77, 37점 차 승리KGC인삼공사는 연장 접전 끝...</td>\n",
       "      <td>5</td>\n",
       "    </tr>\n",
       "    <tr>\n",
       "      <th>354</th>\n",
       "      <td>ynat-v1_train_00354</td>\n",
       "      <td>인공지능에서 구글과 경쟁하려면 데이터 확보 중요</td>\n",
       "      <td>4</td>\n",
       "      <td>https://news.naver.com/main/read.nhn?mode=LS2D...</td>\n",
       "      <td>2016.03.20. 오후 12:00</td>\n",
       "      <td>미래부 '지능정보산업 발전' 정책해우소…기업들 데이터 확보 한목소리     (서울=...</td>\n",
       "      <td>0</td>\n",
       "    </tr>\n",
       "    <tr>\n",
       "      <th>475</th>\n",
       "      <td>ynat-v1_train_00475</td>\n",
       "      <td>獨 언론 극우 AfD 의원 러시아로부터 통제당해</td>\n",
       "      <td>0</td>\n",
       "      <td>https://news.naver.com/main/read.nhn?mode=LS2D...</td>\n",
       "      <td>2019.04.07. 오후 10:53</td>\n",
       "      <td>프론마이어 AfD 의원 [dpa=연합뉴스](베를린=연합뉴스) 이광빈 특파원 = 독일...</td>\n",
       "      <td>4</td>\n",
       "    </tr>\n",
       "    <tr>\n",
       "      <th>482</th>\n",
       "      <td>ynat-v1_train_00482</td>\n",
       "      <td>KB금융 글로벌인프라펀드 5호·6호 투자계약 체결</td>\n",
       "      <td>0</td>\n",
       "      <td>https://news.naver.com/main/read.nhn?mode=LS2D...</td>\n",
       "      <td>2019.05.28. 오후 6:42</td>\n",
       "      <td>(서울=연합뉴스) 28일 오전 서울 여의도 콘래드호텔에서 열린 'KB 글로벌인프라펀...</td>\n",
       "      <td>1</td>\n",
       "    </tr>\n",
       "    <tr>\n",
       "      <th>491</th>\n",
       "      <td>ynat-v1_train_00491</td>\n",
       "      <td>영상 미혼남녀 절반 이상 결혼 NO 동거 OK</td>\n",
       "      <td>1</td>\n",
       "      <td>https://news.naver.com/main/read.nhn?mode=LS2D...</td>\n",
       "      <td>2019.03.22. 오후 5:01</td>\n",
       "      <td>(서울=연합뉴스) 통계청이 22일 발표한 '2018 한국의 사회지표'를 보면 지난해...</td>\n",
       "      <td>2</td>\n",
       "    </tr>\n",
       "    <tr>\n",
       "      <th>581</th>\n",
       "      <td>ynat-v1_train_00581</td>\n",
       "      <td>월드컵 스웨덴 한국 사전캠프 염탐…인근 건물서 모...</td>\n",
       "      <td>2</td>\n",
       "      <td>https://sports.news.naver.com/news.nhn?oid=001...</td>\n",
       "      <td>2018.06.14 05:00</td>\n",
       "      <td>한국팀 레오강 캠프에 스파이 파견…전술·세트피스 등 극비 훈련 노출염탐 활동은 '첩...</td>\n",
       "      <td>5</td>\n",
       "    </tr>\n",
       "    <tr>\n",
       "      <th>628</th>\n",
       "      <td>ynat-v1_train_00628</td>\n",
       "      <td>엔씨소프트 리니지M 캐릭터 미리 만드세요</td>\n",
       "      <td>4</td>\n",
       "      <td>https://news.naver.com/main/read.nhn?mode=LS2D...</td>\n",
       "      <td>2017.05.10. 오후 2:22</td>\n",
       "      <td>(서울=연합뉴스) 한지훈 기자 = 엔씨소프트는 오는 16일부터 신작 모바일 게임 '...</td>\n",
       "      <td>0</td>\n",
       "    </tr>\n",
       "    <tr>\n",
       "      <th>647</th>\n",
       "      <td>ynat-v1_train_00647</td>\n",
       "      <td>그래픽 사법개혁안 처리 관련 각 당 입장</td>\n",
       "      <td>5</td>\n",
       "      <td>https://news.naver.com/main/read.nhn?mode=LS2D...</td>\n",
       "      <td>2019.10.16. 오후 3:31</td>\n",
       "      <td>(서울=연합뉴스) 장예진 기자 = 패스트트랙에 오른 사법개혁안 중 고위공직자범죄수사...</td>\n",
       "      <td>6</td>\n",
       "    </tr>\n",
       "    <tr>\n",
       "      <th>648</th>\n",
       "      <td>ynat-v1_train_00648</td>\n",
       "      <td>GS건설 전환사채 발행 검토 중</td>\n",
       "      <td>6</td>\n",
       "      <td>https://news.naver.com/main/read.nhn?mode=LS2D...</td>\n",
       "      <td>2016.04.04. 오전 11:38</td>\n",
       "      <td>(서울=연합뉴스) 성서호 기자 = GS건설은 4일 전환사채 발행 추진설에 대한 한국...</td>\n",
       "      <td>1</td>\n",
       "    </tr>\n",
       "    <tr>\n",
       "      <th>651</th>\n",
       "      <td>ynat-v1_train_00651</td>\n",
       "      <td>美 상선 피습 이란 연관 의심…美이란 긴장 증폭</td>\n",
       "      <td>1</td>\n",
       "      <td>https://news.naver.com/main/read.nhn?mode=LS2D...</td>\n",
       "      <td>2019.05.14. 오후 5:07</td>\n",
       "      <td>이란, 진상조사 요구하며 거리두기…EU·UN은 자제 촉구(서울=연합뉴스) 류지복 기...</td>\n",
       "      <td>4</td>\n",
       "    </tr>\n",
       "    <tr>\n",
       "      <th>655</th>\n",
       "      <td>ynat-v1_train_00655</td>\n",
       "      <td>트럼프 개인비서 퇴직…대통령 가족 관련 이야기 누설</td>\n",
       "      <td>0</td>\n",
       "      <td>https://news.naver.com/main/read.nhn?mode=LS2D...</td>\n",
       "      <td>2019.08.30. 오후 3:36</td>\n",
       "      <td>기자들과 저녁 자리에서 함부로 이야기한 뒤 사실상 '해고'(서울=연합뉴스) 권혜진 ...</td>\n",
       "      <td>4</td>\n",
       "    </tr>\n",
       "  </tbody>\n",
       "</table>\n",
       "</div>"
      ],
      "text/plain": [
       "                      ID                              text  target   \n",
       "49   ynat-v1_train_00049                반민특위 임무 아직 끝나지 않았다       5  \\\n",
       "109  ynat-v1_train_00109       서울에 다시 오존주의보…도심·서북·동북권 발령종합       3   \n",
       "250  ynat-v1_train_00250  트럼프·엡스타인 1992년 마러라고서 여성 20여명과 파티       1   \n",
       "316  ynat-v1_train_00316      예스24 우리가 사랑한 24인의 작가들 부산서 전시       4   \n",
       "341  ynat-v1_train_00341  현대모비스 3연속 100점대 대승…삼성 만난 라건아 39점       2   \n",
       "354  ynat-v1_train_00354        인공지능에서 구글과 경쟁하려면 데이터 확보 중요       4   \n",
       "475  ynat-v1_train_00475        獨 언론 극우 AfD 의원 러시아로부터 통제당해       0   \n",
       "482  ynat-v1_train_00482       KB금융 글로벌인프라펀드 5호·6호 투자계약 체결       0   \n",
       "491  ynat-v1_train_00491         영상 미혼남녀 절반 이상 결혼 NO 동거 OK       1   \n",
       "581  ynat-v1_train_00581    월드컵 스웨덴 한국 사전캠프 염탐…인근 건물서 모...       2   \n",
       "628  ynat-v1_train_00628            엔씨소프트 리니지M 캐릭터 미리 만드세요       4   \n",
       "647  ynat-v1_train_00647            그래픽 사법개혁안 처리 관련 각 당 입장       5   \n",
       "648  ynat-v1_train_00648                 GS건설 전환사채 발행 검토 중       6   \n",
       "651  ynat-v1_train_00651        美 상선 피습 이란 연관 의심…美이란 긴장 증폭       1   \n",
       "655  ynat-v1_train_00655      트럼프 개인비서 퇴직…대통령 가족 관련 이야기 누설       0   \n",
       "\n",
       "                                                   url                  date   \n",
       "49   https://news.naver.com/main/read.nhn?mode=LS2D...   2019.06.03. 오후 4:11  \\\n",
       "109  https://news.naver.com/main/read.nhn?mode=LS2D...   2018.07.27. 오후 3:41   \n",
       "250  https://news.naver.com/main/read.nhn?mode=LS2D...   2019.07.11. 오전 6:18   \n",
       "316  https://news.naver.com/main/read.nhn?mode=LS2D...  2018.01.08. 오전 10:48   \n",
       "341  https://sports.news.naver.com/news.nhn?oid=001...      2018.10.19 21:53   \n",
       "354  https://news.naver.com/main/read.nhn?mode=LS2D...  2016.03.20. 오후 12:00   \n",
       "475  https://news.naver.com/main/read.nhn?mode=LS2D...  2019.04.07. 오후 10:53   \n",
       "482  https://news.naver.com/main/read.nhn?mode=LS2D...   2019.05.28. 오후 6:42   \n",
       "491  https://news.naver.com/main/read.nhn?mode=LS2D...   2019.03.22. 오후 5:01   \n",
       "581  https://sports.news.naver.com/news.nhn?oid=001...      2018.06.14 05:00   \n",
       "628  https://news.naver.com/main/read.nhn?mode=LS2D...   2017.05.10. 오후 2:22   \n",
       "647  https://news.naver.com/main/read.nhn?mode=LS2D...   2019.10.16. 오후 3:31   \n",
       "648  https://news.naver.com/main/read.nhn?mode=LS2D...  2016.04.04. 오전 11:38   \n",
       "651  https://news.naver.com/main/read.nhn?mode=LS2D...   2019.05.14. 오후 5:07   \n",
       "655  https://news.naver.com/main/read.nhn?mode=LS2D...   2019.08.30. 오후 3:36   \n",
       "\n",
       "                                      crawling_content  answer_target  \n",
       "49   한길사 '반민특위의 역사적 의미를 다시 묻는다' 출간\\n\\n\\n\\n    (서울=연...              2  \n",
       "109  서남권은 해제 \\n\\n\\n\\n폭염에 오존까지…서울 오존주의보 발령(서울=연합뉴스) ...              2  \n",
       "250  NYT \"여성 28명 캘린더걸 경연 참여…유일한 게스트는 트럼프와 엡스타인\"\\n\\n...              4  \n",
       "316  (서울=연합뉴스) 임미나 기자 = 온라인서점 예스24는 오는 17일까지 부산 복합문...              3  \n",
       "341  '막강 공격력' 과시하며 114-77, 37점 차 승리KGC인삼공사는 연장 접전 끝...              5  \n",
       "354  미래부 '지능정보산업 발전' 정책해우소…기업들 데이터 확보 한목소리     (서울=...              0  \n",
       "475  프론마이어 AfD 의원 [dpa=연합뉴스](베를린=연합뉴스) 이광빈 특파원 = 독일...              4  \n",
       "482  (서울=연합뉴스) 28일 오전 서울 여의도 콘래드호텔에서 열린 'KB 글로벌인프라펀...              1  \n",
       "491  (서울=연합뉴스) 통계청이 22일 발표한 '2018 한국의 사회지표'를 보면 지난해...              2  \n",
       "581  한국팀 레오강 캠프에 스파이 파견…전술·세트피스 등 극비 훈련 노출염탐 활동은 '첩...              5  \n",
       "628  (서울=연합뉴스) 한지훈 기자 = 엔씨소프트는 오는 16일부터 신작 모바일 게임 '...              0  \n",
       "647  (서울=연합뉴스) 장예진 기자 = 패스트트랙에 오른 사법개혁안 중 고위공직자범죄수사...              6  \n",
       "648  (서울=연합뉴스) 성서호 기자 = GS건설은 4일 전환사채 발행 추진설에 대한 한국...              1  \n",
       "651  이란, 진상조사 요구하며 거리두기…EU·UN은 자제 촉구(서울=연합뉴스) 류지복 기...              4  \n",
       "655  기자들과 저녁 자리에서 함부로 이야기한 뒤 사실상 '해고'(서울=연합뉴스) 권혜진 ...              4  "
      ]
     },
     "execution_count": 110,
     "metadata": {},
     "output_type": "execute_result"
    }
   ],
   "source": [
    "for_compare.head(15)"
   ]
  },
  {
   "cell_type": "code",
   "execution_count": null,
   "metadata": {},
   "outputs": [],
   "source": []
  },
  {
   "cell_type": "code",
   "execution_count": null,
   "metadata": {},
   "outputs": [],
   "source": []
  },
  {
   "cell_type": "code",
   "execution_count": null,
   "metadata": {},
   "outputs": [],
   "source": []
  },
  {
   "attachments": {},
   "cell_type": "markdown",
   "metadata": {},
   "source": [
    "## 4. wordset pseudo 제거"
   ]
  },
  {
   "cell_type": "code",
   "execution_count": 194,
   "metadata": {},
   "outputs": [
    {
     "data": {
      "text/html": [
       "<div>\n",
       "<style scoped>\n",
       "    .dataframe tbody tr th:only-of-type {\n",
       "        vertical-align: middle;\n",
       "    }\n",
       "\n",
       "    .dataframe tbody tr th {\n",
       "        vertical-align: top;\n",
       "    }\n",
       "\n",
       "    .dataframe thead th {\n",
       "        text-align: right;\n",
       "    }\n",
       "</style>\n",
       "<table border=\"1\" class=\"dataframe\">\n",
       "  <thead>\n",
       "    <tr style=\"text-align: right;\">\n",
       "      <th></th>\n",
       "      <th>id</th>\n",
       "      <th>keyword</th>\n",
       "      <th>count</th>\n",
       "    </tr>\n",
       "  </thead>\n",
       "  <tbody>\n",
       "    <tr>\n",
       "      <th>0</th>\n",
       "      <td>0</td>\n",
       "      <td>대통령</td>\n",
       "      <td>1557</td>\n",
       "    </tr>\n",
       "    <tr>\n",
       "      <th>1</th>\n",
       "      <td>2</td>\n",
       "      <td>김정은</td>\n",
       "      <td>383</td>\n",
       "    </tr>\n",
       "    <tr>\n",
       "      <th>2</th>\n",
       "      <td>3</td>\n",
       "      <td>문</td>\n",
       "      <td>371</td>\n",
       "    </tr>\n",
       "    <tr>\n",
       "      <th>3</th>\n",
       "      <td>4</td>\n",
       "      <td>민주</td>\n",
       "      <td>326</td>\n",
       "    </tr>\n",
       "    <tr>\n",
       "      <th>4</th>\n",
       "      <td>5</td>\n",
       "      <td>한국</td>\n",
       "      <td>312</td>\n",
       "    </tr>\n",
       "    <tr>\n",
       "      <th>5</th>\n",
       "      <td>6</td>\n",
       "      <td>국회</td>\n",
       "      <td>298</td>\n",
       "    </tr>\n",
       "    <tr>\n",
       "      <th>6</th>\n",
       "      <td>7</td>\n",
       "      <td>북한</td>\n",
       "      <td>290</td>\n",
       "    </tr>\n",
       "    <tr>\n",
       "      <th>7</th>\n",
       "      <td>9</td>\n",
       "      <td>정부</td>\n",
       "      <td>270</td>\n",
       "    </tr>\n",
       "    <tr>\n",
       "      <th>8</th>\n",
       "      <td>10</td>\n",
       "      <td>평양</td>\n",
       "      <td>255</td>\n",
       "    </tr>\n",
       "    <tr>\n",
       "      <th>9</th>\n",
       "      <td>11</td>\n",
       "      <td>정상회담</td>\n",
       "      <td>254</td>\n",
       "    </tr>\n",
       "  </tbody>\n",
       "</table>\n",
       "</div>"
      ],
      "text/plain": [
       "   id keyword  count\n",
       "0   0     대통령   1557\n",
       "1   2     김정은    383\n",
       "2   3       문    371\n",
       "3   4      민주    326\n",
       "4   5      한국    312\n",
       "5   6      국회    298\n",
       "6   7      북한    290\n",
       "7   9      정부    270\n",
       "8  10      평양    255\n",
       "9  11    정상회담    254"
      ]
     },
     "execution_count": 194,
     "metadata": {},
     "output_type": "execute_result"
    }
   ],
   "source": [
    "politic_wordset = pd.read_csv(\"../data/bigkinds_2018/wordset_정치_klue_copy.csv\")\n",
    "politic_wordset.head(10)"
   ]
  },
  {
   "cell_type": "code",
   "execution_count": null,
   "metadata": {},
   "outputs": [],
   "source": []
  },
  {
   "attachments": {},
   "cell_type": "markdown",
   "metadata": {},
   "source": [
    "## 5. bigkinds 2019-2022 사용하기"
   ]
  },
  {
   "attachments": {},
   "cell_type": "markdown",
   "metadata": {},
   "source": [
    "### 5-1. 사회 라벨 추가하기"
   ]
  },
  {
   "cell_type": "code",
   "execution_count": null,
   "metadata": {},
   "outputs": [],
   "source": [
    "import pandas as pd\n",
    "\n",
    "bigkinds_1922 = pd.read_csv(\"../data/bigkinds_2019_2022/bigkinds_total_1922.csv\")"
   ]
  },
  {
   "cell_type": "code",
   "execution_count": null,
   "metadata": {},
   "outputs": [],
   "source": [
    "## date 시각화해보기"
   ]
  },
  {
   "cell_type": "code",
   "execution_count": 3,
   "metadata": {},
   "outputs": [
    {
     "data": {
      "text/html": [
       "<div>\n",
       "<style scoped>\n",
       "    .dataframe tbody tr th:only-of-type {\n",
       "        vertical-align: middle;\n",
       "    }\n",
       "\n",
       "    .dataframe tbody tr th {\n",
       "        vertical-align: top;\n",
       "    }\n",
       "\n",
       "    .dataframe thead th {\n",
       "        text-align: right;\n",
       "    }\n",
       "</style>\n",
       "<table border=\"1\" class=\"dataframe\">\n",
       "  <thead>\n",
       "    <tr style=\"text-align: right;\">\n",
       "      <th></th>\n",
       "      <th>date</th>\n",
       "      <th>언론사</th>\n",
       "      <th>text</th>\n",
       "      <th>url</th>\n",
       "      <th>label_text</th>\n",
       "      <th>target</th>\n",
       "      <th>year</th>\n",
       "    </tr>\n",
       "  </thead>\n",
       "  <tbody>\n",
       "    <tr>\n",
       "      <th>0</th>\n",
       "      <td>20190101</td>\n",
       "      <td>한겨레</td>\n",
       "      <td>아베 신년사 “전후 일본 외교 총결산 추진한다”</td>\n",
       "      <td>http://www.hani.co.kr/arti/international/japan...</td>\n",
       "      <td>세계</td>\n",
       "      <td>4</td>\n",
       "      <td>2019</td>\n",
       "    </tr>\n",
       "    <tr>\n",
       "      <th>1</th>\n",
       "      <td>20190101</td>\n",
       "      <td>조선일보</td>\n",
       "      <td>트럼프, 민주당 워런 대선출마에 “정신과 주치의에게 질문하라”</td>\n",
       "      <td>http://news.chosun.com/site/data/html_dir/2019...</td>\n",
       "      <td>세계</td>\n",
       "      <td>4</td>\n",
       "      <td>2019</td>\n",
       "    </tr>\n",
       "    <tr>\n",
       "      <th>2</th>\n",
       "      <td>20190101</td>\n",
       "      <td>머니투데이</td>\n",
       "      <td>美 민주, 장벽예산 '0원' 트럼프와 '셧다운' 전면전</td>\n",
       "      <td>http://news.moneytoday.co.kr/view/mtview.php?n...</td>\n",
       "      <td>세계</td>\n",
       "      <td>4</td>\n",
       "      <td>2019</td>\n",
       "    </tr>\n",
       "    <tr>\n",
       "      <th>3</th>\n",
       "      <td>20190101</td>\n",
       "      <td>서울신문</td>\n",
       "      <td>중국인 관광 제한에도 사상최대 관광수지 올린 나라는</td>\n",
       "      <td>http://www.seoul.co.kr/news/newsView.php?id=20...</td>\n",
       "      <td>세계</td>\n",
       "      <td>4</td>\n",
       "      <td>2019</td>\n",
       "    </tr>\n",
       "    <tr>\n",
       "      <th>4</th>\n",
       "      <td>20190101</td>\n",
       "      <td>한국경제</td>\n",
       "      <td>기해년 첫 일출, 해돋이 보러 간 40대 여성 '사망'  추락 당시 기어 중립 왜?</td>\n",
       "      <td>http://news.hankyung.com/article/2019010110777</td>\n",
       "      <td>세계</td>\n",
       "      <td>4</td>\n",
       "      <td>2019</td>\n",
       "    </tr>\n",
       "  </tbody>\n",
       "</table>\n",
       "</div>"
      ],
      "text/plain": [
       "       date    언론사                                            text   \n",
       "0  20190101    한겨레                      아베 신년사 “전후 일본 외교 총결산 추진한다”  \\\n",
       "1  20190101   조선일보              트럼프, 민주당 워런 대선출마에 “정신과 주치의에게 질문하라”   \n",
       "2  20190101  머니투데이                  美 민주, 장벽예산 '0원' 트럼프와 '셧다운' 전면전   \n",
       "3  20190101   서울신문                    중국인 관광 제한에도 사상최대 관광수지 올린 나라는   \n",
       "4  20190101   한국경제  기해년 첫 일출, 해돋이 보러 간 40대 여성 '사망'  추락 당시 기어 중립 왜?   \n",
       "\n",
       "                                                 url label_text  target  year  \n",
       "0  http://www.hani.co.kr/arti/international/japan...         세계       4  2019  \n",
       "1  http://news.chosun.com/site/data/html_dir/2019...         세계       4  2019  \n",
       "2  http://news.moneytoday.co.kr/view/mtview.php?n...         세계       4  2019  \n",
       "3  http://www.seoul.co.kr/news/newsView.php?id=20...         세계       4  2019  \n",
       "4     http://news.hankyung.com/article/2019010110777         세계       4  2019  "
      ]
     },
     "execution_count": 3,
     "metadata": {},
     "output_type": "execute_result"
    }
   ],
   "source": [
    "bigkinds_1922.head(5)"
   ]
  },
  {
   "cell_type": "code",
   "execution_count": 7,
   "metadata": {},
   "outputs": [],
   "source": [
    "## count plot test\n",
    "import seaborn as sns\n",
    "import matplotlib.pyplot as plt\n",
    "import re\n",
    "\n",
    "train_data = pd.read_csv('../data/train_spelling_v2.csv')\n",
    "\n",
    "# year and month\n",
    "def extract_year_month(x):\n",
    "    pattern = r'(\\d{4})\\.(\\d{2})'\n",
    "    match = re.search(pattern, x)\n",
    "    if match:\n",
    "        year = match.group(1)\n",
    "        month = match.group(2)\n",
    "        return year, month\n",
    "    else:\n",
    "        return None, None\n",
    "    \n",
    "train_data['year'], train_data['month'] = zip(*train_data['date'].apply(lambda x:extract_year_month(x)))"
   ]
  },
  {
   "cell_type": "code",
   "execution_count": 45,
   "metadata": {},
   "outputs": [
    {
     "data": {
      "text/plain": [
       "<Axes: xlabel='year', ylabel='count'>"
      ]
     },
     "execution_count": 45,
     "metadata": {},
     "output_type": "execute_result"
    },
    {
     "data": {
      "image/png": "[encoded data removed]",
      "text/plain": [
       "<Figure size 500x300 with 1 Axes>"
      ]
     },
     "metadata": {},
     "output_type": "display_data"
    }
   ],
   "source": [
    "fig, ax = plt.subplots(1, 1, figsize=(5,3))\n",
    "sns.countplot(x=train_data['year'], data=train_data)"
   ]
  },
  {
   "cell_type": "code",
   "execution_count": null,
   "metadata": {},
   "outputs": [],
   "source": [
    "year_group = train_data.groupby(['year'])\n"
   ]
  },
  {
   "cell_type": "code",
   "execution_count": 34,
   "metadata": {},
   "outputs": [
    {
     "data": {
      "text/plain": [
       "array(['06', '05', '03', '07', '11', '04', '10', '02', '09', '12', '01',\n",
       "       '08'], dtype=object)"
      ]
     },
     "execution_count": 34,
     "metadata": {},
     "output_type": "execute_result"
    }
   ],
   "source": [
    "year_group.get_group('2016')['month'].unique()"
   ]
  },
  {
   "cell_type": "code",
   "execution_count": 46,
   "metadata": {},
   "outputs": [
    {
     "data": {
      "text/plain": [
       "<Axes: xlabel='month', ylabel='count'>"
      ]
     },
     "execution_count": 46,
     "metadata": {},
     "output_type": "execute_result"
    },
    {
     "data": {
      "image/png": "[encoded data removed]",
      "text/plain": [
       "<Figure size 500x300 with 1 Axes>"
      ]
     },
     "metadata": {},
     "output_type": "display_data"
    }
   ],
   "source": [
    "fig, ax = plt.subplots(1, 1, figsize=(5,3))\n",
    "sns.countplot(x=year_group.get_group('2016')['month'], data=year_group.get_group('2016'),\n",
    "              order=sorted(year_group.get_group('2016')['month'].unique()))"
   ]
  },
  {
   "cell_type": "code",
   "execution_count": 63,
   "metadata": {},
   "outputs": [
    {
     "name": "stdout",
     "output_type": "stream",
     "text": [
      "columns: Index(['Unnamed: 0', 'ID', 'text', 'target', 'url', 'date', 'year', 'month'], dtype='object')\n",
      "targets: [3 2 0 5 4 6 1]\n",
      "each year data numbers: \n",
      "year\n",
      "2019    1709\n",
      "2018    1643\n",
      "2016     964\n",
      "2017     623\n",
      "Name: count, dtype: int64\n",
      "each year data numbers: \n",
      "month\n",
      "03    460\n",
      "11    452\n",
      "01    441\n",
      "05    438\n",
      "04    428\n",
      "10    420\n",
      "02    397\n",
      "12    395\n",
      "07    390\n",
      "06    384\n",
      "09    371\n",
      "08    363\n",
      "Name: count, dtype: int64\n"
     ]
    },
    {
     "data": {
      "image/png": "[encoded data removed]",
      "text/plain": [
       "<Figure size 1000x300 with 2 Axes>"
      ]
     },
     "metadata": {},
     "output_type": "display_data"
    }
   ],
   "source": [
    "## 사회, it과학 데이터 추가를 위한 월 연도 분포 확인\n",
    "import pandas as pd\n",
    "import seaborn as sns\n",
    "import matplotlib.pyplot as plt\n",
    "\n",
    "num2target = ['IT과학', '경제', '사회', '생활문화', '세계', '스포츠', '정치']\n",
    "num2target_dict = {idx:item for idx, item in enumerate(num2target)}\n",
    "target2num = {item:idx for idx, item in enumerate(num2target)}\n",
    "\n",
    "train_data = pd.read_csv(\"../data/train_spelling_v2_label_v1.csv\")\n",
    "\n",
    "train_data['year'], train_data['month'] = zip(*train_data['date'].apply(lambda x:extract_year_month(x)))\n",
    "\n",
    "# 사회 카테고리는 연도 분포/ 월 분포가 어떻게?\n",
    "print(f\"columns: {train_data.columns}\")\n",
    "print(f\"targets: {train_data['target'].unique()}\")\n",
    "society_group = train_data.groupby(['target']).get_group(2)\n",
    "\n",
    "fig, ax = plt.subplots(1,2,figsize=(10,3))\n",
    "sns.countplot(x=society_group['year'], data=society_group, ax=ax[0],\n",
    "              order=sorted(society_group['year'].unique().tolist()))\n",
    "print(f\"each year data numbers: \\n{society_group['year'].value_counts()}\")\n",
    "\n",
    "sns.countplot(x=society_group['month'], data=society_group, ax=ax[1],\n",
    "              order=sorted(society_group['month'].unique().tolist()))\n",
    "print(f\"each year data numbers: \\n{society_group['month'].value_counts()}\")"
   ]
  },
  {
   "cell_type": "code",
   "execution_count": 29,
   "metadata": {},
   "outputs": [],
   "source": [
    "# 16, 17, 20, 21 년도 사회 데이터를 추가해야겠다.\n",
    "\n",
    "# 우선 20 년도 사회 데이터를 추가해보자.\n",
    "bigkinds_2019_2022 = pd.read_csv(\"../data/bigkinds_2019_2022/bigkinds_total_1922.csv\")"
   ]
  },
  {
   "cell_type": "code",
   "execution_count": 43,
   "metadata": {},
   "outputs": [],
   "source": [
    "def extract_year_month_v2(x):\n",
    "    pattern = r'(\\d{4})(\\d{2})'\n",
    "    if pd.isnull(x):  # Check if x is missing or NaN\n",
    "        return None, None\n",
    "    \n",
    "    match = re.search(pattern, str(x))\n",
    "    if match:\n",
    "        year = match.group(1)\n",
    "        month = match.group(2)\n",
    "        return year, month\n",
    "    else:\n",
    "        return None, None\n",
    "\n",
    "_, bigkinds_2019_2022['month'] = zip(*bigkinds_2019_2022['date'].apply(lambda x:extract_year_month_v2(x)))"
   ]
  },
  {
   "cell_type": "code",
   "execution_count": 60,
   "metadata": {},
   "outputs": [
    {
     "name": "stdout",
     "output_type": "stream",
     "text": [
      "org size:282743, want about 1000 samples.\n",
      "dropped: 282743\n"
     ]
    },
    {
     "data": {
      "text/html": [
       "<div>\n",
       "<style scoped>\n",
       "    .dataframe tbody tr th:only-of-type {\n",
       "        vertical-align: middle;\n",
       "    }\n",
       "\n",
       "    .dataframe tbody tr th {\n",
       "        vertical-align: top;\n",
       "    }\n",
       "\n",
       "    .dataframe thead th {\n",
       "        text-align: right;\n",
       "    }\n",
       "</style>\n",
       "<table border=\"1\" class=\"dataframe\">\n",
       "  <thead>\n",
       "    <tr style=\"text-align: right;\">\n",
       "      <th></th>\n",
       "      <th>date</th>\n",
       "      <th>언론사</th>\n",
       "      <th>text</th>\n",
       "      <th>url</th>\n",
       "      <th>label_text</th>\n",
       "      <th>target</th>\n",
       "      <th>year</th>\n",
       "      <th>month</th>\n",
       "    </tr>\n",
       "  </thead>\n",
       "  <tbody>\n",
       "    <tr>\n",
       "      <th>1822819</th>\n",
       "      <td>20200115</td>\n",
       "      <td>서울신문</td>\n",
       "      <td>경부고속도 신갈분기점서 버스 5중 추돌 1명 사망</td>\n",
       "      <td>NaN</td>\n",
       "      <td>사회</td>\n",
       "      <td>2</td>\n",
       "      <td>2020</td>\n",
       "      <td>01</td>\n",
       "    </tr>\n",
       "    <tr>\n",
       "      <th>3360539</th>\n",
       "      <td>20201124</td>\n",
       "      <td>국민일보</td>\n",
       "      <td>공주 한 요양병원서 13명 신규 확진 이 병원서만 15명</td>\n",
       "      <td>NaN</td>\n",
       "      <td>사회</td>\n",
       "      <td>2</td>\n",
       "      <td>2020</td>\n",
       "      <td>11</td>\n",
       "    </tr>\n",
       "    <tr>\n",
       "      <th>3114239</th>\n",
       "      <td>20200929</td>\n",
       "      <td>서울경제</td>\n",
       "      <td>[단독]檢, 옵티머스 수사 정 재계 로비로 확대되나 특수부 대거 투입</td>\n",
       "      <td>NaN</td>\n",
       "      <td>사회</td>\n",
       "      <td>2</td>\n",
       "      <td>2020</td>\n",
       "      <td>09</td>\n",
       "    </tr>\n",
       "    <tr>\n",
       "      <th>2237760</th>\n",
       "      <td>20200407</td>\n",
       "      <td>중부매일</td>\n",
       "      <td>서산시, 전입 시민 안내책자 '왔어유? 서산' 제작</td>\n",
       "      <td>NaN</td>\n",
       "      <td>사회</td>\n",
       "      <td>2</td>\n",
       "      <td>2020</td>\n",
       "      <td>04</td>\n",
       "    </tr>\n",
       "    <tr>\n",
       "      <th>2516616</th>\n",
       "      <td>20200531</td>\n",
       "      <td>중부일보</td>\n",
       "      <td>[중부포토] 가천대 학생 2명 코로나 확진 학생 등 200여명 검사</td>\n",
       "      <td>NaN</td>\n",
       "      <td>사회</td>\n",
       "      <td>2</td>\n",
       "      <td>2020</td>\n",
       "      <td>05</td>\n",
       "    </tr>\n",
       "    <tr>\n",
       "      <th>...</th>\n",
       "      <td>...</td>\n",
       "      <td>...</td>\n",
       "      <td>...</td>\n",
       "      <td>...</td>\n",
       "      <td>...</td>\n",
       "      <td>...</td>\n",
       "      <td>...</td>\n",
       "      <td>...</td>\n",
       "    </tr>\n",
       "    <tr>\n",
       "      <th>3519404</th>\n",
       "      <td>20201227</td>\n",
       "      <td>중부매일</td>\n",
       "      <td>충북도립대, 국가직 지역인재 9급 재학생 합격</td>\n",
       "      <td>NaN</td>\n",
       "      <td>사회</td>\n",
       "      <td>2</td>\n",
       "      <td>2020</td>\n",
       "      <td>12</td>\n",
       "    </tr>\n",
       "    <tr>\n",
       "      <th>2440725</th>\n",
       "      <td>20200515</td>\n",
       "      <td>YTN</td>\n",
       "      <td>\"나 형사과장이야\" 경찰 행세해 2억여 원 가로챈 60대 구속</td>\n",
       "      <td>NaN</td>\n",
       "      <td>사회</td>\n",
       "      <td>2</td>\n",
       "      <td>2020</td>\n",
       "      <td>05</td>\n",
       "    </tr>\n",
       "    <tr>\n",
       "      <th>2168617</th>\n",
       "      <td>20200325</td>\n",
       "      <td>세계일보</td>\n",
       "      <td>손석희 사장, 오늘(25일) 김웅 재판 증인 출석.. 증인신문 비공개 요청</td>\n",
       "      <td>NaN</td>\n",
       "      <td>사회</td>\n",
       "      <td>2</td>\n",
       "      <td>2020</td>\n",
       "      <td>03</td>\n",
       "    </tr>\n",
       "    <tr>\n",
       "      <th>1959163</th>\n",
       "      <td>20200213</td>\n",
       "      <td>머니투데이</td>\n",
       "      <td>경의선 숲길 고양이 학대 40대 남성, 항소심도 실형</td>\n",
       "      <td>NaN</td>\n",
       "      <td>사회</td>\n",
       "      <td>2</td>\n",
       "      <td>2020</td>\n",
       "      <td>02</td>\n",
       "    </tr>\n",
       "    <tr>\n",
       "      <th>2745071</th>\n",
       "      <td>20200715</td>\n",
       "      <td>아주경제</td>\n",
       "      <td>​[약자를 위한 정치] ②장애인 차별 해소할 '배리어프리' 법안</td>\n",
       "      <td>NaN</td>\n",
       "      <td>사회</td>\n",
       "      <td>2</td>\n",
       "      <td>2020</td>\n",
       "      <td>07</td>\n",
       "    </tr>\n",
       "  </tbody>\n",
       "</table>\n",
       "<p>1300 rows × 8 columns</p>\n",
       "</div>"
      ],
      "text/plain": [
       "             date    언론사                                       text  url   \n",
       "1822819  20200115   서울신문                경부고속도 신갈분기점서 버스 5중 추돌 1명 사망  NaN  \\\n",
       "3360539  20201124   국민일보            공주 한 요양병원서 13명 신규 확진 이 병원서만 15명  NaN   \n",
       "3114239  20200929   서울경제     [단독]檢, 옵티머스 수사 정 재계 로비로 확대되나 특수부 대거 투입  NaN   \n",
       "2237760  20200407   중부매일               서산시, 전입 시민 안내책자 '왔어유? 서산' 제작  NaN   \n",
       "2516616  20200531   중부일보      [중부포토] 가천대 학생 2명 코로나 확진 학생 등 200여명 검사  NaN   \n",
       "...           ...    ...                                        ...  ...   \n",
       "3519404  20201227   중부매일                  충북도립대, 국가직 지역인재 9급 재학생 합격  NaN   \n",
       "2440725  20200515    YTN         \"나 형사과장이야\" 경찰 행세해 2억여 원 가로챈 60대 구속  NaN   \n",
       "2168617  20200325   세계일보  손석희 사장, 오늘(25일) 김웅 재판 증인 출석.. 증인신문 비공개 요청  NaN   \n",
       "1959163  20200213  머니투데이              경의선 숲길 고양이 학대 40대 남성, 항소심도 실형  NaN   \n",
       "2745071  20200715   아주경제        ​[약자를 위한 정치] ②장애인 차별 해소할 '배리어프리' 법안  NaN   \n",
       "\n",
       "        label_text  target  year month  \n",
       "1822819         사회       2  2020    01  \n",
       "3360539         사회       2  2020    11  \n",
       "3114239         사회       2  2020    09  \n",
       "2237760         사회       2  2020    04  \n",
       "2516616         사회       2  2020    05  \n",
       "...            ...     ...   ...   ...  \n",
       "3519404         사회       2  2020    12  \n",
       "2440725         사회       2  2020    05  \n",
       "2168617         사회       2  2020    03  \n",
       "1959163         사회       2  2020    02  \n",
       "2745071         사회       2  2020    07  \n",
       "\n",
       "[1300 rows x 8 columns]"
      ]
     },
     "execution_count": 60,
     "metadata": {},
     "output_type": "execute_result"
    }
   ],
   "source": [
    "from sklearn.model_selection import train_test_split\n",
    "\n",
    "# 1000 개의 2020 데이터 추가\n",
    "bigkinds_society = bigkinds_2019_2022.groupby(['target']).get_group(2)\n",
    "bigkinds_society_20 = bigkinds_society[bigkinds_society['year']==2020].copy()\n",
    "\n",
    "print(f\"org size:{len(bigkinds_society_20)}, want about 1000 samples.\")\n",
    "bigkinds_society_20 = bigkinds_society_20.dropna(subset=['month'])\n",
    "print(f\"dropped: {len(bigkinds_society_20)}\")\n",
    "_, bigkinds_society_20_sample1300 = train_test_split(bigkinds_society_20, random_state=42, \n",
    "                                                     test_size=1300, stratify=bigkinds_society_20['month'])\n",
    "\n",
    "bigkinds_society_20_sample1300"
   ]
  },
  {
   "cell_type": "code",
   "execution_count": 61,
   "metadata": {},
   "outputs": [
    {
     "data": {
      "text/html": [
       "<div>\n",
       "<style scoped>\n",
       "    .dataframe tbody tr th:only-of-type {\n",
       "        vertical-align: middle;\n",
       "    }\n",
       "\n",
       "    .dataframe tbody tr th {\n",
       "        vertical-align: top;\n",
       "    }\n",
       "\n",
       "    .dataframe thead th {\n",
       "        text-align: right;\n",
       "    }\n",
       "</style>\n",
       "<table border=\"1\" class=\"dataframe\">\n",
       "  <thead>\n",
       "    <tr style=\"text-align: right;\">\n",
       "      <th></th>\n",
       "      <th>date</th>\n",
       "      <th>언론사</th>\n",
       "      <th>text</th>\n",
       "      <th>url</th>\n",
       "      <th>label_text</th>\n",
       "      <th>target</th>\n",
       "      <th>year</th>\n",
       "      <th>month</th>\n",
       "    </tr>\n",
       "  </thead>\n",
       "  <tbody>\n",
       "    <tr>\n",
       "      <th>3002696</th>\n",
       "      <td>20200908</td>\n",
       "      <td>대전일보</td>\n",
       "      <td>태안군 8일부터 독감 예방접종 시작</td>\n",
       "      <td>NaN</td>\n",
       "      <td>사회</td>\n",
       "      <td>2</td>\n",
       "      <td>2020</td>\n",
       "      <td>09</td>\n",
       "    </tr>\n",
       "    <tr>\n",
       "      <th>3070205</th>\n",
       "      <td>20200922</td>\n",
       "      <td>SBS</td>\n",
       "      <td>현대차 노사 11년 만에 임금 동결 2년 연속 무분규 합의</td>\n",
       "      <td>NaN</td>\n",
       "      <td>사회</td>\n",
       "      <td>2</td>\n",
       "      <td>2020</td>\n",
       "      <td>09</td>\n",
       "    </tr>\n",
       "    <tr>\n",
       "      <th>3043334</th>\n",
       "      <td>20200915</td>\n",
       "      <td>대전일보</td>\n",
       "      <td>추석 명절 다가오는데 코로나19로 온정의 손길 뚝</td>\n",
       "      <td>NaN</td>\n",
       "      <td>사회</td>\n",
       "      <td>2</td>\n",
       "      <td>2020</td>\n",
       "      <td>09</td>\n",
       "    </tr>\n",
       "    <tr>\n",
       "      <th>2289086</th>\n",
       "      <td>20200415</td>\n",
       "      <td>매일신문</td>\n",
       "      <td>대구시교육청 市와 학원 교습소 특별방역 점검</td>\n",
       "      <td>NaN</td>\n",
       "      <td>사회</td>\n",
       "      <td>2</td>\n",
       "      <td>2020</td>\n",
       "      <td>04</td>\n",
       "    </tr>\n",
       "    <tr>\n",
       "      <th>3315078</th>\n",
       "      <td>20201112</td>\n",
       "      <td>부산일보</td>\n",
       "      <td>학생만 억울 산재 적용 못 받는 대학 실험실</td>\n",
       "      <td>NaN</td>\n",
       "      <td>사회</td>\n",
       "      <td>2</td>\n",
       "      <td>2020</td>\n",
       "      <td>11</td>\n",
       "    </tr>\n",
       "    <tr>\n",
       "      <th>3211328</th>\n",
       "      <td>20201023</td>\n",
       "      <td>OBS</td>\n",
       "      <td>저용량 아스피린 코로나19 증상 악화 사망 위험↓</td>\n",
       "      <td>NaN</td>\n",
       "      <td>사회</td>\n",
       "      <td>2</td>\n",
       "      <td>2020</td>\n",
       "      <td>10</td>\n",
       "    </tr>\n",
       "    <tr>\n",
       "      <th>2260877</th>\n",
       "      <td>20200410</td>\n",
       "      <td>머니투데이</td>\n",
       "      <td>대구 코로나19 신규 환자 0명 첫 환자 발생 후 52일만</td>\n",
       "      <td>NaN</td>\n",
       "      <td>사회</td>\n",
       "      <td>2</td>\n",
       "      <td>2020</td>\n",
       "      <td>04</td>\n",
       "    </tr>\n",
       "    <tr>\n",
       "      <th>1947369</th>\n",
       "      <td>20200211</td>\n",
       "      <td>서울신문</td>\n",
       "      <td>봄맞이 단장하는 따오기</td>\n",
       "      <td>NaN</td>\n",
       "      <td>사회</td>\n",
       "      <td>2</td>\n",
       "      <td>2020</td>\n",
       "      <td>02</td>\n",
       "    </tr>\n",
       "    <tr>\n",
       "      <th>2946065</th>\n",
       "      <td>20200826</td>\n",
       "      <td>경남도민일보</td>\n",
       "      <td>직원 시켜 산약초 훔친 함양군청 간부 2심도 집유</td>\n",
       "      <td>NaN</td>\n",
       "      <td>사회</td>\n",
       "      <td>2</td>\n",
       "      <td>2020</td>\n",
       "      <td>08</td>\n",
       "    </tr>\n",
       "    <tr>\n",
       "      <th>3533218</th>\n",
       "      <td>20201229</td>\n",
       "      <td>KBS</td>\n",
       "      <td>대구교육청 연말연시 공직기강 점검</td>\n",
       "      <td>NaN</td>\n",
       "      <td>사회</td>\n",
       "      <td>2</td>\n",
       "      <td>2020</td>\n",
       "      <td>12</td>\n",
       "    </tr>\n",
       "  </tbody>\n",
       "</table>\n",
       "</div>"
      ],
      "text/plain": [
       "             date     언론사                              text  url label_text   \n",
       "3002696  20200908    대전일보               태안군 8일부터 독감 예방접종 시작  NaN         사회  \\\n",
       "3070205  20200922     SBS  현대차 노사 11년 만에 임금 동결 2년 연속 무분규 합의  NaN         사회   \n",
       "3043334  20200915    대전일보       추석 명절 다가오는데 코로나19로 온정의 손길 뚝  NaN         사회   \n",
       "2289086  20200415    매일신문          대구시교육청 市와 학원 교습소 특별방역 점검  NaN         사회   \n",
       "3315078  20201112    부산일보          학생만 억울 산재 적용 못 받는 대학 실험실  NaN         사회   \n",
       "3211328  20201023     OBS       저용량 아스피린 코로나19 증상 악화 사망 위험↓  NaN         사회   \n",
       "2260877  20200410   머니투데이  대구 코로나19 신규 환자 0명 첫 환자 발생 후 52일만  NaN         사회   \n",
       "1947369  20200211    서울신문                      봄맞이 단장하는 따오기  NaN         사회   \n",
       "2946065  20200826  경남도민일보       직원 시켜 산약초 훔친 함양군청 간부 2심도 집유  NaN         사회   \n",
       "3533218  20201229     KBS                대구교육청 연말연시 공직기강 점검  NaN         사회   \n",
       "\n",
       "         target  year month  \n",
       "3002696       2  2020    09  \n",
       "3070205       2  2020    09  \n",
       "3043334       2  2020    09  \n",
       "2289086       2  2020    04  \n",
       "3315078       2  2020    11  \n",
       "3211328       2  2020    10  \n",
       "2260877       2  2020    04  \n",
       "1947369       2  2020    02  \n",
       "2946065       2  2020    08  \n",
       "3533218       2  2020    12  "
      ]
     },
     "execution_count": 61,
     "metadata": {},
     "output_type": "execute_result"
    }
   ],
   "source": [
    "# 이 데이터들을 전처리 해야함 -> 희진 알고리즘 도입\n",
    "df = bigkinds_society_20_sample1300\n",
    "\n",
    "# []안에 있는 친구들 제거\n",
    "df['text']=df['text'].apply(lambda x: re.sub('\\[[^]]*\\]', '', x))\n",
    "\n",
    "# 특수문자 제거\n",
    "df['text']=df['text'].apply(lambda x: re.sub('[,`‘’“”()/\\\"\\'<>\\[\\]]','',x))\n",
    "\n",
    "bigkinds_society_20_sample1000[20:30]"
   ]
  },
  {
   "cell_type": "code",
   "execution_count": 64,
   "metadata": {},
   "outputs": [
    {
     "name": "stdout",
     "output_type": "stream",
     "text": [
      "each year data numbers: \n",
      "year\n",
      "2019    1709\n",
      "2018    1643\n",
      "2020    1300\n",
      "2016     964\n",
      "2017     623\n",
      "Name: count, dtype: int64\n",
      "each year data numbers: \n",
      "month\n",
      "03    577\n",
      "11    559\n",
      "05    553\n",
      "01    534\n",
      "04    533\n",
      "10    523\n",
      "02    506\n",
      "07    501\n",
      "12    499\n",
      "06    496\n",
      "08    481\n",
      "09    477\n",
      "Name: count, dtype: int64\n"
     ]
    },
    {
     "data": {
      "image/png": "[encoded data removed]",
      "text/plain": [
       "<Figure size 1000x300 with 2 Axes>"
      ]
     },
     "metadata": {},
     "output_type": "display_data"
    }
   ],
   "source": [
    "# 기존 train 에 붙이기\n",
    "\n",
    "train_data_added_society2020 = pd.concat([train_data, bigkinds_society_20_sample1300])\n",
    "train_data_added_society2020['year'] = train_data_added_society2020['year'].apply(lambda x:str(x))\n",
    "train_data_added_society2020['month'] = train_data_added_society2020['month'].apply(lambda x:str(x))\n",
    "\n",
    "# 시각화\n",
    "society_group = train_data_added_society2020.groupby(['target']).get_group(2)\n",
    "\n",
    "\n",
    "fig, ax = plt.subplots(1,2,figsize=(10,3))\n",
    "sns.countplot(x=society_group['year'], data=society_group, ax=ax[0],\n",
    "              order=sorted(society_group['year'].unique().tolist()))\n",
    "print(f\"each year data numbers: \\n{society_group['year'].value_counts()}\")\n",
    "\n",
    "sns.countplot(x=society_group['month'], data=society_group, ax=ax[1],\n",
    "              order=sorted(society_group['month'].unique().tolist()))\n",
    "print(f\"each year data numbers: \\n{society_group['month'].value_counts()}\")"
   ]
  },
  {
   "cell_type": "code",
   "execution_count": 108,
   "metadata": {},
   "outputs": [
    {
     "data": {
      "text/html": [
       "<div>\n",
       "<style scoped>\n",
       "    .dataframe tbody tr th:only-of-type {\n",
       "        vertical-align: middle;\n",
       "    }\n",
       "\n",
       "    .dataframe tbody tr th {\n",
       "        vertical-align: top;\n",
       "    }\n",
       "\n",
       "    .dataframe thead th {\n",
       "        text-align: right;\n",
       "    }\n",
       "</style>\n",
       "<table border=\"1\" class=\"dataframe\">\n",
       "  <thead>\n",
       "    <tr style=\"text-align: right;\">\n",
       "      <th></th>\n",
       "      <th>date</th>\n",
       "      <th>언론사</th>\n",
       "      <th>text</th>\n",
       "      <th>url</th>\n",
       "      <th>label_text</th>\n",
       "      <th>target</th>\n",
       "      <th>year</th>\n",
       "      <th>month</th>\n",
       "    </tr>\n",
       "  </thead>\n",
       "  <tbody>\n",
       "    <tr>\n",
       "      <th>1822819</th>\n",
       "      <td>20200115</td>\n",
       "      <td>서울신문</td>\n",
       "      <td>경부고속도 신갈분기점서 버스 5중 추돌 1명 사망</td>\n",
       "      <td>NaN</td>\n",
       "      <td>사회</td>\n",
       "      <td>2</td>\n",
       "      <td>2020</td>\n",
       "      <td>01</td>\n",
       "    </tr>\n",
       "    <tr>\n",
       "      <th>3360539</th>\n",
       "      <td>20201124</td>\n",
       "      <td>국민일보</td>\n",
       "      <td>공주 한 요양병원서 13명 신규 확진 이 병원서만 15명</td>\n",
       "      <td>NaN</td>\n",
       "      <td>사회</td>\n",
       "      <td>2</td>\n",
       "      <td>2020</td>\n",
       "      <td>11</td>\n",
       "    </tr>\n",
       "    <tr>\n",
       "      <th>3114239</th>\n",
       "      <td>20200929</td>\n",
       "      <td>서울경제</td>\n",
       "      <td>檢 옵티머스 수사 정 재계 로비로 확대되나 특수부 대거 투입</td>\n",
       "      <td>NaN</td>\n",
       "      <td>사회</td>\n",
       "      <td>2</td>\n",
       "      <td>2020</td>\n",
       "      <td>09</td>\n",
       "    </tr>\n",
       "    <tr>\n",
       "      <th>2237760</th>\n",
       "      <td>20200407</td>\n",
       "      <td>중부매일</td>\n",
       "      <td>서산시 전입 시민 안내책자 왔어유? 서산 제작</td>\n",
       "      <td>NaN</td>\n",
       "      <td>사회</td>\n",
       "      <td>2</td>\n",
       "      <td>2020</td>\n",
       "      <td>04</td>\n",
       "    </tr>\n",
       "    <tr>\n",
       "      <th>2516616</th>\n",
       "      <td>20200531</td>\n",
       "      <td>중부일보</td>\n",
       "      <td>가천대 학생 2명 코로나 확진 학생 등 200여명 검사</td>\n",
       "      <td>NaN</td>\n",
       "      <td>사회</td>\n",
       "      <td>2</td>\n",
       "      <td>2020</td>\n",
       "      <td>05</td>\n",
       "    </tr>\n",
       "  </tbody>\n",
       "</table>\n",
       "</div>"
      ],
      "text/plain": [
       "             date   언론사                               text  url label_text   \n",
       "1822819  20200115  서울신문        경부고속도 신갈분기점서 버스 5중 추돌 1명 사망  NaN         사회  \\\n",
       "3360539  20201124  국민일보    공주 한 요양병원서 13명 신규 확진 이 병원서만 15명  NaN         사회   \n",
       "3114239  20200929  서울경제  檢 옵티머스 수사 정 재계 로비로 확대되나 특수부 대거 투입  NaN         사회   \n",
       "2237760  20200407  중부매일          서산시 전입 시민 안내책자 왔어유? 서산 제작  NaN         사회   \n",
       "2516616  20200531  중부일보     가천대 학생 2명 코로나 확진 학생 등 200여명 검사  NaN         사회   \n",
       "\n",
       "         target  year month  \n",
       "1822819       2  2020    01  \n",
       "3360539       2  2020    11  \n",
       "3114239       2  2020    09  \n",
       "2237760       2  2020    04  \n",
       "2516616       2  2020    05  "
      ]
     },
     "execution_count": 108,
     "metadata": {},
     "output_type": "execute_result"
    }
   ],
   "source": [
    "bigkinds_society_20_sample1300.head(5)"
   ]
  },
  {
   "cell_type": "code",
   "execution_count": 107,
   "metadata": {},
   "outputs": [],
   "source": [
    "bigkinds_society_20_sample1300.to_csv(\"../data/train_add_society2020.csv\", index=False)"
   ]
  },
  {
   "cell_type": "code",
   "execution_count": 65,
   "metadata": {},
   "outputs": [],
   "source": [
    "train_data_added_society2020.to_csv(\"../data/train_spelling_v2_label_v1_add_society2020.csv\", index=False)"
   ]
  },
  {
   "cell_type": "code",
   "execution_count": null,
   "metadata": {},
   "outputs": [],
   "source": [
    "# 학습시켜보기\n"
   ]
  },
  {
   "attachments": {},
   "cell_type": "markdown",
   "metadata": {},
   "source": [
    "### 5-1-1. \"사회\" 더하기 전에, LM으로 돌려서 1500개만 뽑자.\n",
    "사회말고, 각 라벨 500개씩 더 더해보자."
   ]
  },
  {
   "cell_type": "code",
   "execution_count": 173,
   "metadata": {},
   "outputs": [
    {
     "data": {
      "text/plain": [
       "{'IT과학': 0, '경제': 1, '사회': 2, '생활문화': 3, '세계': 4, '스포츠': 5, '정치': 6}"
      ]
     },
     "execution_count": 173,
     "metadata": {},
     "output_type": "execute_result"
    }
   ],
   "source": [
    "target2num"
   ]
  },
  {
   "cell_type": "code",
   "execution_count": 174,
   "metadata": {},
   "outputs": [
    {
     "data": {
      "text/plain": [
       "0"
      ]
     },
     "execution_count": 174,
     "metadata": {},
     "output_type": "execute_result"
    }
   ],
   "source": [
    "target2num['IT과학']"
   ]
  },
  {
   "cell_type": "code",
   "execution_count": 175,
   "metadata": {},
   "outputs": [],
   "source": [
    "bigkinds_2019_2022['target'] = bigkinds_2019_2022['label_text'].apply(lambda x:target2num[x])"
   ]
  },
  {
   "cell_type": "code",
   "execution_count": 178,
   "metadata": {},
   "outputs": [
    {
     "name": "stdout",
     "output_type": "stream",
     "text": [
      "org size:282743, want about 2000 samples.\n",
      "dropped: 282743\n",
      "label: 0, data length: 1500\n",
      "label: 1, data length: 1500\n",
      "label: 2, data length: 3000\n",
      "label: 3, data length: 1500\n",
      "label: 4, data length: 1500\n",
      "label: 5, data length: 1500\n",
      "label: 6, data length: 1500\n"
     ]
    }
   ],
   "source": [
    "# 사회 3000개 뽑고, LM 돌려서 2000개만 뽑자. - 2020 데이터로!\n",
    "# 다른 라벨은 1500개 뽑고, 500개씩만 뽑자.\n",
    "\n",
    "# 2000 개의 사회 2020 데이터 추가\n",
    "bigkinds_society = bigkinds_2019_2022.groupby(['target']).get_group(2)\n",
    "bigkinds_society_20 = bigkinds_society[bigkinds_society['year']==2020].reset_index().copy()\n",
    "\n",
    "print(f\"org size:{len(bigkinds_society_20)}, want about 2000 samples.\")\n",
    "bigkinds_society_20 = bigkinds_society_20.dropna(subset=['month'])\n",
    "print(f\"dropped: {len(bigkinds_society_20)}\")\n",
    "_, bigkinds_society_20_sample2000 = train_test_split(bigkinds_society_20, random_state=42, \n",
    "                                                     test_size=3000, stratify=bigkinds_society_20['month'])\n",
    "\n",
    "# 나머지는 1000개씩 뽑자.\n",
    "bigkinds_candidate_others = []\n",
    "for i in range(7):\n",
    "    if i == 2: \n",
    "        bigkinds_candidate_others.append(pd.DataFrame())\n",
    "        continue\n",
    "    _cand = bigkinds_2019_2022.groupby(['target']).get_group(i)\n",
    "    cand = _cand[_cand['year']==2020].reset_index().copy()\n",
    "    cand = cand.dropna(subset=['month'])\n",
    "    \n",
    "    _, sample_1000 = train_test_split(cand, random_state=42,\n",
    "                                      test_size=1500, stratify=cand['month'])\n",
    "    bigkinds_candidate_others.append(sample_1000)\n",
    "    #print(len(sample_1000))\n",
    "    \n",
    "bigkinds_candidate_others[2] = bigkinds_society_20_sample2000\n",
    "\n",
    "for i in range(7):\n",
    "    print(f\"label: {i}, data length: {len(bigkinds_candidate_others[i])}\")\n",
    "\n",
    "    # []안에 있는 친구들 제거\n",
    "    bigkinds_candidate_others[i]['text']=bigkinds_candidate_others[i]['text'].apply(lambda x: re.sub('\\[[^]]*\\]', '', x))\n",
    "\n",
    "    # 특수문자 제거\n",
    "    bigkinds_candidate_others[i]['text']=bigkinds_candidate_others[i]['text'].apply(lambda x: re.sub('[,`‘’“”()/\\\"\\'<>\\[\\]]','',x))"
   ]
  },
  {
   "cell_type": "code",
   "execution_count": 179,
   "metadata": {},
   "outputs": [],
   "source": [
    "# LM들이 예측하는 라벨 리턴하기\n",
    "from tqdm import tqdm\n",
    "\n",
    "def inference(model1, model2, model3, model4, data, tokenizer1, tokenizer2, tokenizer3, tokenizer4, DEVICE):\n",
    "    i = 0\n",
    "    model1.eval()\n",
    "    model2.eval()\n",
    "    model3.eval()\n",
    "    model4.eval()\n",
    "    preds = []\n",
    "    \n",
    "    for idx, sample in tqdm(data.iterrows(), desc='LM이 라벨링중입니다'):\n",
    "        inputs1 = tokenizer1(sample['text'], return_tensors=\"pt\").to(DEVICE)\n",
    "        inputs2 = tokenizer2(sample['text'], return_tensors=\"pt\").to(DEVICE)\n",
    "        inputs3 = tokenizer1(sample['text'], return_tensors=\"pt\").to(DEVICE)\n",
    "        inputs4 = tokenizer2(sample['text'], return_tensors=\"pt\").to(DEVICE)\n",
    "        \n",
    "        with torch.no_grad():\n",
    "            logits1 = model1(**inputs1).logits\n",
    "            logits2 = model2(**inputs2).logits\n",
    "            logits3 = model3(**inputs3).logits\n",
    "            logits4 = model4(**inputs4).logits\n",
    "            logits = logits1 + logits2 + logits3 + logits4\n",
    "            pred = torch.argmax(torch.nn.Softmax(dim=1)(logits), dim=1).cpu().numpy()\n",
    "            preds.extend(pred)\n",
    "\n",
    "        if not i % 500:\n",
    "            print(i, ' / ', len(data))\n",
    "        i += 1\n",
    "    return preds"
   ]
  },
  {
   "cell_type": "code",
   "execution_count": 180,
   "metadata": {},
   "outputs": [
    {
     "data": {
      "text/plain": [
       "['IT과학', '경제', '사회', '생활문화', '세계', '스포츠', '정치']"
      ]
     },
     "execution_count": 180,
     "metadata": {},
     "output_type": "execute_result"
    }
   ],
   "source": [
    "num2target"
   ]
  },
  {
   "cell_type": "code",
   "execution_count": 181,
   "metadata": {},
   "outputs": [
    {
     "name": "stdout",
     "output_type": "stream",
     "text": [
      "label 0 is relabelled ...\n"
     ]
    },
    {
     "name": "stderr",
     "output_type": "stream",
     "text": [
      "LM이 라벨링중입니다: 1it [00:00,  7.99it/s]"
     ]
    },
    {
     "name": "stdout",
     "output_type": "stream",
     "text": [
      "0  /  1500\n"
     ]
    },
    {
     "name": "stderr",
     "output_type": "stream",
     "text": [
      "LM이 라벨링중입니다: 501it [00:54, 10.18it/s]"
     ]
    },
    {
     "name": "stdout",
     "output_type": "stream",
     "text": [
      "500  /  1500\n"
     ]
    },
    {
     "name": "stderr",
     "output_type": "stream",
     "text": [
      "LM이 라벨링중입니다: 1002it [01:47,  8.60it/s]"
     ]
    },
    {
     "name": "stdout",
     "output_type": "stream",
     "text": [
      "1000  /  1500\n"
     ]
    },
    {
     "name": "stderr",
     "output_type": "stream",
     "text": [
      "LM이 라벨링중입니다: 1500it [02:41,  9.29it/s]\n"
     ]
    },
    {
     "name": "stdout",
     "output_type": "stream",
     "text": [
      "label 0 --- \n",
      "pred\n",
      "2    529\n",
      "1    261\n",
      "3    116\n",
      "4     34\n",
      "6     15\n",
      "5     10\n",
      "Name: count, dtype: int64\n",
      "         ---- aug data: pred\n",
      "0    535\n",
      "Name: count, dtype: int64\n",
      "\n",
      "\n",
      "label 1 is relabelled ...\n"
     ]
    },
    {
     "name": "stderr",
     "output_type": "stream",
     "text": [
      "LM이 라벨링중입니다: 1it [00:00,  8.71it/s]"
     ]
    },
    {
     "name": "stdout",
     "output_type": "stream",
     "text": [
      "0  /  1500\n"
     ]
    },
    {
     "name": "stderr",
     "output_type": "stream",
     "text": [
      "LM이 라벨링중입니다: 502it [00:53,  9.31it/s]"
     ]
    },
    {
     "name": "stdout",
     "output_type": "stream",
     "text": [
      "500  /  1500\n"
     ]
    },
    {
     "name": "stderr",
     "output_type": "stream",
     "text": [
      "LM이 라벨링중입니다: 1002it [01:46,  9.16it/s]"
     ]
    },
    {
     "name": "stdout",
     "output_type": "stream",
     "text": [
      "1000  /  1500\n"
     ]
    },
    {
     "name": "stderr",
     "output_type": "stream",
     "text": [
      "LM이 라벨링중입니다: 1500it [02:38,  9.47it/s]\n"
     ]
    },
    {
     "name": "stdout",
     "output_type": "stream",
     "text": [
      "label 1 --- \n",
      "pred\n",
      "2    414\n",
      "3    101\n",
      "0     60\n",
      "4     32\n",
      "6     29\n",
      "5      3\n",
      "Name: count, dtype: int64\n",
      "         ---- aug data: pred\n",
      "1    861\n",
      "Name: count, dtype: int64\n",
      "\n",
      "\n",
      "label 2 is relabelled ...\n"
     ]
    },
    {
     "name": "stderr",
     "output_type": "stream",
     "text": [
      "LM이 라벨링중입니다: 1it [00:00,  9.17it/s]"
     ]
    },
    {
     "name": "stdout",
     "output_type": "stream",
     "text": [
      "0  /  3000\n"
     ]
    },
    {
     "name": "stderr",
     "output_type": "stream",
     "text": [
      "LM이 라벨링중입니다: 503it [00:52, 11.57it/s]"
     ]
    },
    {
     "name": "stdout",
     "output_type": "stream",
     "text": [
      "500  /  3000\n"
     ]
    },
    {
     "name": "stderr",
     "output_type": "stream",
     "text": [
      "LM이 라벨링중입니다: 1002it [01:47,  8.98it/s]"
     ]
    },
    {
     "name": "stdout",
     "output_type": "stream",
     "text": [
      "1000  /  3000\n"
     ]
    },
    {
     "name": "stderr",
     "output_type": "stream",
     "text": [
      "LM이 라벨링중입니다: 1502it [02:41,  8.61it/s]"
     ]
    },
    {
     "name": "stdout",
     "output_type": "stream",
     "text": [
      "1500  /  3000\n"
     ]
    },
    {
     "name": "stderr",
     "output_type": "stream",
     "text": [
      "LM이 라벨링중입니다: 2002it [03:34,  9.07it/s]"
     ]
    },
    {
     "name": "stdout",
     "output_type": "stream",
     "text": [
      "2000  /  3000\n"
     ]
    },
    {
     "name": "stderr",
     "output_type": "stream",
     "text": [
      "LM이 라벨링중입니다: 2502it [04:29,  9.54it/s]"
     ]
    },
    {
     "name": "stdout",
     "output_type": "stream",
     "text": [
      "2500  /  3000\n"
     ]
    },
    {
     "name": "stderr",
     "output_type": "stream",
     "text": [
      "LM이 라벨링중입니다: 3000it [05:22,  9.31it/s]\n"
     ]
    },
    {
     "name": "stdout",
     "output_type": "stream",
     "text": [
      "label 2 --- \n",
      "pred\n",
      "3    293\n",
      "6    113\n",
      "1     46\n",
      "0     26\n",
      "4     21\n",
      "5     13\n",
      "Name: count, dtype: int64\n",
      "         ---- aug data: pred\n",
      "2    2488\n",
      "Name: count, dtype: int64\n",
      "\n",
      "\n",
      "label 3 is relabelled ...\n"
     ]
    },
    {
     "name": "stderr",
     "output_type": "stream",
     "text": [
      "LM이 라벨링중입니다: 1it [00:00,  9.44it/s]"
     ]
    },
    {
     "name": "stdout",
     "output_type": "stream",
     "text": [
      "0  /  1500\n"
     ]
    },
    {
     "name": "stderr",
     "output_type": "stream",
     "text": [
      "LM이 라벨링중입니다: 502it [00:53,  8.82it/s]"
     ]
    },
    {
     "name": "stdout",
     "output_type": "stream",
     "text": [
      "500  /  1500\n"
     ]
    },
    {
     "name": "stderr",
     "output_type": "stream",
     "text": [
      "LM이 라벨링중입니다: 1002it [01:48,  9.43it/s]"
     ]
    },
    {
     "name": "stdout",
     "output_type": "stream",
     "text": [
      "1000  /  1500\n"
     ]
    },
    {
     "name": "stderr",
     "output_type": "stream",
     "text": [
      "LM이 라벨링중입니다: 1500it [02:42,  9.23it/s]\n"
     ]
    },
    {
     "name": "stdout",
     "output_type": "stream",
     "text": [
      "label 3 --- \n",
      "pred\n",
      "2    409\n",
      "5     55\n",
      "4     29\n",
      "0     22\n",
      "6     21\n",
      "1     18\n",
      "Name: count, dtype: int64\n",
      "         ---- aug data: pred\n",
      "3    946\n",
      "Name: count, dtype: int64\n",
      "\n",
      "\n",
      "label 4 is relabelled ...\n"
     ]
    },
    {
     "name": "stderr",
     "output_type": "stream",
     "text": [
      "LM이 라벨링중입니다: 0it [00:00, ?it/s]"
     ]
    },
    {
     "name": "stdout",
     "output_type": "stream",
     "text": [
      "0  /  1500\n"
     ]
    },
    {
     "name": "stderr",
     "output_type": "stream",
     "text": [
      "LM이 라벨링중입니다: 502it [00:54,  9.04it/s]"
     ]
    },
    {
     "name": "stdout",
     "output_type": "stream",
     "text": [
      "500  /  1500\n"
     ]
    },
    {
     "name": "stderr",
     "output_type": "stream",
     "text": [
      "LM이 라벨링중입니다: 1001it [01:47, 10.34it/s]"
     ]
    },
    {
     "name": "stdout",
     "output_type": "stream",
     "text": [
      "1000  /  1500\n"
     ]
    },
    {
     "name": "stderr",
     "output_type": "stream",
     "text": [
      "LM이 라벨링중입니다: 1500it [02:40,  9.37it/s]\n"
     ]
    },
    {
     "name": "stdout",
     "output_type": "stream",
     "text": [
      "label 4 --- \n",
      "pred\n",
      "2    348\n",
      "1     92\n",
      "6     90\n",
      "3     50\n",
      "0     24\n",
      "5     15\n",
      "Name: count, dtype: int64\n",
      "         ---- aug data: pred\n",
      "4    881\n",
      "Name: count, dtype: int64\n",
      "\n",
      "\n",
      "label 5 is relabelled ...\n"
     ]
    },
    {
     "name": "stderr",
     "output_type": "stream",
     "text": [
      "LM이 라벨링중입니다: 0it [00:00, ?it/s]"
     ]
    },
    {
     "name": "stdout",
     "output_type": "stream",
     "text": [
      "0  /  1500\n"
     ]
    },
    {
     "name": "stderr",
     "output_type": "stream",
     "text": [
      "LM이 라벨링중입니다: 502it [00:55,  9.08it/s]"
     ]
    },
    {
     "name": "stdout",
     "output_type": "stream",
     "text": [
      "500  /  1500\n"
     ]
    },
    {
     "name": "stderr",
     "output_type": "stream",
     "text": [
      "LM이 라벨링중입니다: 1002it [01:51,  7.30it/s]"
     ]
    },
    {
     "name": "stdout",
     "output_type": "stream",
     "text": [
      "1000  /  1500\n"
     ]
    },
    {
     "name": "stderr",
     "output_type": "stream",
     "text": [
      "LM이 라벨링중입니다: 1500it [02:45,  9.07it/s]\n"
     ]
    },
    {
     "name": "stdout",
     "output_type": "stream",
     "text": [
      "label 5 --- \n",
      "pred\n",
      "2    102\n",
      "3     88\n",
      "4     16\n",
      "1     11\n",
      "0     10\n",
      "6      7\n",
      "Name: count, dtype: int64\n",
      "         ---- aug data: pred\n",
      "5    1266\n",
      "Name: count, dtype: int64\n",
      "\n",
      "\n",
      "label 6 is relabelled ...\n"
     ]
    },
    {
     "name": "stderr",
     "output_type": "stream",
     "text": [
      "LM이 라벨링중입니다: 2it [00:00, 11.05it/s]"
     ]
    },
    {
     "name": "stdout",
     "output_type": "stream",
     "text": [
      "0  /  1500\n"
     ]
    },
    {
     "name": "stderr",
     "output_type": "stream",
     "text": [
      "LM이 라벨링중입니다: 502it [00:50, 10.84it/s]"
     ]
    },
    {
     "name": "stdout",
     "output_type": "stream",
     "text": [
      "500  /  1500\n"
     ]
    },
    {
     "name": "stderr",
     "output_type": "stream",
     "text": [
      "LM이 라벨링중입니다: 1003it [01:34, 12.05it/s]"
     ]
    },
    {
     "name": "stdout",
     "output_type": "stream",
     "text": [
      "1000  /  1500\n"
     ]
    },
    {
     "name": "stderr",
     "output_type": "stream",
     "text": [
      "LM이 라벨링중입니다: 1500it [02:17, 10.94it/s]"
     ]
    },
    {
     "name": "stdout",
     "output_type": "stream",
     "text": [
      "label 6 --- \n",
      "pred\n",
      "2    324\n",
      "4     34\n",
      "1     24\n",
      "3     14\n",
      "5      5\n",
      "0      1\n",
      "Name: count, dtype: int64\n",
      "         ---- aug data: pred\n",
      "6    1098\n",
      "Name: count, dtype: int64\n",
      "\n",
      "\n"
     ]
    },
    {
     "name": "stderr",
     "output_type": "stream",
     "text": [
      "\n"
     ]
    }
   ],
   "source": [
    "# LM 으로 재 라벨링\n",
    "\n",
    "for i in range(7):\n",
    "    print(f\"label {i} is relabelled ...\")\n",
    "    \n",
    "    pred = inference(LM1, LM2, LM3, LM4, bigkinds_candidate_others[i], tokenizer1, tokenizer2, tokenizer3, tokenizer4, DEVICE)\n",
    "\n",
    "    bigkinds_candidate_others[i]['pred'] = pred\n",
    "    \n",
    "    df = bigkinds_candidate_others[i]\n",
    "    print(f\"label {i} --- \\n{df[df['pred'] != df['target']]['pred'].value_counts()}\\n \\\n",
    "        ---- aug data: {df[df['pred'] == df['target']]['pred'].value_counts()}\\n\\n\")\n",
    "    \n",
    "    # 임시 저장\n",
    "    df.to_csv(\"../data/bigkinds_2019_2022/cleaned_2020_all_news_labeladdLM_v1_\" +str(num2target[i]) + \"_.csv\", index=False)"
   ]
  },
  {
   "cell_type": "code",
   "execution_count": 200,
   "metadata": {},
   "outputs": [
    {
     "data": {
      "text/html": [
       "<div>\n",
       "<style scoped>\n",
       "    .dataframe tbody tr th:only-of-type {\n",
       "        vertical-align: middle;\n",
       "    }\n",
       "\n",
       "    .dataframe tbody tr th {\n",
       "        vertical-align: top;\n",
       "    }\n",
       "\n",
       "    .dataframe thead th {\n",
       "        text-align: right;\n",
       "    }\n",
       "</style>\n",
       "<table border=\"1\" class=\"dataframe\">\n",
       "  <thead>\n",
       "    <tr style=\"text-align: right;\">\n",
       "      <th></th>\n",
       "      <th>index</th>\n",
       "      <th>date</th>\n",
       "      <th>언론사</th>\n",
       "      <th>text</th>\n",
       "      <th>url</th>\n",
       "      <th>label_text</th>\n",
       "      <th>target</th>\n",
       "      <th>year</th>\n",
       "      <th>month</th>\n",
       "    </tr>\n",
       "  </thead>\n",
       "  <tbody>\n",
       "    <tr>\n",
       "      <th>1241</th>\n",
       "      <td>2364307</td>\n",
       "      <td>20200429</td>\n",
       "      <td>대구일보</td>\n",
       "      <td>휴게소 투명 아크릴 칸막이로 감염 예방</td>\n",
       "      <td>NaN</td>\n",
       "      <td>사회</td>\n",
       "      <td>2</td>\n",
       "      <td>2020</td>\n",
       "      <td>4</td>\n",
       "    </tr>\n",
       "    <tr>\n",
       "      <th>1590</th>\n",
       "      <td>2549952</td>\n",
       "      <td>20200608</td>\n",
       "      <td>디지털타임스</td>\n",
       "      <td>수도권 깜깜이 환자 증가세에도 일단 사회적 거리두기 복귀는 더 지켜봐야</td>\n",
       "      <td>NaN</td>\n",
       "      <td>사회</td>\n",
       "      <td>2</td>\n",
       "      <td>2020</td>\n",
       "      <td>6</td>\n",
       "    </tr>\n",
       "    <tr>\n",
       "      <th>2513</th>\n",
       "      <td>2856815</td>\n",
       "      <td>20200808</td>\n",
       "      <td>YTN</td>\n",
       "      <td>전남 곡성 산사태 3명 사망...추가 매몰자 구조중</td>\n",
       "      <td>NaN</td>\n",
       "      <td>사회</td>\n",
       "      <td>2</td>\n",
       "      <td>2020</td>\n",
       "      <td>8</td>\n",
       "    </tr>\n",
       "    <tr>\n",
       "      <th>2367</th>\n",
       "      <td>2371110</td>\n",
       "      <td>20200430</td>\n",
       "      <td>국민일보</td>\n",
       "      <td>신원확인 안돼 DNA검사 해야 한대요  슬픔 속 이천 화재 유가족</td>\n",
       "      <td>NaN</td>\n",
       "      <td>사회</td>\n",
       "      <td>2</td>\n",
       "      <td>2020</td>\n",
       "      <td>4</td>\n",
       "    </tr>\n",
       "    <tr>\n",
       "      <th>2003</th>\n",
       "      <td>2042999</td>\n",
       "      <td>20200227</td>\n",
       "      <td>국민일보</td>\n",
       "      <td>신천지 폐렴 vs 문재인 폐렴</td>\n",
       "      <td>NaN</td>\n",
       "      <td>사회</td>\n",
       "      <td>2</td>\n",
       "      <td>2020</td>\n",
       "      <td>2</td>\n",
       "    </tr>\n",
       "    <tr>\n",
       "      <th>...</th>\n",
       "      <td>...</td>\n",
       "      <td>...</td>\n",
       "      <td>...</td>\n",
       "      <td>...</td>\n",
       "      <td>...</td>\n",
       "      <td>...</td>\n",
       "      <td>...</td>\n",
       "      <td>...</td>\n",
       "      <td>...</td>\n",
       "    </tr>\n",
       "    <tr>\n",
       "      <th>2916</th>\n",
       "      <td>2714668</td>\n",
       "      <td>20200709</td>\n",
       "      <td>한겨레</td>\n",
       "      <td>장관 지휘권 관철 검찰 민주적 통제 전례 남겼다</td>\n",
       "      <td>NaN</td>\n",
       "      <td>사회</td>\n",
       "      <td>2</td>\n",
       "      <td>2020</td>\n",
       "      <td>7</td>\n",
       "    </tr>\n",
       "    <tr>\n",
       "      <th>937</th>\n",
       "      <td>2953713</td>\n",
       "      <td>20200827</td>\n",
       "      <td>부산일보</td>\n",
       "      <td>파업 vs 휴업</td>\n",
       "      <td>NaN</td>\n",
       "      <td>사회</td>\n",
       "      <td>2</td>\n",
       "      <td>2020</td>\n",
       "      <td>8</td>\n",
       "    </tr>\n",
       "    <tr>\n",
       "      <th>2808</th>\n",
       "      <td>2725371</td>\n",
       "      <td>20200712</td>\n",
       "      <td>중부일보</td>\n",
       "      <td>소상공인연합회 하루빨리 전열정비할 때다</td>\n",
       "      <td>NaN</td>\n",
       "      <td>사회</td>\n",
       "      <td>2</td>\n",
       "      <td>2020</td>\n",
       "      <td>7</td>\n",
       "    </tr>\n",
       "    <tr>\n",
       "      <th>61</th>\n",
       "      <td>2287053</td>\n",
       "      <td>20200414</td>\n",
       "      <td>중앙일보</td>\n",
       "      <td>마스크 안쓰면 얼차려 인도 대책에 韓도 하자 댓글도</td>\n",
       "      <td>NaN</td>\n",
       "      <td>사회</td>\n",
       "      <td>2</td>\n",
       "      <td>2020</td>\n",
       "      <td>4</td>\n",
       "    </tr>\n",
       "    <tr>\n",
       "      <th>2232</th>\n",
       "      <td>3323068</td>\n",
       "      <td>20201113</td>\n",
       "      <td>서울경제</td>\n",
       "      <td>시험장과 비슷하게</td>\n",
       "      <td>NaN</td>\n",
       "      <td>사회</td>\n",
       "      <td>2</td>\n",
       "      <td>2020</td>\n",
       "      <td>11</td>\n",
       "    </tr>\n",
       "  </tbody>\n",
       "</table>\n",
       "<p>1300 rows × 9 columns</p>\n",
       "</div>"
      ],
      "text/plain": [
       "        index      date     언론사                                     text  url   \n",
       "1241  2364307  20200429    대구일보                    휴게소 투명 아크릴 칸막이로 감염 예방  NaN  \\\n",
       "1590  2549952  20200608  디지털타임스  수도권 깜깜이 환자 증가세에도 일단 사회적 거리두기 복귀는 더 지켜봐야  NaN   \n",
       "2513  2856815  20200808     YTN             전남 곡성 산사태 3명 사망...추가 매몰자 구조중  NaN   \n",
       "2367  2371110  20200430    국민일보     신원확인 안돼 DNA검사 해야 한대요  슬픔 속 이천 화재 유가족  NaN   \n",
       "2003  2042999  20200227    국민일보                         신천지 폐렴 vs 문재인 폐렴  NaN   \n",
       "...       ...       ...     ...                                      ...  ...   \n",
       "2916  2714668  20200709     한겨레               장관 지휘권 관철 검찰 민주적 통제 전례 남겼다  NaN   \n",
       "937   2953713  20200827    부산일보                                 파업 vs 휴업  NaN   \n",
       "2808  2725371  20200712    중부일보                    소상공인연합회 하루빨리 전열정비할 때다  NaN   \n",
       "61    2287053  20200414    중앙일보             마스크 안쓰면 얼차려 인도 대책에 韓도 하자 댓글도  NaN   \n",
       "2232  3323068  20201113    서울경제                                시험장과 비슷하게  NaN   \n",
       "\n",
       "     label_text  target  year  month  \n",
       "1241         사회       2  2020      4  \n",
       "1590         사회       2  2020      6  \n",
       "2513         사회       2  2020      8  \n",
       "2367         사회       2  2020      4  \n",
       "2003         사회       2  2020      2  \n",
       "...         ...     ...   ...    ...  \n",
       "2916         사회       2  2020      7  \n",
       "937          사회       2  2020      8  \n",
       "2808         사회       2  2020      7  \n",
       "61           사회       2  2020      4  \n",
       "2232         사회       2  2020     11  \n",
       "\n",
       "[1300 rows x 9 columns]"
      ]
     },
     "execution_count": 200,
     "metadata": {},
     "output_type": "execute_result"
    }
   ],
   "source": [
    "bigkinds_candidate_others[2] = bigkinds_candidate_others[2].groupby(['target']).get_group(2)\n",
    "bigkinds_candidate_others[2].sample(n=1300, random_state=42)"
   ]
  },
  {
   "cell_type": "code",
   "execution_count": 202,
   "metadata": {},
   "outputs": [
    {
     "name": "stdout",
     "output_type": "stream",
     "text": [
      "label 0 is relabelled ...\n",
      "before: 1500\n",
      "already dropped\n",
      "after: 535\n",
      "\n",
      "label 1 is relabelled ...\n",
      "before: 1500\n",
      "after: 700\n",
      "\n",
      "label 2 is relabelled ...\n",
      "before: 3000\n",
      "after: 1300\n",
      "\n",
      "label 3 is relabelled ...\n",
      "before: 1500\n",
      "after: 700\n",
      "\n",
      "label 4 is relabelled ...\n",
      "before: 1500\n",
      "after: 700\n",
      "\n",
      "label 5 is relabelled ...\n",
      "before: 1500\n",
      "after: 700\n",
      "\n",
      "label 6 is relabelled ...\n",
      "before: 1500\n",
      "after: 700\n",
      "\n"
     ]
    }
   ],
   "source": [
    "# 이중에 800개, 1500개 선택,\n",
    "bigkinds_candidate_others = [pd.DataFrame()] * 7\n",
    "for i in range(7):\n",
    "    bigkinds_candidate_others[i] = pd.read_csv(\"../data/bigkinds_2019_2022/cleaned_2020_all_news_labeladdLM_v1_\" +str(num2target[i]) + \"_.csv\")\n",
    "    print(f\"label {i} is relabelled ...\")\n",
    "    \n",
    "    print(f\"before: {len(bigkinds_candidate_others[i]['target'])}\")\n",
    "    \n",
    "    try:\n",
    "        bigkinds_candidate_others[i]['target'] = bigkinds_candidate_others[i]['pred']\n",
    "        bigkinds_candidate_others[i] = bigkinds_candidate_others[i].drop(['pred'], axis=1)\n",
    "        \n",
    "        bigkinds_candidate_others[i] = bigkinds_candidate_others[i].groupby(['target']).get_group(i)\n",
    "        if i == 2:\n",
    "            bigkinds_candidate_others[i] = bigkinds_candidate_others[i].sample(n=1300, random_state=42)\n",
    "        else:\n",
    "            bigkinds_candidate_others[i] = bigkinds_candidate_others[i].sample(n=700, random_state=42)\n",
    "        \n",
    "    except:\n",
    "        print(\"already dropped\")\n",
    "        \n",
    "    print(f\"after: {len(bigkinds_candidate_others[i]['target'])}\\n\")"
   ]
  },
  {
   "cell_type": "code",
   "execution_count": 204,
   "metadata": {},
   "outputs": [
    {
     "name": "stdout",
     "output_type": "stream",
     "text": [
      "5335\n",
      "5335\n"
     ]
    }
   ],
   "source": [
    "# 이것들 다 합치기\n",
    "\n",
    "bigkinds_candidate_others_total = pd.DataFrame()\n",
    "for i in range(7):\n",
    "    bigkinds_candidate_others_total = pd.concat([bigkinds_candidate_others_total, bigkinds_candidate_others[i]])\n",
    "print(len(bigkinds_candidate_others_total))\n",
    "print(535+700*5+1300)"
   ]
  },
  {
   "cell_type": "code",
   "execution_count": 205,
   "metadata": {},
   "outputs": [],
   "source": [
    "bigkinds_candidate_others_total.to_csv(\"../data/cleaned_2020_all_news_labeladdLM_v2_JH.csv\", index=False)"
   ]
  },
  {
   "attachments": {},
   "cell_type": "markdown",
   "metadata": {},
   "source": [
    "### 5-1-2. valid 에서 못 맞춘 데이터 BT 로 증강한걸로 합쳐서 학습"
   ]
  },
  {
   "cell_type": "code",
   "execution_count": 212,
   "metadata": {},
   "outputs": [
    {
     "name": "stdout",
     "output_type": "stream",
     "text": [
      "26102\n"
     ]
    }
   ],
   "source": [
    "bt_1 = pd.read_csv(\"../data/BT/en2ko_0_7830.csv\")\n",
    "bt_2 = pd.read_csv(\"../data/BT/en2ko_9136_18271.csv\")\n",
    "bt_3 = pd.read_csv(\"../data/BT/en2ko_18272_27408 (1).csv\")\n",
    "bt_data = pd.concat([bt_1, bt_2, bt_3])\n",
    "print(len(bt_data))"
   ]
  },
  {
   "cell_type": "code",
   "execution_count": 213,
   "metadata": {},
   "outputs": [
    {
     "data": {
      "text/html": [
       "<div>\n",
       "<style scoped>\n",
       "    .dataframe tbody tr th:only-of-type {\n",
       "        vertical-align: middle;\n",
       "    }\n",
       "\n",
       "    .dataframe tbody tr th {\n",
       "        vertical-align: top;\n",
       "    }\n",
       "\n",
       "    .dataframe thead th {\n",
       "        text-align: right;\n",
       "    }\n",
       "</style>\n",
       "<table border=\"1\" class=\"dataframe\">\n",
       "  <thead>\n",
       "    <tr style=\"text-align: right;\">\n",
       "      <th></th>\n",
       "      <th>Unnamed: 0</th>\n",
       "      <th>ID</th>\n",
       "      <th>text</th>\n",
       "      <th>target</th>\n",
       "      <th>url</th>\n",
       "      <th>date</th>\n",
       "      <th>ko2en</th>\n",
       "      <th>en2ko</th>\n",
       "    </tr>\n",
       "  </thead>\n",
       "  <tbody>\n",
       "    <tr>\n",
       "      <th>0</th>\n",
       "      <td>0</td>\n",
       "      <td>ynat-v1_train_00000</td>\n",
       "      <td>유튜브 내달 2일까지 크리에이터 지원 공간 운영</td>\n",
       "      <td>3</td>\n",
       "      <td>https://news.naver.com/main/read.nhn?mode=LS2D...</td>\n",
       "      <td>2016.06.30. 오전 10:36</td>\n",
       "      <td>YouTube operates a creator support space until...</td>\n",
       "      <td>유튜브 내달 2일까지 크리에이터 지원 공간 운영</td>\n",
       "    </tr>\n",
       "    <tr>\n",
       "      <th>1</th>\n",
       "      <td>1</td>\n",
       "      <td>ynat-v1_train_00001</td>\n",
       "      <td>어버이날 맑다가 흐려져…남부지방 옅은 황사</td>\n",
       "      <td>3</td>\n",
       "      <td>https://news.naver.com/main/read.nhn?mode=LS2D...</td>\n",
       "      <td>2016.05.08. 오전 5:25</td>\n",
       "      <td>It's clear and cloudy on Parents' Day...Light ...</td>\n",
       "      <td>어버이날은 맑고 흐립니다...남쪽의 옅은 황사</td>\n",
       "    </tr>\n",
       "    <tr>\n",
       "      <th>2</th>\n",
       "      <td>2</td>\n",
       "      <td>ynat-v1_train_00002</td>\n",
       "      <td>내년부터 국가RD 평가 때 논문건수는 반영 않는다</td>\n",
       "      <td>2</td>\n",
       "      <td>https://news.naver.com/main/read.nhn?mode=LS2D...</td>\n",
       "      <td>2016.03.15. 오후 12:00</td>\n",
       "      <td>The number of papers will not be reflected in ...</td>\n",
       "      <td>논문 수는 내년부터 국가 RD 평가에 반영되지 않을 것입니다</td>\n",
       "    </tr>\n",
       "    <tr>\n",
       "      <th>3</th>\n",
       "      <td>3</td>\n",
       "      <td>ynat-v1_train_00003</td>\n",
       "      <td>김명자 신임 과총 회장 원로와 젊은 과학자 지혜 모을 것</td>\n",
       "      <td>2</td>\n",
       "      <td>https://news.naver.com/main/read.nhn?mode=LS2D...</td>\n",
       "      <td>2017.02.28. 오전 9:54</td>\n",
       "      <td>Kim Myung-ja, the new chairman of the Korea Fe...</td>\n",
       "      <td>김명자 신임 한국과학기술총연합회 회장, 젊은 과학자들 지혜 모아</td>\n",
       "    </tr>\n",
       "  </tbody>\n",
       "</table>\n",
       "</div>"
      ],
      "text/plain": [
       "   Unnamed: 0                   ID                             text  target   \n",
       "0           0  ynat-v1_train_00000       유튜브 내달 2일까지 크리에이터 지원 공간 운영       3  \\\n",
       "1           1  ynat-v1_train_00001          어버이날 맑다가 흐려져…남부지방 옅은 황사       3   \n",
       "2           2  ynat-v1_train_00002      내년부터 국가RD 평가 때 논문건수는 반영 않는다       2   \n",
       "3           3  ynat-v1_train_00003  김명자 신임 과총 회장 원로와 젊은 과학자 지혜 모을 것       2   \n",
       "\n",
       "                                                 url                  date   \n",
       "0  https://news.naver.com/main/read.nhn?mode=LS2D...  2016.06.30. 오전 10:36  \\\n",
       "1  https://news.naver.com/main/read.nhn?mode=LS2D...   2016.05.08. 오전 5:25   \n",
       "2  https://news.naver.com/main/read.nhn?mode=LS2D...  2016.03.15. 오후 12:00   \n",
       "3  https://news.naver.com/main/read.nhn?mode=LS2D...   2017.02.28. 오전 9:54   \n",
       "\n",
       "                                               ko2en   \n",
       "0  YouTube operates a creator support space until...  \\\n",
       "1  It's clear and cloudy on Parents' Day...Light ...   \n",
       "2  The number of papers will not be reflected in ...   \n",
       "3  Kim Myung-ja, the new chairman of the Korea Fe...   \n",
       "\n",
       "                                 en2ko  \n",
       "0           유튜브 내달 2일까지 크리에이터 지원 공간 운영  \n",
       "1            어버이날은 맑고 흐립니다...남쪽의 옅은 황사  \n",
       "2    논문 수는 내년부터 국가 RD 평가에 반영되지 않을 것입니다  \n",
       "3  김명자 신임 한국과학기술총연합회 회장, 젊은 과학자들 지혜 모아  "
      ]
     },
     "execution_count": 213,
     "metadata": {},
     "output_type": "execute_result"
    }
   ],
   "source": [
    "bt_data.head(4)"
   ]
  },
  {
   "cell_type": "code",
   "execution_count": 222,
   "metadata": {},
   "outputs": [],
   "source": [
    "# valid에 해당하는 id가 en2ko 되어있는지 확인하자.\n",
    "\n",
    "val_JH = pd.read_csv(\"../results/01163218-train_spelling_v2_label_v1-cleaned_2020_all_news_labeladdLM_v2_JH/01163218-train_spelling_v2_label_v1-cleaned_2020_all_news_labeladdLM_v2_JH_val.csv\")\n",
    "\n",
    "true_y = val_JH['target']\n",
    "predicted_y = val_JH['pred_y']\n",
    "\n",
    "val_JH_society = val_JH.groupby(['target']).get_group(2)\n",
    "# print(f\"\\t<정답은 사회이지만 경제로 예측한 데이터 예시 - 주형 모든뉴스(2020) 추가>\\n\")\n",
    "# print(val_JH_society[val_JH_society['pred_y'] == 1]['text'][10:30])\n",
    "\n",
    "\n",
    "wrong_in_valid_JH = val_JH[val_JH['target'] != val_JH['pred_y']]\n",
    "wrong_in_valid_JH_en2ko = bt_data[bt_data['ID'].isin(wrong_in_valid_JH['ID'])]\n"
   ]
  },
  {
   "cell_type": "code",
   "execution_count": 223,
   "metadata": {},
   "outputs": [
    {
     "name": "stdout",
     "output_type": "stream",
     "text": [
      "역번역됬는데, valid에 해당하고, 못 맞춘 것 길이: 908\n"
     ]
    }
   ],
   "source": [
    "print(f\"역번역됬는데, valid에 해당하고, 못 맞춘 것 길이: {len(wrong_in_valid_JH_en2ko)}\")"
   ]
  },
  {
   "cell_type": "code",
   "execution_count": 229,
   "metadata": {},
   "outputs": [],
   "source": [
    "wrong_in_valid_JH_en2ko.to_csv(\"../data/cleaned_2020_all_news_labeladdLM_v2_JH_wrong_in_valid.csv\")"
   ]
  },
  {
   "cell_type": "code",
   "execution_count": 225,
   "metadata": {},
   "outputs": [],
   "source": [
    "wrong_in_valid_JH_en2ko['text'] = wrong_in_valid_JH_en2ko['en2ko']\n"
   ]
  },
  {
   "cell_type": "code",
   "execution_count": 228,
   "metadata": {},
   "outputs": [],
   "source": [
    "# bigkinds_society_20 = bigkinds_society_20.dropna(subset=['month'])\n",
    "wrong_in_valid_JH_en2ko = wrong_in_valid_JH_en2ko.dropna(subset=['text'])"
   ]
  },
  {
   "cell_type": "code",
   "execution_count": 232,
   "metadata": {},
   "outputs": [
    {
     "data": {
      "text/plain": [
       "Unnamed: 0    0\n",
       "ID            0\n",
       "text          0\n",
       "target        0\n",
       "url           0\n",
       "date          0\n",
       "ko2en         0\n",
       "en2ko         0\n",
       "dtype: int64"
      ]
     },
     "execution_count": 232,
     "metadata": {},
     "output_type": "execute_result"
    }
   ],
   "source": [
    "wrong_in_valid_JH_en2ko.isna().sum()"
   ]
  },
  {
   "cell_type": "code",
   "execution_count": 226,
   "metadata": {},
   "outputs": [
    {
     "data": {
      "text/html": [
       "<div>\n",
       "<style scoped>\n",
       "    .dataframe tbody tr th:only-of-type {\n",
       "        vertical-align: middle;\n",
       "    }\n",
       "\n",
       "    .dataframe tbody tr th {\n",
       "        vertical-align: top;\n",
       "    }\n",
       "\n",
       "    .dataframe thead th {\n",
       "        text-align: right;\n",
       "    }\n",
       "</style>\n",
       "<table border=\"1\" class=\"dataframe\">\n",
       "  <thead>\n",
       "    <tr style=\"text-align: right;\">\n",
       "      <th></th>\n",
       "      <th>Unnamed: 0</th>\n",
       "      <th>ID</th>\n",
       "      <th>text</th>\n",
       "      <th>target</th>\n",
       "      <th>url</th>\n",
       "      <th>date</th>\n",
       "      <th>ko2en</th>\n",
       "      <th>en2ko</th>\n",
       "    </tr>\n",
       "  </thead>\n",
       "  <tbody>\n",
       "    <tr>\n",
       "      <th>55</th>\n",
       "      <td>55</td>\n",
       "      <td>ynat-v1_train_00055</td>\n",
       "      <td>당국의 느린 검토가 GSMA 통신 합병 및 합병 중 비즈니스를 방해합니다</td>\n",
       "      <td>2</td>\n",
       "      <td>https://news.naver.com/main/read.nhn?mode=LS2D...</td>\n",
       "      <td>2016.02.14. 오전 11:07</td>\n",
       "      <td>Slow review by authorities hinders business du...</td>\n",
       "      <td>당국의 느린 검토가 GSMA 통신 합병 및 합병 중 비즈니스를 방해합니다</td>\n",
       "    </tr>\n",
       "    <tr>\n",
       "      <th>89</th>\n",
       "      <td>89</td>\n",
       "      <td>ynat-v1_train_00089</td>\n",
       "      <td>은행 점포 폐쇄 시 고객 영향 평가...불편 최소화 방안 유도</td>\n",
       "      <td>2</td>\n",
       "      <td>https://news.naver.com/main/read.nhn?mode=LS2D...</td>\n",
       "      <td>2018.08.01. 오전 6:20</td>\n",
       "      <td>Customer impact assessment when bank stores ar...</td>\n",
       "      <td>은행 점포 폐쇄 시 고객 영향 평가...불편 최소화 방안 유도</td>\n",
       "    </tr>\n",
       "    <tr>\n",
       "      <th>120</th>\n",
       "      <td>120</td>\n",
       "      <td>ynat-v1_train_00120</td>\n",
       "      <td>롯데카드 MLB 팀 이미지가 담긴 한정판 카드 출시</td>\n",
       "      <td>1</td>\n",
       "      <td>https://sports.news.naver.com/news.nhn?oid=001...</td>\n",
       "      <td>2019.10.14 11:29</td>\n",
       "      <td>Lotte Card Launches Limited Edition Card with ...</td>\n",
       "      <td>롯데카드 MLB 팀 이미지가 담긴 한정판 카드 출시</td>\n",
       "    </tr>\n",
       "    <tr>\n",
       "      <th>166</th>\n",
       "      <td>166</td>\n",
       "      <td>ynat-v1_train_00166</td>\n",
       "      <td>새해 회담과 회의, 미국의 전략자산이 추가로 개발될 시기는</td>\n",
       "      <td>6</td>\n",
       "      <td>https://news.naver.com/main/read.nhn?mode=LS2D...</td>\n",
       "      <td>2016.01.13. 오전 11:25</td>\n",
       "      <td>New Year's talks and conferences, the time for...</td>\n",
       "      <td>새해 회담과 회의, 미국의 전략자산이 추가로 개발될 시기는</td>\n",
       "    </tr>\n",
       "    <tr>\n",
       "      <th>186</th>\n",
       "      <td>186</td>\n",
       "      <td>ynat-v1_train_00186</td>\n",
       "      <td>영장실질심사 출석한 임종헌, 침묵</td>\n",
       "      <td>6</td>\n",
       "      <td>https://news.naver.com/main/read.nhn?mode=LS2D...</td>\n",
       "      <td>2018.10.26. 오전 10:19</td>\n",
       "      <td>Im Jong-heon, who attends the warrant review, ...</td>\n",
       "      <td>영장실질심사 출석한 임종헌, 침묵</td>\n",
       "    </tr>\n",
       "  </tbody>\n",
       "</table>\n",
       "</div>"
      ],
      "text/plain": [
       "     Unnamed: 0                   ID   \n",
       "55           55  ynat-v1_train_00055  \\\n",
       "89           89  ynat-v1_train_00089   \n",
       "120         120  ynat-v1_train_00120   \n",
       "166         166  ynat-v1_train_00166   \n",
       "186         186  ynat-v1_train_00186   \n",
       "\n",
       "                                         text  target   \n",
       "55   당국의 느린 검토가 GSMA 통신 합병 및 합병 중 비즈니스를 방해합니다       2  \\\n",
       "89         은행 점포 폐쇄 시 고객 영향 평가...불편 최소화 방안 유도       2   \n",
       "120              롯데카드 MLB 팀 이미지가 담긴 한정판 카드 출시       1   \n",
       "166          새해 회담과 회의, 미국의 전략자산이 추가로 개발될 시기는       6   \n",
       "186                        영장실질심사 출석한 임종헌, 침묵       6   \n",
       "\n",
       "                                                   url                  date   \n",
       "55   https://news.naver.com/main/read.nhn?mode=LS2D...  2016.02.14. 오전 11:07  \\\n",
       "89   https://news.naver.com/main/read.nhn?mode=LS2D...   2018.08.01. 오전 6:20   \n",
       "120  https://sports.news.naver.com/news.nhn?oid=001...      2019.10.14 11:29   \n",
       "166  https://news.naver.com/main/read.nhn?mode=LS2D...  2016.01.13. 오전 11:25   \n",
       "186  https://news.naver.com/main/read.nhn?mode=LS2D...  2018.10.26. 오전 10:19   \n",
       "\n",
       "                                                 ko2en   \n",
       "55   Slow review by authorities hinders business du...  \\\n",
       "89   Customer impact assessment when bank stores ar...   \n",
       "120  Lotte Card Launches Limited Edition Card with ...   \n",
       "166  New Year's talks and conferences, the time for...   \n",
       "186  Im Jong-heon, who attends the warrant review, ...   \n",
       "\n",
       "                                        en2ko  \n",
       "55   당국의 느린 검토가 GSMA 통신 합병 및 합병 중 비즈니스를 방해합니다  \n",
       "89         은행 점포 폐쇄 시 고객 영향 평가...불편 최소화 방안 유도  \n",
       "120              롯데카드 MLB 팀 이미지가 담긴 한정판 카드 출시  \n",
       "166          새해 회담과 회의, 미국의 전략자산이 추가로 개발될 시기는  \n",
       "186                        영장실질심사 출석한 임종헌, 침묵  "
      ]
     },
     "execution_count": 226,
     "metadata": {},
     "output_type": "execute_result"
    }
   ],
   "source": [
    "wrong_in_valid_JH_en2ko.head(5)"
   ]
  },
  {
   "cell_type": "code",
   "execution_count": 220,
   "metadata": {},
   "outputs": [
    {
     "data": {
      "text/html": [
       "<div>\n",
       "<style scoped>\n",
       "    .dataframe tbody tr th:only-of-type {\n",
       "        vertical-align: middle;\n",
       "    }\n",
       "\n",
       "    .dataframe tbody tr th {\n",
       "        vertical-align: top;\n",
       "    }\n",
       "\n",
       "    .dataframe thead th {\n",
       "        text-align: right;\n",
       "    }\n",
       "</style>\n",
       "<table border=\"1\" class=\"dataframe\">\n",
       "  <thead>\n",
       "    <tr style=\"text-align: right;\">\n",
       "      <th></th>\n",
       "      <th>Unnamed: 0</th>\n",
       "      <th>ID</th>\n",
       "      <th>text</th>\n",
       "      <th>target</th>\n",
       "      <th>url</th>\n",
       "      <th>date</th>\n",
       "      <th>track</th>\n",
       "      <th>pred_y</th>\n",
       "    </tr>\n",
       "  </thead>\n",
       "  <tbody>\n",
       "    <tr>\n",
       "      <th>0</th>\n",
       "      <td>14823</td>\n",
       "      <td>ynat-v1_train_14823</td>\n",
       "      <td>인도 프리미엄폰 시장 잡아라…삼성·애플·샤오미 한판</td>\n",
       "      <td>0</td>\n",
       "      <td>https://news.naver.com/main/read.nhn?mode=LS2D...</td>\n",
       "      <td>2017.10.12. 오전 7:15</td>\n",
       "      <td>train_spelling_v2_label_v1</td>\n",
       "      <td>4</td>\n",
       "    </tr>\n",
       "    <tr>\n",
       "      <th>22</th>\n",
       "      <td>16298</td>\n",
       "      <td>ynat-v1_train_16298</td>\n",
       "      <td>네이마르바르사 소송전에도…MSN 트리오는 화기애애</td>\n",
       "      <td>5</td>\n",
       "      <td>https://sports.news.naver.com/news.nhn?oid=001...</td>\n",
       "      <td>2017.08.23 08:48</td>\n",
       "      <td>train_spelling_v2_label_v1</td>\n",
       "      <td>4</td>\n",
       "    </tr>\n",
       "    <tr>\n",
       "      <th>33</th>\n",
       "      <td>34398</td>\n",
       "      <td>ynat-v1_train_34398</td>\n",
       "      <td>고침문화수어영상 크기·위치 맘대로…</td>\n",
       "      <td>2</td>\n",
       "      <td>https://news.naver.com/main/read.nhn?mode=LS2D...</td>\n",
       "      <td>2018.02.21. 오후 2:43</td>\n",
       "      <td>train_spelling_v2_label_v1</td>\n",
       "      <td>3</td>\n",
       "    </tr>\n",
       "  </tbody>\n",
       "</table>\n",
       "</div>"
      ],
      "text/plain": [
       "    Unnamed: 0                   ID                          text  target   \n",
       "0        14823  ynat-v1_train_14823  인도 프리미엄폰 시장 잡아라…삼성·애플·샤오미 한판       0  \\\n",
       "22       16298  ynat-v1_train_16298   네이마르바르사 소송전에도…MSN 트리오는 화기애애       5   \n",
       "33       34398  ynat-v1_train_34398           고침문화수어영상 크기·위치 맘대로…       2   \n",
       "\n",
       "                                                  url                 date   \n",
       "0   https://news.naver.com/main/read.nhn?mode=LS2D...  2017.10.12. 오전 7:15  \\\n",
       "22  https://sports.news.naver.com/news.nhn?oid=001...     2017.08.23 08:48   \n",
       "33  https://news.naver.com/main/read.nhn?mode=LS2D...  2018.02.21. 오후 2:43   \n",
       "\n",
       "                         track  pred_y  \n",
       "0   train_spelling_v2_label_v1       4  \n",
       "22  train_spelling_v2_label_v1       4  \n",
       "33  train_spelling_v2_label_v1       3  "
      ]
     },
     "execution_count": 220,
     "metadata": {},
     "output_type": "execute_result"
    }
   ],
   "source": [
    "wrong_in_valid_JH.head(3)"
   ]
  },
  {
   "cell_type": "code",
   "execution_count": 219,
   "metadata": {},
   "outputs": [
    {
     "name": "stdout",
     "output_type": "stream",
     "text": [
      "1338 13704\n"
     ]
    }
   ],
   "source": [
    "print(len(wrong_in_valid_JH), len(val_JH))"
   ]
  },
  {
   "attachments": {},
   "cell_type": "markdown",
   "metadata": {},
   "source": [
    "### 5-2. IT과학 더하기 -> 일단 냅두자."
   ]
  },
  {
   "cell_type": "code",
   "execution_count": 66,
   "metadata": {},
   "outputs": [
    {
     "name": "stdout",
     "output_type": "stream",
     "text": [
      "columns: Index(['Unnamed: 0', 'ID', 'text', 'target', 'url', 'date', 'year', 'month'], dtype='object')\n",
      "targets: [3 2 0 5 4 6 1]\n",
      "each year data numbers: \n",
      "year\n",
      "2017    1936\n",
      "2018    1287\n",
      "2019    1219\n",
      "2016    1096\n",
      "Name: count, dtype: int64\n",
      "each year data numbers: \n",
      "month\n",
      "02    549\n",
      "03    544\n",
      "04    540\n",
      "05    516\n",
      "08    467\n",
      "07    448\n",
      "09    444\n",
      "11    441\n",
      "06    435\n",
      "10    412\n",
      "01    377\n",
      "12    365\n",
      "Name: count, dtype: int64\n"
     ]
    },
    {
     "data": {
      "image/png": "[encoded data removed]",
      "text/plain": [
       "<Figure size 1000x300 with 2 Axes>"
      ]
     },
     "metadata": {},
     "output_type": "display_data"
    }
   ],
   "source": [
    "## 사회, it과학 데이터 추가를 위한 월 연도 분포 확인\n",
    "import pandas as pd\n",
    "import seaborn as sns\n",
    "import matplotlib.pyplot as plt\n",
    "\n",
    "num2target = ['IT과학', '경제', '사회', '생활문화', '세계', '스포츠', '정치']\n",
    "num2target_dict = {idx:item for idx, item in enumerate(num2target)}\n",
    "target2num = {item:idx for idx, item in enumerate(num2target)}\n",
    "\n",
    "# train_data = pd.read_csv(\"../data/train_spelling_v2_label_v1.csv\")\n",
    "\n",
    "# train_data['year'], train_data['month'] = zip(*train_data['date'].apply(lambda x:extract_year_month(x)))\n",
    "\n",
    "# IT 카테고리는 연도 분포/ 월 분포가 어떻게?\n",
    "print(f\"columns: {train_data.columns}\")\n",
    "print(f\"targets: {train_data['target'].unique()}\")\n",
    "ITscience_group = train_data.groupby(['target']).get_group(0)\n",
    "\n",
    "fig, ax = plt.subplots(1,2,figsize=(10,3))\n",
    "sns.countplot(x=ITscience_group['year'], data=ITscience_group, ax=ax[0],\n",
    "              order=sorted(ITscience_group['year'].unique().tolist()))\n",
    "print(f\"each year data numbers: \\n{ITscience_group['year'].value_counts()}\")\n",
    "\n",
    "sns.countplot(x=ITscience_group['month'], data=ITscience_group, ax=ax[1],\n",
    "              order=sorted(ITscience_group['month'].unique().tolist()))\n",
    "print(f\"each year data numbers: \\n{ITscience_group['month'].value_counts()}\")"
   ]
  },
  {
   "cell_type": "code",
   "execution_count": null,
   "metadata": {},
   "outputs": [],
   "source": []
  },
  {
   "attachments": {},
   "cell_type": "markdown",
   "metadata": {},
   "source": [
    "## 6. Confusion matrix 그려보기"
   ]
  },
  {
   "cell_type": "code",
   "execution_count": 84,
   "metadata": {},
   "outputs": [
    {
     "data": {
      "image/png": "[encoded data removed]",
      "text/plain": [
       "<Figure size 1040x715 with 2 Axes>"
      ]
     },
     "metadata": {},
     "output_type": "display_data"
    }
   ],
   "source": [
    "import seaborn as sns\n",
    "import pandas as pd\n",
    "import matplotlib.pyplot as plt\n",
    "from sklearn.metrics import confusion_matrix\n",
    "\n",
    "valid_data_org = pd.read_csv(\"../results/29163305-train/29163305-train_val.csv\")\n",
    "valid_data_add_society_2020 = pd.read_csv(\"../results/01101956-train_spelling_v2_label_v1_add_society2020/01101956-train_spelling_v2_label_v1_add_society2020_val.csv\")\n",
    "\n",
    "true_y = valid_data_org['target']\n",
    "predicted_y = valid_data_org['pred_y']\n",
    "cm_org = confusion_matrix(y_true=true_y, y_pred=predicted_y)\n",
    "\n",
    "true_2 = valid_data_add_society_2020['target']\n",
    "predicted_2 = valid_data_add_society_2020['pred_y']\n",
    "cm_add_society_2020 = confusion_matrix(y_true=true_2, y_pred=predicted_2)\n",
    "\n",
    "sns.heatmap(cm_org, annot=True, cmap='Blues', fmt='d')\n",
    "plt.xlabel('Predicted Labels')\n",
    "plt.ylabel('True Labels')\n",
    "plt.title('Confusion Matrix')\n",
    "# plt.xticks(ticks=range(len(classes)), labels=classes, rotation=45)\n",
    "# plt.yticks(ticks=range(len(classes)), labels=classes, rotation=0)\n",
    "\n",
    "plt.show()"
   ]
  },
  {
   "cell_type": "code",
   "execution_count": 85,
   "metadata": {},
   "outputs": [
    {
     "data": {
      "text/plain": [
       "Text(0.5, 1.0, 'Confusion Matrix')"
      ]
     },
     "execution_count": 85,
     "metadata": {},
     "output_type": "execute_result"
    },
    {
     "data": {
      "image/png": "[encoded data removed]",
      "text/plain": [
       "<Figure size 1040x715 with 2 Axes>"
      ]
     },
     "metadata": {},
     "output_type": "display_data"
    }
   ],
   "source": [
    "# 잘못 학습한 데이터로 val confusion matrix그리는 것. 추가 외부데이터도 val에 섞여있다.\n",
    "# 사회를 추가했을 때의 matrix이다.\n",
    "sns.heatmap(cm_add_society_2020, annot=True, cmap='Blues', fmt='d')\n",
    "plt.xlabel('Predicted Labels')\n",
    "plt.ylabel('True Labels')\n",
    "plt.title('Confusion Matrix')"
   ]
  },
  {
   "cell_type": "code",
   "execution_count": 123,
   "metadata": {},
   "outputs": [
    {
     "data": {
      "text/plain": [
       "Text(0.5, 1.0, 'Confusion Matrix')"
      ]
     },
     "execution_count": 123,
     "metadata": {},
     "output_type": "execute_result"
    },
    {
     "data": {
      "image/png": "[encoded data removed]",
      "text/plain": [
       "<Figure size 1040x715 with 2 Axes>"
      ]
     },
     "metadata": {},
     "output_type": "display_data"
    }
   ],
   "source": [
    "# 사회데이터를 추가하고, 원래 train에서의 30%에 대한 valid는 어떻게 변했는지 확인\n",
    "\n",
    "valid_data_add_society_2020_2 = pd.read_csv(\"../results/01101956-train_spelling_v2_label_v1_add_society2020/01101956-train_spelling_v2_label_v1_add_society2020_val.csv\")\n",
    "\n",
    "true_y = valid_data_add_society_2020_2['target']\n",
    "predicted_y = valid_data_add_society_2020_2['pred_y']\n",
    "cm = confusion_matrix(y_true=true_y, y_pred=predicted_y)\n",
    "\n",
    "sns.heatmap(cm, annot=True, cmap='Blues', fmt='d')\n",
    "plt.xlabel('Predicted Labels')\n",
    "plt.ylabel('True Labels')\n",
    "plt.title('Confusion Matrix')\n",
    "\n",
    "# 결과분석 -> 오히려 3번(생활문화)로 예측한 것은 늘었다. 이건 LM으로 잡아줘야겠다."
   ]
  },
  {
   "cell_type": "code",
   "execution_count": 93,
   "metadata": {},
   "outputs": [
    {
     "name": "stdout",
     "output_type": "stream",
     "text": [
      "org society len:1552, add society len: 1843     -> 291 개 (18.75)% 증가\n"
     ]
    }
   ],
   "source": [
    "# 사회 데이터를 1300개 추가했었다. 여기서 valid는 얼마나 늘었는가?\n",
    "print(f\"org society len:{len(true_y[true_y == 2])}, add society len: {len(true_2[true_2==2])} \\\n",
    "    -> {len(true_2[true_2==2])-len(true_y[true_y == 2])} 개 ({(len(true_2[true_2==2])-len(true_y[true_y == 2]))/len(true_y[true_y == 2])*100})% 증가\")\n",
    "\n",
    "# 그래서 결과적으로 감소한 society 오답률은?\n"
   ]
  },
  {
   "cell_type": "code",
   "execution_count": null,
   "metadata": {},
   "outputs": [],
   "source": []
  },
  {
   "cell_type": "code",
   "execution_count": 109,
   "metadata": {},
   "outputs": [
    {
     "name": "stdout",
     "output_type": "stream",
     "text": [
      "\t<정답은 사회이지만 생활문화로 예측한 데이터 예시 - 원본+spelling>\n",
      "\n",
      "940                     홍천군 찰옥수수축제 28∼30일 열려\n",
      "1008           미세먼지 비상구는 대중교통…제일기획 광고 공모전 대상\n",
      "1055          서울로 초기 흥행 순풍…9일 만에 방문자 80만명 육박\n",
      "1300        우수도서관에 어린이도서관·소화초등학교…25일 전국도서관대회\n",
      "1348           광주세계수영대회 조직위 문화행사 시민 공연예술가 모집\n",
      "1603                예스이사 영어학씁써 마흔대가 가장 마니 산다\n",
      "1872           목포에 마이스 관광객 몰린다…춤추는 바다분수 등 인기\n",
      "1931                   인사말 하는 김애란 한국분장예술인협회장\n",
      "2037    울릉 3일간 기록적인 물폭탄 398.1㎜…78년 관측 사상 최고치\n",
      "2153                    연합이매진 해남땅끝마을 희망의 시작점\n",
      "2233          차세대 지휘자 찾아…서울시향 부지휘자 최초로 공개 모집\n",
      "2335              기립박수 받고 떠나는 금호아트홀…끝이 아닌 시작\n",
      "2357          날씨 흐리고 곳곳 비…낮 23∼29도 늦더위 계속12일\n",
      "2428               인터파크 인기 유튜버 초청 1인 방송 무료강의\n",
      "2459                  게시판 출판인 위한 출판경영마케팅 클래스\n",
      "2482              롯데월드타워서 국제수직마라톤대회 스카이런 열린다\n",
      "2562            예수릐전당 치닐롤라 느마쾨에 사과…아프로 신경쓰겓따\n",
      "2645              아침 안개 이후 화창한 봄날씨…사전 투표 하세요\n",
      "2672           평창대관령음악제 오늘 개막…강원에 펼쳐질 젊은 클래식\n",
      "2724             박썬히 코리안심포니오케스트라 시님 대표이사 임명식\n",
      "Name: text, dtype: object\n"
     ]
    }
   ],
   "source": [
    "valid_data_society_wronly_predicted = valid_data_org.groupby(['target']).get_group(2)\n",
    "print(f\"\\t<정답은 사회이지만 생활문화로 예측한 데이터 예시 - 원본+spelling>\\n\")\n",
    "print(valid_data_society_wronly_predicted[valid_data_society_wronly_predicted['pred_y'] == 3]['text'][10:30])"
   ]
  },
  {
   "cell_type": "code",
   "execution_count": 110,
   "metadata": {},
   "outputs": [
    {
     "name": "stdout",
     "output_type": "stream",
     "text": [
      "\t<정답은 사회이지만 생활문화로 예측한 데이터 예시 - 원본+spelling+사회1300개 더한걸로 valid 나눴을 때>\n",
      "\n",
      "534                       씨엘 어마어마한 아우라\n",
      "721        헬조선을 벗어나 세계로…한국 청년들은 왜 떠나는가\n",
      "734           패션은 다문화의 공감대이자 사회 통합의 촉매\n",
      "850          주말 추위 대신 미세먼지...내일도 공기 탁해\n",
      "970      버려진 병원에 예술이 피었다…광주가 상처를 보듬는 법\n",
      "1081            대학생 눈높이에 맞춰 쓴 중국역사 개설서\n",
      "1130               차가운 출근길 서울 9일째 건조경보\n",
      "1147       한국 지난해 세계에서 국제회의 가장 많이 개최했다\n",
      "1150        경광봉 안 보여요 야심한 밤 위험한 마라톤 대회\n",
      "1273    4년 논란 승무·태평무·살풀이춤 보유자 9명 인정 예고\n",
      "1335       오리·달·백조·쥐 이어 이번엔 석촌호수에 끈적괴물\n",
      "1356          출판인회의 출판인 경험 나누는 출판정담 개최\n",
      "1602          예스24 영어학습서 40대가 가장 많이 산다\n",
      "1643      충주 어린이 놀이시설 라바랜드 입장객 30만명 돌파\n",
      "1809    서울로 초기 흥행 순풍…9일 만에 방문자 80만명 육박\n",
      "1854                       천연보호구역을 지켜라\n",
      "1869       어머니를 응원합니다 KBS 아침마당 어버이날 특집\n",
      "1929      전남 침수·가로수 피해 속출…호우특보 모두 해제종합\n",
      "2002       행복얼라이언스 청계천 징검다리 도시락 기부 이벤트\n",
      "2140           오늘 오전까지 비 눈 강원 산지 대설주의보\n",
      "Name: text, dtype: object\n"
     ]
    }
   ],
   "source": [
    "valid_data_society_wronly_predicted_add_society = valid_data_add_society_2020.groupby(['target']).get_group(2)\n",
    "print(f\"\\t<정답은 사회이지만 생활문화로 예측한 데이터 예시 - 원본+spelling+사회1300개 더한걸로 valid 나눴을 때>\\n\")\n",
    "print(valid_data_society_wronly_predicted_add_society[valid_data_society_wronly_predicted_add_society['pred_y'] == 3]['text'][10:30])"
   ]
  },
  {
   "cell_type": "code",
   "execution_count": null,
   "metadata": {},
   "outputs": [],
   "source": []
  },
  {
   "cell_type": "code",
   "execution_count": 206,
   "metadata": {},
   "outputs": [
    {
     "data": {
      "text/plain": [
       "['IT과학', '경제', '사회', '생활문화', '세계', '스포츠', '정치']"
      ]
     },
     "execution_count": 206,
     "metadata": {},
     "output_type": "execute_result"
    }
   ],
   "source": [
    "# 추가하는 데이터는 말뭉치로 1차 걸러볼까? - 생활문화에 많이 나오는 단어가 포함되어있으면 해당 데이터를 제거해서 더해볼까?\n",
    "num2target"
   ]
  },
  {
   "cell_type": "code",
   "execution_count": 207,
   "metadata": {},
   "outputs": [
    {
     "name": "stdout",
     "output_type": "stream",
     "text": [
      "\t<정답은 사회이지만 경제로 예측한 데이터 예시 - 희진 매일경제>\n",
      "\n",
      "1427         삼성물산 KCC에 주택사업 매각 고려 안 해종합\n",
      "1440      계약과 다른 요금 청구…유료방송 고객피해 38.6%↑\n",
      "1570       자사주 매입 자신감 드러낸 조준호…G6 성공할까종합\n",
      "1715        은산분리·샌드박스·기촉법 등 금융3법 주후반 윤곽\n",
      "1767         SKTCJ헬로비전 인수합병 둘러싸고 치열한 공방\n",
      "1768             주요 업종 수출 점검회의 참석하는 백운규\n",
      "1788             현대차 고성능 N의 첫 모델 벨로스터 N\n",
      "2065      SKT CJ헬로비전 인수합병 무산 가능성 첫 공식언급\n",
      "2656               월드클래스 300 기업 선정서 수여식\n",
      "2718               예금보험 적용 금융사 정보 개방 추진\n",
      "2785     한진해운 79척 운항차질…주중 10개국에 압류금지 신청\n",
      "2851           SP 현대·기아차·모비스 등급 BBB로 하향\n",
      "2959           한은 경제통계 해설강좌 내달 14일까지 접수\n",
      "2971    금감원 올해 비조치의견서 단 7건 발급…책임문제로 소극적\n",
      "3289     주택보급률은 107%인데…내집 없는 가구는 40% 육박\n",
      "3298             4대 금융투자협회장 선거 직접투표 생중계\n",
      "3335             창업 열기 식었나…부산지역 신설법인 감소\n",
      "3528         이중고 조선3사…구조조정 압박에 발주사 횡포까지\n",
      "3569         부실합병·불황 끝에 무너진 우량기업 포스코플랜텍\n",
      "3610        특징주 아난티 짐 로저스 사외이사 선임에 급등종합\n",
      "Name: text, dtype: object\n"
     ]
    }
   ],
   "source": [
    "# 한때 SOTA였던 희진-매일경제 와 비교해볼까...\n",
    "val_heejin = pd.read_csv(\"../results/01150855-train_spelling_v2_label_v1-cleaned_1920_매일경제_labeladdLM_v1/01150855-train_spelling_v2_label_v1-cleaned_1920_매일경제_labeladdLM_v1_val.csv\")\n",
    "\n",
    "true_y = valid_data_add_society_2020_2['target']\n",
    "predicted_y = valid_data_add_society_2020_2['pred_y']\n",
    "\n",
    "val_heejin_society = val_heejin.groupby(['target']).get_group(2)\n",
    "print(f\"\\t<정답은 사회이지만 경제로 예측한 데이터 예시 - 희진 매일경제>\\n\")\n",
    "print(val_heejin_society[val_heejin_society['pred_y'] == 1]['text'][10:30])"
   ]
  },
  {
   "cell_type": "code",
   "execution_count": 208,
   "metadata": {},
   "outputs": [
    {
     "name": "stdout",
     "output_type": "stream",
     "text": [
      "\t<정답은 사회이지만 경제로 예측한 데이터 예시 - 주형 모든뉴스(2020) 추가>\n",
      "\n",
      "1119    아마존 일자리 창출 앞장…직원 1년새 24만명 늘어 54만명\n",
      "1206         골프·관광 회원제 글로벌 기업 제주 찍고 부산 진출\n",
      "1216              현대글로비스메쉬코리아 추석선물 배송 MOU\n",
      "1292          CJ헬로에 딜라이브 인수 추진 보도 조회공시 요구\n",
      "1427           삼성물산 KCC에 주택사업 매각 고려 안 해종합\n",
      "1435                  한아세안 전기전자·농림수산 협력해야\n",
      "1483             저비용항공사들 부산∼괌 노선 쟁탈전 점입가경\n",
      "1570         자사주 매입 자신감 드러낸 조준호…G6 성공할까종합\n",
      "1715          은산분리·샌드박스·기촉법 등 금융3법 주후반 윤곽\n",
      "1767           SKTCJ헬로비전 인수합병 둘러싸고 치열한 공방\n",
      "1768               주요 업종 수출 점검회의 참석하는 백운규\n",
      "1788               현대차 고성능 N의 첫 모델 벨로스터 N\n",
      "2065        SKT CJ헬로비전 인수합병 무산 가능성 첫 공식언급\n",
      "2379            카카오 임지훈 대표 취임 1주년…초라한 성적표\n",
      "2436         불황에도 근속연수 길어졌다…대우조선 16.8년 최장\n",
      "2718                 예금보험 적용 금융사 정보 개방 추진\n",
      "2746       재활용 플라스틱 가격 올라 플라스틱 줄이기 전쟁에 차질\n",
      "2851             SP 현대·기아차·모비스 등급 BBB로 하향\n",
      "2971      금감원 올해 비조치의견서 단 7건 발급…책임문제로 소극적\n",
      "3016      블랙베리 퀄컴과 특허료 분쟁에서 승리…8억달러 돌려받는다\n",
      "Name: text, dtype: object\n"
     ]
    }
   ],
   "source": [
    "# 한때 SOTA였던 희진-매일경제 와 비교해볼까...\n",
    "val_heejin = pd.read_csv(\"../results/01163218-train_spelling_v2_label_v1-cleaned_2020_all_news_labeladdLM_v2_JH/01163218-train_spelling_v2_label_v1-cleaned_2020_all_news_labeladdLM_v2_JH_val.csv\")\n",
    "\n",
    "true_y = valid_data_add_society_2020_2['target']\n",
    "predicted_y = valid_data_add_society_2020_2['pred_y']\n",
    "\n",
    "val_heejin_society = val_heejin.groupby(['target']).get_group(2)\n",
    "print(f\"\\t<정답은 사회이지만 경제로 예측한 데이터 예시 - 주형 모든뉴스(2020) 추가>\\n\")\n",
    "print(val_heejin_society[val_heejin_society['pred_y'] == 1]['text'][10:30])"
   ]
  },
  {
   "cell_type": "code",
   "execution_count": null,
   "metadata": {},
   "outputs": [],
   "source": []
  },
  {
   "attachments": {},
   "cell_type": "markdown",
   "metadata": {},
   "source": [
    "## 7. 희진 데이터에 더 추가해보기"
   ]
  },
  {
   "cell_type": "code",
   "execution_count": 117,
   "metadata": {},
   "outputs": [
    {
     "name": "stdout",
     "output_type": "stream",
     "text": [
      "columns: Index(['Unnamed: 0', 'ID', 'text', 'target', 'url', 'date', 'year', 'month'], dtype='object')\n",
      "targets: [3 2 0 5 4 6 1]\n",
      "each data numbers: \n",
      "target\n",
      "2    15039\n",
      "6     6675\n",
      "3     5314\n",
      "4     3951\n",
      "1     1409\n",
      "5      807\n",
      "0      719\n",
      "Name: count, dtype: int64\n"
     ]
    },
    {
     "data": {
      "image/png": "[encoded data removed]",
      "text/plain": [
       "<Figure size 600x300 with 1 Axes>"
      ]
     },
     "metadata": {},
     "output_type": "display_data"
    }
   ],
   "source": [
    "heejin_1st = pd.read_csv(\"../data/cleaned_1920_YTN_labeladdLM_v1.csv\")\n",
    "\n",
    "## 사회, it과학 데이터 추가를 위한 월 연도 분포 확인\n",
    "import pandas as pd\n",
    "import seaborn as sns\n",
    "import matplotlib.pyplot as plt\n",
    "\n",
    "num2target = ['IT과학', '경제', '사회', '생활문화', '세계', '스포츠', '정치']\n",
    "num2target_dict = {idx:item for idx, item in enumerate(num2target)}\n",
    "target2num = {item:idx for idx, item in enumerate(num2target)}\n",
    "\n",
    "print(f\"columns: {train_data.columns}\")\n",
    "print(f\"targets: {train_data['target'].unique()}\")\n",
    "ITscience_group = train_data.groupby(['target']).get_group(0)\n",
    "\n",
    "fig, ax = plt.subplots(1,1,figsize=(6,3))\n",
    "sns.countplot(x=heejin_1st['target'], data=ITscience_group,\n",
    "              #order=sorted(ITscience_group['year'].unique().tolist())\n",
    "              )\n",
    "print(f\"each data numbers: \\n{heejin_1st['target'].value_counts()}\")"
   ]
  },
  {
   "cell_type": "code",
   "execution_count": null,
   "metadata": {},
   "outputs": [],
   "source": [
    "## 사회 데이터 -> LM이 사회라고 예측한 데이터만 추가해서 학습하자.\n",
    "import torch\n",
    "from transformers import AutoTokenizer, AutoModelForSequenceClassification, AutoModel\n",
    "\n",
    "DEVICE = torch.device('cuda') if torch.cuda.is_available() else torch.device('cpu')\n",
    "\n",
    "LM1 = AutoModelForSequenceClassification.from_pretrained('jihoonkimharu/bert-base-klue-ynat-finetuned').to(DEVICE)\n",
    "LM2 = AutoModelForSequenceClassification.from_pretrained('yobi/klue-roberta-base-ynat').to(DEVICE)\n",
    "LM3 = AutoModelForSequenceClassification.from_pretrained('ehddnr301/bert-base-ehddnr-ynat').to(DEVICE)\n",
    "LM4 = AutoModelForSequenceClassification.from_pretrained('bash1130/bert-base-finetuned-ynat').to(DEVICE)\n",
    "\n",
    "tokenizer1 = AutoTokenizer.from_pretrained('jihoonkimharu/bert-base-klue-ynat-finetuned')\n",
    "tokenizer2 = AutoTokenizer.from_pretrained('yobi/klue-roberta-base-ynat')\n",
    "tokenizer3 = AutoTokenizer.from_pretrained('ehddnr301/bert-base-ehddnr-ynat')\n",
    "tokenizer4 = AutoTokenizer.from_pretrained('bash1130/bert-base-finetuned-ynat')"
   ]
  },
  {
   "cell_type": "code",
   "execution_count": 150,
   "metadata": {},
   "outputs": [],
   "source": [
    "# LM들이 예측하는 라벨 리턴하기\n",
    "from tqdm import tqdm\n",
    "\n",
    "def inference(model1, model2, model3, model4, data, tokenizer1, tokenizer2, tokenizer3, tokenizer4, DEVICE):\n",
    "    model1.eval()\n",
    "    model2.eval()\n",
    "    model3.eval()\n",
    "    model4.eval()\n",
    "    preds = []\n",
    "    \n",
    "    for idx, sample in tqdm(data.iterrows(), desc='LM이 라벨링중입니다'):\n",
    "        inputs1 = tokenizer1(sample['text'], return_tensors=\"pt\").to(DEVICE)\n",
    "        inputs2 = tokenizer2(sample['text'], return_tensors=\"pt\").to(DEVICE)\n",
    "        inputs3 = tokenizer1(sample['text'], return_tensors=\"pt\").to(DEVICE)\n",
    "        inputs4 = tokenizer2(sample['text'], return_tensors=\"pt\").to(DEVICE)\n",
    "        \n",
    "        with torch.no_grad():\n",
    "            logits1 = model1(**inputs1).logits\n",
    "            logits2 = model2(**inputs2).logits\n",
    "            logits3 = model3(**inputs3).logits\n",
    "            logits4 = model4(**inputs4).logits\n",
    "            logits = logits1 + logits2 + logits3 + logits4\n",
    "            pred = torch.argmax(torch.nn.Softmax(dim=1)(logits), dim=1).cpu().numpy()\n",
    "            preds.extend(pred)\n",
    "\n",
    "        if not idx % 500:\n",
    "            print(idx, ' / ', len(data))\n",
    "\n",
    "    return preds"
   ]
  },
  {
   "cell_type": "code",
   "execution_count": 122,
   "metadata": {},
   "outputs": [
    {
     "name": "stderr",
     "output_type": "stream",
     "text": [
      "LM이 라벨링중입니다: 3it [00:00,  6.28it/s]"
     ]
    },
    {
     "name": "stdout",
     "output_type": "stream",
     "text": [
      "0  /  1300\n"
     ]
    },
    {
     "name": "stderr",
     "output_type": "stream",
     "text": [
      "LM이 라벨링중입니다: 503it [00:31, 16.98it/s]"
     ]
    },
    {
     "name": "stdout",
     "output_type": "stream",
     "text": [
      "500  /  1300\n"
     ]
    },
    {
     "name": "stderr",
     "output_type": "stream",
     "text": [
      "LM이 라벨링중입니다: 1003it [01:04, 16.08it/s]"
     ]
    },
    {
     "name": "stdout",
     "output_type": "stream",
     "text": [
      "1000  /  1300\n"
     ]
    },
    {
     "name": "stderr",
     "output_type": "stream",
     "text": [
      "LM이 라벨링중입니다: 1300it [01:23, 15.52it/s]\n"
     ]
    }
   ],
   "source": [
    "# 추가하고자 하는 사회 데이터를 라벨링 다시해보자.\n",
    "df = pd.read_csv(\"../data/train_add_society2020.csv\")\n",
    "pred = inference(LM1, LM2, LM3, LM4, df, tokenizer1, tokenizer2, tokenizer3, tokenizer4, DEVICE)\n",
    "\n",
    "df['pred'] = pred"
   ]
  },
  {
   "cell_type": "code",
   "execution_count": 126,
   "metadata": {},
   "outputs": [
    {
     "data": {
      "text/plain": [
       "pred\n",
       "3    132\n",
       "6     52\n",
       "1     24\n",
       "4     10\n",
       "0      9\n",
       "5      3\n",
       "Name: count, dtype: int64"
      ]
     },
     "execution_count": 126,
     "metadata": {},
     "output_type": "execute_result"
    }
   ],
   "source": [
    "# 얼마나 바로 잡혔나?\n",
    "df[df['pred'] != df['target']]['pred'].value_counts()\n",
    "# 생활문화가 엄청 많이 있다."
   ]
  },
  {
   "cell_type": "code",
   "execution_count": null,
   "metadata": {},
   "outputs": [],
   "source": [
    "# 다시 사회를 라벨링 하자.\n",
    "df['target'] = df['pred']\n",
    "df = df.drop(['pred'], axis=1)"
   ]
  },
  {
   "cell_type": "code",
   "execution_count": 130,
   "metadata": {},
   "outputs": [],
   "source": [
    "df['target'].value_counts()\n",
    "df.to_csv(\"../data/train_add_society2020_labeladdLM.csv\", index=False)"
   ]
  },
  {
   "cell_type": "code",
   "execution_count": null,
   "metadata": {},
   "outputs": [],
   "source": []
  }
 ],
 "metadata": {
  "kernelspec": {
   "display_name": "Python 3 (ipykernel)",
   "language": "python",
   "name": "python3"
  },
  "language_info": {
   "codemirror_mode": {
    "name": "ipython",
    "version": 3
   },
   "file_extension": ".py",
   "mimetype": "text/x-python",
   "name": "python",
   "nbconvert_exporter": "python",
   "pygments_lexer": "ipython3",
   "version": "3.8.5"
  }
 },
 "nbformat": 4,
 "nbformat_minor": 4
}
