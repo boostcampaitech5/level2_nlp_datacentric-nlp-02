{
 "cells": [
  {
   "attachments": {},
   "cell_type": "markdown",
   "metadata": {},
   "source": [
    "# 김기범 전치리 코드 테스트"
   ]
  },
  {
   "cell_type": "code",
   "execution_count": 1,
   "metadata": {},
   "outputs": [],
   "source": [
    "import pandas as pd"
   ]
  },
  {
   "cell_type": "code",
   "execution_count": 2,
   "metadata": {},
   "outputs": [
    {
     "data": {
      "text/plain": [
       "(52530, 8)"
      ]
     },
     "execution_count": 2,
     "metadata": {},
     "output_type": "execute_result"
    }
   ],
   "source": [
    "train_df = pd.read_csv('../data/train.csv')\n",
    "\n",
    "train_df.shape"
   ]
  },
  {
   "attachments": {},
   "cell_type": "markdown",
   "metadata": {},
   "source": [
    "# 1. add predefined news category"
   ]
  },
  {
   "cell_type": "code",
   "execution_count": 3,
   "metadata": {},
   "outputs": [
    {
     "data": {
      "text/plain": [
       "0         유튜브 내달 2일까지 크리에이터 지원 공간 운영\n",
       "1            어버이날 막따가 흐려저…남부지방 여튼 황사\n",
       "2            어버이날 맑다가 흐려져…남부지방 옅은 황사\n",
       "3        내년부터 국가RD 평가 때 논문건수는 반영 않는다\n",
       "4    김명자 신임 과총 회장 원로와 젊은 과학자 지혜 모을 것\n",
       "5     회새긴간 작까 김동시 걍심꼬백 뜽 새 소설집 뚜권 출간\n",
       "6     회색인간 작가 김동식 양심고백 등 새 소설집 2권 출간\n",
       "7         야외서 생방송 하세요…액션캠 전용 요금제 잇따라\n",
       "8         월드컵 태극전사 16강 전초기지 레오강 입성종합\n",
       "9                         미세먼지 속 출근길\n",
       "Name: input_text, dtype: object"
      ]
     },
     "execution_count": 3,
     "metadata": {},
     "output_type": "execute_result"
    }
   ],
   "source": [
    "train_df['input_text'][:10]"
   ]
  },
  {
   "cell_type": "code",
   "execution_count": 4,
   "metadata": {},
   "outputs": [
    {
     "data": {
      "text/plain": [
       "0         유튜브 내달 2일까지 크리에이터 지원 공간 운영 [SEP] IT과학\n",
       "1            어버이날 막따가 흐려저…남부지방 여튼 황사 [SEP] 생활문화\n",
       "2            어버이날 맑다가 흐려져…남부지방 옅은 황사 [SEP] 생활문화\n",
       "3        내년부터 국가RD 평가 때 논문건수는 반영 않는다 [SEP] IT과학\n",
       "4    김명자 신임 과총 회장 원로와 젊은 과학자 지혜 모을 것 [SEP] IT과학\n",
       "5     회새긴간 작까 김동시 걍심꼬백 뜽 새 소설집 뚜권 출간 [SEP] 생활문화\n",
       "6     회색인간 작가 김동식 양심고백 등 새 소설집 2권 출간 [SEP] 생활문화\n",
       "7         야외서 생방송 하세요…액션캠 전용 요금제 잇따라 [SEP] IT과학\n",
       "8          월드컵 태극전사 16강 전초기지 레오강 입성종합 [SEP] 스포츠\n",
       "9                           미세먼지 속 출근길 [SEP] 사회\n",
       "dtype: object"
      ]
     },
     "execution_count": 4,
     "metadata": {},
     "output_type": "execute_result"
    }
   ],
   "source": [
    "train_df['input_text'][:10] + \" [SEP] \" + train_df['predefined_news_category'][:10]"
   ]
  },
  {
   "attachments": {},
   "cell_type": "markdown",
   "metadata": {},
   "source": [
    "# 2. AI HUB 뉴스 기사 데이터 가져오기"
   ]
  },
  {
   "cell_type": "code",
   "execution_count": 5,
   "metadata": {},
   "outputs": [],
   "source": [
    "from glob import glob"
   ]
  },
  {
   "cell_type": "code",
   "execution_count": 6,
   "metadata": {},
   "outputs": [
    {
     "data": {
      "text/plain": [
       "['../data/ai_hub_017/TS_unanswerable.json',\n",
       " '../data/ai_hub_017/TS_span_inference.json',\n",
       " '../data/ai_hub_017/VS_unanswerable.json',\n",
       " '../data/ai_hub_017/VS_span_inference.json',\n",
       " '../data/ai_hub_017/TS_text_entailment.json',\n",
       " '../data/ai_hub_017/VS_span_extraction.json',\n",
       " '../data/ai_hub_017/TS_span_extraction.json',\n",
       " '../data/ai_hub_017/VS_text_entailment.json']"
      ]
     },
     "execution_count": 6,
     "metadata": {},
     "output_type": "execute_result"
    }
   ],
   "source": [
    "ai_hub_017 = glob('../data/ai_hub_017/*.json')\n",
    "ai_hub_017"
   ]
  },
  {
   "cell_type": "code",
   "execution_count": 14,
   "metadata": {},
   "outputs": [
    {
     "name": "stdout",
     "output_type": "stream",
     "text": [
      "Invalid control character at: line 250348 column 279 (char 18754979)\n"
     ]
    },
    {
     "data": {
      "text/plain": [
       "(158020, 8)"
      ]
     },
     "execution_count": 14,
     "metadata": {},
     "output_type": "execute_result"
    }
   ],
   "source": [
    "import json\n",
    "\n",
    "df = pd.DataFrame()\n",
    "\n",
    "for path in ai_hub_017:\n",
    "    try:\n",
    "        with open(path, 'r') as f:\n",
    "            js = json.loads(f.read())\n",
    "    except Exception as e:\n",
    "        print(e)\n",
    "\n",
    "    new_df = pd.json_normalize(js['data'])\n",
    "\n",
    "    df = pd.concat([df, new_df], axis=0)\n",
    "\n",
    "df.shape"
   ]
  },
  {
   "cell_type": "code",
   "execution_count": 15,
   "metadata": {},
   "outputs": [
    {
     "data": {
      "text/plain": [
       "Index(['doc_id', 'doc_title', 'doc_source', 'doc_published', 'created',\n",
       "       'paragraphs', 'doc_class.class', 'doc_class.code'],\n",
       "      dtype='object')"
      ]
     },
     "execution_count": 15,
     "metadata": {},
     "output_type": "execute_result"
    }
   ],
   "source": [
    "df.columns"
   ]
  },
  {
   "cell_type": "code",
   "execution_count": 16,
   "metadata": {},
   "outputs": [
    {
     "data": {
      "text/html": [
       "<div>\n",
       "<style scoped>\n",
       "    .dataframe tbody tr th:only-of-type {\n",
       "        vertical-align: middle;\n",
       "    }\n",
       "\n",
       "    .dataframe tbody tr th {\n",
       "        vertical-align: top;\n",
       "    }\n",
       "\n",
       "    .dataframe thead th {\n",
       "        text-align: right;\n",
       "    }\n",
       "</style>\n",
       "<table border=\"1\" class=\"dataframe\">\n",
       "  <thead>\n",
       "    <tr style=\"text-align: right;\">\n",
       "      <th></th>\n",
       "      <th>doc_id</th>\n",
       "      <th>doc_title</th>\n",
       "      <th>doc_source</th>\n",
       "      <th>doc_published</th>\n",
       "      <th>created</th>\n",
       "      <th>paragraphs</th>\n",
       "      <th>doc_class.class</th>\n",
       "      <th>doc_class.code</th>\n",
       "    </tr>\n",
       "  </thead>\n",
       "  <tbody>\n",
       "    <tr>\n",
       "      <th>0</th>\n",
       "      <td>01100201.20210225173715002</td>\n",
       "      <td>“시진핑엔 선물, 바이든엔 모욕”… 유럽의회서 막힌 中·EU투자협정</td>\n",
       "      <td>국민일보</td>\n",
       "      <td>20210225</td>\n",
       "      <td>20211217144411</td>\n",
       "      <td>[{'context': '중국과 유럽연합(EU)이 체결하기로 합의한 포괄적투자협정(...</td>\n",
       "      <td>None</td>\n",
       "      <td>국제</td>\n",
       "    </tr>\n",
       "    <tr>\n",
       "      <th>1</th>\n",
       "      <td>01100201.20210225092831001</td>\n",
       "      <td>김경수 분노…“내가 문 대통령께 반발? 참 희한한 일”</td>\n",
       "      <td>국민일보</td>\n",
       "      <td>20210225</td>\n",
       "      <td>20211217144411</td>\n",
       "      <td>[{'context': '문재인 대통령의 최측근으로 꼽히는 김경수 경남지사는 25일...</td>\n",
       "      <td>None</td>\n",
       "      <td>정치</td>\n",
       "    </tr>\n",
       "    <tr>\n",
       "      <th>2</th>\n",
       "      <td>01100201.20210225111004001</td>\n",
       "      <td>오늘부터 사라진 네이버 ‘실검’…빈자리엔 날씨와 주가</td>\n",
       "      <td>국민일보</td>\n",
       "      <td>20210225</td>\n",
       "      <td>20211217144411</td>\n",
       "      <td>[{'context': '국내 최대 포털 네이버에서 25일 ‘실시간 급상승 검색어(...</td>\n",
       "      <td>None</td>\n",
       "      <td>IT과학</td>\n",
       "    </tr>\n",
       "    <tr>\n",
       "      <th>3</th>\n",
       "      <td>01100201.20210225040953001</td>\n",
       "      <td>경남도, 신혼 반값 임대주택 공급 확대</td>\n",
       "      <td>국민일보</td>\n",
       "      <td>20210225</td>\n",
       "      <td>20211217144411</td>\n",
       "      <td>[{'context': '경남도와 김해시, 경남개발공사, 인제대학교가 청년·신혼부부...</td>\n",
       "      <td>None</td>\n",
       "      <td>사회</td>\n",
       "    </tr>\n",
       "    <tr>\n",
       "      <th>4</th>\n",
       "      <td>01100201.20210225161345001</td>\n",
       "      <td>작년 3분기 일자리 늘었다는데… 2030 일자리만 15만개 감소</td>\n",
       "      <td>국민일보</td>\n",
       "      <td>20210225</td>\n",
       "      <td>20211217144411</td>\n",
       "      <td>[{'context': '지난해 3분기 임금근로 일자리가 지난해 같은 기간보다 36...</td>\n",
       "      <td>None</td>\n",
       "      <td>경제</td>\n",
       "    </tr>\n",
       "  </tbody>\n",
       "</table>\n",
       "</div>"
      ],
      "text/plain": [
       "                       doc_id                              doc_title   \n",
       "0  01100201.20210225173715002  “시진핑엔 선물, 바이든엔 모욕”… 유럽의회서 막힌 中·EU투자협정  \\\n",
       "1  01100201.20210225092831001         김경수 분노…“내가 문 대통령께 반발? 참 희한한 일”   \n",
       "2  01100201.20210225111004001          오늘부터 사라진 네이버 ‘실검’…빈자리엔 날씨와 주가   \n",
       "3  01100201.20210225040953001                  경남도, 신혼 반값 임대주택 공급 확대   \n",
       "4  01100201.20210225161345001    작년 3분기 일자리 늘었다는데… 2030 일자리만 15만개 감소   \n",
       "\n",
       "  doc_source  doc_published         created   \n",
       "0       국민일보       20210225  20211217144411  \\\n",
       "1       국민일보       20210225  20211217144411   \n",
       "2       국민일보       20210225  20211217144411   \n",
       "3       국민일보       20210225  20211217144411   \n",
       "4       국민일보       20210225  20211217144411   \n",
       "\n",
       "                                          paragraphs doc_class.class   \n",
       "0  [{'context': '중국과 유럽연합(EU)이 체결하기로 합의한 포괄적투자협정(...            None  \\\n",
       "1  [{'context': '문재인 대통령의 최측근으로 꼽히는 김경수 경남지사는 25일...            None   \n",
       "2  [{'context': '국내 최대 포털 네이버에서 25일 ‘실시간 급상승 검색어(...            None   \n",
       "3  [{'context': '경남도와 김해시, 경남개발공사, 인제대학교가 청년·신혼부부...            None   \n",
       "4  [{'context': '지난해 3분기 임금근로 일자리가 지난해 같은 기간보다 36...            None   \n",
       "\n",
       "  doc_class.code  \n",
       "0             국제  \n",
       "1             정치  \n",
       "2           IT과학  \n",
       "3             사회  \n",
       "4             경제  "
      ]
     },
     "execution_count": 16,
     "metadata": {},
     "output_type": "execute_result"
    }
   ],
   "source": [
    "df.head()"
   ]
  },
  {
   "cell_type": "code",
   "execution_count": 17,
   "metadata": {},
   "outputs": [
    {
     "data": {
      "text/plain": [
       "array(['국제', '정치', 'IT과학', '사회', '경제', '문화', '스포츠', '지역', '기타'],\n",
       "      dtype=object)"
      ]
     },
     "execution_count": 17,
     "metadata": {},
     "output_type": "execute_result"
    }
   ],
   "source": [
    "df['doc_class.code'].unique()"
   ]
  },
  {
   "cell_type": "code",
   "execution_count": 18,
   "metadata": {},
   "outputs": [],
   "source": [
    "use_classes = ['정치', '경제', '사회', '문화', '스포츠', 'IT과학', '국제']"
   ]
  },
  {
   "cell_type": "code",
   "execution_count": 48,
   "metadata": {},
   "outputs": [
    {
     "data": {
      "text/plain": [
       "(111998, 3)"
      ]
     },
     "execution_count": 48,
     "metadata": {},
     "output_type": "execute_result"
    }
   ],
   "source": [
    "df2 = df[(df['doc_class.code'] != '지역') & (df['doc_class.code'] != '기타')][['doc_id', 'doc_title', 'doc_class.code']]\n",
    "df2.shape"
   ]
  },
  {
   "cell_type": "code",
   "execution_count": 49,
   "metadata": {},
   "outputs": [
    {
     "data": {
      "text/plain": [
       "(111998, 3)"
      ]
     },
     "execution_count": 49,
     "metadata": {},
     "output_type": "execute_result"
    }
   ],
   "source": [
    "df2.drop_duplicates()\n",
    "\n",
    "df2.shape"
   ]
  },
  {
   "cell_type": "code",
   "execution_count": 50,
   "metadata": {},
   "outputs": [
    {
     "data": {
      "text/plain": [
       "array(['국제', '정치', 'IT과학', '사회', '경제', '문화', '스포츠'], dtype=object)"
      ]
     },
     "execution_count": 50,
     "metadata": {},
     "output_type": "execute_result"
    }
   ],
   "source": [
    "df2['doc_class.code'].unique()"
   ]
  },
  {
   "cell_type": "code",
   "execution_count": 51,
   "metadata": {},
   "outputs": [
    {
     "data": {
      "text/plain": [
       "array(['세계', '정치', 'IT과학', '사회', '경제', '생활문화', '스포츠'], dtype=object)"
      ]
     },
     "execution_count": 51,
     "metadata": {},
     "output_type": "execute_result"
    }
   ],
   "source": [
    "df2['doc_class.code'] = df2['doc_class.code'].replace('국제', '세계')\n",
    "df2['doc_class.code'] = df2['doc_class.code'].replace('문화', '생활문화')\n",
    "\n",
    "df2['doc_class.code'].unique()"
   ]
  },
  {
   "cell_type": "code",
   "execution_count": 52,
   "metadata": {},
   "outputs": [
    {
     "data": {
      "text/plain": [
       "(Index(['ID', 'input_text', 'label_text', 'target', 'predefined_news_category',\n",
       "        'annotations', 'url', 'date'],\n",
       "       dtype='object'),\n",
       " Index(['doc_id', 'doc_title', 'doc_class.code'], dtype='object'))"
      ]
     },
     "execution_count": 52,
     "metadata": {},
     "output_type": "execute_result"
    }
   ],
   "source": [
    "train_df.columns, df2.columns"
   ]
  },
  {
   "cell_type": "code",
   "execution_count": 55,
   "metadata": {},
   "outputs": [
    {
     "data": {
      "text/plain": [
       "{'정치': 0, '경제': 1, '사회': 2, '생활문화': 3, '세계': 4, 'IT과학': 5, '스포츠': 6}"
      ]
     },
     "execution_count": 55,
     "metadata": {},
     "output_type": "execute_result"
    }
   ],
   "source": [
    "label2num = {\n",
    "    label: i for i, label in enumerate(['정치', '경제', '사회', '생활문화', '세계', 'IT과학', '스포츠'])\n",
    "}\n",
    "label2num"
   ]
  },
  {
   "cell_type": "code",
   "execution_count": 56,
   "metadata": {},
   "outputs": [
    {
     "data": {
      "text/plain": [
       "Index(['ID', 'input_text', 'label_text', 'target'], dtype='object')"
      ]
     },
     "execution_count": 56,
     "metadata": {},
     "output_type": "execute_result"
    }
   ],
   "source": [
    "df2.columns = ['ID', 'input_text', 'label_text']\n",
    "df2['target'] = df2['label_text'].apply(lambda x: label2num[x])\n",
    "\n",
    "df2.columns"
   ]
  },
  {
   "cell_type": "code",
   "execution_count": 59,
   "metadata": {},
   "outputs": [
    {
     "name": "stdout",
     "output_type": "stream",
     "text": [
      "(164528, 8)\n",
      "(161537, 8)\n",
      "(162937, 8)\n"
     ]
    }
   ],
   "source": [
    "print(pd.concat([train_df, df2], axis=0).shape)\n",
    "print(pd.concat([train_df, df2], axis=0).drop_duplicates(subset=['input_text']).shape)\n",
    "print(pd.concat([train_df, df2], axis=0).drop_duplicates(subset=['input_text', 'target']).shape)"
   ]
  },
  {
   "cell_type": "code",
   "execution_count": 58,
   "metadata": {},
   "outputs": [],
   "source": [
    "# df2.to_csv('../data/ai_hub_017.csv', index=False)"
   ]
  },
  {
   "attachments": {},
   "cell_type": "markdown",
   "metadata": {},
   "source": [
    "# 3. AI HUB 낚시 기사성 뉴스 데이터"
   ]
  },
  {
   "cell_type": "code",
   "execution_count": 61,
   "metadata": {},
   "outputs": [
    {
     "data": {
      "text/plain": [
       "46903"
      ]
     },
     "execution_count": 61,
     "metadata": {},
     "output_type": "execute_result"
    }
   ],
   "source": [
    "ai_hub_146_val_path_list = glob(\"../data/ai_hub_146_val/*/*.json\")\n",
    "len(ai_hub_146_val_path_list)"
   ]
  },
  {
   "cell_type": "code",
   "execution_count": 83,
   "metadata": {},
   "outputs": [
    {
     "data": {
      "text/plain": [
       "(46903, 3)"
      ]
     },
     "execution_count": 83,
     "metadata": {},
     "output_type": "execute_result"
    }
   ],
   "source": [
    "id = []\n",
    "category = []\n",
    "title = []\n",
    "\n",
    "for path in ai_hub_146_val_path_list:\n",
    "    new_df = pd.read_json(path)\n",
    "\n",
    "    id.append(new_df.loc['newsID']['sourceDataInfo'])\n",
    "    category.append(new_df.loc['newsCategory']['sourceDataInfo'])\n",
    "    title.append(new_df.loc['newsTitle']['sourceDataInfo'])\n",
    "\n",
    "df = pd.DataFrame()\n",
    "df['ID'] = id\n",
    "df['input_text'] = category\n",
    "df['label_text'] = title\n",
    "\n",
    "df.shape"
   ]
  },
  {
   "cell_type": "code",
   "execution_count": 86,
   "metadata": {},
   "outputs": [
    {
     "data": {
      "text/plain": [
       "array(['IT&과학', '세계', '정치', '사회', '생활&문화', '경제'], dtype=object)"
      ]
     },
     "execution_count": 86,
     "metadata": {},
     "output_type": "execute_result"
    }
   ],
   "source": [
    "df.columns = ['ID', 'label_text', 'input_text']\n",
    "df['label_text'].unique()"
   ]
  },
  {
   "cell_type": "code",
   "execution_count": 89,
   "metadata": {},
   "outputs": [
    {
     "data": {
      "text/plain": [
       "array(['IT과학', '세계', '정치', '사회', '생활문화', '경제'], dtype=object)"
      ]
     },
     "execution_count": 89,
     "metadata": {},
     "output_type": "execute_result"
    }
   ],
   "source": [
    "df['label_text'] = df['label_text'].replace(r'&', '', regex=True)\n",
    "df['label_text'].unique()"
   ]
  },
  {
   "cell_type": "code",
   "execution_count": 90,
   "metadata": {},
   "outputs": [
    {
     "data": {
      "text/html": [
       "<div>\n",
       "<style scoped>\n",
       "    .dataframe tbody tr th:only-of-type {\n",
       "        vertical-align: middle;\n",
       "    }\n",
       "\n",
       "    .dataframe tbody tr th {\n",
       "        vertical-align: top;\n",
       "    }\n",
       "\n",
       "    .dataframe thead th {\n",
       "        text-align: right;\n",
       "    }\n",
       "</style>\n",
       "<table border=\"1\" class=\"dataframe\">\n",
       "  <thead>\n",
       "    <tr style=\"text-align: right;\">\n",
       "      <th></th>\n",
       "      <th>ID</th>\n",
       "      <th>input_text</th>\n",
       "      <th>label_text</th>\n",
       "      <th>target</th>\n",
       "    </tr>\n",
       "  </thead>\n",
       "  <tbody>\n",
       "    <tr>\n",
       "      <th>0</th>\n",
       "      <td>01100201.20210225173715002</td>\n",
       "      <td>“시진핑엔 선물, 바이든엔 모욕”… 유럽의회서 막힌 中·EU투자협정</td>\n",
       "      <td>세계</td>\n",
       "      <td>4</td>\n",
       "    </tr>\n",
       "    <tr>\n",
       "      <th>1</th>\n",
       "      <td>01100201.20210225092831001</td>\n",
       "      <td>김경수 분노…“내가 문 대통령께 반발? 참 희한한 일”</td>\n",
       "      <td>정치</td>\n",
       "      <td>0</td>\n",
       "    </tr>\n",
       "    <tr>\n",
       "      <th>2</th>\n",
       "      <td>01100201.20210225111004001</td>\n",
       "      <td>오늘부터 사라진 네이버 ‘실검’…빈자리엔 날씨와 주가</td>\n",
       "      <td>IT과학</td>\n",
       "      <td>5</td>\n",
       "    </tr>\n",
       "    <tr>\n",
       "      <th>3</th>\n",
       "      <td>01100201.20210225040953001</td>\n",
       "      <td>경남도, 신혼 반값 임대주택 공급 확대</td>\n",
       "      <td>사회</td>\n",
       "      <td>2</td>\n",
       "    </tr>\n",
       "    <tr>\n",
       "      <th>4</th>\n",
       "      <td>01100201.20210225161345001</td>\n",
       "      <td>작년 3분기 일자리 늘었다는데… 2030 일자리만 15만개 감소</td>\n",
       "      <td>경제</td>\n",
       "      <td>1</td>\n",
       "    </tr>\n",
       "  </tbody>\n",
       "</table>\n",
       "</div>"
      ],
      "text/plain": [
       "                           ID                             input_text   \n",
       "0  01100201.20210225173715002  “시진핑엔 선물, 바이든엔 모욕”… 유럽의회서 막힌 中·EU투자협정  \\\n",
       "1  01100201.20210225092831001         김경수 분노…“내가 문 대통령께 반발? 참 희한한 일”   \n",
       "2  01100201.20210225111004001          오늘부터 사라진 네이버 ‘실검’…빈자리엔 날씨와 주가   \n",
       "3  01100201.20210225040953001                  경남도, 신혼 반값 임대주택 공급 확대   \n",
       "4  01100201.20210225161345001    작년 3분기 일자리 늘었다는데… 2030 일자리만 15만개 감소   \n",
       "\n",
       "  label_text  target  \n",
       "0         세계       4  \n",
       "1         정치       0  \n",
       "2       IT과학       5  \n",
       "3         사회       2  \n",
       "4         경제       1  "
      ]
     },
     "execution_count": 90,
     "metadata": {},
     "output_type": "execute_result"
    }
   ],
   "source": [
    "df2['target'] = df2['label_text'].apply(lambda x: label2num[x])\n",
    "df2.head()"
   ]
  },
  {
   "cell_type": "code",
   "execution_count": 91,
   "metadata": {},
   "outputs": [],
   "source": [
    "# df2.to_csv('../data/ai_hub_146_val.csv', index=False)"
   ]
  },
  {
   "cell_type": "code",
   "execution_count": null,
   "metadata": {},
   "outputs": [],
   "source": []
  }
 ],
 "metadata": {
  "kernelspec": {
   "display_name": "base",
   "language": "python",
   "name": "python3"
  },
  "language_info": {
   "codemirror_mode": {
    "name": "ipython",
    "version": 3
   },
   "file_extension": ".py",
   "mimetype": "text/x-python",
   "name": "python",
   "nbconvert_exporter": "python",
   "pygments_lexer": "ipython3",
   "version": "3.8.5"
  },
  "orig_nbformat": 4
 },
 "nbformat": 4,
 "nbformat_minor": 2
}
