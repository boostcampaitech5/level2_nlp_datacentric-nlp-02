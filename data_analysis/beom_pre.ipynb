{
 "cells": [
  {
   "attachments": {},
   "cell_type": "markdown",
   "metadata": {},
   "source": [
    "# 김기범 전치리 코드 테스트"
   ]
  },
  {
   "cell_type": "code",
   "execution_count": 2,
   "metadata": {},
   "outputs": [],
   "source": [
    "import pandas as pd"
   ]
  },
  {
   "cell_type": "code",
   "execution_count": 3,
   "metadata": {},
   "outputs": [
    {
     "data": {
      "text/plain": [
       "(52530, 8)"
      ]
     },
     "execution_count": 3,
     "metadata": {},
     "output_type": "execute_result"
    }
   ],
   "source": [
    "train_df = pd.read_csv('../data/train.csv')\n",
    "\n",
    "train_df.shape"
   ]
  },
  {
   "attachments": {},
   "cell_type": "markdown",
   "metadata": {},
   "source": [
    "# 1. add predefined news category"
   ]
  },
  {
   "cell_type": "code",
   "execution_count": 4,
   "metadata": {},
   "outputs": [
    {
     "data": {
      "text/plain": [
       "0         유튜브 내달 2일까지 크리에이터 지원 공간 운영\n",
       "1            어버이날 막따가 흐려저…남부지방 여튼 황사\n",
       "2            어버이날 맑다가 흐려져…남부지방 옅은 황사\n",
       "3        내년부터 국가RD 평가 때 논문건수는 반영 않는다\n",
       "4    김명자 신임 과총 회장 원로와 젊은 과학자 지혜 모을 것\n",
       "5     회새긴간 작까 김동시 걍심꼬백 뜽 새 소설집 뚜권 출간\n",
       "6     회색인간 작가 김동식 양심고백 등 새 소설집 2권 출간\n",
       "7         야외서 생방송 하세요…액션캠 전용 요금제 잇따라\n",
       "8         월드컵 태극전사 16강 전초기지 레오강 입성종합\n",
       "9                         미세먼지 속 출근길\n",
       "Name: input_text, dtype: object"
      ]
     },
     "execution_count": 4,
     "metadata": {},
     "output_type": "execute_result"
    }
   ],
   "source": [
    "train_df['input_text'][:10]"
   ]
  },
  {
   "cell_type": "code",
   "execution_count": 5,
   "metadata": {},
   "outputs": [
    {
     "data": {
      "text/plain": [
       "0         유튜브 내달 2일까지 크리에이터 지원 공간 운영 [SEP] IT과학\n",
       "1            어버이날 막따가 흐려저…남부지방 여튼 황사 [SEP] 생활문화\n",
       "2            어버이날 맑다가 흐려져…남부지방 옅은 황사 [SEP] 생활문화\n",
       "3        내년부터 국가RD 평가 때 논문건수는 반영 않는다 [SEP] IT과학\n",
       "4    김명자 신임 과총 회장 원로와 젊은 과학자 지혜 모을 것 [SEP] IT과학\n",
       "5     회새긴간 작까 김동시 걍심꼬백 뜽 새 소설집 뚜권 출간 [SEP] 생활문화\n",
       "6     회색인간 작가 김동식 양심고백 등 새 소설집 2권 출간 [SEP] 생활문화\n",
       "7         야외서 생방송 하세요…액션캠 전용 요금제 잇따라 [SEP] IT과학\n",
       "8          월드컵 태극전사 16강 전초기지 레오강 입성종합 [SEP] 스포츠\n",
       "9                           미세먼지 속 출근길 [SEP] 사회\n",
       "dtype: object"
      ]
     },
     "execution_count": 5,
     "metadata": {},
     "output_type": "execute_result"
    }
   ],
   "source": [
    "train_df['input_text'][:10] + \" [SEP] \" + train_df['predefined_news_category'][:10]"
   ]
  },
  {
   "attachments": {},
   "cell_type": "markdown",
   "metadata": {},
   "source": [
    "# 2. AI HUB 뉴스 기사 데이터 가져오기"
   ]
  },
  {
   "cell_type": "code",
   "execution_count": 6,
   "metadata": {},
   "outputs": [],
   "source": [
    "from glob import glob"
   ]
  },
  {
   "cell_type": "code",
   "execution_count": 7,
   "metadata": {},
   "outputs": [
    {
     "data": {
      "text/plain": [
       "['../data/ai_hub_017/TS_unanswerable.json',\n",
       " '../data/ai_hub_017/TS_span_inference.json',\n",
       " '../data/ai_hub_017/VS_unanswerable.json',\n",
       " '../data/ai_hub_017/VS_span_inference.json',\n",
       " '../data/ai_hub_017/TS_text_entailment.json',\n",
       " '../data/ai_hub_017/VS_span_extraction.json',\n",
       " '../data/ai_hub_017/TS_span_extraction.json',\n",
       " '../data/ai_hub_017/VS_text_entailment.json']"
      ]
     },
     "execution_count": 7,
     "metadata": {},
     "output_type": "execute_result"
    }
   ],
   "source": [
    "ai_hub_017 = glob('../data/ai_hub_017/*.json')\n",
    "ai_hub_017"
   ]
  },
  {
   "cell_type": "code",
   "execution_count": 8,
   "metadata": {},
   "outputs": [
    {
     "name": "stdout",
     "output_type": "stream",
     "text": [
      "Invalid control character at: line 250348 column 279 (char 18754979)\n"
     ]
    },
    {
     "data": {
      "text/plain": [
       "(158020, 8)"
      ]
     },
     "execution_count": 8,
     "metadata": {},
     "output_type": "execute_result"
    }
   ],
   "source": [
    "import json\n",
    "\n",
    "df = pd.DataFrame()\n",
    "\n",
    "for path in ai_hub_017:\n",
    "    try:\n",
    "        with open(path, 'r') as f:\n",
    "            js = json.loads(f.read())\n",
    "    except Exception as e:\n",
    "        print(e)\n",
    "\n",
    "    new_df = pd.json_normalize(js['data'])\n",
    "\n",
    "    df = pd.concat([df, new_df], axis=0)\n",
    "\n",
    "df.shape"
   ]
  },
  {
   "cell_type": "code",
   "execution_count": 9,
   "metadata": {},
   "outputs": [
    {
     "data": {
      "text/plain": [
       "Index(['doc_id', 'doc_title', 'doc_source', 'doc_published', 'created',\n",
       "       'paragraphs', 'doc_class.class', 'doc_class.code'],\n",
       "      dtype='object')"
      ]
     },
     "execution_count": 9,
     "metadata": {},
     "output_type": "execute_result"
    }
   ],
   "source": [
    "df.columns"
   ]
  },
  {
   "cell_type": "code",
   "execution_count": 10,
   "metadata": {},
   "outputs": [
    {
     "data": {
      "text/html": [
       "<div>\n",
       "<style scoped>\n",
       "    .dataframe tbody tr th:only-of-type {\n",
       "        vertical-align: middle;\n",
       "    }\n",
       "\n",
       "    .dataframe tbody tr th {\n",
       "        vertical-align: top;\n",
       "    }\n",
       "\n",
       "    .dataframe thead th {\n",
       "        text-align: right;\n",
       "    }\n",
       "</style>\n",
       "<table border=\"1\" class=\"dataframe\">\n",
       "  <thead>\n",
       "    <tr style=\"text-align: right;\">\n",
       "      <th></th>\n",
       "      <th>doc_id</th>\n",
       "      <th>doc_title</th>\n",
       "      <th>doc_source</th>\n",
       "      <th>doc_published</th>\n",
       "      <th>created</th>\n",
       "      <th>paragraphs</th>\n",
       "      <th>doc_class.class</th>\n",
       "      <th>doc_class.code</th>\n",
       "    </tr>\n",
       "  </thead>\n",
       "  <tbody>\n",
       "    <tr>\n",
       "      <th>0</th>\n",
       "      <td>01100201.20210225173715002</td>\n",
       "      <td>“시진핑엔 선물, 바이든엔 모욕”… 유럽의회서 막힌 中·EU투자협정</td>\n",
       "      <td>국민일보</td>\n",
       "      <td>20210225</td>\n",
       "      <td>20211217144411</td>\n",
       "      <td>[{'context': '중국과 유럽연합(EU)이 체결하기로 합의한 포괄적투자협정(...</td>\n",
       "      <td>None</td>\n",
       "      <td>국제</td>\n",
       "    </tr>\n",
       "    <tr>\n",
       "      <th>1</th>\n",
       "      <td>01100201.20210225092831001</td>\n",
       "      <td>김경수 분노…“내가 문 대통령께 반발? 참 희한한 일”</td>\n",
       "      <td>국민일보</td>\n",
       "      <td>20210225</td>\n",
       "      <td>20211217144411</td>\n",
       "      <td>[{'context': '문재인 대통령의 최측근으로 꼽히는 김경수 경남지사는 25일...</td>\n",
       "      <td>None</td>\n",
       "      <td>정치</td>\n",
       "    </tr>\n",
       "    <tr>\n",
       "      <th>2</th>\n",
       "      <td>01100201.20210225111004001</td>\n",
       "      <td>오늘부터 사라진 네이버 ‘실검’…빈자리엔 날씨와 주가</td>\n",
       "      <td>국민일보</td>\n",
       "      <td>20210225</td>\n",
       "      <td>20211217144411</td>\n",
       "      <td>[{'context': '국내 최대 포털 네이버에서 25일 ‘실시간 급상승 검색어(...</td>\n",
       "      <td>None</td>\n",
       "      <td>IT과학</td>\n",
       "    </tr>\n",
       "    <tr>\n",
       "      <th>3</th>\n",
       "      <td>01100201.20210225040953001</td>\n",
       "      <td>경남도, 신혼 반값 임대주택 공급 확대</td>\n",
       "      <td>국민일보</td>\n",
       "      <td>20210225</td>\n",
       "      <td>20211217144411</td>\n",
       "      <td>[{'context': '경남도와 김해시, 경남개발공사, 인제대학교가 청년·신혼부부...</td>\n",
       "      <td>None</td>\n",
       "      <td>사회</td>\n",
       "    </tr>\n",
       "    <tr>\n",
       "      <th>4</th>\n",
       "      <td>01100201.20210225161345001</td>\n",
       "      <td>작년 3분기 일자리 늘었다는데… 2030 일자리만 15만개 감소</td>\n",
       "      <td>국민일보</td>\n",
       "      <td>20210225</td>\n",
       "      <td>20211217144411</td>\n",
       "      <td>[{'context': '지난해 3분기 임금근로 일자리가 지난해 같은 기간보다 36...</td>\n",
       "      <td>None</td>\n",
       "      <td>경제</td>\n",
       "    </tr>\n",
       "  </tbody>\n",
       "</table>\n",
       "</div>"
      ],
      "text/plain": [
       "                       doc_id                              doc_title   \n",
       "0  01100201.20210225173715002  “시진핑엔 선물, 바이든엔 모욕”… 유럽의회서 막힌 中·EU투자협정  \\\n",
       "1  01100201.20210225092831001         김경수 분노…“내가 문 대통령께 반발? 참 희한한 일”   \n",
       "2  01100201.20210225111004001          오늘부터 사라진 네이버 ‘실검’…빈자리엔 날씨와 주가   \n",
       "3  01100201.20210225040953001                  경남도, 신혼 반값 임대주택 공급 확대   \n",
       "4  01100201.20210225161345001    작년 3분기 일자리 늘었다는데… 2030 일자리만 15만개 감소   \n",
       "\n",
       "  doc_source  doc_published         created   \n",
       "0       국민일보       20210225  20211217144411  \\\n",
       "1       국민일보       20210225  20211217144411   \n",
       "2       국민일보       20210225  20211217144411   \n",
       "3       국민일보       20210225  20211217144411   \n",
       "4       국민일보       20210225  20211217144411   \n",
       "\n",
       "                                          paragraphs doc_class.class   \n",
       "0  [{'context': '중국과 유럽연합(EU)이 체결하기로 합의한 포괄적투자협정(...            None  \\\n",
       "1  [{'context': '문재인 대통령의 최측근으로 꼽히는 김경수 경남지사는 25일...            None   \n",
       "2  [{'context': '국내 최대 포털 네이버에서 25일 ‘실시간 급상승 검색어(...            None   \n",
       "3  [{'context': '경남도와 김해시, 경남개발공사, 인제대학교가 청년·신혼부부...            None   \n",
       "4  [{'context': '지난해 3분기 임금근로 일자리가 지난해 같은 기간보다 36...            None   \n",
       "\n",
       "  doc_class.code  \n",
       "0             국제  \n",
       "1             정치  \n",
       "2           IT과학  \n",
       "3             사회  \n",
       "4             경제  "
      ]
     },
     "execution_count": 10,
     "metadata": {},
     "output_type": "execute_result"
    }
   ],
   "source": [
    "df.head()"
   ]
  },
  {
   "cell_type": "code",
   "execution_count": 11,
   "metadata": {},
   "outputs": [
    {
     "data": {
      "text/plain": [
       "array(['국제', '정치', 'IT과학', '사회', '경제', '문화', '스포츠', '지역', '기타'],\n",
       "      dtype=object)"
      ]
     },
     "execution_count": 11,
     "metadata": {},
     "output_type": "execute_result"
    }
   ],
   "source": [
    "df['doc_class.code'].unique()"
   ]
  },
  {
   "cell_type": "code",
   "execution_count": 12,
   "metadata": {},
   "outputs": [],
   "source": [
    "use_classes = ['정치', '경제', '사회', '문화', '스포츠', 'IT과학', '국제']"
   ]
  },
  {
   "cell_type": "code",
   "execution_count": 13,
   "metadata": {},
   "outputs": [
    {
     "data": {
      "text/plain": [
       "(111998, 3)"
      ]
     },
     "execution_count": 13,
     "metadata": {},
     "output_type": "execute_result"
    }
   ],
   "source": [
    "df2 = df[(df['doc_class.code'] != '지역') & (df['doc_class.code'] != '기타')][['doc_id', 'doc_title', 'doc_class.code']]\n",
    "df2.shape"
   ]
  },
  {
   "cell_type": "code",
   "execution_count": 14,
   "metadata": {},
   "outputs": [
    {
     "data": {
      "text/plain": [
       "(111998, 3)"
      ]
     },
     "execution_count": 14,
     "metadata": {},
     "output_type": "execute_result"
    }
   ],
   "source": [
    "df2.drop_duplicates()\n",
    "\n",
    "df2.shape"
   ]
  },
  {
   "cell_type": "code",
   "execution_count": 15,
   "metadata": {},
   "outputs": [
    {
     "data": {
      "text/plain": [
       "array(['국제', '정치', 'IT과학', '사회', '경제', '문화', '스포츠'], dtype=object)"
      ]
     },
     "execution_count": 15,
     "metadata": {},
     "output_type": "execute_result"
    }
   ],
   "source": [
    "df2['doc_class.code'].unique()"
   ]
  },
  {
   "cell_type": "code",
   "execution_count": 16,
   "metadata": {},
   "outputs": [
    {
     "data": {
      "text/plain": [
       "array(['세계', '정치', 'IT과학', '사회', '경제', '생활문화', '스포츠'], dtype=object)"
      ]
     },
     "execution_count": 16,
     "metadata": {},
     "output_type": "execute_result"
    }
   ],
   "source": [
    "df2['doc_class.code'] = df2['doc_class.code'].replace('국제', '세계')\n",
    "df2['doc_class.code'] = df2['doc_class.code'].replace('문화', '생활문화')\n",
    "\n",
    "df2['doc_class.code'].unique()"
   ]
  },
  {
   "cell_type": "code",
   "execution_count": 17,
   "metadata": {},
   "outputs": [
    {
     "data": {
      "text/plain": [
       "(Index(['ID', 'input_text', 'label_text', 'target', 'predefined_news_category',\n",
       "        'annotations', 'url', 'date'],\n",
       "       dtype='object'),\n",
       " Index(['doc_id', 'doc_title', 'doc_class.code'], dtype='object'))"
      ]
     },
     "execution_count": 17,
     "metadata": {},
     "output_type": "execute_result"
    }
   ],
   "source": [
    "train_df.columns, df2.columns"
   ]
  },
  {
   "cell_type": "code",
   "execution_count": 18,
   "metadata": {},
   "outputs": [
    {
     "data": {
      "text/plain": [
       "{'정치': 0, '경제': 1, '사회': 2, '생활문화': 3, '세계': 4, 'IT과학': 5, '스포츠': 6}"
      ]
     },
     "execution_count": 18,
     "metadata": {},
     "output_type": "execute_result"
    }
   ],
   "source": [
    "label2num = {\n",
    "    label: i for i, label in enumerate(['정치', '경제', '사회', '생활문화', '세계', 'IT과학', '스포츠'])\n",
    "}\n",
    "label2num"
   ]
  },
  {
   "cell_type": "code",
   "execution_count": 19,
   "metadata": {},
   "outputs": [
    {
     "data": {
      "text/plain": [
       "Index(['ID', 'input_text', 'label_text', 'target'], dtype='object')"
      ]
     },
     "execution_count": 19,
     "metadata": {},
     "output_type": "execute_result"
    }
   ],
   "source": [
    "df2.columns = ['ID', 'input_text', 'label_text']\n",
    "df2['target'] = df2['label_text'].apply(lambda x: label2num[x])\n",
    "\n",
    "df2.columns"
   ]
  },
  {
   "cell_type": "code",
   "execution_count": 20,
   "metadata": {},
   "outputs": [
    {
     "name": "stdout",
     "output_type": "stream",
     "text": [
      "(164528, 8)\n",
      "(161537, 8)\n",
      "(162937, 8)\n"
     ]
    }
   ],
   "source": [
    "print(pd.concat([train_df, df2], axis=0).shape)\n",
    "print(pd.concat([train_df, df2], axis=0).drop_duplicates(subset=['input_text']).shape)\n",
    "print(pd.concat([train_df, df2], axis=0).drop_duplicates(subset=['input_text', 'target']).shape)"
   ]
  },
  {
   "cell_type": "code",
   "execution_count": 21,
   "metadata": {},
   "outputs": [],
   "source": [
    "# df2.to_csv('../data/ai_hub_017.csv', index=False)"
   ]
  },
  {
   "attachments": {},
   "cell_type": "markdown",
   "metadata": {},
   "source": [
    "# 3. AI HUB 낚시 기사성 뉴스 데이터"
   ]
  },
  {
   "cell_type": "code",
   "execution_count": 22,
   "metadata": {},
   "outputs": [
    {
     "data": {
      "text/plain": [
       "46903"
      ]
     },
     "execution_count": 22,
     "metadata": {},
     "output_type": "execute_result"
    }
   ],
   "source": [
    "ai_hub_146_val_path_list = glob(\"../data/ai_hub_146_val/*/*.json\")\n",
    "len(ai_hub_146_val_path_list)"
   ]
  },
  {
   "cell_type": "code",
   "execution_count": 23,
   "metadata": {},
   "outputs": [
    {
     "data": {
      "text/plain": [
       "(46903, 3)"
      ]
     },
     "execution_count": 23,
     "metadata": {},
     "output_type": "execute_result"
    }
   ],
   "source": [
    "id = []\n",
    "category = []\n",
    "title = []\n",
    "\n",
    "for path in ai_hub_146_val_path_list:\n",
    "    new_df = pd.read_json(path)\n",
    "\n",
    "    id.append(new_df.loc['newsID']['sourceDataInfo'])\n",
    "    category.append(new_df.loc['newsCategory']['sourceDataInfo'])\n",
    "    title.append(new_df.loc['newsTitle']['sourceDataInfo'])\n",
    "\n",
    "df = pd.DataFrame()\n",
    "df['ID'] = id\n",
    "df['input_text'] = category\n",
    "df['label_text'] = title\n",
    "\n",
    "df.shape"
   ]
  },
  {
   "cell_type": "code",
   "execution_count": 24,
   "metadata": {},
   "outputs": [
    {
     "data": {
      "text/plain": [
       "array(['IT&과학', '세계', '정치', '사회', '생활&문화', '경제'], dtype=object)"
      ]
     },
     "execution_count": 24,
     "metadata": {},
     "output_type": "execute_result"
    }
   ],
   "source": [
    "df.columns = ['ID', 'label_text', 'input_text']\n",
    "df['label_text'].unique()"
   ]
  },
  {
   "cell_type": "code",
   "execution_count": 25,
   "metadata": {},
   "outputs": [
    {
     "data": {
      "text/plain": [
       "array(['IT과학', '세계', '정치', '사회', '생활문화', '경제'], dtype=object)"
      ]
     },
     "execution_count": 25,
     "metadata": {},
     "output_type": "execute_result"
    }
   ],
   "source": [
    "df['label_text'] = df['label_text'].replace(r'&', '', regex=True)\n",
    "df['label_text'].unique()"
   ]
  },
  {
   "cell_type": "code",
   "execution_count": 26,
   "metadata": {},
   "outputs": [
    {
     "data": {
      "text/html": [
       "<div>\n",
       "<style scoped>\n",
       "    .dataframe tbody tr th:only-of-type {\n",
       "        vertical-align: middle;\n",
       "    }\n",
       "\n",
       "    .dataframe tbody tr th {\n",
       "        vertical-align: top;\n",
       "    }\n",
       "\n",
       "    .dataframe thead th {\n",
       "        text-align: right;\n",
       "    }\n",
       "</style>\n",
       "<table border=\"1\" class=\"dataframe\">\n",
       "  <thead>\n",
       "    <tr style=\"text-align: right;\">\n",
       "      <th></th>\n",
       "      <th>ID</th>\n",
       "      <th>input_text</th>\n",
       "      <th>label_text</th>\n",
       "      <th>target</th>\n",
       "    </tr>\n",
       "  </thead>\n",
       "  <tbody>\n",
       "    <tr>\n",
       "      <th>0</th>\n",
       "      <td>01100201.20210225173715002</td>\n",
       "      <td>“시진핑엔 선물, 바이든엔 모욕”… 유럽의회서 막힌 中·EU투자협정</td>\n",
       "      <td>세계</td>\n",
       "      <td>4</td>\n",
       "    </tr>\n",
       "    <tr>\n",
       "      <th>1</th>\n",
       "      <td>01100201.20210225092831001</td>\n",
       "      <td>김경수 분노…“내가 문 대통령께 반발? 참 희한한 일”</td>\n",
       "      <td>정치</td>\n",
       "      <td>0</td>\n",
       "    </tr>\n",
       "    <tr>\n",
       "      <th>2</th>\n",
       "      <td>01100201.20210225111004001</td>\n",
       "      <td>오늘부터 사라진 네이버 ‘실검’…빈자리엔 날씨와 주가</td>\n",
       "      <td>IT과학</td>\n",
       "      <td>5</td>\n",
       "    </tr>\n",
       "    <tr>\n",
       "      <th>3</th>\n",
       "      <td>01100201.20210225040953001</td>\n",
       "      <td>경남도, 신혼 반값 임대주택 공급 확대</td>\n",
       "      <td>사회</td>\n",
       "      <td>2</td>\n",
       "    </tr>\n",
       "    <tr>\n",
       "      <th>4</th>\n",
       "      <td>01100201.20210225161345001</td>\n",
       "      <td>작년 3분기 일자리 늘었다는데… 2030 일자리만 15만개 감소</td>\n",
       "      <td>경제</td>\n",
       "      <td>1</td>\n",
       "    </tr>\n",
       "  </tbody>\n",
       "</table>\n",
       "</div>"
      ],
      "text/plain": [
       "                           ID                             input_text   \n",
       "0  01100201.20210225173715002  “시진핑엔 선물, 바이든엔 모욕”… 유럽의회서 막힌 中·EU투자협정  \\\n",
       "1  01100201.20210225092831001         김경수 분노…“내가 문 대통령께 반발? 참 희한한 일”   \n",
       "2  01100201.20210225111004001          오늘부터 사라진 네이버 ‘실검’…빈자리엔 날씨와 주가   \n",
       "3  01100201.20210225040953001                  경남도, 신혼 반값 임대주택 공급 확대   \n",
       "4  01100201.20210225161345001    작년 3분기 일자리 늘었다는데… 2030 일자리만 15만개 감소   \n",
       "\n",
       "  label_text  target  \n",
       "0         세계       4  \n",
       "1         정치       0  \n",
       "2       IT과학       5  \n",
       "3         사회       2  \n",
       "4         경제       1  "
      ]
     },
     "execution_count": 26,
     "metadata": {},
     "output_type": "execute_result"
    }
   ],
   "source": [
    "df2['target'] = df2['label_text'].apply(lambda x: label2num[x])\n",
    "df2.head()"
   ]
  },
  {
   "cell_type": "code",
   "execution_count": 27,
   "metadata": {},
   "outputs": [],
   "source": [
    "# df2.to_csv('../data/ai_hub_146_val.csv', index=False)"
   ]
  },
  {
   "attachments": {},
   "cell_type": "markdown",
   "metadata": {},
   "source": [
    "# 4. AI HUB 데이터끼리 합치기"
   ]
  },
  {
   "cell_type": "code",
   "execution_count": 28,
   "metadata": {},
   "outputs": [
    {
     "data": {
      "text/plain": [
       "(223996, 4)"
      ]
     },
     "execution_count": 28,
     "metadata": {},
     "output_type": "execute_result"
    }
   ],
   "source": [
    "ai_hub_017 = pd.read_csv('../data/ai_hub_017.csv')\n",
    "ai_hub_146 = pd.read_csv('../data/ai_hub_146_val.csv')\n",
    "ai_hub = pd.concat([ai_hub_017, ai_hub_146], axis=0)\n",
    "\n",
    "ai_hub.shape"
   ]
  },
  {
   "cell_type": "code",
   "execution_count": 50,
   "metadata": {},
   "outputs": [
    {
     "data": {
      "text/plain": [
       "(110563, 4)"
      ]
     },
     "execution_count": 50,
     "metadata": {},
     "output_type": "execute_result"
    }
   ],
   "source": [
    "ai_hub.drop_duplicates(subset=['input_text', 'target'], inplace=True)\n",
    "ai_hub.shape"
   ]
  },
  {
   "cell_type": "code",
   "execution_count": 55,
   "metadata": {},
   "outputs": [
    {
     "data": {
      "text/html": [
       "<div>\n",
       "<style scoped>\n",
       "    .dataframe tbody tr th:only-of-type {\n",
       "        vertical-align: middle;\n",
       "    }\n",
       "\n",
       "    .dataframe tbody tr th {\n",
       "        vertical-align: top;\n",
       "    }\n",
       "\n",
       "    .dataframe thead th {\n",
       "        text-align: right;\n",
       "    }\n",
       "</style>\n",
       "<table border=\"1\" class=\"dataframe\">\n",
       "  <thead>\n",
       "    <tr style=\"text-align: right;\">\n",
       "      <th></th>\n",
       "      <th>ID</th>\n",
       "      <th>input_text</th>\n",
       "      <th>label_text</th>\n",
       "      <th>target</th>\n",
       "    </tr>\n",
       "  </thead>\n",
       "  <tbody>\n",
       "    <tr>\n",
       "      <th>29288</th>\n",
       "      <td>JAI_article_0820.1542</td>\n",
       "      <td>\"1984년부터 틀린적 없다\" 대선승자 아는 美증시···이번엔?</td>\n",
       "      <td>세계</td>\n",
       "      <td>4</td>\n",
       "    </tr>\n",
       "    <tr>\n",
       "      <th>29415</th>\n",
       "      <td>JAI_article_0820.1669</td>\n",
       "      <td>\"1984년부터 틀린적 없다\" 대선승자 아는 美증시···이번엔?</td>\n",
       "      <td>경제</td>\n",
       "      <td>1</td>\n",
       "    </tr>\n",
       "    <tr>\n",
       "      <th>29764</th>\n",
       "      <td>JAI_article_0820.2018</td>\n",
       "      <td>\"가르치는 일이 나 자신\" 사상 첫 직업 가진 퍼스트레이디 탄생</td>\n",
       "      <td>경제</td>\n",
       "      <td>1</td>\n",
       "    </tr>\n",
       "    <tr>\n",
       "      <th>29533</th>\n",
       "      <td>JAI_article_0820.1787</td>\n",
       "      <td>\"가르치는 일이 나 자신\" 사상 첫 직업 가진 퍼스트레이디 탄생</td>\n",
       "      <td>세계</td>\n",
       "      <td>4</td>\n",
       "    </tr>\n",
       "    <tr>\n",
       "      <th>29413</th>\n",
       "      <td>JAI_article_0820.1667</td>\n",
       "      <td>\"경제 좋으면 재선 실패 없다\" 美대선 공식, 트럼프도 통할까</td>\n",
       "      <td>경제</td>\n",
       "      <td>1</td>\n",
       "    </tr>\n",
       "    <tr>\n",
       "      <th>29406</th>\n",
       "      <td>JAI_article_0820.1660</td>\n",
       "      <td>\"경제 좋으면 재선 실패 없다\" 美대선 공식, 트럼프도 통할까</td>\n",
       "      <td>세계</td>\n",
       "      <td>4</td>\n",
       "    </tr>\n",
       "    <tr>\n",
       "      <th>29715</th>\n",
       "      <td>JAI_article_0820.1969</td>\n",
       "      <td>4년 전과 정반대 러스트벨트 표심…샤이 트럼프, 히든 바이든에 졌다</td>\n",
       "      <td>세계</td>\n",
       "      <td>4</td>\n",
       "    </tr>\n",
       "    <tr>\n",
       "      <th>29750</th>\n",
       "      <td>JAI_article_0820.2004</td>\n",
       "      <td>4년 전과 정반대 러스트벨트 표심…샤이 트럼프, 히든 바이든에 졌다</td>\n",
       "      <td>경제</td>\n",
       "      <td>1</td>\n",
       "    </tr>\n",
       "    <tr>\n",
       "      <th>29421</th>\n",
       "      <td>JAI_article_0820.1675</td>\n",
       "      <td>NYT \"韓정부는 트럼프, 국민은 바이든 원해\"…각국 복잡 셈법</td>\n",
       "      <td>세계</td>\n",
       "      <td>4</td>\n",
       "    </tr>\n",
       "    <tr>\n",
       "      <th>29442</th>\n",
       "      <td>JAI_article_0820.1696</td>\n",
       "      <td>NYT \"韓정부는 트럼프, 국민은 바이든 원해\"…각국 복잡 셈법</td>\n",
       "      <td>경제</td>\n",
       "      <td>1</td>\n",
       "    </tr>\n",
       "    <tr>\n",
       "      <th>29773</th>\n",
       "      <td>JAI_article_0820.2027</td>\n",
       "      <td>[르포]백악관 앞 시민들 \"넌 해고야\" 트럼프 유행어 되돌려줬다</td>\n",
       "      <td>경제</td>\n",
       "      <td>1</td>\n",
       "    </tr>\n",
       "    <tr>\n",
       "      <th>29765</th>\n",
       "      <td>JAI_article_0820.2019</td>\n",
       "      <td>[르포]백악관 앞 시민들 \"넌 해고야\" 트럼프 유행어 되돌려줬다</td>\n",
       "      <td>세계</td>\n",
       "      <td>4</td>\n",
       "    </tr>\n",
       "    <tr>\n",
       "      <th>55889</th>\n",
       "      <td>01300201.20210202024627001</td>\n",
       "      <td>[인제]인제군의회 임시회 개회</td>\n",
       "      <td>사회</td>\n",
       "      <td>2</td>\n",
       "    </tr>\n",
       "    <tr>\n",
       "      <th>54108</th>\n",
       "      <td>01300201.20210510024507001</td>\n",
       "      <td>[인제]인제군의회 임시회 개회</td>\n",
       "      <td>정치</td>\n",
       "      <td>0</td>\n",
       "    </tr>\n",
       "    <tr>\n",
       "      <th>29626</th>\n",
       "      <td>JAI_article_0820.1880</td>\n",
       "      <td>日 언론 “바이든 당선되면 환경 정책 큰 변화 필요”..美 대선 주시</td>\n",
       "      <td>경제</td>\n",
       "      <td>1</td>\n",
       "    </tr>\n",
       "    <tr>\n",
       "      <th>29619</th>\n",
       "      <td>JAI_article_0820.1873</td>\n",
       "      <td>日 언론 “바이든 당선되면 환경 정책 큰 변화 필요”..美 대선 주시</td>\n",
       "      <td>세계</td>\n",
       "      <td>4</td>\n",
       "    </tr>\n",
       "    <tr>\n",
       "      <th>29450</th>\n",
       "      <td>JAI_article_0820.1704</td>\n",
       "      <td>美 사전투표 1억명 넘는다…플로리다·애리조나 격차 1% 안팎</td>\n",
       "      <td>경제</td>\n",
       "      <td>1</td>\n",
       "    </tr>\n",
       "    <tr>\n",
       "      <th>29422</th>\n",
       "      <td>JAI_article_0820.1676</td>\n",
       "      <td>美 사전투표 1억명 넘는다…플로리다·애리조나 격차 1% 안팎</td>\n",
       "      <td>세계</td>\n",
       "      <td>4</td>\n",
       "    </tr>\n",
       "    <tr>\n",
       "      <th>61823</th>\n",
       "      <td>01100201.20210630040715002</td>\n",
       "      <td>경영계, 최저임금 8720원 동결 제시… 업종별 차등은 무산</td>\n",
       "      <td>경제</td>\n",
       "      <td>1</td>\n",
       "    </tr>\n",
       "    <tr>\n",
       "      <th>10340</th>\n",
       "      <td>01100201.20210629180326001</td>\n",
       "      <td>경영계, 최저임금 8720원 동결 제시… 업종별 차등은 무산</td>\n",
       "      <td>사회</td>\n",
       "      <td>2</td>\n",
       "    </tr>\n",
       "    <tr>\n",
       "      <th>96638</th>\n",
       "      <td>01101101.20210208113000001</td>\n",
       "      <td>광주시, 금형산업 해외 비즈니스 전용공간 구축</td>\n",
       "      <td>사회</td>\n",
       "      <td>2</td>\n",
       "    </tr>\n",
       "    <tr>\n",
       "      <th>25707</th>\n",
       "      <td>01600801.20210207150121001</td>\n",
       "      <td>광주시, 금형산업 해외 비즈니스 전용공간 구축</td>\n",
       "      <td>IT과학</td>\n",
       "      <td>5</td>\n",
       "    </tr>\n",
       "    <tr>\n",
       "      <th>42817</th>\n",
       "      <td>01200101.20210331102540002</td>\n",
       "      <td>내달부터 '2022년도 경기도 생활임금 산정기준' 수립 착수</td>\n",
       "      <td>사회</td>\n",
       "      <td>2</td>\n",
       "    </tr>\n",
       "    <tr>\n",
       "      <th>42812</th>\n",
       "      <td>01200101.20210331210133004</td>\n",
       "      <td>내달부터 '2022년도 경기도 생활임금 산정기준' 수립 착수</td>\n",
       "      <td>정치</td>\n",
       "      <td>0</td>\n",
       "    </tr>\n",
       "    <tr>\n",
       "      <th>67220</th>\n",
       "      <td>01100201.20210402040833004</td>\n",
       "      <td>노원구, 30년 넘은 노후 아파트 재건축 적극 추진</td>\n",
       "      <td>사회</td>\n",
       "      <td>2</td>\n",
       "    </tr>\n",
       "    <tr>\n",
       "      <th>11774</th>\n",
       "      <td>01100201.20210401153921001</td>\n",
       "      <td>노원구, 30년 넘은 노후 아파트 재건축 적극 추진</td>\n",
       "      <td>정치</td>\n",
       "      <td>0</td>\n",
       "    </tr>\n",
       "    <tr>\n",
       "      <th>29716</th>\n",
       "      <td>JAI_article_0820.1970</td>\n",
       "      <td>바이든 “취임식 날, 파리기후협약 재가입” 승리 선언 안 했지만 사실상 당선인 행보</td>\n",
       "      <td>세계</td>\n",
       "      <td>4</td>\n",
       "    </tr>\n",
       "    <tr>\n",
       "      <th>29751</th>\n",
       "      <td>JAI_article_0820.2005</td>\n",
       "      <td>바이든 “취임식 날, 파리기후협약 재가입” 승리 선언 안 했지만 사실상 당선인 행보</td>\n",
       "      <td>경제</td>\n",
       "      <td>1</td>\n",
       "    </tr>\n",
       "    <tr>\n",
       "      <th>29443</th>\n",
       "      <td>JAI_article_0820.1697</td>\n",
       "      <td>바이든 우위라지만, 경합주 트럼프 ‘추격’…결과 장담 못해</td>\n",
       "      <td>경제</td>\n",
       "      <td>1</td>\n",
       "    </tr>\n",
       "    <tr>\n",
       "      <th>29425</th>\n",
       "      <td>JAI_article_0820.1679</td>\n",
       "      <td>바이든 우위라지만, 경합주 트럼프 ‘추격’…결과 장담 못해</td>\n",
       "      <td>세계</td>\n",
       "      <td>4</td>\n",
       "    </tr>\n",
       "    <tr>\n",
       "      <th>30151</th>\n",
       "      <td>JAI_article_0820.2405</td>\n",
       "      <td>벌써 16개국 가입하려 줄섰다…중·러 상하이협력기구 뭐길래</td>\n",
       "      <td>세계</td>\n",
       "      <td>4</td>\n",
       "    </tr>\n",
       "    <tr>\n",
       "      <th>30159</th>\n",
       "      <td>JAI_article_0820.2413</td>\n",
       "      <td>벌써 16개국 가입하려 줄섰다…중·러 상하이협력기구 뭐길래</td>\n",
       "      <td>경제</td>\n",
       "      <td>1</td>\n",
       "    </tr>\n",
       "    <tr>\n",
       "      <th>30137</th>\n",
       "      <td>JAI_article_0820.2391</td>\n",
       "      <td>오바마 \"트럼프의 불복, 바이든 아니라 민주주의 부정한 것\"</td>\n",
       "      <td>경제</td>\n",
       "      <td>1</td>\n",
       "    </tr>\n",
       "    <tr>\n",
       "      <th>30111</th>\n",
       "      <td>JAI_article_0820.2365</td>\n",
       "      <td>오바마 \"트럼프의 불복, 바이든 아니라 민주주의 부정한 것\"</td>\n",
       "      <td>세계</td>\n",
       "      <td>4</td>\n",
       "    </tr>\n",
       "    <tr>\n",
       "      <th>29813</th>\n",
       "      <td>JAI_article_0820.2067</td>\n",
       "      <td>오바마 득표수 넘고도 진 트럼프…바이든, 그 지지자에게도 손 내밀었다</td>\n",
       "      <td>경제</td>\n",
       "      <td>1</td>\n",
       "    </tr>\n",
       "    <tr>\n",
       "      <th>29780</th>\n",
       "      <td>JAI_article_0820.2034</td>\n",
       "      <td>오바마 득표수 넘고도 진 트럼프…바이든, 그 지지자에게도 손 내밀었다</td>\n",
       "      <td>세계</td>\n",
       "      <td>4</td>\n",
       "    </tr>\n",
       "    <tr>\n",
       "      <th>64933</th>\n",
       "      <td>01100201.20210413140453001</td>\n",
       "      <td>전남도, 일자리 창출 우수기업에 인센티브</td>\n",
       "      <td>사회</td>\n",
       "      <td>2</td>\n",
       "    </tr>\n",
       "    <tr>\n",
       "      <th>24469</th>\n",
       "      <td>01600801.20210413111514001</td>\n",
       "      <td>전남도, 일자리 창출 우수기업에 인센티브</td>\n",
       "      <td>경제</td>\n",
       "      <td>1</td>\n",
       "    </tr>\n",
       "    <tr>\n",
       "      <th>40823</th>\n",
       "      <td>01400601.20210203210615002</td>\n",
       "      <td>청주기적의도서관, 겨울방학 학부모 특강</td>\n",
       "      <td>사회</td>\n",
       "      <td>2</td>\n",
       "    </tr>\n",
       "    <tr>\n",
       "      <th>40798</th>\n",
       "      <td>01400601.20210203165957001</td>\n",
       "      <td>청주기적의도서관, 겨울방학 학부모 특강</td>\n",
       "      <td>생활문화</td>\n",
       "      <td>3</td>\n",
       "    </tr>\n",
       "    <tr>\n",
       "      <th>29762</th>\n",
       "      <td>JAI_article_0820.2016</td>\n",
       "      <td>출구전략 찾는 트럼프 참모···승복 연설 없이 백악관 떠날듯</td>\n",
       "      <td>경제</td>\n",
       "      <td>1</td>\n",
       "    </tr>\n",
       "    <tr>\n",
       "      <th>29758</th>\n",
       "      <td>JAI_article_0820.2012</td>\n",
       "      <td>출구전략 찾는 트럼프 참모···승복 연설 없이 백악관 떠날듯</td>\n",
       "      <td>세계</td>\n",
       "      <td>4</td>\n",
       "    </tr>\n",
       "    <tr>\n",
       "      <th>47753</th>\n",
       "      <td>01200101.20210118135601002</td>\n",
       "      <td>캠코, 308억원 규모 압류재산 공매</td>\n",
       "      <td>경제</td>\n",
       "      <td>1</td>\n",
       "    </tr>\n",
       "    <tr>\n",
       "      <th>82929</th>\n",
       "      <td>01500701.20210115130427001</td>\n",
       "      <td>캠코, 308억원 규모 압류재산 공매</td>\n",
       "      <td>사회</td>\n",
       "      <td>2</td>\n",
       "    </tr>\n",
       "    <tr>\n",
       "      <th>13860</th>\n",
       "      <td>01500701.20210428150358001</td>\n",
       "      <td>캠코, 주거취약계층 위한 도시락 나눔</td>\n",
       "      <td>사회</td>\n",
       "      <td>2</td>\n",
       "    </tr>\n",
       "    <tr>\n",
       "      <th>79340</th>\n",
       "      <td>01500701.20210428154756001</td>\n",
       "      <td>캠코, 주거취약계층 위한 도시락 나눔</td>\n",
       "      <td>경제</td>\n",
       "      <td>1</td>\n",
       "    </tr>\n",
       "    <tr>\n",
       "      <th>29810</th>\n",
       "      <td>JAI_article_0820.2064</td>\n",
       "      <td>트럼프 \"법정에서 다툴 것\" 예고...12월 8일까지 선거인 확정 못하면?</td>\n",
       "      <td>경제</td>\n",
       "      <td>1</td>\n",
       "    </tr>\n",
       "    <tr>\n",
       "      <th>29806</th>\n",
       "      <td>JAI_article_0820.2060</td>\n",
       "      <td>트럼프 \"법정에서 다툴 것\" 예고...12월 8일까지 선거인 확정 못하면?</td>\n",
       "      <td>세계</td>\n",
       "      <td>4</td>\n",
       "    </tr>\n",
       "    <tr>\n",
       "      <th>30108</th>\n",
       "      <td>JAI_article_0820.2362</td>\n",
       "      <td>트럼프 몽니에 안보 브리핑 못받는 바이든···\"9·11 전년과 유사\"</td>\n",
       "      <td>세계</td>\n",
       "      <td>4</td>\n",
       "    </tr>\n",
       "    <tr>\n",
       "      <th>30135</th>\n",
       "      <td>JAI_article_0820.2389</td>\n",
       "      <td>트럼프 몽니에 안보 브리핑 못받는 바이든···\"9·11 전년과 유사\"</td>\n",
       "      <td>경제</td>\n",
       "      <td>1</td>\n",
       "    </tr>\n",
       "    <tr>\n",
       "      <th>29468</th>\n",
       "      <td>JAI_article_0820.1722</td>\n",
       "      <td>트럼프의 퇴장…\"방패 잃었다\" 스트롱맨 전성시대 막 내리나</td>\n",
       "      <td>세계</td>\n",
       "      <td>4</td>\n",
       "    </tr>\n",
       "    <tr>\n",
       "      <th>29801</th>\n",
       "      <td>JAI_article_0820.2055</td>\n",
       "      <td>트럼프의 퇴장…\"방패 잃었다\" 스트롱맨 전성시대 막 내리나</td>\n",
       "      <td>경제</td>\n",
       "      <td>1</td>\n",
       "    </tr>\n",
       "    <tr>\n",
       "      <th>29752</th>\n",
       "      <td>JAI_article_0820.2006</td>\n",
       "      <td>펜실베이니아 역전한 바이든…2016년 패배 똑같이 되갚는다</td>\n",
       "      <td>경제</td>\n",
       "      <td>1</td>\n",
       "    </tr>\n",
       "    <tr>\n",
       "      <th>29735</th>\n",
       "      <td>JAI_article_0820.1989</td>\n",
       "      <td>펜실베이니아 역전한 바이든…2016년 패배 똑같이 되갚는다</td>\n",
       "      <td>세계</td>\n",
       "      <td>4</td>\n",
       "    </tr>\n",
       "    <tr>\n",
       "      <th>18830</th>\n",
       "      <td>01101101.20210621160136001</td>\n",
       "      <td>현대차그룹, 보스턴 다이내믹스 인수 완료… “로봇공학 시너지 창출 기대”</td>\n",
       "      <td>경제</td>\n",
       "      <td>1</td>\n",
       "    </tr>\n",
       "    <tr>\n",
       "      <th>18799</th>\n",
       "      <td>01101101.20210621171744001</td>\n",
       "      <td>현대차그룹, 보스턴 다이내믹스 인수 완료… “로봇공학 시너지 창출 기대”</td>\n",
       "      <td>IT과학</td>\n",
       "      <td>5</td>\n",
       "    </tr>\n",
       "    <tr>\n",
       "      <th>30136</th>\n",
       "      <td>JAI_article_0820.2390</td>\n",
       "      <td>화이자 백신 개발자의 자신감 \"팬데믹 끝낼 수 있다, 다만...\"</td>\n",
       "      <td>경제</td>\n",
       "      <td>1</td>\n",
       "    </tr>\n",
       "    <tr>\n",
       "      <th>30121</th>\n",
       "      <td>JAI_article_0820.2375</td>\n",
       "      <td>화이자 백신 개발자의 자신감 \"팬데믹 끝낼 수 있다, 다만...\"</td>\n",
       "      <td>세계</td>\n",
       "      <td>4</td>\n",
       "    </tr>\n",
       "  </tbody>\n",
       "</table>\n",
       "</div>"
      ],
      "text/plain": [
       "                               ID   \n",
       "29288       JAI_article_0820.1542  \\\n",
       "29415       JAI_article_0820.1669   \n",
       "29764       JAI_article_0820.2018   \n",
       "29533       JAI_article_0820.1787   \n",
       "29413       JAI_article_0820.1667   \n",
       "29406       JAI_article_0820.1660   \n",
       "29715       JAI_article_0820.1969   \n",
       "29750       JAI_article_0820.2004   \n",
       "29421       JAI_article_0820.1675   \n",
       "29442       JAI_article_0820.1696   \n",
       "29773       JAI_article_0820.2027   \n",
       "29765       JAI_article_0820.2019   \n",
       "55889  01300201.20210202024627001   \n",
       "54108  01300201.20210510024507001   \n",
       "29626       JAI_article_0820.1880   \n",
       "29619       JAI_article_0820.1873   \n",
       "29450       JAI_article_0820.1704   \n",
       "29422       JAI_article_0820.1676   \n",
       "61823  01100201.20210630040715002   \n",
       "10340  01100201.20210629180326001   \n",
       "96638  01101101.20210208113000001   \n",
       "25707  01600801.20210207150121001   \n",
       "42817  01200101.20210331102540002   \n",
       "42812  01200101.20210331210133004   \n",
       "67220  01100201.20210402040833004   \n",
       "11774  01100201.20210401153921001   \n",
       "29716       JAI_article_0820.1970   \n",
       "29751       JAI_article_0820.2005   \n",
       "29443       JAI_article_0820.1697   \n",
       "29425       JAI_article_0820.1679   \n",
       "30151       JAI_article_0820.2405   \n",
       "30159       JAI_article_0820.2413   \n",
       "30137       JAI_article_0820.2391   \n",
       "30111       JAI_article_0820.2365   \n",
       "29813       JAI_article_0820.2067   \n",
       "29780       JAI_article_0820.2034   \n",
       "64933  01100201.20210413140453001   \n",
       "24469  01600801.20210413111514001   \n",
       "40823  01400601.20210203210615002   \n",
       "40798  01400601.20210203165957001   \n",
       "29762       JAI_article_0820.2016   \n",
       "29758       JAI_article_0820.2012   \n",
       "47753  01200101.20210118135601002   \n",
       "82929  01500701.20210115130427001   \n",
       "13860  01500701.20210428150358001   \n",
       "79340  01500701.20210428154756001   \n",
       "29810       JAI_article_0820.2064   \n",
       "29806       JAI_article_0820.2060   \n",
       "30108       JAI_article_0820.2362   \n",
       "30135       JAI_article_0820.2389   \n",
       "29468       JAI_article_0820.1722   \n",
       "29801       JAI_article_0820.2055   \n",
       "29752       JAI_article_0820.2006   \n",
       "29735       JAI_article_0820.1989   \n",
       "18830  01101101.20210621160136001   \n",
       "18799  01101101.20210621171744001   \n",
       "30136       JAI_article_0820.2390   \n",
       "30121       JAI_article_0820.2375   \n",
       "\n",
       "                                           input_text label_text  target  \n",
       "29288            \"1984년부터 틀린적 없다\" 대선승자 아는 美증시···이번엔?          세계       4  \n",
       "29415            \"1984년부터 틀린적 없다\" 대선승자 아는 美증시···이번엔?          경제       1  \n",
       "29764             \"가르치는 일이 나 자신\" 사상 첫 직업 가진 퍼스트레이디 탄생         경제       1  \n",
       "29533             \"가르치는 일이 나 자신\" 사상 첫 직업 가진 퍼스트레이디 탄생         세계       4  \n",
       "29413              \"경제 좋으면 재선 실패 없다\" 美대선 공식, 트럼프도 통할까         경제       1  \n",
       "29406              \"경제 좋으면 재선 실패 없다\" 美대선 공식, 트럼프도 통할까         세계       4  \n",
       "29715           4년 전과 정반대 러스트벨트 표심…샤이 트럼프, 히든 바이든에 졌다         세계       4  \n",
       "29750           4년 전과 정반대 러스트벨트 표심…샤이 트럼프, 히든 바이든에 졌다         경제       1  \n",
       "29421             NYT \"韓정부는 트럼프, 국민은 바이든 원해\"…각국 복잡 셈법         세계       4  \n",
       "29442             NYT \"韓정부는 트럼프, 국민은 바이든 원해\"…각국 복잡 셈법         경제       1  \n",
       "29773             [르포]백악관 앞 시민들 \"넌 해고야\" 트럼프 유행어 되돌려줬다         경제       1  \n",
       "29765             [르포]백악관 앞 시민들 \"넌 해고야\" 트럼프 유행어 되돌려줬다         세계       4  \n",
       "55889                                [인제]인제군의회 임시회 개회         사회       2  \n",
       "54108                                [인제]인제군의회 임시회 개회         정치       0  \n",
       "29626          日 언론 “바이든 당선되면 환경 정책 큰 변화 필요”..美 대선 주시         경제       1  \n",
       "29619          日 언론 “바이든 당선되면 환경 정책 큰 변화 필요”..美 대선 주시         세계       4  \n",
       "29450              美 사전투표 1억명 넘는다…플로리다·애리조나 격차 1% 안팎          경제       1  \n",
       "29422              美 사전투표 1억명 넘는다…플로리다·애리조나 격차 1% 안팎          세계       4  \n",
       "61823               경영계, 최저임금 8720원 동결 제시… 업종별 차등은 무산         경제       1  \n",
       "10340               경영계, 최저임금 8720원 동결 제시… 업종별 차등은 무산         사회       2  \n",
       "96638                       광주시, 금형산업 해외 비즈니스 전용공간 구축         사회       2  \n",
       "25707                       광주시, 금형산업 해외 비즈니스 전용공간 구축       IT과학       5  \n",
       "42817               내달부터 '2022년도 경기도 생활임금 산정기준' 수립 착수         사회       2  \n",
       "42812               내달부터 '2022년도 경기도 생활임금 산정기준' 수립 착수         정치       0  \n",
       "67220                    노원구, 30년 넘은 노후 아파트 재건축 적극 추진         사회       2  \n",
       "11774                    노원구, 30년 넘은 노후 아파트 재건축 적극 추진         정치       0  \n",
       "29716  바이든 “취임식 날, 파리기후협약 재가입” 승리 선언 안 했지만 사실상 당선인 행보         세계       4  \n",
       "29751  바이든 “취임식 날, 파리기후협약 재가입” 승리 선언 안 했지만 사실상 당선인 행보         경제       1  \n",
       "29443                바이든 우위라지만, 경합주 트럼프 ‘추격’…결과 장담 못해         경제       1  \n",
       "29425                바이든 우위라지만, 경합주 트럼프 ‘추격’…결과 장담 못해         세계       4  \n",
       "30151                벌써 16개국 가입하려 줄섰다…중·러 상하이협력기구 뭐길래         세계       4  \n",
       "30159                벌써 16개국 가입하려 줄섰다…중·러 상하이협력기구 뭐길래         경제       1  \n",
       "30137               오바마 \"트럼프의 불복, 바이든 아니라 민주주의 부정한 것\"         경제       1  \n",
       "30111               오바마 \"트럼프의 불복, 바이든 아니라 민주주의 부정한 것\"         세계       4  \n",
       "29813          오바마 득표수 넘고도 진 트럼프…바이든, 그 지지자에게도 손 내밀었다         경제       1  \n",
       "29780          오바마 득표수 넘고도 진 트럼프…바이든, 그 지지자에게도 손 내밀었다         세계       4  \n",
       "64933                          전남도, 일자리 창출 우수기업에 인센티브         사회       2  \n",
       "24469                          전남도, 일자리 창출 우수기업에 인센티브         경제       1  \n",
       "40823                           청주기적의도서관, 겨울방학 학부모 특강         사회       2  \n",
       "40798                           청주기적의도서관, 겨울방학 학부모 특강       생활문화       3  \n",
       "29762               출구전략 찾는 트럼프 참모···승복 연설 없이 백악관 떠날듯         경제       1  \n",
       "29758               출구전략 찾는 트럼프 참모···승복 연설 없이 백악관 떠날듯         세계       4  \n",
       "47753                            캠코, 308억원 규모 압류재산 공매         경제       1  \n",
       "82929                            캠코, 308억원 규모 압류재산 공매         사회       2  \n",
       "13860                            캠코, 주거취약계층 위한 도시락 나눔         사회       2  \n",
       "79340                            캠코, 주거취약계층 위한 도시락 나눔         경제       1  \n",
       "29810       트럼프 \"법정에서 다툴 것\" 예고...12월 8일까지 선거인 확정 못하면?         경제       1  \n",
       "29806       트럼프 \"법정에서 다툴 것\" 예고...12월 8일까지 선거인 확정 못하면?         세계       4  \n",
       "30108          트럼프 몽니에 안보 브리핑 못받는 바이든···\"9·11 전년과 유사\"         세계       4  \n",
       "30135          트럼프 몽니에 안보 브리핑 못받는 바이든···\"9·11 전년과 유사\"         경제       1  \n",
       "29468                트럼프의 퇴장…\"방패 잃었다\" 스트롱맨 전성시대 막 내리나         세계       4  \n",
       "29801                트럼프의 퇴장…\"방패 잃었다\" 스트롱맨 전성시대 막 내리나         경제       1  \n",
       "29752                펜실베이니아 역전한 바이든…2016년 패배 똑같이 되갚는다         경제       1  \n",
       "29735                펜실베이니아 역전한 바이든…2016년 패배 똑같이 되갚는다         세계       4  \n",
       "18830        현대차그룹, 보스턴 다이내믹스 인수 완료… “로봇공학 시너지 창출 기대”         경제       1  \n",
       "18799        현대차그룹, 보스턴 다이내믹스 인수 완료… “로봇공학 시너지 창출 기대”       IT과학       5  \n",
       "30136            화이자 백신 개발자의 자신감 \"팬데믹 끝낼 수 있다, 다만...\"         경제       1  \n",
       "30121            화이자 백신 개발자의 자신감 \"팬데믹 끝낼 수 있다, 다만...\"         세계       4  "
      ]
     },
     "execution_count": 55,
     "metadata": {},
     "output_type": "execute_result"
    }
   ],
   "source": [
    "ai_hub[ai_hub.duplicated(subset=['input_text'], keep=False)].sort_values(by='input_text')"
   ]
  },
  {
   "cell_type": "code",
   "execution_count": 56,
   "metadata": {},
   "outputs": [
    {
     "data": {
      "text/plain": [
       "(110534, 4)"
      ]
     },
     "execution_count": 56,
     "metadata": {},
     "output_type": "execute_result"
    }
   ],
   "source": [
    "del_duplicate_index = [29288, 29764, 29406, 29750, 29442, 29773, 54108, 29626, 29450, 10340, 25707, 42812, 11774, 29751,\n",
    "                       29443, 30159, 30137, 29813, 24469, 40823, 29762, 82929, 79340, 29810, 30135, 29801, 29752, 18799, 30136]\n",
    "\n",
    "ai_hub.drop(del_duplicate_index, axis=0, inplace=True)\n",
    "ai_hub.shape"
   ]
  },
  {
   "cell_type": "code",
   "execution_count": 57,
   "metadata": {},
   "outputs": [
    {
     "data": {
      "text/plain": [
       "target\n",
       "2    39873\n",
       "1    19867\n",
       "3    19844\n",
       "0    14164\n",
       "6     6674\n",
       "4     5470\n",
       "5     4642\n",
       "Name: count, dtype: int64"
      ]
     },
     "execution_count": 57,
     "metadata": {},
     "output_type": "execute_result"
    }
   ],
   "source": [
    "ai_hub['target'].value_counts()"
   ]
  },
  {
   "cell_type": "code",
   "execution_count": 60,
   "metadata": {},
   "outputs": [
    {
     "name": "stdout",
     "output_type": "stream",
     "text": [
      "0 > 7.9\n",
      "1 > 14.8\n",
      "2 > 40.6\n",
      "3 > 15.0\n",
      "4 > 9.2\n",
      "5 > 6.1\n",
      "6 > 6.3\n"
     ]
    }
   ],
   "source": [
    "test_count = [722, 1348, 3701, 1369, 835, 554, 578]\n",
    "\n",
    "for idx, count in enumerate(test_count):\n",
    "    print(idx, \">\", round(count / 9107 * 100, 1))"
   ]
  },
  {
   "cell_type": "code",
   "execution_count": 63,
   "metadata": {},
   "outputs": [
    {
     "data": {
      "text/plain": [
       "target\n",
       "0    12.814157\n",
       "1    17.973655\n",
       "2    36.073063\n",
       "3    17.952847\n",
       "4     4.948704\n",
       "5     4.199613\n",
       "6     6.037961\n",
       "Name: proportion, dtype: float64"
      ]
     },
     "execution_count": 63,
     "metadata": {},
     "output_type": "execute_result"
    }
   ],
   "source": [
    "(ai_hub['target'].value_counts(normalize=True) * 100).sort_index()"
   ]
  },
  {
   "cell_type": "code",
   "execution_count": 82,
   "metadata": {},
   "outputs": [],
   "source": [
    "# ai_hub.to_csv('../data/ai_hub_original.csv', index=False)"
   ]
  },
  {
   "cell_type": "code",
   "execution_count": null,
   "metadata": {},
   "outputs": [],
   "source": [
    "# ai_hub 분포 맞추기"
   ]
  },
  {
   "attachments": {},
   "cell_type": "markdown",
   "metadata": {},
   "source": [
    "# 5. 최종 데이터셋 생성"
   ]
  },
  {
   "cell_type": "code",
   "execution_count": 77,
   "metadata": {},
   "outputs": [
    {
     "data": {
      "text/plain": [
       "((47049, 8), (386, 10))"
      ]
     },
     "execution_count": 77,
     "metadata": {},
     "output_type": "execute_result"
    }
   ],
   "source": [
    "train_no_g2p = pd.read_csv('../data/train_No_G2P.csv')\n",
    "label_error_detecting = pd.read_csv('../data/label_error_detecting.csv')\n",
    "\n",
    "train_no_g2p.shape, label_error_detecting.shape"
   ]
  },
  {
   "cell_type": "code",
   "execution_count": 78,
   "metadata": {},
   "outputs": [
    {
     "data": {
      "text/plain": [
       "Index(['Index', 'ID', 'input_text', 'label_text', '기범', '희진', '주형', '소영', '재원',\n",
       "       '정답'],\n",
       "      dtype='object')"
      ]
     },
     "execution_count": 78,
     "metadata": {},
     "output_type": "execute_result"
    }
   ],
   "source": [
    "label_error_detecting.columns"
   ]
  },
  {
   "cell_type": "code",
   "execution_count": 81,
   "metadata": {},
   "outputs": [
    {
     "data": {
      "text/html": [
       "<div>\n",
       "<style scoped>\n",
       "    .dataframe tbody tr th:only-of-type {\n",
       "        vertical-align: middle;\n",
       "    }\n",
       "\n",
       "    .dataframe tbody tr th {\n",
       "        vertical-align: top;\n",
       "    }\n",
       "\n",
       "    .dataframe thead th {\n",
       "        text-align: right;\n",
       "    }\n",
       "</style>\n",
       "<table border=\"1\" class=\"dataframe\">\n",
       "  <thead>\n",
       "    <tr style=\"text-align: right;\">\n",
       "      <th></th>\n",
       "      <th>Index</th>\n",
       "      <th>ID</th>\n",
       "      <th>input_text</th>\n",
       "      <th>label_text</th>\n",
       "      <th>기범</th>\n",
       "      <th>희진</th>\n",
       "      <th>주형</th>\n",
       "      <th>소영</th>\n",
       "      <th>재원</th>\n",
       "      <th>정답</th>\n",
       "    </tr>\n",
       "  </thead>\n",
       "  <tbody>\n",
       "    <tr>\n",
       "      <th>381</th>\n",
       "      <td>381</td>\n",
       "      <td>ynat-v1_train_44737</td>\n",
       "      <td>中경제성장 양극화 심화…상반기 랴오닝성 마이너스 성장</td>\n",
       "      <td>세계</td>\n",
       "      <td>1</td>\n",
       "      <td>1</td>\n",
       "      <td>1</td>\n",
       "      <td>1</td>\n",
       "      <td>1</td>\n",
       "      <td>True</td>\n",
       "    </tr>\n",
       "    <tr>\n",
       "      <th>382</th>\n",
       "      <td>382</td>\n",
       "      <td>ynat-v1_train_44784</td>\n",
       "      <td>재상고 포기 이재현 CJ 회장 형집행정지 가능성은</td>\n",
       "      <td>IT과학</td>\n",
       "      <td>0</td>\n",
       "      <td>0</td>\n",
       "      <td>0</td>\n",
       "      <td>0</td>\n",
       "      <td>0</td>\n",
       "      <td>False</td>\n",
       "    </tr>\n",
       "    <tr>\n",
       "      <th>383</th>\n",
       "      <td>383</td>\n",
       "      <td>ynat-v1_train_44784</td>\n",
       "      <td>재상고 포기 이재현 CJ 회장 형집행정지 가능성은</td>\n",
       "      <td>사회</td>\n",
       "      <td>1</td>\n",
       "      <td>1</td>\n",
       "      <td>1</td>\n",
       "      <td>1</td>\n",
       "      <td>1</td>\n",
       "      <td>True</td>\n",
       "    </tr>\n",
       "    <tr>\n",
       "      <th>384</th>\n",
       "      <td>384</td>\n",
       "      <td>ynat-v1_train_45083</td>\n",
       "      <td>4차산업혁명위원회 첫 회의…사람 중심 정책수립 논의</td>\n",
       "      <td>사회</td>\n",
       "      <td>1</td>\n",
       "      <td>1</td>\n",
       "      <td>1</td>\n",
       "      <td>1</td>\n",
       "      <td>1</td>\n",
       "      <td>True</td>\n",
       "    </tr>\n",
       "    <tr>\n",
       "      <th>385</th>\n",
       "      <td>385</td>\n",
       "      <td>ynat-v1_train_45083</td>\n",
       "      <td>4차산업혁명위원회 첫 회의…사람 중심 정책수립 논의</td>\n",
       "      <td>세계</td>\n",
       "      <td>0</td>\n",
       "      <td>0</td>\n",
       "      <td>0</td>\n",
       "      <td>0</td>\n",
       "      <td>0</td>\n",
       "      <td>False</td>\n",
       "    </tr>\n",
       "  </tbody>\n",
       "</table>\n",
       "</div>"
      ],
      "text/plain": [
       "     Index                   ID                     input_text label_text  기범   \n",
       "381    381  ynat-v1_train_44737  中경제성장 양극화 심화…상반기 랴오닝성 마이너스 성장         세계   1  \\\n",
       "382    382  ynat-v1_train_44784    재상고 포기 이재현 CJ 회장 형집행정지 가능성은       IT과학   0   \n",
       "383    383  ynat-v1_train_44784    재상고 포기 이재현 CJ 회장 형집행정지 가능성은         사회   1   \n",
       "384    384  ynat-v1_train_45083   4차산업혁명위원회 첫 회의…사람 중심 정책수립 논의         사회   1   \n",
       "385    385  ynat-v1_train_45083   4차산업혁명위원회 첫 회의…사람 중심 정책수립 논의         세계   0   \n",
       "\n",
       "     희진  주형  소영  재원     정답  \n",
       "381   1   1   1   1   True  \n",
       "382   0   0   0   0  False  \n",
       "383   1   1   1   1   True  \n",
       "384   1   1   1   1   True  \n",
       "385   0   0   0   0  False  "
      ]
     },
     "execution_count": 81,
     "metadata": {},
     "output_type": "execute_result"
    }
   ],
   "source": [
    "label_error_detecting.tail()"
   ]
  },
  {
   "cell_type": "code",
   "execution_count": 80,
   "metadata": {},
   "outputs": [
    {
     "data": {
      "text/plain": [
       "정답\n",
       "False    194\n",
       "True     192\n",
       "Name: count, dtype: int64"
      ]
     },
     "execution_count": 80,
     "metadata": {},
     "output_type": "execute_result"
    }
   ],
   "source": [
    "label_error_detecting['정답'].value_counts()"
   ]
  },
  {
   "cell_type": "code",
   "execution_count": 79,
   "metadata": {},
   "outputs": [
    {
     "data": {
      "text/plain": [
       "((46855, 8), 46851)"
      ]
     },
     "execution_count": 79,
     "metadata": {},
     "output_type": "execute_result"
    }
   ],
   "source": [
    "train_no_g2p.drop(label_error_detecting[label_error_detecting['정답'] == False].index, axis=0, inplace=True)\n",
    "train_no_g2p.shape, 47049 - 193"
   ]
  },
  {
   "cell_type": "code",
   "execution_count": 76,
   "metadata": {},
   "outputs": [
    {
     "data": {
      "text/plain": [
       "((1365, 8), 1563)"
      ]
     },
     "execution_count": 76,
     "metadata": {},
     "output_type": "execute_result"
    }
   ],
   "source": [
    "train_no_g2p[train_no_g2p.duplicated(subset=['ID', 'input_text'])].shape, 1365 + 198"
   ]
  },
  {
   "cell_type": "code",
   "execution_count": null,
   "metadata": {},
   "outputs": [],
   "source": []
  }
 ],
 "metadata": {
  "kernelspec": {
   "display_name": "base",
   "language": "python",
   "name": "python3"
  },
  "language_info": {
   "codemirror_mode": {
    "name": "ipython",
    "version": 3
   },
   "file_extension": ".py",
   "mimetype": "text/x-python",
   "name": "python",
   "nbconvert_exporter": "python",
   "pygments_lexer": "ipython3",
   "version": "3.8.5"
  },
  "orig_nbformat": 4
 },
 "nbformat": 4,
 "nbformat_minor": 2
}
