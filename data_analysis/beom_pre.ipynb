{
 "cells": [
  {
   "attachments": {},
   "cell_type": "markdown",
   "metadata": {},
   "source": [
    "# 김기범 전치리 코드 테스트"
   ]
  },
  {
   "cell_type": "code",
   "execution_count": 1,
   "metadata": {},
   "outputs": [],
   "source": [
    "import pandas as pd"
   ]
  },
  {
   "cell_type": "code",
   "execution_count": 2,
   "metadata": {},
   "outputs": [
    {
     "data": {
      "text/plain": [
       "(45678, 5)"
      ]
     },
     "execution_count": 2,
     "metadata": {},
     "output_type": "execute_result"
    }
   ],
   "source": [
    "train_df = pd.read_csv('../data/train.csv')\n",
    "\n",
    "train_df.shape"
   ]
  },
  {
   "attachments": {},
   "cell_type": "markdown",
   "metadata": {},
   "source": [
    "# 1. add predefined news category"
   ]
  },
  {
   "attachments": {},
   "cell_type": "markdown",
   "metadata": {},
   "source": [
    "train_df['text'][:10]"
   ]
  },
  {
   "attachments": {},
   "cell_type": "markdown",
   "metadata": {},
   "source": [
    "train_df['input_text'][:10] + \" [SEP] \" + train_df['predefined_news_category'][:10]"
   ]
  },
  {
   "attachments": {},
   "cell_type": "markdown",
   "metadata": {},
   "source": [
    "# 2. AI HUB 뉴스 기사 데이터 가져오기"
   ]
  },
  {
   "attachments": {},
   "cell_type": "markdown",
   "metadata": {},
   "source": [
    "from glob import glob"
   ]
  },
  {
   "attachments": {},
   "cell_type": "markdown",
   "metadata": {},
   "source": [
    "ai_hub_017 = glob('../data/ai_hub_017/*.json')\n",
    "ai_hub_017"
   ]
  },
  {
   "attachments": {},
   "cell_type": "markdown",
   "metadata": {},
   "source": [
    "import json\n",
    "\n",
    "df = pd.DataFrame()\n",
    "\n",
    "for path in ai_hub_017:\n",
    "    try:\n",
    "        with open(path, 'r') as f:\n",
    "            js = json.loads(f.read())\n",
    "    except Exception as e:\n",
    "        print(e)\n",
    "\n",
    "    new_df = pd.json_normalize(js['data'])\n",
    "\n",
    "    df = pd.concat([df, new_df], axis=0)\n",
    "\n",
    "df.shape"
   ]
  },
  {
   "attachments": {},
   "cell_type": "markdown",
   "metadata": {},
   "source": [
    "df.columns"
   ]
  },
  {
   "attachments": {},
   "cell_type": "markdown",
   "metadata": {},
   "source": [
    "df.head()"
   ]
  },
  {
   "attachments": {},
   "cell_type": "markdown",
   "metadata": {},
   "source": [
    "df['doc_class.code'].unique()"
   ]
  },
  {
   "attachments": {},
   "cell_type": "markdown",
   "metadata": {},
   "source": [
    "use_classes = ['정치', '경제', '사회', '문화', '스포츠', 'IT과학', '국제']"
   ]
  },
  {
   "attachments": {},
   "cell_type": "markdown",
   "metadata": {},
   "source": [
    "df2 = df[(df['doc_class.code'] != '지역') & (df['doc_class.code'] != '기타')][['doc_id', 'doc_title', 'doc_class.code']]\n",
    "df2.shape"
   ]
  },
  {
   "attachments": {},
   "cell_type": "markdown",
   "metadata": {},
   "source": [
    "df2.drop_duplicates()\n",
    "\n",
    "df2.shape"
   ]
  },
  {
   "attachments": {},
   "cell_type": "markdown",
   "metadata": {},
   "source": [
    "df2['doc_class.code'].unique()"
   ]
  },
  {
   "attachments": {},
   "cell_type": "markdown",
   "metadata": {},
   "source": [
    "df2['doc_class.code'] = df2['doc_class.code'].replace('국제', '세계')\n",
    "df2['doc_class.code'] = df2['doc_class.code'].replace('문화', '생활문화')\n",
    "\n",
    "df2['doc_class.code'].unique()"
   ]
  },
  {
   "attachments": {},
   "cell_type": "markdown",
   "metadata": {},
   "source": [
    "train_df.columns, df2.columns"
   ]
  },
  {
   "attachments": {},
   "cell_type": "markdown",
   "metadata": {},
   "source": [
    "label2num = {\n",
    "    label: i for i, label in enumerate(['정치', '경제', '사회', '생활문화', '세계', 'IT과학', '스포츠'])\n",
    "}\n",
    "label2num"
   ]
  },
  {
   "attachments": {},
   "cell_type": "markdown",
   "metadata": {},
   "source": [
    "df2.columns = ['ID', 'input_text', 'label_text']\n",
    "df2['target'] = df2['label_text'].apply(lambda x: label2num[x])\n",
    "\n",
    "df2.columns"
   ]
  },
  {
   "attachments": {},
   "cell_type": "markdown",
   "metadata": {},
   "source": [
    "print(pd.concat([train_df, df2], axis=0).shape)\n",
    "print(pd.concat([train_df, df2], axis=0).drop_duplicates(subset=['input_text']).shape)\n",
    "print(pd.concat([train_df, df2], axis=0).drop_duplicates(subset=['input_text', 'target']).shape)"
   ]
  },
  {
   "attachments": {},
   "cell_type": "markdown",
   "metadata": {},
   "source": [
    "# df2.to_csv('../data/ai_hub_017.csv', index=False)"
   ]
  },
  {
   "attachments": {},
   "cell_type": "markdown",
   "metadata": {},
   "source": [
    "# 3. AI HUB 낚시 기사성 뉴스 데이터"
   ]
  },
  {
   "attachments": {},
   "cell_type": "markdown",
   "metadata": {},
   "source": [
    "ai_hub_146_val_path_list = glob(\"../data/ai_hub_146_val/*/*.json\")\n",
    "len(ai_hub_146_val_path_list)"
   ]
  },
  {
   "attachments": {},
   "cell_type": "markdown",
   "metadata": {},
   "source": [
    "id = []\n",
    "category = []\n",
    "title = []\n",
    "\n",
    "for path in ai_hub_146_val_path_list:\n",
    "    new_df = pd.read_json(path)\n",
    "\n",
    "    id.append(new_df.loc['newsID']['sourceDataInfo'])\n",
    "    category.append(new_df.loc['newsCategory']['sourceDataInfo'])\n",
    "    title.append(new_df.loc['newsTitle']['sourceDataInfo'])\n",
    "\n",
    "df = pd.DataFrame()\n",
    "df['ID'] = id\n",
    "df['input_text'] = category\n",
    "df['label_text'] = title\n",
    "\n",
    "df.shape"
   ]
  },
  {
   "attachments": {},
   "cell_type": "markdown",
   "metadata": {},
   "source": [
    "df.columns = ['ID', 'label_text', 'input_text']\n",
    "df['label_text'].unique()"
   ]
  },
  {
   "attachments": {},
   "cell_type": "markdown",
   "metadata": {},
   "source": [
    "df['label_text'] = df['label_text'].replace(r'&', '', regex=True)\n",
    "df['label_text'].unique()"
   ]
  },
  {
   "attachments": {},
   "cell_type": "markdown",
   "metadata": {},
   "source": [
    "df2['target'] = df2['label_text'].apply(lambda x: label2num[x])\n",
    "df2.head()"
   ]
  },
  {
   "attachments": {},
   "cell_type": "markdown",
   "metadata": {},
   "source": [
    "# df2.to_csv('../data/ai_hub_146_val.csv', index=False)"
   ]
  },
  {
   "attachments": {},
   "cell_type": "markdown",
   "metadata": {},
   "source": [
    "# 4. AI HUB 데이터끼리 합치기"
   ]
  },
  {
   "attachments": {},
   "cell_type": "markdown",
   "metadata": {},
   "source": [
    "ai_hub_017 = pd.read_csv('../data/ai_hub_017.csv')\n",
    "ai_hub_146 = pd.read_csv('../data/ai_hub_146_val.csv')\n",
    "ai_hub = pd.concat([ai_hub_017, ai_hub_146], axis=0)\n",
    "\n",
    "ai_hub.shape"
   ]
  },
  {
   "attachments": {},
   "cell_type": "markdown",
   "metadata": {},
   "source": [
    "ai_hub.drop_duplicates(subset=['input_text', 'target'], inplace=True)\n",
    "ai_hub.shape"
   ]
  },
  {
   "attachments": {},
   "cell_type": "markdown",
   "metadata": {},
   "source": [
    "ai_hub[ai_hub.duplicated(subset=['input_text'], keep=False)].sort_values(by='input_text')"
   ]
  },
  {
   "attachments": {},
   "cell_type": "markdown",
   "metadata": {},
   "source": [
    "del_duplicate_index = [29288, 29764, 29406, 29750, 29442, 29773, 54108, 29626, 29450, 10340, 25707, 42812, 11774, 29751,\n",
    "                       29443, 30159, 30137, 29813, 24469, 40823, 29762, 82929, 79340, 29810, 30135, 29801, 29752, 18799, 30136]\n",
    "\n",
    "ai_hub.drop(del_duplicate_index, axis=0, inplace=True)\n",
    "ai_hub.shape"
   ]
  },
  {
   "attachments": {},
   "cell_type": "markdown",
   "metadata": {},
   "source": [
    "ai_hub['target'].value_counts()"
   ]
  },
  {
   "attachments": {},
   "cell_type": "markdown",
   "metadata": {},
   "source": [
    "test_count = [722, 1348, 3701, 1369, 835, 554, 578]\n",
    "\n",
    "for idx, count in enumerate(test_count):\n",
    "    print(idx, \">\", round(count / 9107 * 100, 1))"
   ]
  },
  {
   "attachments": {},
   "cell_type": "markdown",
   "metadata": {},
   "source": [
    "(ai_hub['target'].value_counts(normalize=True) * 100).sort_index()"
   ]
  },
  {
   "attachments": {},
   "cell_type": "markdown",
   "metadata": {},
   "source": [
    "# ai_hub.to_csv('../data/ai_hub_original.csv', index=False)"
   ]
  },
  {
   "attachments": {},
   "cell_type": "markdown",
   "metadata": {},
   "source": [
    "# ai_hub 분포 맞추기"
   ]
  },
  {
   "attachments": {},
   "cell_type": "markdown",
   "metadata": {},
   "source": [
    "# 5. 최종 데이터셋 생성"
   ]
  },
  {
   "attachments": {},
   "cell_type": "markdown",
   "metadata": {},
   "source": [
    "train_no_g2p = pd.read_csv('../data/train_No_G2P.csv')\n",
    "label_error_detecting = pd.read_csv('../data/label_error_detecting.csv')\n",
    "\n",
    "train_no_g2p.shape, label_error_detecting.shape"
   ]
  },
  {
   "attachments": {},
   "cell_type": "markdown",
   "metadata": {},
   "source": [
    "label_error_detecting.columns"
   ]
  },
  {
   "attachments": {},
   "cell_type": "markdown",
   "metadata": {},
   "source": [
    "label_error_detecting.tail()"
   ]
  },
  {
   "attachments": {},
   "cell_type": "markdown",
   "metadata": {},
   "source": [
    "label_error_detecting['정답'].value_counts()"
   ]
  },
  {
   "attachments": {},
   "cell_type": "markdown",
   "metadata": {},
   "source": [
    "train_no_g2p.drop(label_error_detecting[label_error_detecting['정답'] == False].index, axis=0, inplace=True)\n",
    "train_no_g2p.shape, 47049 - 193"
   ]
  },
  {
   "attachments": {},
   "cell_type": "markdown",
   "metadata": {},
   "source": [
    "train_no_g2p[train_no_g2p.duplicated(subset=['ID', 'input_text'])].shape, 1365 + 198"
   ]
  },
  {
   "attachments": {},
   "cell_type": "markdown",
   "metadata": {},
   "source": [
    "# 6. 데이터셋 뒤섞기"
   ]
  },
  {
   "attachments": {},
   "cell_type": "markdown",
   "metadata": {},
   "source": [
    "train_df.head()"
   ]
  },
  {
   "attachments": {},
   "cell_type": "markdown",
   "metadata": {},
   "source": [
    "train_df.sample(frac=1, random_state=42, axis=0).head()"
   ]
  },
  {
   "attachments": {},
   "cell_type": "markdown",
   "metadata": {},
   "source": [
    "# 7. Korean Easy Data Augmentation"
   ]
  },
  {
   "cell_type": "code",
   "execution_count": 3,
   "metadata": {},
   "outputs": [
    {
     "name": "stdout",
     "output_type": "stream",
     "text": [
      "Requirement already satisfied: koeda in /opt/conda/lib/python3.8/site-packages (0.0.4)\n",
      "Requirement already satisfied: numpy>=1.19.4 in /opt/conda/lib/python3.8/site-packages (from koeda) (1.23.1)\n",
      "Requirement already satisfied: konlpy>=0.5.2 in /opt/conda/lib/python3.8/site-packages (from koeda) (0.6.0)\n",
      "Requirement already satisfied: tweepy==3.10.0 in /opt/conda/lib/python3.8/site-packages (from koeda) (3.10.0)\n",
      "Requirement already satisfied: requests[socks]>=2.11.1 in /opt/conda/lib/python3.8/site-packages (from tweepy==3.10.0->koeda) (2.30.0)\n",
      "Requirement already satisfied: requests-oauthlib>=0.7.0 in /opt/conda/lib/python3.8/site-packages (from tweepy==3.10.0->koeda) (1.3.1)\n",
      "Requirement already satisfied: six>=1.10.0 in /opt/conda/lib/python3.8/site-packages (from tweepy==3.10.0->koeda) (1.15.0)\n",
      "Requirement already satisfied: JPype1>=0.7.0 in /opt/conda/lib/python3.8/site-packages (from konlpy>=0.5.2->koeda) (1.4.1)\n",
      "Requirement already satisfied: lxml>=4.1.0 in /opt/conda/lib/python3.8/site-packages (from konlpy>=0.5.2->koeda) (4.9.2)\n",
      "Requirement already satisfied: packaging in /opt/conda/lib/python3.8/site-packages (from JPype1>=0.7.0->konlpy>=0.5.2->koeda) (23.1)\n",
      "Requirement already satisfied: oauthlib>=3.0.0 in /opt/conda/lib/python3.8/site-packages (from requests-oauthlib>=0.7.0->tweepy==3.10.0->koeda) (3.2.2)\n",
      "Requirement already satisfied: charset-normalizer<4,>=2 in /opt/conda/lib/python3.8/site-packages (from requests[socks]>=2.11.1->tweepy==3.10.0->koeda) (3.1.0)\n",
      "Requirement already satisfied: idna<4,>=2.5 in /opt/conda/lib/python3.8/site-packages (from requests[socks]>=2.11.1->tweepy==3.10.0->koeda) (2.10)\n",
      "Requirement already satisfied: urllib3<3,>=1.21.1 in /opt/conda/lib/python3.8/site-packages (from requests[socks]>=2.11.1->tweepy==3.10.0->koeda) (1.25.11)\n",
      "Requirement already satisfied: certifi>=2017.4.17 in /opt/conda/lib/python3.8/site-packages (from requests[socks]>=2.11.1->tweepy==3.10.0->koeda) (2020.12.5)\n",
      "Requirement already satisfied: PySocks!=1.5.7,>=1.5.6 in /opt/conda/lib/python3.8/site-packages (from requests[socks]>=2.11.1->tweepy==3.10.0->koeda) (1.7.1)\n",
      "\u001b[33mWARNING: Running pip as the 'root' user can result in broken permissions and conflicting behaviour with the system package manager. It is recommended to use a virtual environment instead: https://pip.pypa.io/warnings/venv\u001b[0m\u001b[33m\n",
      "\u001b[0m"
     ]
    }
   ],
   "source": [
    "!pip install koeda"
   ]
  },
  {
   "cell_type": "code",
   "execution_count": 4,
   "metadata": {},
   "outputs": [],
   "source": [
    "from koeda import EDA"
   ]
  },
  {
   "cell_type": "code",
   "execution_count": 5,
   "metadata": {},
   "outputs": [],
   "source": [
    "eda = EDA(\n",
    "    morpheme_analyzer=\"Okt\", alpha_sr=0.3, alpha_ri=0.3, alpha_rs=0.3, prob_rd=0.3\n",
    ")"
   ]
  },
  {
   "cell_type": "code",
   "execution_count": 7,
   "metadata": {},
   "outputs": [
    {
     "name": "stdout",
     "output_type": "stream",
     "text": [
      "==========\n",
      "before >> 유튜브 내달 2일까지 크리에이터 지원 공간 운영\n",
      "after >> 유튜브운영내달 2일까지 크리에이터 공간 지원\n",
      "==========\n",
      "before >> 어버이날 막따가 흐려저…남부지방 여튼 황사\n",
      "after >> 막따가 …지방 튼 황사\n",
      "==========\n",
      "before >> 내년부터 국가RD 평가 때 논문건수는 반영 않는다\n",
      "after >> 내년부터 국가RD 평가 때 논문건수는 감응 않는다\n",
      "==========\n",
      "before >> 김명자 신임 과총 회장 원로와 젊은 과학자 지혜 모을 것\n",
      "after >> 김명자 신임 회장 원로와 모을\n",
      "==========\n",
      "before >> 회새긴간 작까 김동시 걍심꼬백 뜽 새 소설집 뚜권 출간\n",
      "after >> 작까 동시 뜽 새 소설집 뚜 출간\n",
      "==========\n",
      "before >> 야외서 생방송 하세요…액션캠 전용 요금제 잇따라\n",
      "after >> 야외서 생방송하세요 액션캠 전용 요금제…잇따라\n",
      "==========\n",
      "before >> 월드컵 태극전사 16강 전초기지 레오강 입성종합\n",
      "after >> 월드컵 16강 전초기지 강 입성\n",
      "==========\n",
      "before >> 미세먼지 속 출근길\n",
      "after >> 미세먼지 정신 출근길\n",
      "==========\n",
      "before >> 왓츠앱稅 230원에 성난 레바논 민심…총리사퇴로 이어져종합2보\n",
      "after >> 왓츠앱稅 230원에 성난 레바논 거부 민심… 사절 총리 관리 사퇴로 정경 이어져종합2보\n",
      "==========\n",
      "before >> 베트남 경제 고성장 지속…2분기 GDP 6.71% 성장\n",
      "after >> 베트남 경제 고성장 지속…2분 성기 기 GDP 6.71% 급속도 고생 성장\n"
     ]
    }
   ],
   "source": [
    "for s in train_df['text'][:10]:\n",
    "    change = eda(s)\n",
    "\n",
    "    print(\"=\"*10)\n",
    "    print(\"before >>\", s)\n",
    "    print(\"after >>\", change)"
   ]
  },
  {
   "cell_type": "code",
   "execution_count": 13,
   "metadata": {},
   "outputs": [
    {
     "data": {
      "text/plain": [
       "0         유튜브 내달 2일까지 크리에이터 지원 공간 운영\n",
       "1            어버이날 막따가 흐려저…남부지방 여튼 황사\n",
       "2        내년부터 국가RD 평가 때 논문건수는 반영 않는다\n",
       "3    김명자 신임 과총 회장 원로와 젊은 과학자 지혜 모을 것\n",
       "4     회새긴간 작까 김동시 걍심꼬백 뜽 새 소설집 뚜권 출간\n",
       "Name: text, dtype: object"
      ]
     },
     "execution_count": 13,
     "metadata": {},
     "output_type": "execute_result"
    }
   ],
   "source": [
    "train_df['text'][:5]"
   ]
  },
  {
   "cell_type": "code",
   "execution_count": 14,
   "metadata": {},
   "outputs": [
    {
     "data": {
      "text/plain": [
       "['유튜브 까지 크리에이터 공간 운영',\n",
       " '어버이날 막따가 흐려저남부지방 여튼 황사',\n",
       " '내년부터 국가RD 평가 때 논문건수 반영 않는다',\n",
       " '김명자 신임 과총 회장 원로와 젊은 과학자 지혜 모을 것',\n",
       " '회새긴간 작까 김동시 걍심꼬백 뜽 새 소설집 권 출간']"
      ]
     },
     "execution_count": 14,
     "metadata": {},
     "output_type": "execute_result"
    }
   ],
   "source": [
    "from koeda import RD\n",
    "\n",
    "func = RD(\"Okt\")\n",
    "sen_after_RD = func(train_df['text'].to_list(), 0.1)\n",
    "\n",
    "sen_after_RD[:5]"
   ]
  },
  {
   "cell_type": "code",
   "execution_count": 15,
   "metadata": {},
   "outputs": [
    {
     "data": {
      "text/plain": [
       "['유튜브크리에이터내달 2일까지 지원 공간 운영',\n",
       " '막따가 흐려저…남부지방 여튼어버이날황사',\n",
       " '부터 국가RD 평가 때 논문건수는 반영내년않는다',\n",
       " '김명자 신임 회장 원로와 젊은 과학자과총지혜 모을 것',\n",
       " '회새긴간 작까 김동시 걍심꼬백간뜽 새 소설집 뚜권 출']"
      ]
     },
     "execution_count": 15,
     "metadata": {},
     "output_type": "execute_result"
    }
   ],
   "source": [
    "from koeda import RS\n",
    "\n",
    "func = RS(\"Okt\")\n",
    "sen_after_RS = func(train_df['text'].to_list(), 0.1)\n",
    "\n",
    "sen_after_RS[:5]"
   ]
  },
  {
   "cell_type": "code",
   "execution_count": 48,
   "metadata": {},
   "outputs": [],
   "source": [
    "train_df['findall'] = train_df['text'].str.findall(pat='[^A-Za-z0-9가-힣\\s]{1,9999}')"
   ]
  },
  {
   "cell_type": "code",
   "execution_count": 50,
   "metadata": {},
   "outputs": [
    {
     "data": {
      "text/plain": [
       "Index(['ID', 'text', 'target', 'url', 'date', 'findall'], dtype='object')"
      ]
     },
     "execution_count": 50,
     "metadata": {},
     "output_type": "execute_result"
    }
   ],
   "source": [
    "train_df.columns"
   ]
  },
  {
   "cell_type": "code",
   "execution_count": 66,
   "metadata": {},
   "outputs": [
    {
     "data": {
      "text/plain": [
       "0           []\n",
       "1          […]\n",
       "2           []\n",
       "3           []\n",
       "4           []\n",
       "         ...  \n",
       "45673      [·]\n",
       "45674      […]\n",
       "45675    [...]\n",
       "45676       []\n",
       "45677    [...]\n",
       "Name: findall, Length: 45678, dtype: object"
      ]
     },
     "execution_count": 66,
     "metadata": {},
     "output_type": "execute_result"
    }
   ],
   "source": [
    "train_df['findall']"
   ]
  },
  {
   "cell_type": "code",
   "execution_count": 77,
   "metadata": {},
   "outputs": [],
   "source": [
    "special_words = set([word for row in train_df['findall'] for word in row])"
   ]
  },
  {
   "cell_type": "code",
   "execution_count": 93,
   "metadata": {},
   "outputs": [
    {
     "data": {
      "text/plain": [
       "0              유튜브 내달 2일까지 크리에이터 지원 공간 운영\n",
       "1                 어버이날 맑다가 흐려져…남부지방 옅은 황사\n",
       "2             내년부터 국가RD 평가 때 논문건수는 반영 않는다\n",
       "3         김명자 신임 과총 회장 원로와 젊은 과학자 지혜 모을 것\n",
       "4          회색인간 작가 김동식 양심고백 등 새 소설집 2권 출간\n",
       "                       ...               \n",
       "45673        사우디 아람코 주요 석유시설·유전 드론 공격에 화재\n",
       "45674      박기원 감독 눈치 보지 말고…비예나 눈치 본 건 아닌데\n",
       "45675    아시안게임 첫 경기 앞둔 라건아 인도네시아 팬이라도 ...\n",
       "45676       트럼프 미중 무역협상 1단계 합의 서명식 가질 것종합\n",
       "45677    극적 역전승 도로공사 GS칼텍스 꺾고 2년 연속 챔프...\n",
       "Name: text, Length: 45678, dtype: object"
      ]
     },
     "execution_count": 93,
     "metadata": {},
     "output_type": "execute_result"
    }
   ],
   "source": [
    "train_df = pd.read_csv('../data/train_spelling.csv')\n",
    "\n",
    "train_df['text']"
   ]
  },
  {
   "cell_type": "code",
   "execution_count": 94,
   "metadata": {},
   "outputs": [
    {
     "data": {
      "text/plain": [
       "0                        유튜브 내달 2일까지 크리에이터 지원 공간 운영\n",
       "1                         어버이날 맑다가 흐려져 … 남부지방 옅은 황사\n",
       "2                       내년부터 국가RD 평가 때 논문건수는 반영 않는다\n",
       "3                   김명자 신임 과총 회장 원로와 젊은 과학자 지혜 모을 것\n",
       "4                    회색인간 작가 김동식 양심고백 등 새 소설집 2권 출간\n",
       "                            ...                    \n",
       "45673                사우디 아람코 주요 석유시설 · 유전 드론 공격에 화재\n",
       "45674              박기원 감독 눈치 보지 말고 … 비예나 눈치 본 건 아닌데\n",
       "45675    아시안게임 첫 경기 앞둔 라건아 인도네시아 팬이라도    .  .   .  \n",
       "45676                 트럼프 미중 무역협상 1단계 합의 서명식 가질 것종합\n",
       "45677    극적 역전승 도로공사 GS칼텍스 꺾고 2년 연속 챔프   .  .   .  \n",
       "Name: text, Length: 45678, dtype: object"
      ]
     },
     "execution_count": 94,
     "metadata": {},
     "output_type": "execute_result"
    }
   ],
   "source": [
    "for word in sorted(list(special_words), key=lambda x: len(x), reverse=True):\n",
    "    train_df['text'] = train_df['text'].str.replace(word, f\" {word} \")\n",
    "\n",
    "train_df['text'] = train_df['text'].str.replace('[\\s]{2, 9999}', \" \")\n",
    "train_df['text']"
   ]
  },
  {
   "attachments": {},
   "cell_type": "markdown",
   "metadata": {},
   "source": [
    "# 8. label error 잡기 위해 target에 따른 단어 빈도 수 보기"
   ]
  },
  {
   "cell_type": "code",
   "execution_count": 1,
   "metadata": {},
   "outputs": [],
   "source": [
    "from collections import Counter"
   ]
  },
  {
   "cell_type": "code",
   "execution_count": null,
   "metadata": {},
   "outputs": [],
   "source": []
  }
 ],
 "metadata": {
  "kernelspec": {
   "display_name": "base",
   "language": "python",
   "name": "python3"
  },
  "language_info": {
   "codemirror_mode": {
    "name": "ipython",
    "version": 3
   },
   "file_extension": ".py",
   "mimetype": "text/x-python",
   "name": "python",
   "nbconvert_exporter": "python",
   "pygments_lexer": "ipython3",
   "version": "3.8.5"
  },
  "orig_nbformat": 4
 },
 "nbformat": 4,
 "nbformat_minor": 2
}
