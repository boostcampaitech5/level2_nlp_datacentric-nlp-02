{
 "cells": [
  {
   "attachments": {},
   "cell_type": "markdown",
   "metadata": {},
   "source": [
    "# 김기범 데이터 시각화"
   ]
  },
  {
   "cell_type": "code",
   "execution_count": 2,
   "metadata": {},
   "outputs": [],
   "source": [
    "import pandas as pd\n",
    "import seaborn as sns\n",
    "import matplotlib.pyplot as plt\n",
    "\n",
    "%matplotlib inline"
   ]
  },
  {
   "attachments": {},
   "cell_type": "markdown",
   "metadata": {},
   "source": [
    "# 1. 대회에서 제공하는 Train 데이터셋"
   ]
  },
  {
   "cell_type": "code",
   "execution_count": 61,
   "metadata": {},
   "outputs": [
    {
     "name": "stdout",
     "output_type": "stream",
     "text": [
      "train shape >> (52530, 8)\n",
      "test shape >> (9107, 6)\n"
     ]
    }
   ],
   "source": [
    "train_df = pd.read_csv('../data/train.csv')\n",
    "test_df = pd.read_csv(\"../data/test.csv\")\n",
    "\n",
    "print(\"train shape >>\", train_df.shape)\n",
    "print(\"test shape >>\", test_df.shape)"
   ]
  },
  {
   "cell_type": "code",
   "execution_count": 4,
   "metadata": {},
   "outputs": [
    {
     "name": "stdout",
     "output_type": "stream",
     "text": [
      "<class 'pandas.core.frame.DataFrame'>\n",
      "RangeIndex: 52530 entries, 0 to 52529\n",
      "Data columns (total 8 columns):\n",
      " #   Column                    Non-Null Count  Dtype \n",
      "---  ------                    --------------  ----- \n",
      " 0   ID                        52530 non-null  object\n",
      " 1   input_text                52530 non-null  object\n",
      " 2   label_text                52530 non-null  object\n",
      " 3   target                    52530 non-null  int64 \n",
      " 4   predefined_news_category  52530 non-null  object\n",
      " 5   annotations               52530 non-null  object\n",
      " 6   url                       52530 non-null  object\n",
      " 7   date                      52530 non-null  object\n",
      "dtypes: int64(1), object(7)\n",
      "memory usage: 3.2+ MB\n"
     ]
    }
   ],
   "source": [
    "train_df.info()"
   ]
  },
  {
   "cell_type": "code",
   "execution_count": 5,
   "metadata": {},
   "outputs": [
    {
     "data": {
      "text/html": [
       "<div>\n",
       "<style scoped>\n",
       "    .dataframe tbody tr th:only-of-type {\n",
       "        vertical-align: middle;\n",
       "    }\n",
       "\n",
       "    .dataframe tbody tr th {\n",
       "        vertical-align: top;\n",
       "    }\n",
       "\n",
       "    .dataframe thead th {\n",
       "        text-align: right;\n",
       "    }\n",
       "</style>\n",
       "<table border=\"1\" class=\"dataframe\">\n",
       "  <thead>\n",
       "    <tr style=\"text-align: right;\">\n",
       "      <th></th>\n",
       "      <th>ID</th>\n",
       "      <th>input_text</th>\n",
       "      <th>label_text</th>\n",
       "      <th>target</th>\n",
       "      <th>predefined_news_category</th>\n",
       "      <th>annotations</th>\n",
       "      <th>url</th>\n",
       "      <th>date</th>\n",
       "    </tr>\n",
       "  </thead>\n",
       "  <tbody>\n",
       "    <tr>\n",
       "      <th>0</th>\n",
       "      <td>ynat-v1_train_00000</td>\n",
       "      <td>유튜브 내달 2일까지 크리에이터 지원 공간 운영</td>\n",
       "      <td>생활문화</td>\n",
       "      <td>3</td>\n",
       "      <td>IT과학</td>\n",
       "      <td>{'annotators': ['08', '13', '07'], 'annotation...</td>\n",
       "      <td>https://news.naver.com/main/read.nhn?mode=LS2D...</td>\n",
       "      <td>2016.06.30. 오전 10:36</td>\n",
       "    </tr>\n",
       "    <tr>\n",
       "      <th>1</th>\n",
       "      <td>ynat-v1_train_00001</td>\n",
       "      <td>어버이날 막따가 흐려저…남부지방 여튼 황사</td>\n",
       "      <td>생활문화</td>\n",
       "      <td>3</td>\n",
       "      <td>생활문화</td>\n",
       "      <td>{'annotators': ['14', '13', '07'], 'annotation...</td>\n",
       "      <td>https://news.naver.com/main/read.nhn?mode=LS2D...</td>\n",
       "      <td>2016.05.08. 오전 5:25</td>\n",
       "    </tr>\n",
       "    <tr>\n",
       "      <th>2</th>\n",
       "      <td>ynat-v1_train_00001</td>\n",
       "      <td>어버이날 맑다가 흐려져…남부지방 옅은 황사</td>\n",
       "      <td>생활문화</td>\n",
       "      <td>3</td>\n",
       "      <td>생활문화</td>\n",
       "      <td>{'annotators': ['14', '13', '07'], 'annotation...</td>\n",
       "      <td>https://news.naver.com/main/read.nhn?mode=LS2D...</td>\n",
       "      <td>2016.05.08. 오전 5:25</td>\n",
       "    </tr>\n",
       "    <tr>\n",
       "      <th>3</th>\n",
       "      <td>ynat-v1_train_00002</td>\n",
       "      <td>내년부터 국가RD 평가 때 논문건수는 반영 않는다</td>\n",
       "      <td>사회</td>\n",
       "      <td>2</td>\n",
       "      <td>IT과학</td>\n",
       "      <td>{'annotators': ['14', '13', '10'], 'annotation...</td>\n",
       "      <td>https://news.naver.com/main/read.nhn?mode=LS2D...</td>\n",
       "      <td>2016.03.15. 오후 12:00</td>\n",
       "    </tr>\n",
       "    <tr>\n",
       "      <th>4</th>\n",
       "      <td>ynat-v1_train_00003</td>\n",
       "      <td>김명자 신임 과총 회장 원로와 젊은 과학자 지혜 모을 것</td>\n",
       "      <td>사회</td>\n",
       "      <td>2</td>\n",
       "      <td>IT과학</td>\n",
       "      <td>{'annotators': ['16', '11', '15'], 'annotation...</td>\n",
       "      <td>https://news.naver.com/main/read.nhn?mode=LS2D...</td>\n",
       "      <td>2017.02.28. 오전 9:54</td>\n",
       "    </tr>\n",
       "  </tbody>\n",
       "</table>\n",
       "</div>"
      ],
      "text/plain": [
       "                    ID                       input_text label_text  target   \n",
       "0  ynat-v1_train_00000       유튜브 내달 2일까지 크리에이터 지원 공간 운영       생활문화       3  \\\n",
       "1  ynat-v1_train_00001          어버이날 막따가 흐려저…남부지방 여튼 황사       생활문화       3   \n",
       "2  ynat-v1_train_00001          어버이날 맑다가 흐려져…남부지방 옅은 황사       생활문화       3   \n",
       "3  ynat-v1_train_00002      내년부터 국가RD 평가 때 논문건수는 반영 않는다         사회       2   \n",
       "4  ynat-v1_train_00003  김명자 신임 과총 회장 원로와 젊은 과학자 지혜 모을 것         사회       2   \n",
       "\n",
       "  predefined_news_category                                        annotations   \n",
       "0                     IT과학  {'annotators': ['08', '13', '07'], 'annotation...  \\\n",
       "1                     생활문화  {'annotators': ['14', '13', '07'], 'annotation...   \n",
       "2                     생활문화  {'annotators': ['14', '13', '07'], 'annotation...   \n",
       "3                     IT과학  {'annotators': ['14', '13', '10'], 'annotation...   \n",
       "4                     IT과학  {'annotators': ['16', '11', '15'], 'annotation...   \n",
       "\n",
       "                                                 url                  date  \n",
       "0  https://news.naver.com/main/read.nhn?mode=LS2D...  2016.06.30. 오전 10:36  \n",
       "1  https://news.naver.com/main/read.nhn?mode=LS2D...   2016.05.08. 오전 5:25  \n",
       "2  https://news.naver.com/main/read.nhn?mode=LS2D...   2016.05.08. 오전 5:25  \n",
       "3  https://news.naver.com/main/read.nhn?mode=LS2D...  2016.03.15. 오후 12:00  \n",
       "4  https://news.naver.com/main/read.nhn?mode=LS2D...   2017.02.28. 오전 9:54  "
      ]
     },
     "execution_count": 5,
     "metadata": {},
     "output_type": "execute_result"
    }
   ],
   "source": [
    "train_df.head()"
   ]
  },
  {
   "attachments": {},
   "cell_type": "markdown",
   "metadata": {},
   "source": [
    "## 1.1 target 분포 보기"
   ]
  },
  {
   "cell_type": "code",
   "execution_count": 6,
   "metadata": {},
   "outputs": [
    {
     "data": {
      "text/plain": [
       "label_text\n",
       "세계      9501\n",
       "스포츠     8833\n",
       "정치      8473\n",
       "경제      7084\n",
       "생활문화    6608\n",
       "IT과학    6052\n",
       "사회      5979\n",
       "Name: count, dtype: int64"
      ]
     },
     "execution_count": 6,
     "metadata": {},
     "output_type": "execute_result"
    }
   ],
   "source": [
    "train_df['label_text'].value_counts()"
   ]
  },
  {
   "cell_type": "code",
   "execution_count": 7,
   "metadata": {},
   "outputs": [
    {
     "data": {
      "text/plain": [
       "<Axes: xlabel='target', ylabel='count'>"
      ]
     },
     "execution_count": 7,
     "metadata": {},
     "output_type": "execute_result"
    },
    {
     "data": {
      "image/png": "[encoded data removed]",
      "text/plain": [
       "<Figure size 640x480 with 1 Axes>"
      ]
     },
     "metadata": {},
     "output_type": "display_data"
    }
   ],
   "source": [
    "sns.countplot(data=train_df, x='target')"
   ]
  },
  {
   "attachments": {},
   "cell_type": "markdown",
   "metadata": {},
   "source": [
    "## 1.2 토큰화 진행 후 [PAD] 등장 위치"
   ]
  },
  {
   "cell_type": "code",
   "execution_count": 8,
   "metadata": {},
   "outputs": [],
   "source": [
    "import gluonnlp as nlp\n",
    "\n",
    "from kobert import get_tokenizer\n",
    "from kobert import get_pytorch_kobert_model"
   ]
  },
  {
   "cell_type": "code",
   "execution_count": 9,
   "metadata": {},
   "outputs": [
    {
     "name": "stdout",
     "output_type": "stream",
     "text": [
      "using cached model. /opt/ml/data_analysis/.cache/kobert_v1.zip\n",
      "using cached model. /opt/ml/data_analysis/.cache/kobert_news_wiki_ko_cased-1087f8699e.spiece\n",
      "using cached model. /opt/ml/data_analysis/.cache/kobert_news_wiki_ko_cased-1087f8699e.spiece\n"
     ]
    }
   ],
   "source": [
    "### Load Tokenizer and Model ###\n",
    "bertmodel, vocab = get_pytorch_kobert_model(cachedir=\".cache\")\n",
    "tokenizer = get_tokenizer()\n",
    "tok = nlp.data.BERTSPTokenizer(tokenizer, vocab, lower=False)\n",
    "transform = nlp.data.BERTSentenceTransform(tok, max_seq_length=64, pad=True, pair=False)"
   ]
  },
  {
   "cell_type": "code",
   "execution_count": 10,
   "metadata": {},
   "outputs": [
    {
     "data": {
      "text/plain": [
       "52530"
      ]
     },
     "execution_count": 10,
     "metadata": {},
     "output_type": "execute_result"
    }
   ],
   "source": [
    "input_text_after_tokenizing = []\n",
    "\n",
    "for input_text in train_df['input_text'].tolist():\n",
    "    input_text_after_tokenizing.append(transform([input_text]))\n",
    "\n",
    "len(input_text_after_tokenizing)"
   ]
  },
  {
   "cell_type": "code",
   "execution_count": 11,
   "metadata": {},
   "outputs": [
    {
     "data": {
      "text/plain": [
       "52530"
      ]
     },
     "execution_count": 11,
     "metadata": {},
     "output_type": "execute_result"
    }
   ],
   "source": [
    "find_pad = []\n",
    "\n",
    "for x in input_text_after_tokenizing:\n",
    "    pad_idx = x[0].tolist().index(1)\n",
    "    find_pad.append(pad_idx)\n",
    "\n",
    "len(find_pad)"
   ]
  },
  {
   "cell_type": "code",
   "execution_count": 12,
   "metadata": {},
   "outputs": [
    {
     "data": {
      "text/plain": [
       "Text(0, 0.5, 'count')"
      ]
     },
     "execution_count": 12,
     "metadata": {},
     "output_type": "execute_result"
    },
    {
     "data": {
      "image/png": "[encoded data removed]",
      "text/plain": [
       "<Figure size 640x480 with 1 Axes>"
      ]
     },
     "metadata": {},
     "output_type": "display_data"
    }
   ],
   "source": [
    "plt.hist(find_pad)\n",
    "plt.xlabel('pad idx')\n",
    "plt.ylabel('count')"
   ]
  },
  {
   "attachments": {},
   "cell_type": "markdown",
   "metadata": {},
   "source": [
    "## 1.3 Label Error 찾기\n",
    "\n",
    "- annotation과 label_input이 다른 거 찾기"
   ]
  },
  {
   "cell_type": "code",
   "execution_count": 13,
   "metadata": {},
   "outputs": [],
   "source": [
    "def logic(x):\n",
    "    x.sort()\n",
    "    \n",
    "    return x[0] if x[0] == x[1] else x[1]\n",
    "\n",
    "train_df['first-scope'] = train_df['annotations'].apply(lambda x: logic(eval(x)['annotations']['first-scope']))"
   ]
  },
  {
   "cell_type": "code",
   "execution_count": 14,
   "metadata": {},
   "outputs": [
    {
     "data": {
      "text/plain": [
       "1371"
      ]
     },
     "execution_count": 14,
     "metadata": {},
     "output_type": "execute_result"
    }
   ],
   "source": [
    "view_df = train_df[train_df['label_text'] != train_df['first-scope']]\n",
    "\n",
    "len(view_df)"
   ]
  },
  {
   "cell_type": "code",
   "execution_count": 15,
   "metadata": {},
   "outputs": [
    {
     "data": {
      "text/plain": [
       "((52530, 9), (51159, 9), 51159)"
      ]
     },
     "execution_count": 15,
     "metadata": {},
     "output_type": "execute_result"
    }
   ],
   "source": [
    "train_df.shape, train_df.drop(view_df.index, axis=0).shape, 52530 - 1371"
   ]
  },
  {
   "attachments": {},
   "cell_type": "markdown",
   "metadata": {},
   "source": [
    "- annotaitons 안 쓰고 찾는 방법"
   ]
  },
  {
   "cell_type": "code",
   "execution_count": 64,
   "metadata": {},
   "outputs": [],
   "source": [
    "train_df.drop_duplicates(inplace=True)"
   ]
  },
  {
   "cell_type": "code",
   "execution_count": 65,
   "metadata": {},
   "outputs": [
    {
     "data": {
      "text/plain": [
       "(51003, 8)"
      ]
     },
     "execution_count": 65,
     "metadata": {},
     "output_type": "execute_result"
    }
   ],
   "source": [
    "train_df.drop_duplicates(subset=['ID', 'input_text']).shape"
   ]
  },
  {
   "cell_type": "code",
   "execution_count": 66,
   "metadata": {},
   "outputs": [
    {
     "data": {
      "text/plain": [
       "False    49632\n",
       "True      2742\n",
       "Name: count, dtype: int64"
      ]
     },
     "execution_count": 66,
     "metadata": {},
     "output_type": "execute_result"
    }
   ],
   "source": [
    "train_df.duplicated(['ID', 'input_text'], keep=False).value_counts()"
   ]
  },
  {
   "cell_type": "code",
   "execution_count": 72,
   "metadata": {},
   "outputs": [
    {
     "data": {
      "text/plain": [
       "(2742, 8)"
      ]
     },
     "execution_count": 72,
     "metadata": {},
     "output_type": "execute_result"
    }
   ],
   "source": [
    "view_df = train_df[train_df.duplicated(['ID', 'input_text'], keep=False)]\n",
    "view_df.shape"
   ]
  },
  {
   "cell_type": "code",
   "execution_count": 111,
   "metadata": {},
   "outputs": [
    {
     "data": {
      "text/plain": [
       "(49632, 8)"
      ]
     },
     "execution_count": 111,
     "metadata": {},
     "output_type": "execute_result"
    }
   ],
   "source": [
    "train_df.drop(view_df.index, axis=0).shape"
   ]
  },
  {
   "cell_type": "code",
   "execution_count": 85,
   "metadata": {},
   "outputs": [
    {
     "name": "stdout",
     "output_type": "stream",
     "text": [
      "(1178, 8)\n"
     ]
    },
    {
     "data": {
      "text/html": [
       "<div>\n",
       "<style scoped>\n",
       "    .dataframe tbody tr th:only-of-type {\n",
       "        vertical-align: middle;\n",
       "    }\n",
       "\n",
       "    .dataframe tbody tr th {\n",
       "        vertical-align: top;\n",
       "    }\n",
       "\n",
       "    .dataframe thead th {\n",
       "        text-align: right;\n",
       "    }\n",
       "</style>\n",
       "<table border=\"1\" class=\"dataframe\">\n",
       "  <thead>\n",
       "    <tr style=\"text-align: right;\">\n",
       "      <th></th>\n",
       "      <th>ID</th>\n",
       "      <th>input_text</th>\n",
       "      <th>label_text</th>\n",
       "      <th>target</th>\n",
       "      <th>predefined_news_category</th>\n",
       "      <th>annotations</th>\n",
       "      <th>url</th>\n",
       "      <th>date</th>\n",
       "    </tr>\n",
       "  </thead>\n",
       "  <tbody>\n",
       "    <tr>\n",
       "      <th>282</th>\n",
       "      <td>ynat-v1_train_00250</td>\n",
       "      <td>트럼프·엡스타인 1992년 마러라고서 여성 20여명과 파티</td>\n",
       "      <td>세계</td>\n",
       "      <td>4</td>\n",
       "      <td>세계</td>\n",
       "      <td>{'annotators': ['09', '18', '11'], 'annotation...</td>\n",
       "      <td>https://news.naver.com/main/read.nhn?mode=LS2D...</td>\n",
       "      <td>2019.07.11. 오전 6:18</td>\n",
       "    </tr>\n",
       "    <tr>\n",
       "      <th>361</th>\n",
       "      <td>ynat-v1_train_00316</td>\n",
       "      <td>예스24 우리가 사랑한 24인의 작가들 부산서 전시</td>\n",
       "      <td>생활문화</td>\n",
       "      <td>3</td>\n",
       "      <td>생활문화</td>\n",
       "      <td>{'annotators': ['02', '15', '12'], 'annotation...</td>\n",
       "      <td>https://news.naver.com/main/read.nhn?mode=LS2D...</td>\n",
       "      <td>2018.01.08. 오전 10:48</td>\n",
       "    </tr>\n",
       "    <tr>\n",
       "      <th>392</th>\n",
       "      <td>ynat-v1_train_00341</td>\n",
       "      <td>현대모비스 3연속 100점대 대승…삼성 만난 라건아 39점</td>\n",
       "      <td>스포츠</td>\n",
       "      <td>6</td>\n",
       "      <td>스포츠</td>\n",
       "      <td>{'annotators': ['18', '02', '03'], 'annotation...</td>\n",
       "      <td>https://sports.news.naver.com/news.nhn?oid=001...</td>\n",
       "      <td>2018.10.19 21:53</td>\n",
       "    </tr>\n",
       "    <tr>\n",
       "      <th>409</th>\n",
       "      <td>ynat-v1_train_00354</td>\n",
       "      <td>인공지능에서 구글과 경쟁하려면 데이터 확보 중요</td>\n",
       "      <td>IT과학</td>\n",
       "      <td>5</td>\n",
       "      <td>IT과학</td>\n",
       "      <td>{'annotators': ['12', '15', '09'], 'annotation...</td>\n",
       "      <td>https://news.naver.com/main/read.nhn?mode=LS2D...</td>\n",
       "      <td>2016.03.20. 오후 12:00</td>\n",
       "    </tr>\n",
       "    <tr>\n",
       "      <th>545</th>\n",
       "      <td>ynat-v1_train_00475</td>\n",
       "      <td>獨 언론 극우 AfD 의원 러시아로부터 통제당해</td>\n",
       "      <td>세계</td>\n",
       "      <td>4</td>\n",
       "      <td>세계</td>\n",
       "      <td>{'annotators': ['18', '07', '03'], 'annotation...</td>\n",
       "      <td>https://news.naver.com/main/read.nhn?mode=LS2D...</td>\n",
       "      <td>2019.04.07. 오후 10:53</td>\n",
       "    </tr>\n",
       "    <tr>\n",
       "      <th>553</th>\n",
       "      <td>ynat-v1_train_00482</td>\n",
       "      <td>KB금융 글로벌인프라펀드 5호·6호 투자계약 체결</td>\n",
       "      <td>경제</td>\n",
       "      <td>1</td>\n",
       "      <td>경제</td>\n",
       "      <td>{'annotators': ['02', '16', '09'], 'annotation...</td>\n",
       "      <td>https://news.naver.com/main/read.nhn?mode=LS2D...</td>\n",
       "      <td>2019.05.28. 오후 6:42</td>\n",
       "    </tr>\n",
       "    <tr>\n",
       "      <th>663</th>\n",
       "      <td>ynat-v1_train_00581</td>\n",
       "      <td>월드컵 스웨덴 한국 사전캠프 염탐…인근 건물서 모...</td>\n",
       "      <td>스포츠</td>\n",
       "      <td>6</td>\n",
       "      <td>스포츠</td>\n",
       "      <td>{'annotators': ['10', '13', '12'], 'annotation...</td>\n",
       "      <td>https://sports.news.naver.com/news.nhn?oid=001...</td>\n",
       "      <td>2018.06.14 05:00</td>\n",
       "    </tr>\n",
       "    <tr>\n",
       "      <th>720</th>\n",
       "      <td>ynat-v1_train_00628</td>\n",
       "      <td>엔씨소프트 리니지M 캐릭터 미리 만드세요</td>\n",
       "      <td>IT과학</td>\n",
       "      <td>5</td>\n",
       "      <td>IT과학</td>\n",
       "      <td>{'annotators': ['03', '12', '15'], 'annotation...</td>\n",
       "      <td>https://news.naver.com/main/read.nhn?mode=LS2D...</td>\n",
       "      <td>2017.05.10. 오후 2:22</td>\n",
       "    </tr>\n",
       "    <tr>\n",
       "      <th>741</th>\n",
       "      <td>ynat-v1_train_00647</td>\n",
       "      <td>그래픽 사법개혁안 처리 관련 각 당 입장</td>\n",
       "      <td>정치</td>\n",
       "      <td>0</td>\n",
       "      <td>정치</td>\n",
       "      <td>{'annotators': ['09', '13', '14'], 'annotation...</td>\n",
       "      <td>https://news.naver.com/main/read.nhn?mode=LS2D...</td>\n",
       "      <td>2019.10.16. 오후 3:31</td>\n",
       "    </tr>\n",
       "    <tr>\n",
       "      <th>743</th>\n",
       "      <td>ynat-v1_train_00648</td>\n",
       "      <td>GS건설 전환사채 발행 검토 중</td>\n",
       "      <td>경제</td>\n",
       "      <td>1</td>\n",
       "      <td>경제</td>\n",
       "      <td>{'annotators': ['03', '09', '14'], 'annotation...</td>\n",
       "      <td>https://news.naver.com/main/read.nhn?mode=LS2D...</td>\n",
       "      <td>2016.04.04. 오전 11:38</td>\n",
       "    </tr>\n",
       "  </tbody>\n",
       "</table>\n",
       "</div>"
      ],
      "text/plain": [
       "                      ID                        input_text label_text  target   \n",
       "282  ynat-v1_train_00250  트럼프·엡스타인 1992년 마러라고서 여성 20여명과 파티         세계       4  \\\n",
       "361  ynat-v1_train_00316      예스24 우리가 사랑한 24인의 작가들 부산서 전시       생활문화       3   \n",
       "392  ynat-v1_train_00341  현대모비스 3연속 100점대 대승…삼성 만난 라건아 39점        스포츠       6   \n",
       "409  ynat-v1_train_00354        인공지능에서 구글과 경쟁하려면 데이터 확보 중요       IT과학       5   \n",
       "545  ynat-v1_train_00475        獨 언론 극우 AfD 의원 러시아로부터 통제당해         세계       4   \n",
       "553  ynat-v1_train_00482       KB금융 글로벌인프라펀드 5호·6호 투자계약 체결         경제       1   \n",
       "663  ynat-v1_train_00581    월드컵 스웨덴 한국 사전캠프 염탐…인근 건물서 모...        스포츠       6   \n",
       "720  ynat-v1_train_00628            엔씨소프트 리니지M 캐릭터 미리 만드세요       IT과학       5   \n",
       "741  ynat-v1_train_00647            그래픽 사법개혁안 처리 관련 각 당 입장         정치       0   \n",
       "743  ynat-v1_train_00648                 GS건설 전환사채 발행 검토 중         경제       1   \n",
       "\n",
       "    predefined_news_category   \n",
       "282                       세계  \\\n",
       "361                     생활문화   \n",
       "392                      스포츠   \n",
       "409                     IT과학   \n",
       "545                       세계   \n",
       "553                       경제   \n",
       "663                      스포츠   \n",
       "720                     IT과학   \n",
       "741                       정치   \n",
       "743                       경제   \n",
       "\n",
       "                                           annotations   \n",
       "282  {'annotators': ['09', '18', '11'], 'annotation...  \\\n",
       "361  {'annotators': ['02', '15', '12'], 'annotation...   \n",
       "392  {'annotators': ['18', '02', '03'], 'annotation...   \n",
       "409  {'annotators': ['12', '15', '09'], 'annotation...   \n",
       "545  {'annotators': ['18', '07', '03'], 'annotation...   \n",
       "553  {'annotators': ['02', '16', '09'], 'annotation...   \n",
       "663  {'annotators': ['10', '13', '12'], 'annotation...   \n",
       "720  {'annotators': ['03', '12', '15'], 'annotation...   \n",
       "741  {'annotators': ['09', '13', '14'], 'annotation...   \n",
       "743  {'annotators': ['03', '09', '14'], 'annotation...   \n",
       "\n",
       "                                                   url                  date  \n",
       "282  https://news.naver.com/main/read.nhn?mode=LS2D...   2019.07.11. 오전 6:18  \n",
       "361  https://news.naver.com/main/read.nhn?mode=LS2D...  2018.01.08. 오전 10:48  \n",
       "392  https://sports.news.naver.com/news.nhn?oid=001...      2018.10.19 21:53  \n",
       "409  https://news.naver.com/main/read.nhn?mode=LS2D...  2016.03.20. 오후 12:00  \n",
       "545  https://news.naver.com/main/read.nhn?mode=LS2D...  2019.04.07. 오후 10:53  \n",
       "553  https://news.naver.com/main/read.nhn?mode=LS2D...   2019.05.28. 오후 6:42  \n",
       "663  https://sports.news.naver.com/news.nhn?oid=001...      2018.06.14 05:00  \n",
       "720  https://news.naver.com/main/read.nhn?mode=LS2D...   2017.05.10. 오후 2:22  \n",
       "741  https://news.naver.com/main/read.nhn?mode=LS2D...   2019.10.16. 오후 3:31  \n",
       "743  https://news.naver.com/main/read.nhn?mode=LS2D...  2016.04.04. 오전 11:38  "
      ]
     },
     "execution_count": 85,
     "metadata": {},
     "output_type": "execute_result"
    }
   ],
   "source": [
    "print(view_df[view_df['label_text'] == view_df['predefined_news_category']].shape)\n",
    "view_df[view_df['label_text'] == view_df['predefined_news_category']].head(10)"
   ]
  },
  {
   "cell_type": "code",
   "execution_count": 109,
   "metadata": {},
   "outputs": [
    {
     "data": {
      "text/plain": [
       "1178"
      ]
     },
     "execution_count": 109,
     "metadata": {},
     "output_type": "execute_result"
    }
   ],
   "source": [
    "view_ID_list = view_df[view_df['label_text'] == view_df['predefined_news_category']]['ID'].values\n",
    "len(view_ID_list)"
   ]
  },
  {
   "cell_type": "code",
   "execution_count": 110,
   "metadata": {},
   "outputs": [
    {
     "data": {
      "text/html": [
       "<div>\n",
       "<style scoped>\n",
       "    .dataframe tbody tr th:only-of-type {\n",
       "        vertical-align: middle;\n",
       "    }\n",
       "\n",
       "    .dataframe tbody tr th {\n",
       "        vertical-align: top;\n",
       "    }\n",
       "\n",
       "    .dataframe thead th {\n",
       "        text-align: right;\n",
       "    }\n",
       "</style>\n",
       "<table border=\"1\" class=\"dataframe\">\n",
       "  <thead>\n",
       "    <tr style=\"text-align: right;\">\n",
       "      <th></th>\n",
       "      <th>ID</th>\n",
       "      <th>input_text</th>\n",
       "      <th>label_text</th>\n",
       "      <th>target</th>\n",
       "      <th>predefined_news_category</th>\n",
       "      <th>annotations</th>\n",
       "      <th>url</th>\n",
       "      <th>date</th>\n",
       "    </tr>\n",
       "  </thead>\n",
       "  <tbody>\n",
       "    <tr>\n",
       "      <th>563</th>\n",
       "      <td>ynat-v1_train_00491</td>\n",
       "      <td>영상 미혼남녀 절반 이상 결혼 NO 동거 OK</td>\n",
       "      <td>세계</td>\n",
       "      <td>4</td>\n",
       "      <td>경제</td>\n",
       "      <td>{'annotators': ['12', '13', '03'], 'annotation...</td>\n",
       "      <td>https://news.naver.com/main/read.nhn?mode=LS2D...</td>\n",
       "      <td>2019.03.22. 오후 5:01</td>\n",
       "    </tr>\n",
       "    <tr>\n",
       "      <th>564</th>\n",
       "      <td>ynat-v1_train_00491</td>\n",
       "      <td>영상 미혼남녀 절반 이상 결혼 NO 동거 OK</td>\n",
       "      <td>사회</td>\n",
       "      <td>2</td>\n",
       "      <td>경제</td>\n",
       "      <td>{'annotators': ['12', '13', '03'], 'annotation...</td>\n",
       "      <td>https://news.naver.com/main/read.nhn?mode=LS2D...</td>\n",
       "      <td>2019.03.22. 오후 5:01</td>\n",
       "    </tr>\n",
       "  </tbody>\n",
       "</table>\n",
       "</div>"
      ],
      "text/plain": [
       "                      ID                 input_text label_text  target   \n",
       "563  ynat-v1_train_00491  영상 미혼남녀 절반 이상 결혼 NO 동거 OK         세계       4  \\\n",
       "564  ynat-v1_train_00491  영상 미혼남녀 절반 이상 결혼 NO 동거 OK         사회       2   \n",
       "\n",
       "    predefined_news_category   \n",
       "563                       경제  \\\n",
       "564                       경제   \n",
       "\n",
       "                                           annotations   \n",
       "563  {'annotators': ['12', '13', '03'], 'annotation...  \\\n",
       "564  {'annotators': ['12', '13', '03'], 'annotation...   \n",
       "\n",
       "                                                   url                 date  \n",
       "563  https://news.naver.com/main/read.nhn?mode=LS2D...  2019.03.22. 오후 5:01  \n",
       "564  https://news.naver.com/main/read.nhn?mode=LS2D...  2019.03.22. 오후 5:01  "
      ]
     },
     "execution_count": 110,
     "metadata": {},
     "output_type": "execute_result"
    }
   ],
   "source": [
    "view_df[view_df['ID'] == 'ynat-v1_train_00491']"
   ]
  },
  {
   "attachments": {},
   "cell_type": "markdown",
   "metadata": {},
   "source": [
    "## 1.4 한글 영어 외 다른 문자 찾기"
   ]
  },
  {
   "attachments": {},
   "cell_type": "markdown",
   "metadata": {},
   "source": [
    "### 1.4.1 자음 여부 확인"
   ]
  },
  {
   "cell_type": "code",
   "execution_count": 16,
   "metadata": {},
   "outputs": [
    {
     "data": {
      "text/plain": [
       "Series([], Name: count, dtype: int64)"
      ]
     },
     "execution_count": 16,
     "metadata": {},
     "output_type": "execute_result"
    }
   ],
   "source": [
    "train_df['input_text'].str.extract('([ㄱ-ㅎㅏ-ㅣ]+)').value_counts()"
   ]
  },
  {
   "attachments": {},
   "cell_type": "markdown",
   "metadata": {},
   "source": [
    "### 1.4.2 일본어 여부 확인"
   ]
  },
  {
   "cell_type": "code",
   "execution_count": 17,
   "metadata": {},
   "outputs": [
    {
     "data": {
      "text/plain": [
       "Series([], Name: count, dtype: int64)"
      ]
     },
     "execution_count": 17,
     "metadata": {},
     "output_type": "execute_result"
    }
   ],
   "source": [
    "train_df['input_text'].str.extract('([ぁ-ゔァ-ヴー々〆〤]+)').value_counts()"
   ]
  },
  {
   "attachments": {},
   "cell_type": "markdown",
   "metadata": {},
   "source": [
    "### 1.4.3 한자 여부 확인"
   ]
  },
  {
   "cell_type": "code",
   "execution_count": 18,
   "metadata": {},
   "outputs": [
    {
     "data": {
      "text/plain": [
       "美    1634\n",
       "北    1385\n",
       "朴     812\n",
       "中     805\n",
       "日     473\n",
       "     ... \n",
       "大       1\n",
       "警       1\n",
       "超       1\n",
       "史       1\n",
       "古       1\n",
       "Name: count, Length: 139, dtype: int64"
      ]
     },
     "execution_count": 18,
     "metadata": {},
     "output_type": "execute_result"
    }
   ],
   "source": [
    "train_df['input_text'].str.extract('([一-龥]+)').value_counts()"
   ]
  },
  {
   "attachments": {},
   "cell_type": "markdown",
   "metadata": {},
   "source": [
    "### 1.4.4 특수문자 확인"
   ]
  },
  {
   "cell_type": "code",
   "execution_count": 19,
   "metadata": {},
   "outputs": [
    {
     "data": {
      "text/plain": [
       "…      19622\n",
       "·       5497\n",
       ".        664\n",
       "...      511\n",
       "%        441\n",
       "       ...  \n",
       "…女         1\n",
       "㎒          1\n",
       "㎏·         1\n",
       "♥          1\n",
       "∙          1\n",
       "Name: count, Length: 98, dtype: int64"
      ]
     },
     "execution_count": 19,
     "metadata": {},
     "output_type": "execute_result"
    }
   ],
   "source": [
    "train_df['input_text'].str.extract('([^A-Za-z0-9가-힣\\sぁ-ゔァ-ヴー々〆〤一-龥]{1,9999})').value_counts()"
   ]
  },
  {
   "cell_type": "code",
   "execution_count": 20,
   "metadata": {},
   "outputs": [
    {
     "name": "stdout",
     "output_type": "stream",
     "text": [
      "[  2 517  55   3   1   1   1   1   1   1   1   1   1   1   1   1   1   1\n",
      "   1   1   1   1   1   1   1   1   1   1   1   1   1   1   1   1   1   1\n",
      "   1   1   1   1   1   1   1   1   1   1   1   1   1   1   1   1   1   1\n",
      "   1   1   1   1   1   1   1   1   1   1]\n",
      "[   2  517   55  517 5265    3    1    1    1    1    1    1    1    1\n",
      "    1    1    1    1    1    1    1    1    1    1    1    1    1    1\n",
      "    1    1    1    1    1    1    1    1    1    1    1    1    1    1\n",
      "    1    1    1    1    1    1    1    1    1    1    1    1    1    1\n",
      "    1    1    1    1    1    1    1    1]\n",
      "[  2 671 294 459   3   1   1   1   1   1   1   1   1   1   1   1   1   1\n",
      "   1   1   1   1   1   1   1   1   1   1   1   1   1   1   1   1   1   1\n",
      "   1   1   1   1   1   1   1   1   1   1   1   1   1   1   1   1   1   1\n",
      "   1   1   1   1   1   1   1   1   1   1]\n",
      "[  2 517 417 517 478   3   1   1   1   1   1   1   1   1   1   1   1   1\n",
      "   1   1   1   1   1   1   1   1   1   1   1   1   1   1   1   1   1   1\n",
      "   1   1   1   1   1   1   1   1   1   1   1   1   1   1   1   1   1   1\n",
      "   1   1   1   1   1   1   1   1   1   1]\n",
      "[  2 517   0   3   1   1   1   1   1   1   1   1   1   1   1   1   1   1\n",
      "   1   1   1   1   1   1   1   1   1   1   1   1   1   1   1   1   1   1\n",
      "   1   1   1   1   1   1   1   1   1   1   1   1   1   1   1   1   1   1\n",
      "   1   1   1   1   1   1   1   1   1   1]\n",
      "[  2 517   0   3   1   1   1   1   1   1   1   1   1   1   1   1   1   1\n",
      "   1   1   1   1   1   1   1   1   1   1   1   1   1   1   1   1   1   1\n",
      "   1   1   1   1   1   1   1   1   1   1   1   1   1   1   1   1   1   1\n",
      "   1   1   1   1   1   1   1   1   1   1]\n"
     ]
    }
   ],
   "source": [
    "print(transform(['…'])[0])\n",
    "print(transform(['…女'])[0])\n",
    "print(transform(['㎒'])[0])\n",
    "print(transform(['㎏·'])[0])\n",
    "print(transform(['♥'])[0])\n",
    "print(transform(['꿿'])[0])"
   ]
  },
  {
   "attachments": {},
   "cell_type": "markdown",
   "metadata": {},
   "source": [
    "# 2. AI HUB 뉴시 기사 기계독해 데이터"
   ]
  },
  {
   "cell_type": "code",
   "execution_count": 21,
   "metadata": {},
   "outputs": [
    {
     "data": {
      "text/plain": [
       "(111998, 4)"
      ]
     },
     "execution_count": 21,
     "metadata": {},
     "output_type": "execute_result"
    }
   ],
   "source": [
    "ai_hub_017 = pd.read_csv(\"../data/ai_hub_017.csv\")\n",
    "\n",
    "ai_hub_017.shape"
   ]
  },
  {
   "cell_type": "code",
   "execution_count": 22,
   "metadata": {},
   "outputs": [
    {
     "name": "stdout",
     "output_type": "stream",
     "text": [
      "<class 'pandas.core.frame.DataFrame'>\n",
      "RangeIndex: 111998 entries, 0 to 111997\n",
      "Data columns (total 4 columns):\n",
      " #   Column      Non-Null Count   Dtype \n",
      "---  ------      --------------   ----- \n",
      " 0   ID          111998 non-null  object\n",
      " 1   input_text  111998 non-null  object\n",
      " 2   label_text  111998 non-null  object\n",
      " 3   target      111998 non-null  int64 \n",
      "dtypes: int64(1), object(3)\n",
      "memory usage: 3.4+ MB\n"
     ]
    }
   ],
   "source": [
    "ai_hub_017.info()"
   ]
  },
  {
   "attachments": {},
   "cell_type": "markdown",
   "metadata": {},
   "source": [
    "## 2.1 target 분포 보기"
   ]
  },
  {
   "cell_type": "code",
   "execution_count": 23,
   "metadata": {},
   "outputs": [
    {
     "data": {
      "text/plain": [
       "<Axes: xlabel='target', ylabel='count'>"
      ]
     },
     "execution_count": 23,
     "metadata": {},
     "output_type": "execute_result"
    },
    {
     "data": {
      "image/png": "[encoded data removed]",
      "text/plain": [
       "<Figure size 640x480 with 1 Axes>"
      ]
     },
     "metadata": {},
     "output_type": "display_data"
    }
   ],
   "source": [
    "sns.countplot(data=ai_hub_017, x='target')"
   ]
  },
  {
   "attachments": {},
   "cell_type": "markdown",
   "metadata": {},
   "source": [
    "## 2.2 토크나이징 후에 [PAD] 등장 위치"
   ]
  },
  {
   "cell_type": "code",
   "execution_count": 24,
   "metadata": {},
   "outputs": [
    {
     "data": {
      "text/plain": [
       "111998"
      ]
     },
     "execution_count": 24,
     "metadata": {},
     "output_type": "execute_result"
    }
   ],
   "source": [
    "input_text_after_tokenizing = []\n",
    "\n",
    "for input_text in ai_hub_017['input_text'].tolist():\n",
    "    input_text_after_tokenizing.append(transform([input_text]))\n",
    "\n",
    "len(input_text_after_tokenizing)"
   ]
  },
  {
   "cell_type": "code",
   "execution_count": 25,
   "metadata": {},
   "outputs": [
    {
     "data": {
      "text/plain": [
       "111998"
      ]
     },
     "execution_count": 25,
     "metadata": {},
     "output_type": "execute_result"
    }
   ],
   "source": [
    "find_pad = []\n",
    "\n",
    "for x in input_text_after_tokenizing:\n",
    "    try:\n",
    "        pad_idx = x[0].tolist().index(1)\n",
    "    except:\n",
    "        pad_idx = 64\n",
    "    find_pad.append(pad_idx)\n",
    "\n",
    "len(find_pad)"
   ]
  },
  {
   "cell_type": "code",
   "execution_count": 26,
   "metadata": {},
   "outputs": [
    {
     "data": {
      "text/plain": [
       "Text(0, 0.5, 'count')"
      ]
     },
     "execution_count": 26,
     "metadata": {},
     "output_type": "execute_result"
    },
    {
     "data": {
      "image/png": "[encoded data removed]",
      "text/plain": [
       "<Figure size 640x480 with 1 Axes>"
      ]
     },
     "metadata": {},
     "output_type": "display_data"
    }
   ],
   "source": [
    "plt.hist(find_pad)\n",
    "plt.xlabel('pad idx')\n",
    "plt.ylabel('count')"
   ]
  },
  {
   "attachments": {},
   "cell_type": "markdown",
   "metadata": {},
   "source": [
    "## 2.3 한글 영어 외 다른 문자 찾기"
   ]
  },
  {
   "attachments": {},
   "cell_type": "markdown",
   "metadata": {},
   "source": [
    "### 2.3.1 자음 여부 확인"
   ]
  },
  {
   "cell_type": "code",
   "execution_count": 27,
   "metadata": {},
   "outputs": [
    {
     "data": {
      "text/plain": [
       "ㅠㅠ       4\n",
       "ㅋㅋ       2\n",
       "ㄱ        1\n",
       "ㅅ        1\n",
       "ㅅㅁㄱㄷㄹ    1\n",
       "ㅈㅂㅈㅇ     1\n",
       "ㅡ        1\n",
       "Name: count, dtype: int64"
      ]
     },
     "execution_count": 27,
     "metadata": {},
     "output_type": "execute_result"
    }
   ],
   "source": [
    "ai_hub_017['input_text'].str.extract('([ㄱ-ㅎㅏ-ㅣ]+)').value_counts()"
   ]
  },
  {
   "attachments": {},
   "cell_type": "markdown",
   "metadata": {},
   "source": [
    "### 2.3.2 일본어 여부 확인"
   ]
  },
  {
   "cell_type": "code",
   "execution_count": 28,
   "metadata": {},
   "outputs": [
    {
     "data": {
      "text/plain": [
       "Series([], Name: count, dtype: int64)"
      ]
     },
     "execution_count": 28,
     "metadata": {},
     "output_type": "execute_result"
    }
   ],
   "source": [
    "ai_hub_017['input_text'].str.extract('([ぁ-ゔァ-ヴー々〆〤]+)').value_counts()"
   ]
  },
  {
   "attachments": {},
   "cell_type": "markdown",
   "metadata": {},
   "source": [
    "### 2.3.3 한자 여부 확인"
   ]
  },
  {
   "cell_type": "code",
   "execution_count": 29,
   "metadata": {},
   "outputs": [
    {
     "data": {
      "text/plain": [
       "美       1558\n",
       "日        745\n",
       "文        731\n",
       "中        550\n",
       "與        437\n",
       "        ... \n",
       "書風萬里       1\n",
       "最古         1\n",
       "木          1\n",
       "村          1\n",
       "黨心         1\n",
       "Name: count, Length: 334, dtype: int64"
      ]
     },
     "execution_count": 29,
     "metadata": {},
     "output_type": "execute_result"
    }
   ],
   "source": [
    "ai_hub_017['input_text'].str.extract('([一-龥]+)').value_counts()"
   ]
  },
  {
   "attachments": {},
   "cell_type": "markdown",
   "metadata": {},
   "source": [
    "### 2.3.4 특수문자 확인"
   ]
  },
  {
   "cell_type": "code",
   "execution_count": 30,
   "metadata": {},
   "outputs": [
    {
     "data": {
      "text/plain": [
       ",      35781\n",
       "'      15473\n",
       "[       9888\n",
       "\"       7659\n",
       "‘       7496\n",
       "       ...  \n",
       ",·‘        1\n",
       ",“‘        1\n",
       "“’         1\n",
       "-'         1\n",
       "­          1\n",
       "Name: count, Length: 246, dtype: int64"
      ]
     },
     "execution_count": 30,
     "metadata": {},
     "output_type": "execute_result"
    }
   ],
   "source": [
    "ai_hub_017['input_text'].str.extract('([^A-Za-z0-9가-힣\\sぁ-ゔァ-ヴー々〆〤一-龥]{1,9999})').value_counts()"
   ]
  },
  {
   "attachments": {},
   "cell_type": "markdown",
   "metadata": {},
   "source": [
    "# 3. 낚시성 기사 탐지 데이터"
   ]
  },
  {
   "cell_type": "code",
   "execution_count": 31,
   "metadata": {},
   "outputs": [
    {
     "data": {
      "text/plain": [
       "(111998, 4)"
      ]
     },
     "execution_count": 31,
     "metadata": {},
     "output_type": "execute_result"
    }
   ],
   "source": [
    "ai_hub_146 = pd.read_csv(\"../data/ai_hub_146_val.csv\")\n",
    "ai_hub_146.shape"
   ]
  },
  {
   "cell_type": "code",
   "execution_count": 32,
   "metadata": {},
   "outputs": [
    {
     "name": "stdout",
     "output_type": "stream",
     "text": [
      "<class 'pandas.core.frame.DataFrame'>\n",
      "RangeIndex: 111998 entries, 0 to 111997\n",
      "Data columns (total 4 columns):\n",
      " #   Column      Non-Null Count   Dtype \n",
      "---  ------      --------------   ----- \n",
      " 0   ID          111998 non-null  object\n",
      " 1   input_text  111998 non-null  object\n",
      " 2   label_text  111998 non-null  object\n",
      " 3   target      111998 non-null  int64 \n",
      "dtypes: int64(1), object(3)\n",
      "memory usage: 3.4+ MB\n"
     ]
    }
   ],
   "source": [
    "ai_hub_146.info()"
   ]
  },
  {
   "attachments": {},
   "cell_type": "markdown",
   "metadata": {},
   "source": [
    "## 3.1 target 분포"
   ]
  },
  {
   "cell_type": "code",
   "execution_count": 33,
   "metadata": {},
   "outputs": [
    {
     "data": {
      "text/plain": [
       "<Axes: xlabel='target', ylabel='count'>"
      ]
     },
     "execution_count": 33,
     "metadata": {},
     "output_type": "execute_result"
    },
    {
     "data": {
      "image/png": "[encoded data removed]",
      "text/plain": [
       "<Figure size 640x480 with 1 Axes>"
      ]
     },
     "metadata": {},
     "output_type": "display_data"
    }
   ],
   "source": [
    "sns.countplot(data=ai_hub_146, x='target')"
   ]
  },
  {
   "attachments": {},
   "cell_type": "markdown",
   "metadata": {},
   "source": [
    "## 3.2 토크나이징 후에 [PAD] 등장 위치"
   ]
  },
  {
   "cell_type": "code",
   "execution_count": 34,
   "metadata": {},
   "outputs": [
    {
     "data": {
      "text/plain": [
       "111998"
      ]
     },
     "execution_count": 34,
     "metadata": {},
     "output_type": "execute_result"
    }
   ],
   "source": [
    "input_text_after_tokenizing = []\n",
    "\n",
    "for input_text in ai_hub_146['input_text'].tolist():\n",
    "    input_text_after_tokenizing.append(transform([input_text]))\n",
    "\n",
    "len(input_text_after_tokenizing)"
   ]
  },
  {
   "cell_type": "code",
   "execution_count": 35,
   "metadata": {},
   "outputs": [
    {
     "data": {
      "text/plain": [
       "111998"
      ]
     },
     "execution_count": 35,
     "metadata": {},
     "output_type": "execute_result"
    }
   ],
   "source": [
    "find_pad = []\n",
    "\n",
    "for x in input_text_after_tokenizing:\n",
    "    try:\n",
    "        pad_idx = x[0].tolist().index(1)\n",
    "    except:\n",
    "        pad_idx = 64\n",
    "    find_pad.append(pad_idx)\n",
    "\n",
    "len(find_pad)"
   ]
  },
  {
   "cell_type": "code",
   "execution_count": 36,
   "metadata": {},
   "outputs": [
    {
     "data": {
      "text/plain": [
       "Text(0, 0.5, 'count')"
      ]
     },
     "execution_count": 36,
     "metadata": {},
     "output_type": "execute_result"
    },
    {
     "data": {
      "image/png": "[encoded data removed]",
      "text/plain": [
       "<Figure size 640x480 with 1 Axes>"
      ]
     },
     "metadata": {},
     "output_type": "display_data"
    }
   ],
   "source": [
    "plt.hist(find_pad)\n",
    "plt.xlabel('pad idx')\n",
    "plt.ylabel('count')"
   ]
  },
  {
   "attachments": {},
   "cell_type": "markdown",
   "metadata": {},
   "source": [
    "## 3.3 한글 영어 외 다른 문자 찾기"
   ]
  },
  {
   "attachments": {},
   "cell_type": "markdown",
   "metadata": {},
   "source": [
    "### 3.3.1 자음 여부 확인"
   ]
  },
  {
   "cell_type": "code",
   "execution_count": 37,
   "metadata": {},
   "outputs": [
    {
     "data": {
      "text/plain": [
       "ㅠㅠ       4\n",
       "ㅋㅋ       2\n",
       "ㄱ        1\n",
       "ㅅ        1\n",
       "ㅅㅁㄱㄷㄹ    1\n",
       "ㅈㅂㅈㅇ     1\n",
       "ㅡ        1\n",
       "Name: count, dtype: int64"
      ]
     },
     "execution_count": 37,
     "metadata": {},
     "output_type": "execute_result"
    }
   ],
   "source": [
    "ai_hub_146['input_text'].str.extract('([ㄱ-ㅎㅏ-ㅣ]+)').value_counts()"
   ]
  },
  {
   "attachments": {},
   "cell_type": "markdown",
   "metadata": {},
   "source": [
    "### 3.3.2 일본어 여부 확인"
   ]
  },
  {
   "cell_type": "code",
   "execution_count": 38,
   "metadata": {},
   "outputs": [
    {
     "data": {
      "text/plain": [
       "Series([], Name: count, dtype: int64)"
      ]
     },
     "execution_count": 38,
     "metadata": {},
     "output_type": "execute_result"
    }
   ],
   "source": [
    "ai_hub_146['input_text'].str.extract('([ぁ-ゔァ-ヴー々〆〤]+)').value_counts()"
   ]
  },
  {
   "attachments": {},
   "cell_type": "markdown",
   "metadata": {},
   "source": [
    "### 3.3.3 한자 여부 확인"
   ]
  },
  {
   "cell_type": "code",
   "execution_count": 39,
   "metadata": {},
   "outputs": [
    {
     "data": {
      "text/plain": [
       "美       1558\n",
       "日        745\n",
       "文        731\n",
       "中        550\n",
       "與        437\n",
       "        ... \n",
       "書風萬里       1\n",
       "最古         1\n",
       "木          1\n",
       "村          1\n",
       "黨心         1\n",
       "Name: count, Length: 334, dtype: int64"
      ]
     },
     "execution_count": 39,
     "metadata": {},
     "output_type": "execute_result"
    }
   ],
   "source": [
    "ai_hub_146['input_text'].str.extract('([一-龥]+)').value_counts()"
   ]
  },
  {
   "attachments": {},
   "cell_type": "markdown",
   "metadata": {},
   "source": [
    "### 3.3.4 특수문자 확인"
   ]
  },
  {
   "cell_type": "code",
   "execution_count": 40,
   "metadata": {},
   "outputs": [
    {
     "data": {
      "text/plain": [
       ",      35781\n",
       "'      15473\n",
       "[       9888\n",
       "\"       7659\n",
       "‘       7496\n",
       "       ...  \n",
       ",·‘        1\n",
       ",“‘        1\n",
       "“’         1\n",
       "-'         1\n",
       "­          1\n",
       "Name: count, Length: 246, dtype: int64"
      ]
     },
     "execution_count": 40,
     "metadata": {},
     "output_type": "execute_result"
    }
   ],
   "source": [
    "ai_hub_146['input_text'].str.extract('([^A-Za-z0-9가-힣\\sぁ-ゔァ-ヴー々〆〤一-龥]{1,9999})').value_counts()"
   ]
  },
  {
   "attachments": {},
   "cell_type": "markdown",
   "metadata": {},
   "source": [
    "# 4. AI HUB 데이터끼리 비교"
   ]
  },
  {
   "cell_type": "code",
   "execution_count": 41,
   "metadata": {},
   "outputs": [
    {
     "data": {
      "text/plain": [
       "(223996, 4)"
      ]
     },
     "execution_count": 41,
     "metadata": {},
     "output_type": "execute_result"
    }
   ],
   "source": [
    "ai_hub_concat = pd.concat([ai_hub_017, ai_hub_146], axis=0)\n",
    "ai_hub_concat.shape"
   ]
  },
  {
   "cell_type": "code",
   "execution_count": 45,
   "metadata": {},
   "outputs": [
    {
     "data": {
      "text/plain": [
       "((110563, 4), (111998, 4), (111998, 4))"
      ]
     },
     "execution_count": 45,
     "metadata": {},
     "output_type": "execute_result"
    }
   ],
   "source": [
    "ai_hub_concat.drop_duplicates(subset=['input_text', 'target']).shape, ai_hub_017.shape, ai_hub_146.shape"
   ]
  },
  {
   "cell_type": "code",
   "execution_count": 46,
   "metadata": {},
   "outputs": [
    {
     "data": {
      "text/plain": [
       "(163093, 9)"
      ]
     },
     "execution_count": 46,
     "metadata": {},
     "output_type": "execute_result"
    }
   ],
   "source": [
    "ai_hub = ai_hub_concat.drop_duplicates(subset=['input_text', 'target'])\n",
    "new_data = pd.concat([train_df, ai_hub], axis=0)\n",
    "new_data.shape"
   ]
  },
  {
   "cell_type": "code",
   "execution_count": 49,
   "metadata": {},
   "outputs": [
    {
     "data": {
      "text/plain": [
       "((162937, 9), (161537, 9))"
      ]
     },
     "execution_count": 49,
     "metadata": {},
     "output_type": "execute_result"
    }
   ],
   "source": [
    "new_data.drop_duplicates(subset=['input_text', 'target']).shape, new_data.drop_duplicates(subset=['input_text']).shape"
   ]
  },
  {
   "cell_type": "code",
   "execution_count": 48,
   "metadata": {},
   "outputs": [
    {
     "data": {
      "text/plain": [
       "<Axes: xlabel='target', ylabel='count'>"
      ]
     },
     "execution_count": 48,
     "metadata": {},
     "output_type": "execute_result"
    },
    {
     "data": {
      "image/png": "[encoded data removed]",
      "text/plain": [
       "<Figure size 640x480 with 1 Axes>"
      ]
     },
     "metadata": {},
     "output_type": "display_data"
    }
   ],
   "source": [
    "sns.countplot(data=new_data, x='target')"
   ]
  },
  {
   "cell_type": "code",
   "execution_count": 50,
   "metadata": {},
   "outputs": [
    {
     "data": {
      "text/plain": [
       "<Axes: xlabel='target', ylabel='count'>"
      ]
     },
     "execution_count": 50,
     "metadata": {},
     "output_type": "execute_result"
    },
    {
     "data": {
      "image/png": "[encoded data removed]",
      "text/plain": [
       "<Figure size 640x480 with 1 Axes>"
      ]
     },
     "metadata": {},
     "output_type": "display_data"
    }
   ],
   "source": [
    "sns.countplot(data=ai_hub, x='target')"
   ]
  },
  {
   "cell_type": "code",
   "execution_count": null,
   "metadata": {},
   "outputs": [],
   "source": []
  }
 ],
 "metadata": {
  "kernelspec": {
   "display_name": "base",
   "language": "python",
   "name": "python3"
  },
  "language_info": {
   "codemirror_mode": {
    "name": "ipython",
    "version": 3
   },
   "file_extension": ".py",
   "mimetype": "text/x-python",
   "name": "python",
   "nbconvert_exporter": "python",
   "pygments_lexer": "ipython3",
   "version": "3.8.5"
  },
  "orig_nbformat": 4
 },
 "nbformat": 4,
 "nbformat_minor": 2
}
