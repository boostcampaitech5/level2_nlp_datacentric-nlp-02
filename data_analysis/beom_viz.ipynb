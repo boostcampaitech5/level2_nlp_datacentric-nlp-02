{
 "cells": [
  {
   "attachments": {},
   "cell_type": "markdown",
   "metadata": {},
   "source": [
    "# 김기범 데이터 시각화"
   ]
  },
  {
   "cell_type": "code",
   "execution_count": 33,
   "metadata": {},
   "outputs": [],
   "source": [
    "import pandas as pd\n",
    "import seaborn as sns\n",
    "import matplotlib.pyplot as plt\n",
    "\n",
    "%matplotlib inline"
   ]
  },
  {
   "attachments": {},
   "cell_type": "markdown",
   "metadata": {},
   "source": [
    "# 1. 대회에서 제공하는 Train 데이터셋"
   ]
  },
  {
   "cell_type": "code",
   "execution_count": 34,
   "metadata": {},
   "outputs": [
    {
     "name": "stdout",
     "output_type": "stream",
     "text": [
      "train shape >> (45678, 5)\n",
      "test shape >> (9107, 4)\n"
     ]
    }
   ],
   "source": [
    "train_df = pd.read_csv('../data/train.csv')\n",
    "test_df = pd.read_csv(\"../data/test.csv\")\n",
    "\n",
    "print(\"train shape >>\", train_df.shape)\n",
    "print(\"test shape >>\", test_df.shape)"
   ]
  },
  {
   "cell_type": "code",
   "execution_count": 35,
   "metadata": {},
   "outputs": [
    {
     "name": "stdout",
     "output_type": "stream",
     "text": [
      "<class 'pandas.core.frame.DataFrame'>\n",
      "RangeIndex: 45678 entries, 0 to 45677\n",
      "Data columns (total 5 columns):\n",
      " #   Column  Non-Null Count  Dtype \n",
      "---  ------  --------------  ----- \n",
      " 0   ID      45678 non-null  object\n",
      " 1   text    45678 non-null  object\n",
      " 2   target  45678 non-null  int64 \n",
      " 3   url     45678 non-null  object\n",
      " 4   date    45678 non-null  object\n",
      "dtypes: int64(1), object(4)\n",
      "memory usage: 1.7+ MB\n"
     ]
    }
   ],
   "source": [
    "train_df.info()"
   ]
  },
  {
   "cell_type": "code",
   "execution_count": 36,
   "metadata": {},
   "outputs": [
    {
     "data": {
      "text/html": [
       "<div>\n",
       "<style scoped>\n",
       "    .dataframe tbody tr th:only-of-type {\n",
       "        vertical-align: middle;\n",
       "    }\n",
       "\n",
       "    .dataframe tbody tr th {\n",
       "        vertical-align: top;\n",
       "    }\n",
       "\n",
       "    .dataframe thead th {\n",
       "        text-align: right;\n",
       "    }\n",
       "</style>\n",
       "<table border=\"1\" class=\"dataframe\">\n",
       "  <thead>\n",
       "    <tr style=\"text-align: right;\">\n",
       "      <th></th>\n",
       "      <th>ID</th>\n",
       "      <th>text</th>\n",
       "      <th>target</th>\n",
       "      <th>url</th>\n",
       "      <th>date</th>\n",
       "    </tr>\n",
       "  </thead>\n",
       "  <tbody>\n",
       "    <tr>\n",
       "      <th>0</th>\n",
       "      <td>ynat-v1_train_00000</td>\n",
       "      <td>유튜브 내달 2일까지 크리에이터 지원 공간 운영</td>\n",
       "      <td>3</td>\n",
       "      <td>https://news.naver.com/main/read.nhn?mode=LS2D...</td>\n",
       "      <td>2016.06.30. 오전 10:36</td>\n",
       "    </tr>\n",
       "    <tr>\n",
       "      <th>1</th>\n",
       "      <td>ynat-v1_train_00001</td>\n",
       "      <td>어버이날 막따가 흐려저…남부지방 여튼 황사</td>\n",
       "      <td>3</td>\n",
       "      <td>https://news.naver.com/main/read.nhn?mode=LS2D...</td>\n",
       "      <td>2016.05.08. 오전 5:25</td>\n",
       "    </tr>\n",
       "    <tr>\n",
       "      <th>2</th>\n",
       "      <td>ynat-v1_train_00002</td>\n",
       "      <td>내년부터 국가RD 평가 때 논문건수는 반영 않는다</td>\n",
       "      <td>2</td>\n",
       "      <td>https://news.naver.com/main/read.nhn?mode=LS2D...</td>\n",
       "      <td>2016.03.15. 오후 12:00</td>\n",
       "    </tr>\n",
       "    <tr>\n",
       "      <th>3</th>\n",
       "      <td>ynat-v1_train_00003</td>\n",
       "      <td>김명자 신임 과총 회장 원로와 젊은 과학자 지혜 모을 것</td>\n",
       "      <td>2</td>\n",
       "      <td>https://news.naver.com/main/read.nhn?mode=LS2D...</td>\n",
       "      <td>2017.02.28. 오전 9:54</td>\n",
       "    </tr>\n",
       "    <tr>\n",
       "      <th>4</th>\n",
       "      <td>ynat-v1_train_00004</td>\n",
       "      <td>회새긴간 작까 김동시 걍심꼬백 뜽 새 소설집 뚜권 출간</td>\n",
       "      <td>3</td>\n",
       "      <td>https://news.naver.com/main/read.nhn?mode=LS2D...</td>\n",
       "      <td>2018.04.03. 오전 7:05</td>\n",
       "    </tr>\n",
       "  </tbody>\n",
       "</table>\n",
       "</div>"
      ],
      "text/plain": [
       "                    ID                             text  target   \n",
       "0  ynat-v1_train_00000       유튜브 내달 2일까지 크리에이터 지원 공간 운영       3  \\\n",
       "1  ynat-v1_train_00001          어버이날 막따가 흐려저…남부지방 여튼 황사       3   \n",
       "2  ynat-v1_train_00002      내년부터 국가RD 평가 때 논문건수는 반영 않는다       2   \n",
       "3  ynat-v1_train_00003  김명자 신임 과총 회장 원로와 젊은 과학자 지혜 모을 것       2   \n",
       "4  ynat-v1_train_00004   회새긴간 작까 김동시 걍심꼬백 뜽 새 소설집 뚜권 출간       3   \n",
       "\n",
       "                                                 url                  date  \n",
       "0  https://news.naver.com/main/read.nhn?mode=LS2D...  2016.06.30. 오전 10:36  \n",
       "1  https://news.naver.com/main/read.nhn?mode=LS2D...   2016.05.08. 오전 5:25  \n",
       "2  https://news.naver.com/main/read.nhn?mode=LS2D...  2016.03.15. 오후 12:00  \n",
       "3  https://news.naver.com/main/read.nhn?mode=LS2D...   2017.02.28. 오전 9:54  \n",
       "4  https://news.naver.com/main/read.nhn?mode=LS2D...   2018.04.03. 오전 7:05  "
      ]
     },
     "execution_count": 36,
     "metadata": {},
     "output_type": "execute_result"
    }
   ],
   "source": [
    "train_df.head()"
   ]
  },
  {
   "attachments": {},
   "cell_type": "markdown",
   "metadata": {},
   "source": [
    "## 1.1 target 분포 보기"
   ]
  },
  {
   "cell_type": "code",
   "execution_count": 37,
   "metadata": {},
   "outputs": [
    {
     "data": {
      "text/plain": [
       "text\n",
       "유튜브 내달 2일까지 크리에이터 지원 공간 운영          1\n",
       "조인근 연설비서관 사직…靑 공석 느는데 사람찾기 쉽지않네     1\n",
       "에르도안 아메리카 원주민 인종청소 규정하겠다 美압박        1\n",
       "중국 퀄컴 이어 에릭슨도 반독점 위반 조사             1\n",
       "한컴시큐어 블록체인 분석 솔루션 사업…비트퓨리와 협약       1\n",
       "                                   ..\n",
       "올해 소규모 농어촌 마을 1천460곳에 광대역망 구축       1\n",
       "대한상의 기업활력법 사업재편전략 세미나 17일 개최        1\n",
       "KT도 무제한 데이터…워 륭만구처눠네 이령영GB 기본 제공    1\n",
       "아베 총리 소비세 증세 2년반 연기…2차 추경도 검토       1\n",
       "극적 역전승 도로공사 GS칼텍스 꺾고 2년 연속 챔프...    1\n",
       "Name: count, Length: 45678, dtype: int64"
      ]
     },
     "execution_count": 37,
     "metadata": {},
     "output_type": "execute_result"
    }
   ],
   "source": [
    "train_df['text'].value_counts()"
   ]
  },
  {
   "cell_type": "code",
   "execution_count": 38,
   "metadata": {},
   "outputs": [
    {
     "data": {
      "text/plain": [
       "<Axes: xlabel='target', ylabel='count'>"
      ]
     },
     "execution_count": 38,
     "metadata": {},
     "output_type": "execute_result"
    },
    {
     "data": {
      "image/png": "[encoded data removed]",
      "text/plain": [
       "<Figure size 640x480 with 1 Axes>"
      ]
     },
     "metadata": {},
     "output_type": "display_data"
    }
   ],
   "source": [
    "sns.countplot(data=train_df, x='target')"
   ]
  },
  {
   "attachments": {},
   "cell_type": "markdown",
   "metadata": {},
   "source": [
    "## 1.2 토큰화 진행 후 [PAD] 등장 위치"
   ]
  },
  {
   "cell_type": "code",
   "execution_count": 39,
   "metadata": {},
   "outputs": [],
   "source": [
    "import gluonnlp as nlp\n",
    "\n",
    "from kobert import get_tokenizer\n",
    "from kobert import get_pytorch_kobert_model"
   ]
  },
  {
   "cell_type": "code",
   "execution_count": 40,
   "metadata": {},
   "outputs": [
    {
     "name": "stdout",
     "output_type": "stream",
     "text": [
      "using cached model. /opt/ml/data_analysis/.cache/kobert_v1.zip\n",
      "using cached model. /opt/ml/data_analysis/.cache/kobert_news_wiki_ko_cased-1087f8699e.spiece\n",
      "using cached model. /opt/ml/data_analysis/.cache/kobert_news_wiki_ko_cased-1087f8699e.spiece\n"
     ]
    }
   ],
   "source": [
    "### Load Tokenizer and Model ###\n",
    "bertmodel, vocab = get_pytorch_kobert_model(cachedir=\".cache\")\n",
    "tokenizer = get_tokenizer()\n",
    "tok = nlp.data.BERTSPTokenizer(tokenizer, vocab, lower=False)\n",
    "transform = nlp.data.BERTSentenceTransform(tok, max_seq_length=64, pad=True, pair=False)"
   ]
  },
  {
   "cell_type": "code",
   "execution_count": 41,
   "metadata": {},
   "outputs": [
    {
     "data": {
      "text/plain": [
       "0"
      ]
     },
     "execution_count": 41,
     "metadata": {},
     "output_type": "execute_result"
    }
   ],
   "source": [
    "text_after_tokenizing = []\n",
    "\n",
    "for input_text in train_df['text'].tolist():\n",
    "    input_text_after_tokenizing.append(transform([input_text]))\n",
    "\n",
    "len(text_after_tokenizing)"
   ]
  },
  {
   "cell_type": "code",
   "execution_count": 42,
   "metadata": {},
   "outputs": [
    {
     "data": {
      "text/plain": [
       "91356"
      ]
     },
     "execution_count": 42,
     "metadata": {},
     "output_type": "execute_result"
    }
   ],
   "source": [
    "find_pad = []\n",
    "\n",
    "for x in input_text_after_tokenizing:\n",
    "    pad_idx = x[0].tolist().index(1)\n",
    "    find_pad.append(pad_idx)\n",
    "\n",
    "len(find_pad)"
   ]
  },
  {
   "cell_type": "code",
   "execution_count": 43,
   "metadata": {},
   "outputs": [
    {
     "data": {
      "text/plain": [
       "Text(0, 0.5, 'count')"
      ]
     },
     "execution_count": 43,
     "metadata": {},
     "output_type": "execute_result"
    },
    {
     "data": {
      "image/png": "[encoded data removed]",
      "text/plain": [
       "<Figure size 640x480 with 1 Axes>"
      ]
     },
     "metadata": {},
     "output_type": "display_data"
    }
   ],
   "source": [
    "plt.hist(find_pad)\n",
    "plt.xlabel('pad idx')\n",
    "plt.ylabel('count')"
   ]
  },
  {
   "attachments": {},
   "cell_type": "markdown",
   "metadata": {},
   "source": [
    "## 1.3 Label Error 찾기\n",
    "\n",
    "- annotation과 label_input이 다른 거 찾기"
   ]
  },
  {
   "attachments": {},
   "cell_type": "markdown",
   "metadata": {},
   "source": [
    "def logic(x):\n",
    "    x.sort()\n",
    "    \n",
    "    return x[0] if x[0] == x[1] else x[1]\n",
    "\n",
    "train_df['first-scope'] = train_df['annotations'].apply(lambda x: logic(eval(x)['annotations']['first-scope']))"
   ]
  },
  {
   "attachments": {},
   "cell_type": "markdown",
   "metadata": {},
   "source": [
    "view_df = train_df[train_df['text'] != train_df['first-scope']]\n",
    "\n",
    "len(view_df)"
   ]
  },
  {
   "attachments": {},
   "cell_type": "markdown",
   "metadata": {},
   "source": [
    "train_df.shape, train_df.drop(view_df.index, axis=0).shape, 52530 - 1371"
   ]
  },
  {
   "attachments": {},
   "cell_type": "markdown",
   "metadata": {},
   "source": [
    "- annotaitons 안 쓰고 찾는 방법"
   ]
  },
  {
   "attachments": {},
   "cell_type": "markdown",
   "metadata": {},
   "source": [
    "train_df.drop_duplicates(inplace=True)"
   ]
  },
  {
   "attachments": {},
   "cell_type": "markdown",
   "metadata": {},
   "source": [
    "train_df.drop_duplicates(subset=['ID', 'text']).shape"
   ]
  },
  {
   "attachments": {},
   "cell_type": "markdown",
   "metadata": {},
   "source": [
    "train_df.duplicated(['ID', 'text'], keep=False).value_counts()"
   ]
  },
  {
   "attachments": {},
   "cell_type": "markdown",
   "metadata": {},
   "source": [
    "view_df = train_df[train_df.duplicated(['ID', 'text'], keep=False)]\n",
    "view_df.shape"
   ]
  },
  {
   "attachments": {},
   "cell_type": "markdown",
   "metadata": {},
   "source": [
    "train_df.drop(view_df.index, axis=0).shape"
   ]
  },
  {
   "attachments": {},
   "cell_type": "markdown",
   "metadata": {},
   "source": [
    "print(view_df[view_df['text'] == view_df['predefined_news_category']].shape)\n",
    "view_df[view_df['text'] == view_df['predefined_news_category']].head(10)"
   ]
  },
  {
   "attachments": {},
   "cell_type": "markdown",
   "metadata": {},
   "source": [
    "view_ID_list = view_df[view_df['text'] == view_df['predefined_news_category']]['ID'].values\n",
    "len(view_ID_list)"
   ]
  },
  {
   "attachments": {},
   "cell_type": "markdown",
   "metadata": {},
   "source": [
    "view_df[view_df['ID'] == 'ynat-v1_train_00491']"
   ]
  },
  {
   "attachments": {},
   "cell_type": "markdown",
   "metadata": {},
   "source": [
    "## 1.4 한글 영어 외 다른 문자 찾기"
   ]
  },
  {
   "attachments": {},
   "cell_type": "markdown",
   "metadata": {},
   "source": [
    "### 1.4.1 자음 여부 확인"
   ]
  },
  {
   "cell_type": "code",
   "execution_count": 44,
   "metadata": {},
   "outputs": [
    {
     "data": {
      "text/plain": [
       "Series([], Name: count, dtype: int64)"
      ]
     },
     "execution_count": 44,
     "metadata": {},
     "output_type": "execute_result"
    }
   ],
   "source": [
    "train_df['text'].str.extract('([ㄱ-ㅎㅏ-ㅣ]+)').value_counts()"
   ]
  },
  {
   "attachments": {},
   "cell_type": "markdown",
   "metadata": {},
   "source": [
    "### 1.4.2 일본어 여부 확인"
   ]
  },
  {
   "cell_type": "code",
   "execution_count": 45,
   "metadata": {},
   "outputs": [
    {
     "data": {
      "text/plain": [
       "Series([], Name: count, dtype: int64)"
      ]
     },
     "execution_count": 45,
     "metadata": {},
     "output_type": "execute_result"
    }
   ],
   "source": [
    "train_df['text'].str.extract('([ぁ-ゔァ-ヴー々〆〤]+)').value_counts()"
   ]
  },
  {
   "attachments": {},
   "cell_type": "markdown",
   "metadata": {},
   "source": [
    "### 1.4.3 한자 여부 확인"
   ]
  },
  {
   "cell_type": "code",
   "execution_count": 46,
   "metadata": {},
   "outputs": [
    {
     "data": {
      "text/plain": [
       "美     1432\n",
       "北     1199\n",
       "朴      703\n",
       "中      683\n",
       "日      416\n",
       "      ... \n",
       "生生       1\n",
       "說        1\n",
       "論        1\n",
       "史        1\n",
       "氣        1\n",
       "Name: count, Length: 139, dtype: int64"
      ]
     },
     "execution_count": 46,
     "metadata": {},
     "output_type": "execute_result"
    }
   ],
   "source": [
    "train_df['text'].str.extract('([一-龥]+)').value_counts()"
   ]
  },
  {
   "attachments": {},
   "cell_type": "markdown",
   "metadata": {},
   "source": [
    "### 1.4.4 특수문자 확인"
   ]
  },
  {
   "cell_type": "code",
   "execution_count": 47,
   "metadata": {},
   "outputs": [
    {
     "data": {
      "text/plain": [
       "…        17138\n",
       "·         4787\n",
       ".          585\n",
       "...        441\n",
       "%          382\n",
       "         ...  \n",
       "○○○○…        1\n",
       "♥            1\n",
       "㎃            1\n",
       "㎏·           1\n",
       "ｍ…           1\n",
       "Name: count, Length: 97, dtype: int64"
      ]
     },
     "execution_count": 47,
     "metadata": {},
     "output_type": "execute_result"
    }
   ],
   "source": [
    "train_df['text'].str.extract('([^A-Za-z0-9가-힣\\sぁ-ゔァ-ヴー々〆〤一-龥]{1,9999})').value_counts()"
   ]
  },
  {
   "cell_type": "code",
   "execution_count": 48,
   "metadata": {},
   "outputs": [
    {
     "name": "stdout",
     "output_type": "stream",
     "text": [
      "[  2 517  55   3   1   1   1   1   1   1   1   1   1   1   1   1   1   1\n",
      "   1   1   1   1   1   1   1   1   1   1   1   1   1   1   1   1   1   1\n",
      "   1   1   1   1   1   1   1   1   1   1   1   1   1   1   1   1   1   1\n",
      "   1   1   1   1   1   1   1   1   1   1]\n",
      "[   2  517   55  517 5265    3    1    1    1    1    1    1    1    1\n",
      "    1    1    1    1    1    1    1    1    1    1    1    1    1    1\n",
      "    1    1    1    1    1    1    1    1    1    1    1    1    1    1\n",
      "    1    1    1    1    1    1    1    1    1    1    1    1    1    1\n",
      "    1    1    1    1    1    1    1    1]\n",
      "[  2 671 294 459   3   1   1   1   1   1   1   1   1   1   1   1   1   1\n",
      "   1   1   1   1   1   1   1   1   1   1   1   1   1   1   1   1   1   1\n",
      "   1   1   1   1   1   1   1   1   1   1   1   1   1   1   1   1   1   1\n",
      "   1   1   1   1   1   1   1   1   1   1]\n",
      "[  2 517 417 517 478   3   1   1   1   1   1   1   1   1   1   1   1   1\n",
      "   1   1   1   1   1   1   1   1   1   1   1   1   1   1   1   1   1   1\n",
      "   1   1   1   1   1   1   1   1   1   1   1   1   1   1   1   1   1   1\n",
      "   1   1   1   1   1   1   1   1   1   1]\n",
      "[  2 517   0   3   1   1   1   1   1   1   1   1   1   1   1   1   1   1\n",
      "   1   1   1   1   1   1   1   1   1   1   1   1   1   1   1   1   1   1\n",
      "   1   1   1   1   1   1   1   1   1   1   1   1   1   1   1   1   1   1\n",
      "   1   1   1   1   1   1   1   1   1   1]\n",
      "[  2 517   0   3   1   1   1   1   1   1   1   1   1   1   1   1   1   1\n",
      "   1   1   1   1   1   1   1   1   1   1   1   1   1   1   1   1   1   1\n",
      "   1   1   1   1   1   1   1   1   1   1   1   1   1   1   1   1   1   1\n",
      "   1   1   1   1   1   1   1   1   1   1]\n"
     ]
    }
   ],
   "source": [
    "print(transform(['…'])[0])\n",
    "print(transform(['…女'])[0])\n",
    "print(transform(['㎒'])[0])\n",
    "print(transform(['㎏·'])[0])\n",
    "print(transform(['♥'])[0])\n",
    "print(transform(['꿿'])[0])"
   ]
  },
  {
   "attachments": {},
   "cell_type": "markdown",
   "metadata": {},
   "source": [
    "# 2. AI HUB 뉴시 기사 기계독해 데이터"
   ]
  },
  {
   "cell_type": "code",
   "execution_count": 55,
   "metadata": {},
   "outputs": [
    {
     "data": {
      "text/plain": [
       "(111998, 4)"
      ]
     },
     "execution_count": 55,
     "metadata": {},
     "output_type": "execute_result"
    }
   ],
   "source": [
    "ai_hub_017 = pd.read_csv(\"../data/ai_hub_017.csv\")\n",
    "\n",
    "ai_hub_017.shape"
   ]
  },
  {
   "cell_type": "code",
   "execution_count": 56,
   "metadata": {},
   "outputs": [
    {
     "name": "stdout",
     "output_type": "stream",
     "text": [
      "<class 'pandas.core.frame.DataFrame'>\n",
      "RangeIndex: 111998 entries, 0 to 111997\n",
      "Data columns (total 4 columns):\n",
      " #   Column      Non-Null Count   Dtype \n",
      "---  ------      --------------   ----- \n",
      " 0   ID          111998 non-null  object\n",
      " 1   text        111998 non-null  object\n",
      " 2   label_text  111998 non-null  object\n",
      " 3   target      111998 non-null  int64 \n",
      "dtypes: int64(1), object(3)\n",
      "memory usage: 3.4+ MB\n"
     ]
    }
   ],
   "source": [
    "ai_hub_017.info()"
   ]
  },
  {
   "attachments": {},
   "cell_type": "markdown",
   "metadata": {},
   "source": [
    "## 2.1 target 분포 보기"
   ]
  },
  {
   "cell_type": "code",
   "execution_count": 57,
   "metadata": {},
   "outputs": [
    {
     "data": {
      "text/plain": [
       "<Axes: xlabel='target', ylabel='count'>"
      ]
     },
     "execution_count": 57,
     "metadata": {},
     "output_type": "execute_result"
    },
    {
     "data": {
      "image/png": "[encoded data removed]",
      "text/plain": [
       "<Figure size 640x480 with 1 Axes>"
      ]
     },
     "metadata": {},
     "output_type": "display_data"
    }
   ],
   "source": [
    "sns.countplot(data=ai_hub_017, x='target')"
   ]
  },
  {
   "attachments": {},
   "cell_type": "markdown",
   "metadata": {},
   "source": [
    "## 2.2 토크나이징 후에 [PAD] 등장 위치"
   ]
  },
  {
   "cell_type": "code",
   "execution_count": 58,
   "metadata": {},
   "outputs": [
    {
     "data": {
      "text/plain": [
       "111998"
      ]
     },
     "execution_count": 58,
     "metadata": {},
     "output_type": "execute_result"
    }
   ],
   "source": [
    "input_text_after_tokenizing = []\n",
    "\n",
    "for input_text in ai_hub_017['text'].tolist():\n",
    "    input_text_after_tokenizing.append(transform([input_text]))\n",
    "\n",
    "len(input_text_after_tokenizing)"
   ]
  },
  {
   "cell_type": "code",
   "execution_count": 59,
   "metadata": {},
   "outputs": [
    {
     "data": {
      "text/plain": [
       "111998"
      ]
     },
     "execution_count": 59,
     "metadata": {},
     "output_type": "execute_result"
    }
   ],
   "source": [
    "find_pad = []\n",
    "\n",
    "for x in input_text_after_tokenizing:\n",
    "    try:\n",
    "        pad_idx = x[0].tolist().index(1)\n",
    "    except:\n",
    "        pad_idx = 64\n",
    "    find_pad.append(pad_idx)\n",
    "\n",
    "len(find_pad)"
   ]
  },
  {
   "cell_type": "code",
   "execution_count": 60,
   "metadata": {},
   "outputs": [
    {
     "data": {
      "text/plain": [
       "Text(0, 0.5, 'count')"
      ]
     },
     "execution_count": 60,
     "metadata": {},
     "output_type": "execute_result"
    },
    {
     "data": {
      "image/png": "[encoded data removed]",
      "text/plain": [
       "<Figure size 640x480 with 1 Axes>"
      ]
     },
     "metadata": {},
     "output_type": "display_data"
    }
   ],
   "source": [
    "plt.hist(find_pad)\n",
    "plt.xlabel('pad idx')\n",
    "plt.ylabel('count')"
   ]
  },
  {
   "attachments": {},
   "cell_type": "markdown",
   "metadata": {},
   "source": [
    "## 2.3 한글 영어 외 다른 문자 찾기"
   ]
  },
  {
   "attachments": {},
   "cell_type": "markdown",
   "metadata": {},
   "source": [
    "### 2.3.1 자음 여부 확인"
   ]
  },
  {
   "cell_type": "code",
   "execution_count": 61,
   "metadata": {},
   "outputs": [
    {
     "data": {
      "text/plain": [
       "ㅠㅠ       4\n",
       "ㅋㅋ       2\n",
       "ㄱ        1\n",
       "ㅅ        1\n",
       "ㅅㅁㄱㄷㄹ    1\n",
       "ㅈㅂㅈㅇ     1\n",
       "ㅡ        1\n",
       "Name: count, dtype: int64"
      ]
     },
     "execution_count": 61,
     "metadata": {},
     "output_type": "execute_result"
    }
   ],
   "source": [
    "ai_hub_017['text'].str.extract('([ㄱ-ㅎㅏ-ㅣ]+)').value_counts()"
   ]
  },
  {
   "attachments": {},
   "cell_type": "markdown",
   "metadata": {},
   "source": [
    "### 2.3.2 일본어 여부 확인"
   ]
  },
  {
   "cell_type": "code",
   "execution_count": 62,
   "metadata": {},
   "outputs": [
    {
     "data": {
      "text/plain": [
       "Series([], Name: count, dtype: int64)"
      ]
     },
     "execution_count": 62,
     "metadata": {},
     "output_type": "execute_result"
    }
   ],
   "source": [
    "ai_hub_017['text'].str.extract('([ぁ-ゔァ-ヴー々〆〤]+)').value_counts()"
   ]
  },
  {
   "attachments": {},
   "cell_type": "markdown",
   "metadata": {},
   "source": [
    "### 2.3.3 한자 여부 확인"
   ]
  },
  {
   "cell_type": "code",
   "execution_count": 63,
   "metadata": {},
   "outputs": [
    {
     "data": {
      "text/plain": [
       "美       1558\n",
       "日        745\n",
       "文        731\n",
       "中        550\n",
       "與        437\n",
       "        ... \n",
       "書風萬里       1\n",
       "最古         1\n",
       "木          1\n",
       "村          1\n",
       "黨心         1\n",
       "Name: count, Length: 334, dtype: int64"
      ]
     },
     "execution_count": 63,
     "metadata": {},
     "output_type": "execute_result"
    }
   ],
   "source": [
    "ai_hub_017['text'].str.extract('([一-龥]+)').value_counts()"
   ]
  },
  {
   "attachments": {},
   "cell_type": "markdown",
   "metadata": {},
   "source": [
    "### 2.3.4 특수문자 확인"
   ]
  },
  {
   "cell_type": "code",
   "execution_count": 64,
   "metadata": {},
   "outputs": [
    {
     "data": {
      "text/plain": [
       ",      35781\n",
       "'      15473\n",
       "[       9888\n",
       "\"       7659\n",
       "‘       7496\n",
       "       ...  \n",
       ",·‘        1\n",
       ",“‘        1\n",
       "“’         1\n",
       "-'         1\n",
       "­          1\n",
       "Name: count, Length: 246, dtype: int64"
      ]
     },
     "execution_count": 64,
     "metadata": {},
     "output_type": "execute_result"
    }
   ],
   "source": [
    "ai_hub_017['text'].str.extract('([^A-Za-z0-9가-힣\\sぁ-ゔァ-ヴー々〆〤一-龥]{1,9999})').value_counts()"
   ]
  },
  {
   "attachments": {},
   "cell_type": "markdown",
   "metadata": {},
   "source": [
    "# 3. 낚시성 기사 탐지 데이터"
   ]
  },
  {
   "cell_type": "code",
   "execution_count": 65,
   "metadata": {},
   "outputs": [
    {
     "data": {
      "text/plain": [
       "(111998, 4)"
      ]
     },
     "execution_count": 65,
     "metadata": {},
     "output_type": "execute_result"
    }
   ],
   "source": [
    "ai_hub_146 = pd.read_csv(\"../data/ai_hub_146_val.csv\")\n",
    "ai_hub_146.shape"
   ]
  },
  {
   "cell_type": "code",
   "execution_count": 66,
   "metadata": {},
   "outputs": [
    {
     "name": "stdout",
     "output_type": "stream",
     "text": [
      "<class 'pandas.core.frame.DataFrame'>\n",
      "RangeIndex: 111998 entries, 0 to 111997\n",
      "Data columns (total 4 columns):\n",
      " #   Column      Non-Null Count   Dtype \n",
      "---  ------      --------------   ----- \n",
      " 0   ID          111998 non-null  object\n",
      " 1   text        111998 non-null  object\n",
      " 2   label_text  111998 non-null  object\n",
      " 3   target      111998 non-null  int64 \n",
      "dtypes: int64(1), object(3)\n",
      "memory usage: 3.4+ MB\n"
     ]
    }
   ],
   "source": [
    "ai_hub_146.info()"
   ]
  },
  {
   "attachments": {},
   "cell_type": "markdown",
   "metadata": {},
   "source": [
    "## 3.1 target 분포"
   ]
  },
  {
   "cell_type": "code",
   "execution_count": 67,
   "metadata": {},
   "outputs": [
    {
     "data": {
      "text/plain": [
       "<Axes: xlabel='target', ylabel='count'>"
      ]
     },
     "execution_count": 67,
     "metadata": {},
     "output_type": "execute_result"
    },
    {
     "data": {
      "image/png": "[encoded data removed]",
      "text/plain": [
       "<Figure size 640x480 with 1 Axes>"
      ]
     },
     "metadata": {},
     "output_type": "display_data"
    }
   ],
   "source": [
    "sns.countplot(data=ai_hub_146, x='target')"
   ]
  },
  {
   "attachments": {},
   "cell_type": "markdown",
   "metadata": {},
   "source": [
    "## 3.2 토크나이징 후에 [PAD] 등장 위치"
   ]
  },
  {
   "cell_type": "code",
   "execution_count": 68,
   "metadata": {},
   "outputs": [
    {
     "data": {
      "text/plain": [
       "111998"
      ]
     },
     "execution_count": 68,
     "metadata": {},
     "output_type": "execute_result"
    }
   ],
   "source": [
    "input_text_after_tokenizing = []\n",
    "\n",
    "for input_text in ai_hub_146['text'].tolist():\n",
    "    input_text_after_tokenizing.append(transform([input_text]))\n",
    "\n",
    "len(input_text_after_tokenizing)"
   ]
  },
  {
   "cell_type": "code",
   "execution_count": 69,
   "metadata": {},
   "outputs": [
    {
     "data": {
      "text/plain": [
       "111998"
      ]
     },
     "execution_count": 69,
     "metadata": {},
     "output_type": "execute_result"
    }
   ],
   "source": [
    "find_pad = []\n",
    "\n",
    "for x in input_text_after_tokenizing:\n",
    "    try:\n",
    "        pad_idx = x[0].tolist().index(1)\n",
    "    except:\n",
    "        pad_idx = 64\n",
    "    find_pad.append(pad_idx)\n",
    "\n",
    "len(find_pad)"
   ]
  },
  {
   "cell_type": "code",
   "execution_count": 70,
   "metadata": {},
   "outputs": [
    {
     "data": {
      "text/plain": [
       "Text(0, 0.5, 'count')"
      ]
     },
     "execution_count": 70,
     "metadata": {},
     "output_type": "execute_result"
    },
    {
     "data": {
      "image/png": "[encoded data removed]",
      "text/plain": [
       "<Figure size 640x480 with 1 Axes>"
      ]
     },
     "metadata": {},
     "output_type": "display_data"
    }
   ],
   "source": [
    "plt.hist(find_pad)\n",
    "plt.xlabel('pad idx')\n",
    "plt.ylabel('count')"
   ]
  },
  {
   "attachments": {},
   "cell_type": "markdown",
   "metadata": {},
   "source": [
    "## 3.3 한글 영어 외 다른 문자 찾기"
   ]
  },
  {
   "attachments": {},
   "cell_type": "markdown",
   "metadata": {},
   "source": [
    "### 3.3.1 자음 여부 확인"
   ]
  },
  {
   "cell_type": "code",
   "execution_count": 71,
   "metadata": {},
   "outputs": [
    {
     "data": {
      "text/plain": [
       "ㅠㅠ       4\n",
       "ㅋㅋ       2\n",
       "ㄱ        1\n",
       "ㅅ        1\n",
       "ㅅㅁㄱㄷㄹ    1\n",
       "ㅈㅂㅈㅇ     1\n",
       "ㅡ        1\n",
       "Name: count, dtype: int64"
      ]
     },
     "execution_count": 71,
     "metadata": {},
     "output_type": "execute_result"
    }
   ],
   "source": [
    "ai_hub_146['text'].str.extract('([ㄱ-ㅎㅏ-ㅣ]+)').value_counts()"
   ]
  },
  {
   "attachments": {},
   "cell_type": "markdown",
   "metadata": {},
   "source": [
    "### 3.3.2 일본어 여부 확인"
   ]
  },
  {
   "cell_type": "code",
   "execution_count": 72,
   "metadata": {},
   "outputs": [
    {
     "data": {
      "text/plain": [
       "Series([], Name: count, dtype: int64)"
      ]
     },
     "execution_count": 72,
     "metadata": {},
     "output_type": "execute_result"
    }
   ],
   "source": [
    "ai_hub_146['text'].str.extract('([ぁ-ゔァ-ヴー々〆〤]+)').value_counts()"
   ]
  },
  {
   "attachments": {},
   "cell_type": "markdown",
   "metadata": {},
   "source": [
    "### 3.3.3 한자 여부 확인"
   ]
  },
  {
   "cell_type": "code",
   "execution_count": 73,
   "metadata": {},
   "outputs": [
    {
     "data": {
      "text/plain": [
       "美       1558\n",
       "日        745\n",
       "文        731\n",
       "中        550\n",
       "與        437\n",
       "        ... \n",
       "書風萬里       1\n",
       "最古         1\n",
       "木          1\n",
       "村          1\n",
       "黨心         1\n",
       "Name: count, Length: 334, dtype: int64"
      ]
     },
     "execution_count": 73,
     "metadata": {},
     "output_type": "execute_result"
    }
   ],
   "source": [
    "ai_hub_146['text'].str.extract('([一-龥]+)').value_counts()"
   ]
  },
  {
   "attachments": {},
   "cell_type": "markdown",
   "metadata": {},
   "source": [
    "### 3.3.4 특수문자 확인"
   ]
  },
  {
   "cell_type": "code",
   "execution_count": 74,
   "metadata": {},
   "outputs": [
    {
     "data": {
      "text/plain": [
       ",      35781\n",
       "'      15473\n",
       "[       9888\n",
       "\"       7659\n",
       "‘       7496\n",
       "       ...  \n",
       ",·‘        1\n",
       ",“‘        1\n",
       "“’         1\n",
       "-'         1\n",
       "­          1\n",
       "Name: count, Length: 246, dtype: int64"
      ]
     },
     "execution_count": 74,
     "metadata": {},
     "output_type": "execute_result"
    }
   ],
   "source": [
    "ai_hub_146['text'].str.extract('([^A-Za-z0-9가-힣\\sぁ-ゔァ-ヴー々〆〤一-龥]{1,9999})').value_counts()"
   ]
  },
  {
   "attachments": {},
   "cell_type": "markdown",
   "metadata": {},
   "source": [
    "# 4. AI HUB 데이터끼리 비교"
   ]
  },
  {
   "cell_type": "code",
   "execution_count": 75,
   "metadata": {},
   "outputs": [
    {
     "data": {
      "text/plain": [
       "(223996, 4)"
      ]
     },
     "execution_count": 75,
     "metadata": {},
     "output_type": "execute_result"
    }
   ],
   "source": [
    "ai_hub_concat = pd.concat([ai_hub_017, ai_hub_146], axis=0)\n",
    "ai_hub_concat.shape"
   ]
  },
  {
   "cell_type": "code",
   "execution_count": 76,
   "metadata": {},
   "outputs": [
    {
     "data": {
      "text/plain": [
       "((110563, 4), (111998, 4), (111998, 4))"
      ]
     },
     "execution_count": 76,
     "metadata": {},
     "output_type": "execute_result"
    }
   ],
   "source": [
    "ai_hub_concat.drop_duplicates(subset=['text', 'target']).shape, ai_hub_017.shape, ai_hub_146.shape"
   ]
  },
  {
   "cell_type": "code",
   "execution_count": 77,
   "metadata": {},
   "outputs": [
    {
     "data": {
      "text/plain": [
       "(156241, 6)"
      ]
     },
     "execution_count": 77,
     "metadata": {},
     "output_type": "execute_result"
    }
   ],
   "source": [
    "ai_hub = ai_hub_concat.drop_duplicates(subset=['text', 'target'])\n",
    "new_data = pd.concat([train_df, ai_hub], axis=0)\n",
    "new_data.shape"
   ]
  },
  {
   "cell_type": "code",
   "execution_count": 78,
   "metadata": {},
   "outputs": [
    {
     "data": {
      "text/plain": [
       "((156241, 6), (156212, 6))"
      ]
     },
     "execution_count": 78,
     "metadata": {},
     "output_type": "execute_result"
    }
   ],
   "source": [
    "new_data.drop_duplicates(subset=['text', 'target']).shape, new_data.drop_duplicates(subset=['text']).shape"
   ]
  },
  {
   "cell_type": "code",
   "execution_count": 79,
   "metadata": {},
   "outputs": [
    {
     "data": {
      "text/plain": [
       "<Axes: xlabel='target', ylabel='count'>"
      ]
     },
     "execution_count": 79,
     "metadata": {},
     "output_type": "execute_result"
    },
    {
     "data": {
      "image/png": "[encoded data removed]",
      "text/plain": [
       "<Figure size 640x480 with 1 Axes>"
      ]
     },
     "metadata": {},
     "output_type": "display_data"
    }
   ],
   "source": [
    "sns.countplot(data=new_data, x='target')"
   ]
  },
  {
   "cell_type": "code",
   "execution_count": 80,
   "metadata": {},
   "outputs": [
    {
     "data": {
      "text/plain": [
       "<Axes: xlabel='target', ylabel='count'>"
      ]
     },
     "execution_count": 80,
     "metadata": {},
     "output_type": "execute_result"
    },
    {
     "data": {
      "image/png": "[encoded data removed]",
      "text/plain": [
       "<Figure size 640x480 with 1 Axes>"
      ]
     },
     "metadata": {},
     "output_type": "display_data"
    }
   ],
   "source": [
    "sns.countplot(data=ai_hub, x='target')"
   ]
  },
  {
   "attachments": {},
   "cell_type": "markdown",
   "metadata": {},
   "source": [
    "# 5. AI HUB 시각화"
   ]
  },
  {
   "cell_type": "code",
   "execution_count": 81,
   "metadata": {},
   "outputs": [
    {
     "data": {
      "text/plain": [
       "(110534, 4)"
      ]
     },
     "execution_count": 81,
     "metadata": {},
     "output_type": "execute_result"
    }
   ],
   "source": [
    "ai_hub = pd.read_csv('../data/ai_hub_original.csv')\n",
    "\n",
    "ai_hub.shape"
   ]
  },
  {
   "cell_type": "code",
   "execution_count": 84,
   "metadata": {},
   "outputs": [
    {
     "data": {
      "text/plain": [
       "1         김경수 분노…“내가 문 대통령께 반발? 참 희한한 일”\n",
       "8           기본주택 또 강조한 이재명…국회에서 관련 법도 발의\n",
       "16    김정은, 해·공군 사령관 세대교체…‘젊은 피’로 친정체제 강화\n",
       "22      김제동이 500만원 낸 정당은? 민주·정의 아닌 ‘미래당’\n",
       "26           홍남기 “도시공원과 그린벨트 내 수소충전소 허용”\n",
       "Name: text, dtype: object"
      ]
     },
     "execution_count": 84,
     "metadata": {},
     "output_type": "execute_result"
    }
   ],
   "source": [
    "ai_hub[ai_hub['target'] == 0]['text'].head()"
   ]
  },
  {
   "cell_type": "code",
   "execution_count": 85,
   "metadata": {},
   "outputs": [
    {
     "data": {
      "text/plain": [
       "4     작년 3분기 일자리 늘었다는데… 2030 일자리만 15만개 감소\n",
       "5        327억원 흑자, 수신료 수입도 85억↑…부족하다는 KBS\n",
       "17          MB 이후 11년 만에 다시 뜬 ‘광명·시흥 신도시’\n",
       "19                  김정태 회장, 하나금융 1년 더 이끈다\n",
       "20          부산항만공사·IBK기업은행, 상생펀드 140억원 조성\n",
       "Name: text, dtype: object"
      ]
     },
     "execution_count": 85,
     "metadata": {},
     "output_type": "execute_result"
    }
   ],
   "source": [
    "ai_hub[ai_hub['target'] == 1]['text'].head()"
   ]
  },
  {
   "cell_type": "code",
   "execution_count": 86,
   "metadata": {},
   "outputs": [
    {
     "data": {
      "text/plain": [
       "3                 경남도, 신혼 반값 임대주택 공급 확대\n",
       "7       ‘브레이크 고장’ 이삿짐 차 인도 돌진…60대 행인 부상\n",
       "9            서울 유치원~초등 2학년 새 학기부터 매일 등교\n",
       "12        “지난해 인구 순유입… 정착하고 싶은 도시 만들겠다”\n",
       "15    지역 맞춤형 R&D 투자 전략 수립 미래 먹거리 발굴 나선다\n",
       "Name: text, dtype: object"
      ]
     },
     "execution_count": 86,
     "metadata": {},
     "output_type": "execute_result"
    }
   ],
   "source": [
    "ai_hub[ai_hub['target'] == 2]['text'].head()"
   ]
  },
  {
   "cell_type": "code",
   "execution_count": 87,
   "metadata": {},
   "outputs": [
    {
     "data": {
      "text/plain": [
       "6         ‘엠카운트다운’ 선미, 역대급 퍼포먼스로 컴백 무대\n",
       "10    넷플릭스 “한해 5500억원 투자, K콘텐츠 이미 세계적”\n",
       "57    ‘맛남의 광장’ 레트로 백야 식당, 80년대 ‘청청 패션’\n",
       "83        ‘뭉쳐야 쏜다’ 전설들의 각양각색 메인 포스터 공개\n",
       "88      이경실, 성희롱 폭로 “속옷 보게 치마 벌리라던 선배”\n",
       "Name: text, dtype: object"
      ]
     },
     "execution_count": 87,
     "metadata": {},
     "output_type": "execute_result"
    }
   ],
   "source": [
    "ai_hub[ai_hub['target'] == 3]['text'].head()"
   ]
  },
  {
   "cell_type": "code",
   "execution_count": 88,
   "metadata": {},
   "outputs": [
    {
     "data": {
      "text/plain": [
       "0     “시진핑엔 선물, 바이든엔 모욕”… 유럽의회서 막힌 中·EU투자협정\n",
       "39                독일서 아스트라제네카 백신 85% 방치중…왜?\n",
       "47        내리막길 질주하다 차량 수차례 굴러… 다리 중상 입고 대수술\n",
       "49     화이자 백신, ‘실제 임상’서도 효력 90% 넘어…120만명 분석\n",
       "60            가죽 파고든 폐밧줄…상처입고 바닷속 떠도는 호랑이상어\n",
       "Name: text, dtype: object"
      ]
     },
     "execution_count": 88,
     "metadata": {},
     "output_type": "execute_result"
    }
   ],
   "source": [
    "ai_hub[ai_hub['target'] == 4]['text'].head()"
   ]
  },
  {
   "cell_type": "code",
   "execution_count": 89,
   "metadata": {},
   "outputs": [
    {
     "data": {
      "text/plain": [
       "2        오늘부터 사라진 네이버 ‘실검’…빈자리엔 날씨와 주가\n",
       "11           대구시 965억원 투입해 ‘스마트시티’ 탈바꿈\n",
       "14        LG전자 공기과학연구소, 업계 최초로 ‘국가 공인’\n",
       "43    호주, 세계 최초로 구글·페이스북에 ‘뉴스 사용료’ 물린다\n",
       "51     ‘턱스크’도 가려낸다…에스원, AI 발열감지 솔루션 출시\n",
       "Name: text, dtype: object"
      ]
     },
     "execution_count": 89,
     "metadata": {},
     "output_type": "execute_result"
    }
   ],
   "source": [
    "ai_hub[ai_hub['target'] == 5]['text'].head()"
   ]
  },
  {
   "cell_type": "code",
   "execution_count": 90,
   "metadata": {},
   "outputs": [
    {
     "data": {
      "text/plain": [
       "13          박지수, 우승 놓쳤지만 독무대…MVP·최초 7관왕 달성\n",
       "50         “내가 슈워버보다 못하다고?” 추신수, 한국행 결심 이유\n",
       "69    “차 덕분에 살아”vs“차 때문에 다쳐”… GV80 놓고 갑론을박\n",
       "78            “역시 류현진” 첫 라이브피칭 본 토론토 감독 반응\n",
       "87             ‘虎’사다마… 타이거 우즈, 골프 인생 최대 위기\n",
       "Name: text, dtype: object"
      ]
     },
     "execution_count": 90,
     "metadata": {},
     "output_type": "execute_result"
    }
   ],
   "source": [
    "ai_hub[ai_hub['target'] == 6]['text'].head()"
   ]
  },
  {
   "cell_type": "code",
   "execution_count": null,
   "metadata": {},
   "outputs": [],
   "source": []
  }
 ],
 "metadata": {
  "kernelspec": {
   "display_name": "base",
   "language": "python",
   "name": "python3"
  },
  "language_info": {
   "codemirror_mode": {
    "name": "ipython",
    "version": 3
   },
   "file_extension": ".py",
   "mimetype": "text/x-python",
   "name": "python",
   "nbconvert_exporter": "python",
   "pygments_lexer": "ipython3",
   "version": "3.8.5"
  },
  "orig_nbformat": 4
 },
 "nbformat": 4,
 "nbformat_minor": 2
}
