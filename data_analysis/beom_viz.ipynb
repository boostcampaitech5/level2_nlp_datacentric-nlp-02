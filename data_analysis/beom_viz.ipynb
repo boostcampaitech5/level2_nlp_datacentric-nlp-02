{
 "cells": [
  {
   "attachments": {},
   "cell_type": "markdown",
   "metadata": {},
   "source": [
    "# 김기범 데이터 시각화"
   ]
  },
  {
   "cell_type": "code",
   "execution_count": 13,
   "metadata": {},
   "outputs": [],
   "source": [
    "import pandas as pd\n",
    "import seaborn as sns\n",
    "import matplotlib.pyplot as plt\n",
    "\n",
    "%matplotlib inline"
   ]
  },
  {
   "cell_type": "code",
   "execution_count": 14,
   "metadata": {},
   "outputs": [
    {
     "name": "stdout",
     "output_type": "stream",
     "text": [
      "train shape >> (52530, 8)\n",
      "test shape >> (9107, 6)\n"
     ]
    }
   ],
   "source": [
    "train_df = pd.read_csv('../data/train.csv')\n",
    "test_df = pd.read_csv(\"../data/test.csv\")\n",
    "\n",
    "print(\"train shape >>\", train_df.shape)\n",
    "print(\"test shape >>\", test_df.shape)"
   ]
  },
  {
   "cell_type": "code",
   "execution_count": 15,
   "metadata": {},
   "outputs": [
    {
     "name": "stdout",
     "output_type": "stream",
     "text": [
      "<class 'pandas.core.frame.DataFrame'>\n",
      "RangeIndex: 52530 entries, 0 to 52529\n",
      "Data columns (total 8 columns):\n",
      " #   Column                    Non-Null Count  Dtype \n",
      "---  ------                    --------------  ----- \n",
      " 0   ID                        52530 non-null  object\n",
      " 1   input_text                52530 non-null  object\n",
      " 2   label_text                52530 non-null  object\n",
      " 3   target                    52530 non-null  int64 \n",
      " 4   predefined_news_category  52530 non-null  object\n",
      " 5   annotations               52530 non-null  object\n",
      " 6   url                       52530 non-null  object\n",
      " 7   date                      52530 non-null  object\n",
      "dtypes: int64(1), object(7)\n",
      "memory usage: 3.2+ MB\n"
     ]
    }
   ],
   "source": [
    "train_df.info()"
   ]
  },
  {
   "cell_type": "code",
   "execution_count": 16,
   "metadata": {},
   "outputs": [
    {
     "data": {
      "text/html": [
       "<div>\n",
       "<style scoped>\n",
       "    .dataframe tbody tr th:only-of-type {\n",
       "        vertical-align: middle;\n",
       "    }\n",
       "\n",
       "    .dataframe tbody tr th {\n",
       "        vertical-align: top;\n",
       "    }\n",
       "\n",
       "    .dataframe thead th {\n",
       "        text-align: right;\n",
       "    }\n",
       "</style>\n",
       "<table border=\"1\" class=\"dataframe\">\n",
       "  <thead>\n",
       "    <tr style=\"text-align: right;\">\n",
       "      <th></th>\n",
       "      <th>ID</th>\n",
       "      <th>input_text</th>\n",
       "      <th>label_text</th>\n",
       "      <th>target</th>\n",
       "      <th>predefined_news_category</th>\n",
       "      <th>annotations</th>\n",
       "      <th>url</th>\n",
       "      <th>date</th>\n",
       "    </tr>\n",
       "  </thead>\n",
       "  <tbody>\n",
       "    <tr>\n",
       "      <th>0</th>\n",
       "      <td>ynat-v1_train_00000</td>\n",
       "      <td>유튜브 내달 2일까지 크리에이터 지원 공간 운영</td>\n",
       "      <td>생활문화</td>\n",
       "      <td>3</td>\n",
       "      <td>IT과학</td>\n",
       "      <td>{'annotators': ['08', '13', '07'], 'annotation...</td>\n",
       "      <td>https://news.naver.com/main/read.nhn?mode=LS2D...</td>\n",
       "      <td>2016.06.30. 오전 10:36</td>\n",
       "    </tr>\n",
       "    <tr>\n",
       "      <th>1</th>\n",
       "      <td>ynat-v1_train_00001</td>\n",
       "      <td>어버이날 막따가 흐려저…남부지방 여튼 황사</td>\n",
       "      <td>생활문화</td>\n",
       "      <td>3</td>\n",
       "      <td>생활문화</td>\n",
       "      <td>{'annotators': ['14', '13', '07'], 'annotation...</td>\n",
       "      <td>https://news.naver.com/main/read.nhn?mode=LS2D...</td>\n",
       "      <td>2016.05.08. 오전 5:25</td>\n",
       "    </tr>\n",
       "    <tr>\n",
       "      <th>2</th>\n",
       "      <td>ynat-v1_train_00001</td>\n",
       "      <td>어버이날 맑다가 흐려져…남부지방 옅은 황사</td>\n",
       "      <td>생활문화</td>\n",
       "      <td>3</td>\n",
       "      <td>생활문화</td>\n",
       "      <td>{'annotators': ['14', '13', '07'], 'annotation...</td>\n",
       "      <td>https://news.naver.com/main/read.nhn?mode=LS2D...</td>\n",
       "      <td>2016.05.08. 오전 5:25</td>\n",
       "    </tr>\n",
       "    <tr>\n",
       "      <th>3</th>\n",
       "      <td>ynat-v1_train_00002</td>\n",
       "      <td>내년부터 국가RD 평가 때 논문건수는 반영 않는다</td>\n",
       "      <td>사회</td>\n",
       "      <td>2</td>\n",
       "      <td>IT과학</td>\n",
       "      <td>{'annotators': ['14', '13', '10'], 'annotation...</td>\n",
       "      <td>https://news.naver.com/main/read.nhn?mode=LS2D...</td>\n",
       "      <td>2016.03.15. 오후 12:00</td>\n",
       "    </tr>\n",
       "    <tr>\n",
       "      <th>4</th>\n",
       "      <td>ynat-v1_train_00003</td>\n",
       "      <td>김명자 신임 과총 회장 원로와 젊은 과학자 지혜 모을 것</td>\n",
       "      <td>사회</td>\n",
       "      <td>2</td>\n",
       "      <td>IT과학</td>\n",
       "      <td>{'annotators': ['16', '11', '15'], 'annotation...</td>\n",
       "      <td>https://news.naver.com/main/read.nhn?mode=LS2D...</td>\n",
       "      <td>2017.02.28. 오전 9:54</td>\n",
       "    </tr>\n",
       "  </tbody>\n",
       "</table>\n",
       "</div>"
      ],
      "text/plain": [
       "                    ID                       input_text label_text  target   \n",
       "0  ynat-v1_train_00000       유튜브 내달 2일까지 크리에이터 지원 공간 운영       생활문화       3  \\\n",
       "1  ynat-v1_train_00001          어버이날 막따가 흐려저…남부지방 여튼 황사       생활문화       3   \n",
       "2  ynat-v1_train_00001          어버이날 맑다가 흐려져…남부지방 옅은 황사       생활문화       3   \n",
       "3  ynat-v1_train_00002      내년부터 국가RD 평가 때 논문건수는 반영 않는다         사회       2   \n",
       "4  ynat-v1_train_00003  김명자 신임 과총 회장 원로와 젊은 과학자 지혜 모을 것         사회       2   \n",
       "\n",
       "  predefined_news_category                                        annotations   \n",
       "0                     IT과학  {'annotators': ['08', '13', '07'], 'annotation...  \\\n",
       "1                     생활문화  {'annotators': ['14', '13', '07'], 'annotation...   \n",
       "2                     생활문화  {'annotators': ['14', '13', '07'], 'annotation...   \n",
       "3                     IT과학  {'annotators': ['14', '13', '10'], 'annotation...   \n",
       "4                     IT과학  {'annotators': ['16', '11', '15'], 'annotation...   \n",
       "\n",
       "                                                 url                  date  \n",
       "0  https://news.naver.com/main/read.nhn?mode=LS2D...  2016.06.30. 오전 10:36  \n",
       "1  https://news.naver.com/main/read.nhn?mode=LS2D...   2016.05.08. 오전 5:25  \n",
       "2  https://news.naver.com/main/read.nhn?mode=LS2D...   2016.05.08. 오전 5:25  \n",
       "3  https://news.naver.com/main/read.nhn?mode=LS2D...  2016.03.15. 오후 12:00  \n",
       "4  https://news.naver.com/main/read.nhn?mode=LS2D...   2017.02.28. 오전 9:54  "
      ]
     },
     "execution_count": 16,
     "metadata": {},
     "output_type": "execute_result"
    }
   ],
   "source": [
    "train_df.head()"
   ]
  },
  {
   "attachments": {},
   "cell_type": "markdown",
   "metadata": {},
   "source": [
    "# 1. target 분포 보기"
   ]
  },
  {
   "cell_type": "code",
   "execution_count": 19,
   "metadata": {},
   "outputs": [
    {
     "data": {
      "text/plain": [
       "label_text\n",
       "세계      9501\n",
       "스포츠     8833\n",
       "정치      8473\n",
       "경제      7084\n",
       "생활문화    6608\n",
       "IT과학    6052\n",
       "사회      5979\n",
       "Name: count, dtype: int64"
      ]
     },
     "execution_count": 19,
     "metadata": {},
     "output_type": "execute_result"
    }
   ],
   "source": [
    "train_df['label_text'].value_counts()"
   ]
  },
  {
   "cell_type": "code",
   "execution_count": 18,
   "metadata": {},
   "outputs": [
    {
     "data": {
      "text/plain": [
       "<Axes: xlabel='target', ylabel='Count'>"
      ]
     },
     "execution_count": 18,
     "metadata": {},
     "output_type": "execute_result"
    },
    {
     "data": {
      "image/png": "[encoded data removed]",
      "text/plain": [
       "<Figure size 640x480 with 1 Axes>"
      ]
     },
     "metadata": {},
     "output_type": "display_data"
    }
   ],
   "source": [
    "sns.histplot(data=train_df, x='target')"
   ]
  },
  {
   "attachments": {},
   "cell_type": "markdown",
   "metadata": {},
   "source": [
    "# 2. target-predefined target 비교"
   ]
  },
  {
   "cell_type": "code",
   "execution_count": 47,
   "metadata": {},
   "outputs": [
    {
     "data": {
      "text/plain": [
       "(10089, 8)"
      ]
     },
     "execution_count": 47,
     "metadata": {},
     "output_type": "execute_result"
    }
   ],
   "source": [
    "no_match_df = train_df[train_df['label_text'] != train_df['predefined_news_category']]\n",
    "\n",
    "no_match_df.shape"
   ]
  },
  {
   "cell_type": "code",
   "execution_count": 52,
   "metadata": {},
   "outputs": [
    {
     "data": {
      "text/html": [
       "<div>\n",
       "<style scoped>\n",
       "    .dataframe tbody tr th:only-of-type {\n",
       "        vertical-align: middle;\n",
       "    }\n",
       "\n",
       "    .dataframe tbody tr th {\n",
       "        vertical-align: top;\n",
       "    }\n",
       "\n",
       "    .dataframe thead th {\n",
       "        text-align: right;\n",
       "    }\n",
       "</style>\n",
       "<table border=\"1\" class=\"dataframe\">\n",
       "  <thead>\n",
       "    <tr style=\"text-align: right;\">\n",
       "      <th></th>\n",
       "      <th></th>\n",
       "      <th>ID</th>\n",
       "    </tr>\n",
       "    <tr>\n",
       "      <th>label_text</th>\n",
       "      <th>predefined_news_category</th>\n",
       "      <th></th>\n",
       "    </tr>\n",
       "  </thead>\n",
       "  <tbody>\n",
       "    <tr>\n",
       "      <th rowspan=\"6\" valign=\"top\">IT과학</th>\n",
       "      <th>경제</th>\n",
       "      <td>174</td>\n",
       "    </tr>\n",
       "    <tr>\n",
       "      <th>사회</th>\n",
       "      <td>38</td>\n",
       "    </tr>\n",
       "    <tr>\n",
       "      <th>생활문화</th>\n",
       "      <td>86</td>\n",
       "    </tr>\n",
       "    <tr>\n",
       "      <th>세계</th>\n",
       "      <td>79</td>\n",
       "    </tr>\n",
       "    <tr>\n",
       "      <th>스포츠</th>\n",
       "      <td>40</td>\n",
       "    </tr>\n",
       "    <tr>\n",
       "      <th>정치</th>\n",
       "      <td>60</td>\n",
       "    </tr>\n",
       "    <tr>\n",
       "      <th rowspan=\"6\" valign=\"top\">경제</th>\n",
       "      <th>IT과학</th>\n",
       "      <td>1279</td>\n",
       "    </tr>\n",
       "    <tr>\n",
       "      <th>사회</th>\n",
       "      <td>42</td>\n",
       "    </tr>\n",
       "    <tr>\n",
       "      <th>생활문화</th>\n",
       "      <td>124</td>\n",
       "    </tr>\n",
       "    <tr>\n",
       "      <th>세계</th>\n",
       "      <td>195</td>\n",
       "    </tr>\n",
       "    <tr>\n",
       "      <th>스포츠</th>\n",
       "      <td>62</td>\n",
       "    </tr>\n",
       "    <tr>\n",
       "      <th>정치</th>\n",
       "      <td>135</td>\n",
       "    </tr>\n",
       "    <tr>\n",
       "      <th rowspan=\"6\" valign=\"top\">사회</th>\n",
       "      <th>IT과학</th>\n",
       "      <td>1306</td>\n",
       "    </tr>\n",
       "    <tr>\n",
       "      <th>경제</th>\n",
       "      <td>975</td>\n",
       "    </tr>\n",
       "    <tr>\n",
       "      <th>생활문화</th>\n",
       "      <td>678</td>\n",
       "    </tr>\n",
       "    <tr>\n",
       "      <th>세계</th>\n",
       "      <td>237</td>\n",
       "    </tr>\n",
       "    <tr>\n",
       "      <th>스포츠</th>\n",
       "      <td>112</td>\n",
       "    </tr>\n",
       "    <tr>\n",
       "      <th>정치</th>\n",
       "      <td>801</td>\n",
       "    </tr>\n",
       "    <tr>\n",
       "      <th rowspan=\"6\" valign=\"top\">생활문화</th>\n",
       "      <th>IT과학</th>\n",
       "      <td>285</td>\n",
       "    </tr>\n",
       "    <tr>\n",
       "      <th>경제</th>\n",
       "      <td>166</td>\n",
       "    </tr>\n",
       "    <tr>\n",
       "      <th>사회</th>\n",
       "      <td>198</td>\n",
       "    </tr>\n",
       "    <tr>\n",
       "      <th>세계</th>\n",
       "      <td>135</td>\n",
       "    </tr>\n",
       "    <tr>\n",
       "      <th>스포츠</th>\n",
       "      <td>56</td>\n",
       "    </tr>\n",
       "    <tr>\n",
       "      <th>정치</th>\n",
       "      <td>103</td>\n",
       "    </tr>\n",
       "    <tr>\n",
       "      <th rowspan=\"6\" valign=\"top\">세계</th>\n",
       "      <th>IT과학</th>\n",
       "      <td>236</td>\n",
       "    </tr>\n",
       "    <tr>\n",
       "      <th>경제</th>\n",
       "      <td>202</td>\n",
       "    </tr>\n",
       "    <tr>\n",
       "      <th>사회</th>\n",
       "      <td>46</td>\n",
       "    </tr>\n",
       "    <tr>\n",
       "      <th>생활문화</th>\n",
       "      <td>188</td>\n",
       "    </tr>\n",
       "    <tr>\n",
       "      <th>스포츠</th>\n",
       "      <td>210</td>\n",
       "    </tr>\n",
       "    <tr>\n",
       "      <th>정치</th>\n",
       "      <td>373</td>\n",
       "    </tr>\n",
       "    <tr>\n",
       "      <th rowspan=\"6\" valign=\"top\">스포츠</th>\n",
       "      <th>IT과학</th>\n",
       "      <td>122</td>\n",
       "    </tr>\n",
       "    <tr>\n",
       "      <th>경제</th>\n",
       "      <td>71</td>\n",
       "    </tr>\n",
       "    <tr>\n",
       "      <th>사회</th>\n",
       "      <td>32</td>\n",
       "    </tr>\n",
       "    <tr>\n",
       "      <th>생활문화</th>\n",
       "      <td>96</td>\n",
       "    </tr>\n",
       "    <tr>\n",
       "      <th>세계</th>\n",
       "      <td>66</td>\n",
       "    </tr>\n",
       "    <tr>\n",
       "      <th>정치</th>\n",
       "      <td>156</td>\n",
       "    </tr>\n",
       "    <tr>\n",
       "      <th rowspan=\"6\" valign=\"top\">정치</th>\n",
       "      <th>IT과학</th>\n",
       "      <td>182</td>\n",
       "    </tr>\n",
       "    <tr>\n",
       "      <th>경제</th>\n",
       "      <td>122</td>\n",
       "    </tr>\n",
       "    <tr>\n",
       "      <th>사회</th>\n",
       "      <td>162</td>\n",
       "    </tr>\n",
       "    <tr>\n",
       "      <th>생활문화</th>\n",
       "      <td>86</td>\n",
       "    </tr>\n",
       "    <tr>\n",
       "      <th>세계</th>\n",
       "      <td>297</td>\n",
       "    </tr>\n",
       "    <tr>\n",
       "      <th>스포츠</th>\n",
       "      <td>76</td>\n",
       "    </tr>\n",
       "  </tbody>\n",
       "</table>\n",
       "</div>"
      ],
      "text/plain": [
       "                                       ID\n",
       "label_text predefined_news_category      \n",
       "IT과학       경제                         174\n",
       "           사회                          38\n",
       "           생활문화                        86\n",
       "           세계                          79\n",
       "           스포츠                         40\n",
       "           정치                          60\n",
       "경제         IT과학                      1279\n",
       "           사회                          42\n",
       "           생활문화                       124\n",
       "           세계                         195\n",
       "           스포츠                         62\n",
       "           정치                         135\n",
       "사회         IT과학                      1306\n",
       "           경제                         975\n",
       "           생활문화                       678\n",
       "           세계                         237\n",
       "           스포츠                        112\n",
       "           정치                         801\n",
       "생활문화       IT과학                       285\n",
       "           경제                         166\n",
       "           사회                         198\n",
       "           세계                         135\n",
       "           스포츠                         56\n",
       "           정치                         103\n",
       "세계         IT과학                       236\n",
       "           경제                         202\n",
       "           사회                          46\n",
       "           생활문화                       188\n",
       "           스포츠                        210\n",
       "           정치                         373\n",
       "스포츠        IT과학                       122\n",
       "           경제                          71\n",
       "           사회                          32\n",
       "           생활문화                        96\n",
       "           세계                          66\n",
       "           정치                         156\n",
       "정치         IT과학                       182\n",
       "           경제                         122\n",
       "           사회                         162\n",
       "           생활문화                        86\n",
       "           세계                         297\n",
       "           스포츠                         76"
      ]
     },
     "execution_count": 52,
     "metadata": {},
     "output_type": "execute_result"
    }
   ],
   "source": [
    "no_match_groupby = no_match_df[['ID', 'label_text', 'predefined_news_category']].groupby(['label_text', 'predefined_news_category']).count()\n",
    "no_match_groupby"
   ]
  },
  {
   "cell_type": "code",
   "execution_count": 65,
   "metadata": {},
   "outputs": [
    {
     "data": {
      "text/plain": [
       "{'정치': 'Politics',\n",
       " '경제': 'Economy',\n",
       " '사회': 'Society',\n",
       " '생활문화': 'Culture',\n",
       " '세계': 'World',\n",
       " 'IT과학': 'IT/Science',\n",
       " '스포츠': 'Sport'}"
      ]
     },
     "execution_count": 65,
     "metadata": {},
     "output_type": "execute_result"
    }
   ],
   "source": [
    "kor2eng = {k: v for k, v in zip(\n",
    "    ['정치', '경제', '사회', '생활문화', '세계', 'IT과학', '스포츠'],\n",
    "    ['Politics', 'Economy', 'Society', 'Culture', 'World', 'IT/Science', 'Sport']\n",
    "    )\n",
    "}\n",
    "\n",
    "kor2eng"
   ]
  },
  {
   "cell_type": "code",
   "execution_count": 70,
   "metadata": {},
   "outputs": [
    {
     "data": {
      "text/plain": [
       "{'Politics': {'labels': [], 'values': []},\n",
       " 'Economy': {'labels': [], 'values': []},\n",
       " 'Society': {'labels': [], 'values': []},\n",
       " 'Culture': {'labels': [], 'values': []},\n",
       " 'World': {'labels': [], 'values': []},\n",
       " 'IT/Science': {'labels': [], 'values': []},\n",
       " 'Sport': {'labels': [], 'values': []}}"
      ]
     },
     "execution_count": 70,
     "metadata": {},
     "output_type": "execute_result"
    }
   ],
   "source": [
    "db = {\n",
    "    k: {\n",
    "        'labels': [], 'values': []\n",
    "    } for k in kor2eng.values()\n",
    "}\n",
    "\n",
    "db"
   ]
  },
  {
   "cell_type": "code",
   "execution_count": 71,
   "metadata": {},
   "outputs": [
    {
     "data": {
      "text/plain": [
       "{'Politics': {'labels': ['IT/Science',\n",
       "   'Economy',\n",
       "   'Society',\n",
       "   'Culture',\n",
       "   'World',\n",
       "   'Sport'],\n",
       "  'values': [182, 122, 162, 86, 297, 76]},\n",
       " 'Economy': {'labels': ['IT/Science',\n",
       "   'Society',\n",
       "   'Culture',\n",
       "   'World',\n",
       "   'Sport',\n",
       "   'Politics'],\n",
       "  'values': [1279, 42, 124, 195, 62, 135]},\n",
       " 'Society': {'labels': ['IT/Science',\n",
       "   'Economy',\n",
       "   'Culture',\n",
       "   'World',\n",
       "   'Sport',\n",
       "   'Politics'],\n",
       "  'values': [1306, 975, 678, 237, 112, 801]},\n",
       " 'Culture': {'labels': ['IT/Science',\n",
       "   'Economy',\n",
       "   'Society',\n",
       "   'World',\n",
       "   'Sport',\n",
       "   'Politics'],\n",
       "  'values': [285, 166, 198, 135, 56, 103]},\n",
       " 'World': {'labels': ['IT/Science',\n",
       "   'Economy',\n",
       "   'Society',\n",
       "   'Culture',\n",
       "   'Sport',\n",
       "   'Politics'],\n",
       "  'values': [236, 202, 46, 188, 210, 373]},\n",
       " 'IT/Science': {'labels': ['Economy',\n",
       "   'Society',\n",
       "   'Culture',\n",
       "   'World',\n",
       "   'Sport',\n",
       "   'Politics'],\n",
       "  'values': [174, 38, 86, 79, 40, 60]},\n",
       " 'Sport': {'labels': ['IT/Science',\n",
       "   'Economy',\n",
       "   'Society',\n",
       "   'Culture',\n",
       "   'World',\n",
       "   'Politics'],\n",
       "  'values': [122, 71, 32, 96, 66, 156]}}"
      ]
     },
     "execution_count": 71,
     "metadata": {},
     "output_type": "execute_result"
    }
   ],
   "source": [
    "for i in range(len(no_match_groupby)):\n",
    "    row = no_match_groupby.iloc[i]\n",
    "    key = kor2eng[row.name[0]]\n",
    "    db[key]['labels'].append(kor2eng[row.name[1]])\n",
    "    db[key]['values'].append(row.values[0])\n",
    "\n"
   ]
  },
  {
   "cell_type": "code",
   "execution_count": null,
   "metadata": {},
   "outputs": [],
   "source": []
  }
 ],
 "metadata": {
  "kernelspec": {
   "display_name": "base",
   "language": "python",
   "name": "python3"
  },
  "language_info": {
   "codemirror_mode": {
    "name": "ipython",
    "version": 3
   },
   "file_extension": ".py",
   "mimetype": "text/x-python",
   "name": "python",
   "nbconvert_exporter": "python",
   "pygments_lexer": "ipython3",
   "version": "3.8.5"
  },
  "orig_nbformat": 4
 },
 "nbformat": 4,
 "nbformat_minor": 2
}
