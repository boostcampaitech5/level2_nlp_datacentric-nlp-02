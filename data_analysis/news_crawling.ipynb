{
  "cells": [
    {
      "attachments": {},
      "cell_type": "markdown",
      "metadata": {
        "id": "IUuHpvOFXNsd"
      },
      "source": [
        "# 뉴스 크롤링"
      ]
    },
    {
      "attachments": {},
      "cell_type": "markdown",
      "metadata": {
        "id": "YSJ2EOeOX8e1"
      },
      "source": [
        "## 제목"
      ]
    },
    {
      "cell_type": "code",
      "execution_count": null,
      "metadata": {
        "id": "ku21w2GWZg80"
      },
      "outputs": [],
      "source": [
        "# 이 부분은 처음 한번만 실행하면 됌.\n",
        "# 코드 수정 - \"The reason is that the last Ubuntu update update supports chromium driver just via snap.\"\n",
        "# 최근 우분투 업데이트에서 크롬 드라이버 설치를 snap을 이용해서만 하도록 바뀜\n",
        "# 고로 snap 없이 설치하는 아래 우회 코드로 변경\n",
        "# 출처 : https://colab.research.google.com/drive/1cbEvuZOhkouYLda3RqiwtbM-o9hxGLyC\n",
        "# 출처2 : https://stackoverflow.com/questions/75155063/selenium-use-chrome-on-colab-got-unexpectedly-exited\n",
        "\n",
        "%%shell\n",
        "# Ubuntu no longer distributes chromium-browser outside of snap\n",
        "#\n",
        "# Proposed solution: https://askubuntu.com/questions/1204571/how-to-install-chromium-without-snap\n",
        "\n",
        "# Add debian buster\n",
        "cat > /etc/apt/sources.list.d/debian.list <<'EOF'\n",
        "deb [arch=amd64 signed-by=/usr/share/keyrings/debian-buster.gpg] http://deb.debian.org/debian buster main\n",
        "deb [arch=amd64 signed-by=/usr/share/keyrings/debian-buster-updates.gpg] http://deb.debian.org/debian buster-updates main\n",
        "deb [arch=amd64 signed-by=/usr/share/keyrings/debian-security-buster.gpg] http://deb.debian.org/debian-security buster/updates main\n",
        "EOF\n",
        "\n",
        "# Add keys\n",
        "apt-key adv --keyserver keyserver.ubuntu.com --recv-keys DCC9EFBF77E11517\n",
        "apt-key adv --keyserver keyserver.ubuntu.com --recv-keys 648ACFD622F3D138\n",
        "apt-key adv --keyserver keyserver.ubuntu.com --recv-keys 112695A0E562B32A\n",
        "\n",
        "apt-key export 77E11517 | gpg --dearmour -o /usr/share/keyrings/debian-buster.gpg\n",
        "apt-key export 22F3D138 | gpg --dearmour -o /usr/share/keyrings/debian-buster-updates.gpg\n",
        "apt-key export E562B32A | gpg --dearmour -o /usr/share/keyrings/debian-security-buster.gpg\n",
        "\n",
        "# Prefer debian repo for chromium* packages only\n",
        "# Note the double-blank lines between entries\n",
        "cat > /etc/apt/preferences.d/chromium.pref << 'EOF'\n",
        "Package: *\n",
        "Pin: release a=eoan\n",
        "Pin-Priority: 500\n",
        "\n",
        "\n",
        "Package: *\n",
        "Pin: origin \"deb.debian.org\"\n",
        "Pin-Priority: 300\n",
        "\n",
        "\n",
        "Package: chromium*\n",
        "Pin: origin \"deb.debian.org\"\n",
        "Pin-Priority: 700\n",
        "EOF\n",
        "\n",
        "# Install chromium and chromium-driver\n",
        "apt-get update\n",
        "apt-get install chromium chromium-driver\n",
        "\n",
        "\n",
        "# Install selenium\n",
        "pip install selenium"
      ]
    },
    {
      "cell_type": "code",
      "execution_count": null,
      "metadata": {
        "id": "ZsGJfWH61Uti"
      },
      "outputs": [],
      "source": [
        "# 셀레니움 module import \n",
        "# from selenium import webdriver\n",
        "# 2023.05.08 selenium webdriver 사용방법 변경 \n",
        "from selenium.webdriver.common.by import By\n",
        "from selenium import webdriver\n",
        "import time \n",
        "from time import sleep\n",
        "from bs4 import BeautifulSoup\n",
        "from selenium.webdriver.common.keys import Keys\n",
        "import requests\n",
        "import re\n",
        "import os\n",
        "\n",
        "# Dataframe \n",
        "import pandas as pd\n",
        "import numpy as np\n",
        "\n",
        "chrome_options = webdriver.ChromeOptions()\n",
        "chrome_options.add_argument('--headless')\n",
        "chrome_options.add_argument('--no-sandbox')\n",
        "chrome_options.add_argument('disable-dev-shm-usage')\n",
        "chrome_options.add_argument(\"user-agent=Mozilla/5.0 (Macintosh; Intel Mac OS X 10_12_6) AppleWebKit/537.36 (KHTML, like Gecko) Chrome/61.0.3163.100 Safari/537.36\")\n",
        "driver = webdriver.Chrome('chromedriver', options=chrome_options)"
      ]
    },
    {
      "cell_type": "code",
      "execution_count": null,
      "metadata": {
        "id": "RcqFMUpThL7B"
      },
      "outputs": [],
      "source": [
        "train_df=pd.read_csv('../data/train.csv')"
      ]
    },
    {
      "cell_type": "code",
      "execution_count": null,
      "metadata": {
        "colab": {
          "base_uri": "https://localhost:8080/",
          "height": 424
        },
        "id": "WogRI8t2hL0d",
        "outputId": "0db4e465-0ea9-45e3-fc18-5fe0f021d838"
      },
      "outputs": [
        {
          "data": {
            "text/html": [
              "\n",
              "  <div id=\"df-49e5175a-f5ed-444e-b51c-1f650c5cf5a1\">\n",
              "    <div class=\"colab-df-container\">\n",
              "      <div>\n",
              "<style scoped>\n",
              "    .dataframe tbody tr th:only-of-type {\n",
              "        vertical-align: middle;\n",
              "    }\n",
              "\n",
              "    .dataframe tbody tr th {\n",
              "        vertical-align: top;\n",
              "    }\n",
              "\n",
              "    .dataframe thead th {\n",
              "        text-align: right;\n",
              "    }\n",
              "</style>\n",
              "<table border=\"1\" class=\"dataframe\">\n",
              "  <thead>\n",
              "    <tr style=\"text-align: right;\">\n",
              "      <th></th>\n",
              "      <th>ID</th>\n",
              "      <th>text</th>\n",
              "      <th>target</th>\n",
              "      <th>url</th>\n",
              "      <th>date</th>\n",
              "    </tr>\n",
              "  </thead>\n",
              "  <tbody>\n",
              "    <tr>\n",
              "      <th>0</th>\n",
              "      <td>ynat-v1_train_00000</td>\n",
              "      <td>유튜브 내달 2일까지 크리에이터 지원 공간 운영</td>\n",
              "      <td>3</td>\n",
              "      <td>https://news.naver.com/main/read.nhn?mode=LS2D...</td>\n",
              "      <td>2016.06.30. 오전 10:36</td>\n",
              "    </tr>\n",
              "    <tr>\n",
              "      <th>1</th>\n",
              "      <td>ynat-v1_train_00001</td>\n",
              "      <td>어버이날 막따가 흐려저…남부지방 여튼 황사</td>\n",
              "      <td>3</td>\n",
              "      <td>https://news.naver.com/main/read.nhn?mode=LS2D...</td>\n",
              "      <td>2016.05.08. 오전 5:25</td>\n",
              "    </tr>\n",
              "    <tr>\n",
              "      <th>2</th>\n",
              "      <td>ynat-v1_train_00002</td>\n",
              "      <td>내년부터 국가RD 평가 때 논문건수는 반영 않는다</td>\n",
              "      <td>2</td>\n",
              "      <td>https://news.naver.com/main/read.nhn?mode=LS2D...</td>\n",
              "      <td>2016.03.15. 오후 12:00</td>\n",
              "    </tr>\n",
              "    <tr>\n",
              "      <th>3</th>\n",
              "      <td>ynat-v1_train_00003</td>\n",
              "      <td>김명자 신임 과총 회장 원로와 젊은 과학자 지혜 모을 것</td>\n",
              "      <td>2</td>\n",
              "      <td>https://news.naver.com/main/read.nhn?mode=LS2D...</td>\n",
              "      <td>2017.02.28. 오전 9:54</td>\n",
              "    </tr>\n",
              "    <tr>\n",
              "      <th>4</th>\n",
              "      <td>ynat-v1_train_00004</td>\n",
              "      <td>회새긴간 작까 김동시 걍심꼬백 뜽 새 소설집 뚜권 출간</td>\n",
              "      <td>3</td>\n",
              "      <td>https://news.naver.com/main/read.nhn?mode=LS2D...</td>\n",
              "      <td>2018.04.03. 오전 7:05</td>\n",
              "    </tr>\n",
              "    <tr>\n",
              "      <th>...</th>\n",
              "      <td>...</td>\n",
              "      <td>...</td>\n",
              "      <td>...</td>\n",
              "      <td>...</td>\n",
              "      <td>...</td>\n",
              "    </tr>\n",
              "    <tr>\n",
              "      <th>45673</th>\n",
              "      <td>ynat-v1_train_45673</td>\n",
              "      <td>사우디 아람코 주요 석유시설·유전 드론 공격에 화재</td>\n",
              "      <td>4</td>\n",
              "      <td>https://news.naver.com/main/read.nhn?mode=LS2D...</td>\n",
              "      <td>2019.09.14. 오후 4:36</td>\n",
              "    </tr>\n",
              "    <tr>\n",
              "      <th>45674</th>\n",
              "      <td>ynat-v1_train_45674</td>\n",
              "      <td>박기원 감독 눈치 보지 말고…비예나 눈치 본 건 아닌데</td>\n",
              "      <td>5</td>\n",
              "      <td>https://sports.news.naver.com/news.nhn?oid=001...</td>\n",
              "      <td>2019.11.03 17:06</td>\n",
              "    </tr>\n",
              "    <tr>\n",
              "      <th>45675</th>\n",
              "      <td>ynat-v1_train_45675</td>\n",
              "      <td>아시안게임 첫 경기 앞둔 라건아 인도네시아 팬이라도 ...</td>\n",
              "      <td>5</td>\n",
              "      <td>https://sports.news.naver.com/news.nhn?oid=001...</td>\n",
              "      <td>2018.08.13 17:54</td>\n",
              "    </tr>\n",
              "    <tr>\n",
              "      <th>45676</th>\n",
              "      <td>ynat-v1_train_45676</td>\n",
              "      <td>트럼프 미중 무역협상 1단계 합의 서명식 가질 것종합</td>\n",
              "      <td>4</td>\n",
              "      <td>https://news.naver.com/main/read.nhn?mode=LS2D...</td>\n",
              "      <td>2019.12.25. 오후 4:36</td>\n",
              "    </tr>\n",
              "    <tr>\n",
              "      <th>45677</th>\n",
              "      <td>ynat-v1_train_45677</td>\n",
              "      <td>극적 역전승 도로공사 GS칼텍스 꺾고 2년 연속 챔프...</td>\n",
              "      <td>5</td>\n",
              "      <td>https://sports.news.naver.com/news.nhn?oid=001...</td>\n",
              "      <td>2019.03.19 21:32</td>\n",
              "    </tr>\n",
              "  </tbody>\n",
              "</table>\n",
              "<p>45678 rows × 5 columns</p>\n",
              "</div>\n",
              "      <button class=\"colab-df-convert\" onclick=\"convertToInteractive('df-49e5175a-f5ed-444e-b51c-1f650c5cf5a1')\"\n",
              "              title=\"Convert this dataframe to an interactive table.\"\n",
              "              style=\"display:none;\">\n",
              "        \n",
              "  <svg xmlns=\"http://www.w3.org/2000/svg\" height=\"24px\"viewBox=\"0 0 24 24\"\n",
              "       width=\"24px\">\n",
              "    <path d=\"M0 0h24v24H0V0z\" fill=\"none\"/>\n",
              "    <path d=\"M18.56 5.44l.94 2.06.94-2.06 2.06-.94-2.06-.94-.94-2.06-.94 2.06-2.06.94zm-11 1L8.5 8.5l.94-2.06 2.06-.94-2.06-.94L8.5 2.5l-.94 2.06-2.06.94zm10 10l.94 2.06.94-2.06 2.06-.94-2.06-.94-.94-2.06-.94 2.06-2.06.94z\"/><path d=\"M17.41 7.96l-1.37-1.37c-.4-.4-.92-.59-1.43-.59-.52 0-1.04.2-1.43.59L10.3 9.45l-7.72 7.72c-.78.78-.78 2.05 0 2.83L4 21.41c.39.39.9.59 1.41.59.51 0 1.02-.2 1.41-.59l7.78-7.78 2.81-2.81c.8-.78.8-2.07 0-2.86zM5.41 20L4 18.59l7.72-7.72 1.47 1.35L5.41 20z\"/>\n",
              "  </svg>\n",
              "      </button>\n",
              "      \n",
              "  <style>\n",
              "    .colab-df-container {\n",
              "      display:flex;\n",
              "      flex-wrap:wrap;\n",
              "      gap: 12px;\n",
              "    }\n",
              "\n",
              "    .colab-df-convert {\n",
              "      background-color: #E8F0FE;\n",
              "      border: none;\n",
              "      border-radius: 50%;\n",
              "      cursor: pointer;\n",
              "      display: none;\n",
              "      fill: #1967D2;\n",
              "      height: 32px;\n",
              "      padding: 0 0 0 0;\n",
              "      width: 32px;\n",
              "    }\n",
              "\n",
              "    .colab-df-convert:hover {\n",
              "      background-color: #E2EBFA;\n",
              "      box-shadow: 0px 1px 2px rgba(60, 64, 67, 0.3), 0px 1px 3px 1px rgba(60, 64, 67, 0.15);\n",
              "      fill: #174EA6;\n",
              "    }\n",
              "\n",
              "    [theme=dark] .colab-df-convert {\n",
              "      background-color: #3B4455;\n",
              "      fill: #D2E3FC;\n",
              "    }\n",
              "\n",
              "    [theme=dark] .colab-df-convert:hover {\n",
              "      background-color: #434B5C;\n",
              "      box-shadow: 0px 1px 3px 1px rgba(0, 0, 0, 0.15);\n",
              "      filter: drop-shadow(0px 1px 2px rgba(0, 0, 0, 0.3));\n",
              "      fill: #FFFFFF;\n",
              "    }\n",
              "  </style>\n",
              "\n",
              "      <script>\n",
              "        const buttonEl =\n",
              "          document.querySelector('#df-49e5175a-f5ed-444e-b51c-1f650c5cf5a1 button.colab-df-convert');\n",
              "        buttonEl.style.display =\n",
              "          google.colab.kernel.accessAllowed ? 'block' : 'none';\n",
              "\n",
              "        async function convertToInteractive(key) {\n",
              "          const element = document.querySelector('#df-49e5175a-f5ed-444e-b51c-1f650c5cf5a1');\n",
              "          const dataTable =\n",
              "            await google.colab.kernel.invokeFunction('convertToInteractive',\n",
              "                                                     [key], {});\n",
              "          if (!dataTable) return;\n",
              "\n",
              "          const docLinkHtml = 'Like what you see? Visit the ' +\n",
              "            '<a target=\"_blank\" href=https://colab.research.google.com/notebooks/data_table.ipynb>data table notebook</a>'\n",
              "            + ' to learn more about interactive tables.';\n",
              "          element.innerHTML = '';\n",
              "          dataTable['output_type'] = 'display_data';\n",
              "          await google.colab.output.renderOutput(dataTable, element);\n",
              "          const docLink = document.createElement('div');\n",
              "          docLink.innerHTML = docLinkHtml;\n",
              "          element.appendChild(docLink);\n",
              "        }\n",
              "      </script>\n",
              "    </div>\n",
              "  </div>\n",
              "  "
            ],
            "text/plain": [
              "                        ID                              text  target  \\\n",
              "0      ynat-v1_train_00000        유튜브 내달 2일까지 크리에이터 지원 공간 운영       3   \n",
              "1      ynat-v1_train_00001           어버이날 막따가 흐려저…남부지방 여튼 황사       3   \n",
              "2      ynat-v1_train_00002       내년부터 국가RD 평가 때 논문건수는 반영 않는다       2   \n",
              "3      ynat-v1_train_00003   김명자 신임 과총 회장 원로와 젊은 과학자 지혜 모을 것       2   \n",
              "4      ynat-v1_train_00004    회새긴간 작까 김동시 걍심꼬백 뜽 새 소설집 뚜권 출간       3   \n",
              "...                    ...                               ...     ...   \n",
              "45673  ynat-v1_train_45673      사우디 아람코 주요 석유시설·유전 드론 공격에 화재       4   \n",
              "45674  ynat-v1_train_45674    박기원 감독 눈치 보지 말고…비예나 눈치 본 건 아닌데       5   \n",
              "45675  ynat-v1_train_45675  아시안게임 첫 경기 앞둔 라건아 인도네시아 팬이라도 ...       5   \n",
              "45676  ynat-v1_train_45676     트럼프 미중 무역협상 1단계 합의 서명식 가질 것종합       4   \n",
              "45677  ynat-v1_train_45677  극적 역전승 도로공사 GS칼텍스 꺾고 2년 연속 챔프...       5   \n",
              "\n",
              "                                                     url                  date  \n",
              "0      https://news.naver.com/main/read.nhn?mode=LS2D...  2016.06.30. 오전 10:36  \n",
              "1      https://news.naver.com/main/read.nhn?mode=LS2D...   2016.05.08. 오전 5:25  \n",
              "2      https://news.naver.com/main/read.nhn?mode=LS2D...  2016.03.15. 오후 12:00  \n",
              "3      https://news.naver.com/main/read.nhn?mode=LS2D...   2017.02.28. 오전 9:54  \n",
              "4      https://news.naver.com/main/read.nhn?mode=LS2D...   2018.04.03. 오전 7:05  \n",
              "...                                                  ...                   ...  \n",
              "45673  https://news.naver.com/main/read.nhn?mode=LS2D...   2019.09.14. 오후 4:36  \n",
              "45674  https://sports.news.naver.com/news.nhn?oid=001...      2019.11.03 17:06  \n",
              "45675  https://sports.news.naver.com/news.nhn?oid=001...      2018.08.13 17:54  \n",
              "45676  https://news.naver.com/main/read.nhn?mode=LS2D...   2019.12.25. 오후 4:36  \n",
              "45677  https://sports.news.naver.com/news.nhn?oid=001...      2019.03.19 21:32  \n",
              "\n",
              "[45678 rows x 5 columns]"
            ]
          },
          "execution_count": 4,
          "metadata": {},
          "output_type": "execute_result"
        }
      ],
      "source": [
        "train_df"
      ]
    },
    {
      "cell_type": "code",
      "execution_count": null,
      "metadata": {
        "colab": {
          "base_uri": "https://localhost:8080/"
        },
        "id": "DLos02u_htfN",
        "outputId": "35635ed1-0a7a-4b6b-eaf5-0c15a7566dd5"
      },
      "outputs": [
        {
          "data": {
            "text/plain": [
              "45678"
            ]
          },
          "execution_count": 5,
          "metadata": {},
          "output_type": "execute_result"
        }
      ],
      "source": [
        "len(train_df['url'].unique())"
      ]
    },
    {
      "cell_type": "code",
      "execution_count": null,
      "metadata": {
        "id": "k8vApCasXXvr"
      },
      "outputs": [],
      "source": [
        "headers = {\"User-Agent\": \"Mozilla/5.0 (Windows NT 10.0; Win64; x64) Chrome/98.0.4758.102\"}\n",
        "\n",
        "def get_title(URL):\n",
        "  try: \n",
        "    original_html = requests.get(URL, headers=headers)\n",
        "    html = BeautifulSoup(original_html.text, \"html.parser\")\n",
        "    # 검색결과확인시\n",
        "    # print(html)\n",
        "\n",
        "    # 뉴스 제목 가져오기\n",
        "    title = html.select(\"div#ct > div.media_end_head.go_trans > div.media_end_head_title > h2\")\n",
        "    # list합치기\n",
        "    title = ''.join(str(title))\n",
        "    # html태그제거\n",
        "    pattern1 = '<[^>]*>'\n",
        "    title = re.sub(pattern=pattern1, repl='', string=title)\n",
        "    return title[1:-1]\n",
        "  except:\n",
        "    return 'No_Title'\n",
        "\n",
        "def get_title1(URL):\n",
        "  try: \n",
        "    original_html = requests.get(URL, headers=headers)\n",
        "    html = BeautifulSoup(original_html.text, \"html.parser\")\n",
        "    # 검색결과확인시\n",
        "    # print(html)\n",
        "\n",
        "    # 뉴스 제목 가져오기\n",
        "    title = html.select(\"div#content > div > div.content > div > div.news_headline > h4\")\n",
        "    # list합치기\n",
        "    title = ''.join(str(title))\n",
        "    # html태그제거\n",
        "    pattern1 = '<[^>]*>'\n",
        "    title = re.sub(pattern=pattern1, repl='', string=title)\n",
        "    return title[1:-1]\n",
        "  except:\n",
        "    return 'No_Title'\n",
        "\n",
        "def get_title2(URL):\n",
        "  try: \n",
        "    original_html = requests.get(URL, headers=headers)\n",
        "    html = BeautifulSoup(original_html.text, \"html.parser\")\n",
        "    # 검색결과확인시\n",
        "    # print(html)\n",
        "\n",
        "    # 뉴스 제목 가져오기\n",
        "    title = html.select(\"div#ct > div.media_end_head.go_trans > div.media_end_head_title\")\n",
        "    # list합치기\n",
        "    title = ''.join(str(title))\n",
        "    # html태그제거\n",
        "    pattern1 = '<[^>]*>'\n",
        "    title = re.sub(pattern=pattern1, repl='', string=title)\n",
        "    return title[1:-1].strip()\n",
        "  except:\n",
        "    return 'No_Title'"
      ]
    },
    {
      "cell_type": "code",
      "execution_count": null,
      "metadata": {
        "id": "6S4-rwOCXFnh"
      },
      "outputs": [],
      "source": [
        "for i in tqdm(range(len(train_df))):\n",
        "  train_df.loc[i,'crawling_title']=get_title(train_df.loc[i,'url'])"
      ]
    },
    {
      "cell_type": "code",
      "execution_count": null,
      "metadata": {
        "id": "IW1svcHsXnrO"
      },
      "outputs": [],
      "source": [
        "df1=train_df[train_df['crawling_title']!=''].reset_index(drop=True)\n",
        "df2=train_df[train_df['crawling_title']==''].reset_index(drop=True)"
      ]
    },
    {
      "cell_type": "code",
      "execution_count": null,
      "metadata": {
        "id": "4l9C7X7fXxYW"
      },
      "outputs": [],
      "source": [
        "for i in tqdm(range(len(df2))):\n",
        "  df2.loc[i,'crawling_title']=get_title1(df2.loc[i,'url'])"
      ]
    },
    {
      "cell_type": "code",
      "execution_count": null,
      "metadata": {
        "id": "qlINxlRnX0NY"
      },
      "outputs": [],
      "source": [
        "data=pd.concat([df1,df2]).sort_values('ID').reset_index(drop=True)"
      ]
    },
    {
      "cell_type": "code",
      "execution_count": null,
      "metadata": {
        "id": "O6BumAKVX0Ft"
      },
      "outputs": [],
      "source": [
        "final1=data[data['crawling_title']!=''].reset_index(drop=True)\n",
        "final2=data[data['crawling_title']==''].reset_index(drop=True)"
      ]
    },
    {
      "cell_type": "code",
      "execution_count": null,
      "metadata": {
        "id": "zF3_0umjX4S5"
      },
      "outputs": [],
      "source": [
        "for i in tqdm(range(len(final2))):\n",
        "  final2.loc[i,'crawling_title']=get_title2(final2.loc[i,'url'])"
      ]
    },
    {
      "cell_type": "code",
      "execution_count": null,
      "metadata": {
        "id": "0EjqsvSnX3-t"
      },
      "outputs": [],
      "source": [
        "final=pd.concat([final1,final2]).sort_values('ID').reset_index(drop=True)"
      ]
    },
    {
      "attachments": {},
      "cell_type": "markdown",
      "metadata": {
        "id": "5GB-65_0YQBc"
      },
      "source": [
        "## 본문"
      ]
    },
    {
      "cell_type": "code",
      "execution_count": null,
      "metadata": {
        "id": "mPXfONBkYRAn"
      },
      "outputs": [],
      "source": [
        "headers = {\"User-Agent\": \"Mozilla/5.0 (Windows NT 10.0; Win64; x64) Chrome/98.0.4758.\n",
        "\n",
        "def get_content(URL):\n",
        "  try:\n",
        "    original_html = requests.get(URL, headers=headers)\n",
        "    html = BeautifulSoup(original_html.text, \"html.parser\")\n",
        "    # 검색결과확인시\n",
        "    # print(html)\n",
        "    # 뉴스 본문 가져오기\n",
        "    content = html.select(\"div#dic_area\") \n",
        "    # 기사 텍스트만 가져오기\n",
        "    # list합치기\n",
        "    content = ''.join(str(content))\n",
        "    # html태그제거 및 텍스트 다듬기\n",
        "    pattern1 = '<[^>]*>'\n",
        "    content = re.sub(pattern=pattern1, repl='', string=content)\n",
        "    pattern2 = \"\"\"[\\n\\n\\n\\n\\n// flash 오류를 우회하기 위한 함수 추가\\nfunction _flash_removeCallback() {}\"\"\"\n",
        "    content = content.replace(pattern2, '')\n",
        "    return content[1:-1].strip()\n",
        "  except:\n",
        "    return 'No_Content'\n",
        "\n",
        "def get_title1(URL):\n",
        "  try: \n",
        "    original_html = requests.get(URL, headers=headers)\n",
        "    html = BeautifulSoup(original_html.text, \"html.parser\")\n",
        "    # 검색결과확인시\n",
        "    # print(html)\n",
        "\n",
        "    # 뉴스 제목 가져오기\n",
        "    title = html.select(\"div#content > div > div.content > div > div.news_headline > h4\")\n",
        "    # list합치기\n",
        "    title = ''.join(str(title))\n",
        "    # html태그제거\n",
        "    pattern1 = '<[^>]*>'\n",
        "    title = re.sub(pattern=pattern1, repl='', string=title)\n",
        "    return title[1:-1]\n",
        "  except:\n",
        "    return 'No_Title'\n",
        "\n",
        "def get_title2(URL):\n",
        "  try: \n",
        "    original_html = requests.get(URL, headers=headers)\n",
        "    html = BeautifulSoup(original_html.text, \"html.parser\")\n",
        "    # 검색결과확인시\n",
        "    # print(html)\n",
        "\n",
        "    # 뉴스 제목 가져오기\n",
        "    title = html.select(\"div#ct > div.media_end_head.go_trans > div.media_end_head_title\")\n",
        "    # list합치기\n",
        "    title = ''.join(str(title))\n",
        "    # html태그제거\n",
        "    pattern1 = '<[^>]*>'\n",
        "    title = re.sub(pattern=pattern1, repl='', string=title)\n",
        "    return title[1:-1].strip()\n",
        "  except:\n",
        "    return 'No_Title'"
      ]
    },
    {
      "cell_type": "code",
      "execution_count": null,
      "metadata": {
        "id": "Da2TPjWuZD36"
      },
      "outputs": [],
      "source": [
        "for i in tqdm(range(len(train_df))):\n",
        "  train_df.loc[i,'crawling_content']=get_content(train_df.loc[i,'url'])"
      ]
    },
    {
      "cell_type": "code",
      "execution_count": null,
      "metadata": {
        "id": "cx4Fx-r8ZD36"
      },
      "outputs": [],
      "source": [
        "df1=train_df[train_df['crawling_content']!=''].reset_index(drop=True)\n",
        "df2=train_df[train_df['crawling_content']==''].reset_index(drop=True)"
      ]
    },
    {
      "cell_type": "code",
      "execution_count": null,
      "metadata": {
        "id": "Drcr6iZnZD36"
      },
      "outputs": [],
      "source": [
        "for i in tqdm(range(len(df2))):\n",
        "  df2.loc[i,'crawling_content']=get_content1(df2.loc[i,'url'])"
      ]
    },
    {
      "cell_type": "code",
      "execution_count": null,
      "metadata": {
        "id": "Nmf1fthdZD36"
      },
      "outputs": [],
      "source": [
        "data=pd.concat([df1,df2]).sort_values('ID').reset_index(drop=True)"
      ]
    },
    {
      "cell_type": "code",
      "execution_count": null,
      "metadata": {
        "id": "9DnJQFjPYslH"
      },
      "outputs": [],
      "source": [
        "final1=data[data['crawling_content']!=''].reset_index(drop=True)\n",
        "final2=data[data['crawling_content']==''].reset_index(drop=True)"
      ]
    },
    {
      "cell_type": "code",
      "execution_count": null,
      "metadata": {
        "id": "WimRRYwnZRwM"
      },
      "outputs": [],
      "source": [
        "final=pd.concat([final1,final2]).sort_values('ID').reset_index(drop=True)"
      ]
    },
    {
      "cell_type": "code",
      "execution_count": null,
      "metadata": {
        "id": "cABt4Wi9ZRt3"
      },
      "outputs": [],
      "source": [
        "final.to_csv('../data/train_title_content_crawling.csv',encoding='utf-8-sig',index=False)"
      ]
    },
    {
      "cell_type": "code",
      "execution_count": null,
      "metadata": {
        "id": "HDOIGbQ9ZRpM"
      },
      "outputs": [],
      "source": []
    }
  ],
  "metadata": {
    "colab": {
      "provenance": []
    },
    "kernelspec": {
      "display_name": "Python 3",
      "name": "python3"
    },
    "language_info": {
      "name": "python"
    }
  },
  "nbformat": 4,
  "nbformat_minor": 0
}
